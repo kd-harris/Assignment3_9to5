{
    "metadata": {
        "kernelspec": {
            "name": "SQL",
            "display_name": "SQL",
            "language": "sql"
        },
        "language_info": {
            "name": "sql",
            "version": ""
        },
        "extensions": {
            "azuredatastudio": {
                "version": 1,
                "views": []
            }
        }
    },
    "nbformat_minor": 2,
    "nbformat": 4,
    "cells": [
        {
            "cell_type": "markdown",
            "source": [
                "# <span style=\"font-size: 20pt; font-family: Montserrat, sans-serif; color: rgb(92, 148, 206); background-color: rgb(255, 255, 255); font-weight: 700; font-variant-east-asian: normal; vertical-align: baseline; white-space: pre-wrap;\">Graded Assignment 3: 9 to 5</span>\n",
                "\n",
                "  \n",
                "\n",
                "<span style=\"font-size: 10pt; font-family: &quot;Times New Roman&quot;; color: rgb(102, 102, 102); background-color: rgb(255, 255, 255); font-variant-east-asian: normal; vertical-align: baseline; white-space: pre-wrap;\">Time to show off your SQL skills! For each question, copy the SQL query you used and make note of the answer.</span>\n",
                "\n",
                "  \n",
                "\n",
                "## <span style=\"font-size: 12pt; font-family: Montserrat, sans-serif; color: rgb(53, 74, 95); background-color: rgb(255, 255, 255); font-weight: 700; font-variant-east-asian: normal; vertical-align: baseline; white-space: pre-wrap;\">The Dataset</span>\n",
                "\n",
                "<span style=\"font-size: 10pt; font-family: &quot;Times New Roman&quot;; color: rgb(102, 102, 102); background-color: rgb(255, 255, 255); font-variant-east-asian: normal; vertical-align: baseline; white-space: pre-wrap;\">For this assignment, you will be using the Bureau of Labor Statistics (BLS) Current Employment Survey (CES) results which can be found on</span> [<span style=\"font-size: 10pt; font-family: &quot;Times New Roman&quot;; color: rgb(17, 85, 204); background-color: rgb(255, 255, 255); font-variant-east-asian: normal; text-decoration-line: underline; vertical-align: baseline; white-space: pre-wrap;\">Kaggle</span>](https://www.kaggle.com/bls/employment)<span style=\"font-size: 10pt; font-family: &quot;Times New Roman&quot;; color: rgb(102, 102, 102); background-color: rgb(255, 255, 255); font-variant-east-asian: normal; vertical-align: baseline; white-space: pre-wrap;\">.</span>\n",
                "\n",
                "  \n",
                "\n",
                "## <span style=\"font-size: 12pt; font-family: Montserrat, sans-serif; color: rgb(53, 74, 95); background-color: rgb(255, 255, 255); font-weight: 700; font-variant-east-asian: normal; vertical-align: baseline; white-space: pre-wrap;\">Business Issue</span>\n",
                "\n",
                "<span style=\"font-size: 10pt; font-family: &quot;Times New Roman&quot;; color: rgb(102, 102, 102); background-color: rgb(255, 255, 255); font-variant-east-asian: normal; vertical-align: baseline; white-space: pre-wrap;\">You are working for the Bureau of Labor Statistics with the United States government and have been approached by your boss with an important meeting request. You have been asked by your supervisor to meet with Dolly Parton whose nonprofit is looking to shed light on the state of employment in the United States. As part of the 9 to 5 project, their research is focused on production and nonsupervisory employees and how those employees fare compared to all employees in the United States. While the data the BLS collects from the CES is publicly available, Dolly Parton and her colleagues need your assistance navigating the thousands of rows in each table in LaborStatisticsDB.</span>\n",
                "\n",
                "  \n",
                "\n",
                "## <span style=\"font-size: 12pt; font-family: Montserrat, sans-serif; color: rgb(53, 74, 95); background-color: rgb(255, 255, 255); font-weight: 700; font-variant-east-asian: normal; vertical-align: baseline; white-space: pre-wrap;\">About the Dataset</span>\n",
                "\n",
                "<span style=\"font-size: 10pt; font-family: &quot;Times New Roman&quot;; color: rgb(102, 102, 102); background-color: rgb(255, 255, 255); font-variant-east-asian: normal; vertical-align: baseline; white-space: pre-wrap;\">This dataset comes directly from the Bureau of Labor Statistics’ Current Employment Survey (CES). Here are some things you need to know:</span>\n",
                "\n",
                "1. <span style=\"font-size: 10pt; background-color: rgb(255, 255, 255); font-variant-east-asian: normal; vertical-align: baseline; white-space: pre-wrap;\">The industry table contains an NAICS code. This is different from the industry code. NAICS stands for North American Industry Classification System.</span>\n",
                "    \n",
                "2. <span style=\"font-size: 10pt; background-color: rgb(255, 255, 255); font-variant-east-asian: normal; vertical-align: baseline; white-space: pre-wrap;\">Series ID is composed of multiple different codes. CES stands for Current Employment Survey, the name of the survey which collected the data. The industry code as specified by the BLS and the data type code as specified in the datatype table.</span>\n",
                "    \n",
                "\n",
                "  \n",
                "\n",
                "## <span style=\"font-size: 12pt; font-family: Montserrat, sans-serif; color: rgb(53, 74, 95); background-color: rgb(255, 255, 255); font-weight: 700; font-variant-east-asian: normal; vertical-align: baseline; white-space: pre-wrap;\">Set Up</span>\n",
                "\n",
                "<span style=\"font-size: 10pt; font-family: &quot;Times New Roman&quot;; color: rgb(102, 102, 102); background-color: rgb(255, 255, 255); font-variant-east-asian: normal; vertical-align: baseline; white-space: pre-wrap;\">To connect to the database, use the same connection info used during the SQL lessons.&nbsp;</span> \n",
                "\n",
                "<span style=\"font-size: 10pt; font-family: &quot;Times New Roman&quot;; color: rgb(102, 102, 102); background-color: rgb(255, 255, 255); font-variant-east-asian: normal; vertical-align: baseline; white-space: pre-wrap;\">For the assignment, we will be using the LaborStatisticsDB database.</span>\n",
                "\n",
                "  \n",
                "\n",
                "## <span style=\"font-size: 12pt; font-family: Montserrat, sans-serif; color: rgb(53, 74, 95); background-color: rgb(255, 255, 255); font-weight: 700; font-variant-east-asian: normal; vertical-align: baseline; white-space: pre-wrap;\">Database Exploration</span>\n",
                "\n",
                "<span style=\"font-size: 10pt; font-family: &quot;Times New Roman&quot;; color: rgb(102, 102, 102); background-color: rgb(255, 255, 255); font-variant-east-asian: normal; vertical-align: baseline; white-space: pre-wrap;\">To start with, let’s get to know the database further.</span>\n",
                "\n",
                "1. <span style=\"background-color: rgb(255, 255, 255); color: rgb(102, 102, 102); font-family: &quot;Times New Roman&quot;; font-size: 10pt; white-space: pre-wrap;\">Use this space to make note of each table in the database, the columns within each table, each column’s data type, and how the tables are connected. You can write this down or draw a diagram. Whatever method helps you get an understanding of what is going on with LaborStatisticsDB.</span>"
            ],
            "metadata": {
                "azdata_cell_guid": "28ea70c5-f0be-4197-b6c0-ade22886a708"
            },
            "attachments": {}
        },
        {
            "cell_type": "markdown",
            "source": [
                "To add a photo, diagram or document to your file, drop the file into the folder that holds this notebook.  Use the the link button to the right of the  \\</\\> symbol in the gray part of this cell, the link is just the name of your file."
            ],
            "metadata": {
                "azdata_cell_guid": "aeae906c-752c-49d3-b482-3ed6a4f54b6e"
            },
            "attachments": {}
        },
        {
            "cell_type": "markdown",
            "source": [
                "![](c:\\Users\\kdh\\data_analysis_lc\\Assignment3_9to5\\laborstatistics_vis.png)"
            ],
            "metadata": {
                "azdata_cell_guid": "b70015c4-8225-4009-8bd2-ccb6f0043c5a"
            }
        },
        {
            "cell_type": "markdown",
            "source": [
                "1. What is the datatype for women employees?"
            ],
            "metadata": {
                "azdata_cell_guid": "c613c860-707a-4816-88d5-a29b7e354c45"
            },
            "attachments": {}
        },
        {
            "cell_type": "code",
            "source": [
                "SELECT [data_type_code]\r\n",
                "FROM [LaborStatisticsDB].[dbo].[datatype]\r\n",
                "WHERE [data_type_text] = 'women employees';\r\n",
                "\r\n",
                "-- data_type_code for women employees is 10\r\n",
                "-- datatype is nvarchar(100), not null"
            ],
            "metadata": {
                "azdata_cell_guid": "02fa547c-0bb7-4a40-81c2-f5c05154df04"
            },
            "outputs": [
                {
                    "output_type": "display_data",
                    "data": {
                        "text/html": "(1 row affected)"
                    },
                    "metadata": {}
                },
                {
                    "output_type": "display_data",
                    "data": {
                        "text/html": "Total execution time: 00:00:00.048"
                    },
                    "metadata": {}
                },
                {
                    "output_type": "execute_result",
                    "execution_count": 42,
                    "data": {
                        "application/vnd.dataresource+json": {
                            "schema": {
                                "fields": [
                                    {
                                        "name": "data_type_code"
                                    }
                                ]
                            },
                            "data": [
                                {
                                    "0": "10"
                                }
                            ]
                        },
                        "text/html": "<table><tr><th>data_type_code</th></tr><tr><td>10</td></tr></table>"
                    },
                    "metadata": {}
                }
            ],
            "execution_count": 42
        },
        {
            "cell_type": "markdown",
            "source": [
                "3. <span style=\"background-color: rgb(255, 255, 255); font-size: 10pt; white-space: pre-wrap; color: rgb(102, 102, 102); font-family: Arvo, serif;\">What is the series id for&nbsp; women employees in the commercial banking industry in the financial activities supersector?</span>"
            ],
            "metadata": {
                "azdata_cell_guid": "325f85cc-9545-47b3-b975-3aab6278e4ea"
            },
            "attachments": {}
        },
        {
            "cell_type": "code",
            "source": [
                "SELECT *\r\n",
                "FROM [LaborStatisticsDB].[dbo].[series]\r\n",
                "WHERE [data_type_code] = 10 \r\n",
                "    AND [supersector_code] = (SELECT [supersector_code]\r\n",
                "                            FROM [LaborStatisticsDB].[dbo].[supersector]\r\n",
                "                            WHERE [supersector_name] = 'financial activities') \r\n",
                "    AND [industry_code] = (SELECT [industry_code]\r\n",
                "                        FROM [LaborStatisticsDB].[dbo].[industry]\r\n",
                "                        WHERE [industry_name] = 'commercial banking');\r\n",
                "\r\n",
                "-- series id = CES5552211010 for seasonallly adjusted, CEU5552211010 for not seasonally adjusted"
            ],
            "metadata": {
                "azdata_cell_guid": "1315af1f-45f8-457d-8bbe-8e9f46303fca"
            },
            "outputs": [
                {
                    "output_type": "display_data",
                    "data": {
                        "text/html": "(2 rows affected)"
                    },
                    "metadata": {}
                },
                {
                    "output_type": "display_data",
                    "data": {
                        "text/html": "Total execution time: 00:00:00.088"
                    },
                    "metadata": {}
                },
                {
                    "output_type": "execute_result",
                    "execution_count": 24,
                    "data": {
                        "application/vnd.dataresource+json": {
                            "schema": {
                                "fields": [
                                    {
                                        "name": "series_id"
                                    },
                                    {
                                        "name": "supersector_code"
                                    },
                                    {
                                        "name": "industry_code"
                                    },
                                    {
                                        "name": "data_type_code"
                                    },
                                    {
                                        "name": "seasonal"
                                    },
                                    {
                                        "name": "series_title"
                                    }
                                ]
                            },
                            "data": [
                                {
                                    "0": "CES5552211010",
                                    "1": "55",
                                    "2": "55522110",
                                    "3": "10",
                                    "4": "S",
                                    "5": "Women employees"
                                },
                                {
                                    "0": "CEU5552211010",
                                    "1": "55",
                                    "2": "55522110",
                                    "3": "10",
                                    "4": "U",
                                    "5": "Women employees"
                                }
                            ]
                        },
                        "text/html": "<table><tr><th>series_id</th><th>supersector_code</th><th>industry_code</th><th>data_type_code</th><th>seasonal</th><th>series_title</th></tr><tr><td>CES5552211010</td><td>55</td><td>55522110</td><td>10</td><td>S</td><td>Women employees</td></tr><tr><td>CEU5552211010</td><td>55</td><td>55522110</td><td>10</td><td>U</td><td>Women employees</td></tr></table>"
                    },
                    "metadata": {}
                }
            ],
            "execution_count": 24
        },
        {
            "cell_type": "markdown",
            "source": [
                "## <span style=\"font-size: 12pt; font-family: Montserrat, sans-serif; color: rgb(53, 74, 95); background-color: rgb(255, 255, 255); font-weight: 700; font-variant-numeric: normal; font-variant-east-asian: normal; vertical-align: baseline; white-space: pre-wrap;\">Join in on the Fun</span>\n",
                "\n",
                "<span style=\"font-size: 10pt; font-family: Arvo, serif; color: rgb(102, 102, 102); background-color: rgb(255, 255, 255); font-variant-numeric: normal; font-variant-east-asian: normal; vertical-align: baseline; white-space: pre-wrap;\">Time to start joining! You can choose the type of join you use, just make sure to make a&nbsp; note!</span>\n",
                "\n",
                "1. <span style=\"background-color: rgb(255, 255, 255); font-size: 10pt; white-space: pre-wrap; color: rgb(102, 102, 102); font-family: Arvo, serif;\">Join&nbsp; annual_2016 with series on series_id. We only want the data in the annual_2016 table to be included in the result.</span>"
            ],
            "metadata": {
                "azdata_cell_guid": "ec1dfc63-ad41-4349-8c26-1d326ace8c6c"
            },
            "attachments": {}
        },
        {
            "cell_type": "code",
            "source": [
                "SELECT SE.series_id, AN.id, AN.year, AN.period, AN.value, AN.footnote_codes, AN.original_file\r\n",
                "FROM [LaborStatisticsDB].[dbo].[series] AS SE \r\n",
                "\r\n",
                "\r\n",
                "JOIN [LaborStatisticsDB].[dbo].[annual_2016] AS AN \r\n",
                "    ON AN.series_id = SE.series_id;"
            ],
            "metadata": {
                "azdata_cell_guid": "cf90f0b4-c482-4fbb-ac17-d2244881caab",
                "tags": []
            },
            "outputs": [
                {
                    "output_type": "display_data",
                    "data": {
                        "text/html": "Commands completed successfully."
                    },
                    "metadata": {}
                },
                {
                    "output_type": "display_data",
                    "data": {
                        "text/html": "Total execution time: 00:00:00.029"
                    },
                    "metadata": {}
                }
            ],
            "execution_count": 6
        },
        {
            "cell_type": "markdown",
            "source": [
                "2. <span style=\"background-color: rgb(255, 255, 255); font-size: 10pt; white-space: pre-wrap; color: rgb(102, 102, 102); font-family: Arvo, serif;\">Join series and datatype on data_type_code</span>"
            ],
            "metadata": {
                "azdata_cell_guid": "710b59ae-224b-4f9d-b1a4-4a6b89048bbb"
            },
            "attachments": {}
        },
        {
            "cell_type": "code",
            "source": [
                "SELECT * \r\n",
                "FROM [LaborStatisticsDB].[dbo].[series] AS SE\r\n",
                "\r\n",
                "JOIN [LaborStatisticsDB].[dbo].[datatype] AS DA\r\n",
                "    ON SE.data_type_code = DA.data_type_code;"
            ],
            "metadata": {
                "azdata_cell_guid": "fca61371-c9b5-4823-a4b4-34c1279ece3e"
            },
            "outputs": [
                {
                    "output_type": "display_data",
                    "data": {
                        "text/html": "Commands completed successfully."
                    },
                    "metadata": {}
                },
                {
                    "output_type": "display_data",
                    "data": {
                        "text/html": "Total execution time: 00:00:00.029"
                    },
                    "metadata": {}
                }
            ],
            "execution_count": 7
        },
        {
            "cell_type": "markdown",
            "source": [
                "3. <span style=\"background-color: rgb(255, 255, 255); font-size: 10pt; white-space: pre-wrap; color: rgb(102, 102, 102); font-family: Arvo, serif;\">Join series and industry on industry_code</span>"
            ],
            "metadata": {
                "azdata_cell_guid": "78ac8ba4-2a6a-426f-af30-6b56d9d09054"
            },
            "attachments": {}
        },
        {
            "cell_type": "code",
            "source": [
                "SELECT * \r\n",
                "FROM [LaborStatisticsDB].[dbo].[series] AS SE\r\n",
                "\r\n",
                "JOIN [LaborStatisticsDB].[dbo].[industry] AS IND\r\n",
                "    ON SE.industry_code = IND.industry_code;"
            ],
            "metadata": {
                "azdata_cell_guid": "ac022766-e280-4d95-8362-1f2b18773662",
                "tags": []
            },
            "outputs": [
                {
                    "output_type": "display_data",
                    "data": {
                        "text/html": "Commands completed successfully."
                    },
                    "metadata": {}
                },
                {
                    "output_type": "display_data",
                    "data": {
                        "text/html": "Total execution time: 00:00:00.030"
                    },
                    "metadata": {}
                }
            ],
            "execution_count": 8
        },
        {
            "cell_type": "markdown",
            "source": [
                "## <span style=\"font-size: 12pt; font-family: Montserrat, sans-serif; color: rgb(53, 74, 95); background-color: rgb(255, 255, 255); font-weight: 700; font-variant-numeric: normal; font-variant-east-asian: normal; vertical-align: baseline; white-space: pre-wrap;\">Aggregate Your Friends and Code some SQL</span>\n",
                "\n",
                "<span style=\"font-size: 10pt; font-family: Arvo, serif; color: rgb(102, 102, 102); background-color: rgb(255, 255, 255); font-variant-numeric: normal; font-variant-east-asian: normal; vertical-align: baseline; white-space: pre-wrap;\">Put together the following:</span>\n",
                "\n",
                "1. <span style=\"background-color: rgb(255, 255, 255); font-size: 10pt; white-space: pre-wrap; color: rgb(102, 102, 102); font-family: Arvo, serif;\">How many employees were reported in 2016 in all industries? Round to the nearest whole number.&nbsp; No chopping people into little bits, please.</span>"
            ],
            "metadata": {
                "azdata_cell_guid": "f4290cc1-f824-4586-8850-59d926bf4460"
            },
            "attachments": {}
        },
        {
            "cell_type": "code",
            "source": [
                "SELECT ROUND(SUM([value]), 0) \r\n",
                "FROM [LaborStatisticsDB].[dbo].[annual_2016]\r\n",
                "WHERE [series_id] IN (SELECT [series_id]\r\n",
                "                    FROM [LaborStatisticsDB].[dbo].[series]\r\n",
                "                    WHERE [data_type_code] = 1 OR [data_type_code] = 25 OR [data_type_code] = 26);\r\n",
                "\r\n",
                "                    -- 2340612"
            ],
            "metadata": {
                "azdata_cell_guid": "25099068-a629-4eb5-afca-ed3748c40605"
            },
            "outputs": [
                {
                    "output_type": "display_data",
                    "data": {
                        "text/html": "(1 row affected)"
                    },
                    "metadata": {}
                },
                {
                    "output_type": "display_data",
                    "data": {
                        "text/html": "Total execution time: 00:00:00.074"
                    },
                    "metadata": {}
                },
                {
                    "output_type": "execute_result",
                    "execution_count": 6,
                    "data": {
                        "application/vnd.dataresource+json": {
                            "schema": {
                                "fields": [
                                    {
                                        "name": "(No column name)"
                                    }
                                ]
                            },
                            "data": [
                                {
                                    "0": "2340612"
                                }
                            ]
                        },
                        "text/html": "<table><tr><th>(No column name)</th></tr><tr><td>2340612</td></tr></table>"
                    },
                    "metadata": {}
                }
            ],
            "execution_count": 6
        },
        {
            "cell_type": "markdown",
            "source": [
                "2. <span style=\"background-color: rgb(255, 255, 255); font-size: 10pt; white-space: pre-wrap; color: rgb(102, 102, 102); font-family: Arvo, serif;\">How many women employees were reported in 2016 in all industries? Round to the nearest whole number.&nbsp;</span>"
            ],
            "metadata": {
                "azdata_cell_guid": "6358fab4-b933-4646-bef1-4be66dcd4317"
            },
            "attachments": {}
        },
        {
            "cell_type": "code",
            "source": [
                "SELECT ROUND(SUM([value]), 0) \r\n",
                "FROM [LaborStatisticsDB].[dbo].[annual_2016]\r\n",
                "WHERE [series_id] IN (SELECT [series_id] \r\n",
                "                    FROM [LaborStatisticsDB].[dbo].[series]\r\n",
                "                    WHERE [data_type_code] = 10);\r\n",
                "\r\n",
                "                    -- 1125490\r\n",
                "\r\n",
                ""
            ],
            "metadata": {
                "azdata_cell_guid": "7bb0bfb7-b9e3-4672-b354-7ca705bb0c3b"
            },
            "outputs": [
                {
                    "output_type": "display_data",
                    "data": {
                        "text/html": "(1 row affected)"
                    },
                    "metadata": {}
                },
                {
                    "output_type": "display_data",
                    "data": {
                        "text/html": "Total execution time: 00:00:00.075"
                    },
                    "metadata": {}
                },
                {
                    "output_type": "execute_result",
                    "execution_count": 70,
                    "data": {
                        "application/vnd.dataresource+json": {
                            "schema": {
                                "fields": [
                                    {
                                        "name": "(No column name)"
                                    }
                                ]
                            },
                            "data": [
                                {
                                    "0": "1125490"
                                }
                            ]
                        },
                        "text/html": "<table><tr><th>(No column name)</th></tr><tr><td>1125490</td></tr></table>"
                    },
                    "metadata": {}
                }
            ],
            "execution_count": 70
        },
        {
            "cell_type": "markdown",
            "source": [
                "3. <span style=\"background-color: rgb(255, 255, 255); font-size: 10pt; white-space: pre-wrap; color: rgb(102, 102, 102); font-family: Arvo, serif;\">How many production/nonsupervisory employees were reported in 2016? Round to the nearest whole number.&nbsp;</span>"
            ],
            "metadata": {
                "azdata_cell_guid": "246ea683-2075-4337-878d-fbfdd49b2dd7"
            },
            "attachments": {}
        },
        {
            "cell_type": "code",
            "source": [
                "SELECT ROUND(SUM([value]), 0) \r\n",
                "FROM [LaborStatisticsDB].[dbo].[annual_2016]\r\n",
                "WHERE [series_id] IN (SELECT [series_id] \r\n",
                "                    FROM [LaborStatisticsDB].[dbo].[series]\r\n",
                "                    WHERE [data_type_code] = 6);\r\n",
                "\r\n",
                "                    -- 1263650"
            ],
            "metadata": {
                "azdata_cell_guid": "110f2591-069b-4bbe-87c7-2bcf76c3d36f"
            },
            "outputs": [
                {
                    "output_type": "display_data",
                    "data": {
                        "text/html": "(1 row affected)"
                    },
                    "metadata": {}
                },
                {
                    "output_type": "display_data",
                    "data": {
                        "text/html": "Total execution time: 00:00:00.119"
                    },
                    "metadata": {}
                },
                {
                    "output_type": "execute_result",
                    "execution_count": 76,
                    "data": {
                        "application/vnd.dataresource+json": {
                            "schema": {
                                "fields": [
                                    {
                                        "name": "(No column name)"
                                    }
                                ]
                            },
                            "data": [
                                {
                                    "0": "1263650"
                                }
                            ]
                        },
                        "text/html": "<table><tr><th>(No column name)</th></tr><tr><td>1263650</td></tr></table>"
                    },
                    "metadata": {}
                }
            ],
            "execution_count": 76
        },
        {
            "cell_type": "markdown",
            "source": [
                "4. <span style=\"background-color: rgb(255, 255, 255); font-size: 10pt; white-space: pre-wrap; color: rgb(102, 102, 102); font-family: Arvo, serif;\">In January 2017, what is the average weekly hours worked by production and nonsupervisory employees across all industries?</span>"
            ],
            "metadata": {
                "azdata_cell_guid": "9caa7f57-e39d-4b7a-b705-25f8fe29d60b"
            },
            "attachments": {}
        },
        {
            "cell_type": "code",
            "source": [
                "SELECT ROUND(SUM(value), 0)\r\n",
                "FROM [LaborStatisticsDB].[dbo].[january_2017]\r\n",
                "    WHERE series_id IN (SELECT series_id\r\n",
                "    FROM [LaborStatisticsDB].[dbo].[series]\r\n",
                "    WHERE series_title LIKE 'average weekly hours of production%');\r\n",
                "\r\n",
                "    -- 79473"
            ],
            "metadata": {
                "azdata_cell_guid": "9f07fa8a-4217-439a-a9cd-831240d4bc9e"
            },
            "outputs": [
                {
                    "output_type": "display_data",
                    "data": {
                        "text/html": "(1 row affected)"
                    },
                    "metadata": {}
                },
                {
                    "output_type": "display_data",
                    "data": {
                        "text/html": "Total execution time: 00:00:00.152"
                    },
                    "metadata": {}
                },
                {
                    "output_type": "execute_result",
                    "execution_count": 79,
                    "data": {
                        "application/vnd.dataresource+json": {
                            "schema": {
                                "fields": [
                                    {
                                        "name": "(No column name)"
                                    }
                                ]
                            },
                            "data": [
                                {
                                    "0": "79473"
                                }
                            ]
                        },
                        "text/html": "<table><tr><th>(No column name)</th></tr><tr><td>79473</td></tr></table>"
                    },
                    "metadata": {}
                }
            ],
            "execution_count": 79
        },
        {
            "cell_type": "markdown",
            "source": [
                "5. <span style=\"background-color: rgb(255, 255, 255); font-size: 10pt; white-space: pre-wrap; color: rgb(102, 102, 102); font-family: Arvo, serif;\">What is the total weekly payroll for production and nonsupervisory employees across all industries in January 2017? Round to the nearest penny, please.</span>"
            ],
            "metadata": {
                "azdata_cell_guid": "9c48ff2e-a6eb-4f02-8df2-988e219fbc00"
            },
            "attachments": {}
        },
        {
            "cell_type": "code",
            "source": [
                "SELECT ROUND(SUM(value), 2)\r\n",
                "FROM [LaborStatisticsDB].[dbo].[january_2017]\r\n",
                "WHERE [series_id] IN (SELECT [series_id] \r\n",
                "                    FROM [LaborStatisticsDB].[dbo].[series]\r\n",
                "                    WHERE [data_type_code] = 82);\r\n",
                "\r\n",
                "                    -- $ 1,838,753,220.00"
            ],
            "metadata": {
                "azdata_cell_guid": "c565641b-f1fa-4dbb-9320-24adfda97ca5"
            },
            "outputs": [
                {
                    "output_type": "display_data",
                    "data": {
                        "text/html": "(1 row affected)"
                    },
                    "metadata": {}
                },
                {
                    "output_type": "display_data",
                    "data": {
                        "text/html": "Total execution time: 00:00:00.120"
                    },
                    "metadata": {}
                },
                {
                    "output_type": "execute_result",
                    "execution_count": 86,
                    "data": {
                        "application/vnd.dataresource+json": {
                            "schema": {
                                "fields": [
                                    {
                                        "name": "(No column name)"
                                    }
                                ]
                            },
                            "data": [
                                {
                                    "0": "1838753220"
                                }
                            ]
                        },
                        "text/html": "<table><tr><th>(No column name)</th></tr><tr><td>1838753220</td></tr></table>"
                    },
                    "metadata": {}
                }
            ],
            "execution_count": 86
        },
        {
            "cell_type": "markdown",
            "source": [
                "6. <span style=\"background-color: rgb(255, 255, 255); font-size: 10pt; white-space: pre-wrap; color: rgb(102, 102, 102); font-family: Arvo, serif;\">In January 2017, which industry was the average weekly hours worked by production and nonsupervisory employees the highest? Which industry was the lowest?</span>"
            ],
            "metadata": {
                "azdata_cell_guid": "862fd406-4fff-49bb-9d2b-232275a06405"
            },
            "attachments": {}
        },
        {
            "cell_type": "code",
            "source": [
                "SELECT [industry_name]\r\n",
                "FROM [LaborStatisticsDB].[dbo].[industry]\r\n",
                "WHERE [industry_code] IN\r\n",
                "\r\n",
                "(SELECT [industry_code]\r\n",
                "FROM [LaborStatisticsDB].[dbo].[series]\r\n",
                "WHERE [series_id] IN\r\n",
                "\r\n",
                "        (SELECT TOP 1 [series_id]\r\n",
                "        FROM [LaborStatisticsDB].[dbo].[january_2017]\r\n",
                "        WHERE [series_id] IN (SELECT [series_id] \r\n",
                "                    FROM [LaborStatisticsDB].[dbo].[series]\r\n",
                "                    WHERE [data_type_code] = 82)\r\n",
                "        ORDER BY [value] DESC));\r\n",
                "\r\n",
                "        -- \"Total Private\" - highest average weekly hours worked\r\n",
                "\r\n",
                "\r\n",
                "SELECT [industry_name]\r\n",
                "FROM [LaborStatisticsDB].[dbo].[industry]\r\n",
                "WHERE [industry_code] IN\r\n",
                "\r\n",
                "(SELECT [industry_code]\r\n",
                "FROM [LaborStatisticsDB].[dbo].[series]\r\n",
                "WHERE [series_id] IN\r\n",
                "\r\n",
                "        (SELECT TOP 1 [series_id]\r\n",
                "        FROM [LaborStatisticsDB].[dbo].[january_2017]\r\n",
                "        WHERE [series_id] IN (SELECT [series_id] \r\n",
                "                    FROM [LaborStatisticsDB].[dbo].[series]\r\n",
                "                    WHERE [data_type_code] = 82)\r\n",
                "        ORDER BY [value] ASC));\r\n",
                "\r\n",
                "        -- \"Coin-operated laundries and drycleaners\" - lowest average weekly hours worked"
            ],
            "metadata": {
                "azdata_cell_guid": "01e11050-5f2f-4d22-92e0-2b3024b80a5f"
            },
            "outputs": [
                {
                    "output_type": "display_data",
                    "data": {
                        "text/html": "(1 row affected)"
                    },
                    "metadata": {}
                },
                {
                    "output_type": "display_data",
                    "data": {
                        "text/html": "(1 row affected)"
                    },
                    "metadata": {}
                },
                {
                    "output_type": "display_data",
                    "data": {
                        "text/html": "Total execution time: 00:00:00.277"
                    },
                    "metadata": {}
                },
                {
                    "output_type": "execute_result",
                    "execution_count": 117,
                    "data": {
                        "application/vnd.dataresource+json": {
                            "schema": {
                                "fields": [
                                    {
                                        "name": "industry_name"
                                    }
                                ]
                            },
                            "data": [
                                {
                                    "0": "Total private"
                                }
                            ]
                        },
                        "text/html": "<table><tr><th>industry_name</th></tr><tr><td>Total private</td></tr></table>"
                    },
                    "metadata": {}
                },
                {
                    "output_type": "execute_result",
                    "execution_count": 117,
                    "data": {
                        "application/vnd.dataresource+json": {
                            "schema": {
                                "fields": [
                                    {
                                        "name": "industry_name"
                                    }
                                ]
                            },
                            "data": [
                                {
                                    "0": "Coin-operated laundries and drycleaners"
                                }
                            ]
                        },
                        "text/html": "<table><tr><th>industry_name</th></tr><tr><td>Coin-operated laundries and drycleaners</td></tr></table>"
                    },
                    "metadata": {}
                }
            ],
            "execution_count": 117
        },
        {
            "cell_type": "markdown",
            "source": [
                "7. <span style=\"background-color: rgb(255, 255, 255); font-size: 10pt; white-space: pre-wrap; color: rgb(102, 102, 102); font-family: Arvo, serif;\">In January 2021, which industry was the total weekly payroll for production and nonsupervisory employees the highest? Which industry was the lowest?</span>"
            ],
            "metadata": {
                "azdata_cell_guid": "a53f4113-60c6-46d1-b9a3-34610c61d4f9"
            },
            "attachments": {}
        },
        {
            "cell_type": "code",
            "source": [
                "-- total private industry - highest weekly payroll for production and nonsupervisory employees\r\n",
                "SELECT [industry_name]\r\n",
                "FROM [LaborStatisticsDB].[dbo].[industry]\r\n",
                "WHERE [industry_code] = \r\n",
                "\r\n",
                "(SELECT [industry_code]\r\n",
                "FROM [LaborStatisticsDB].[dbo].[series]\r\n",
                "WHERE [series_id] = \r\n",
                "\r\n",
                "\r\n",
                "(SELECT TOP 1 [series_id]\r\n",
                "FROM [LaborStatisticsDB].[dbo].[january_2017]\r\n",
                "WHERE [series_id] IN \r\n",
                "                    (SELECT [series_id]\r\n",
                "                    FROM [LaborStatisticsDB].[dbo].[series]\r\n",
                "                    WHERE [data_type_code] IN (SELECT [data_type_code]\r\n",
                "                                            FROM [LaborStatisticsDB].[dbo].[datatype]\r\n",
                "                                            WHERE [data_type_text] = 'aggregate weekly payrolls of production and nonsupervisory employees'))\r\n",
                "ORDER BY [value] DESC));\r\n",
                "\r\n",
                "\r\n",
                "-- Coin-operated laundries and drycleaners - lowest weekly payroll for production and nonsupervisory employees\r\n",
                "SELECT [industry_name]\r\n",
                "FROM [LaborStatisticsDB].[dbo].[industry]\r\n",
                "WHERE [industry_code] = \r\n",
                "\r\n",
                "(SELECT [industry_code]\r\n",
                "FROM [LaborStatisticsDB].[dbo].[series]\r\n",
                "WHERE [series_id] = \r\n",
                "\r\n",
                "\r\n",
                "(SELECT TOP 1 [series_id]\r\n",
                "FROM [LaborStatisticsDB].[dbo].[january_2017]\r\n",
                "WHERE [series_id] IN \r\n",
                "                    (SELECT [series_id]\r\n",
                "                    FROM [LaborStatisticsDB].[dbo].[series]\r\n",
                "                    WHERE [data_type_code] IN (SELECT [data_type_code]\r\n",
                "                                            FROM [LaborStatisticsDB].[dbo].[datatype]\r\n",
                "                                            WHERE [data_type_text] = 'aggregate weekly payrolls of production and nonsupervisory employees'))\r\n",
                "ORDER BY [value] ASC));\r\n",
                "\r\n",
                "\r\n",
                ""
            ],
            "metadata": {
                "azdata_cell_guid": "583695e6-7438-4e03-8970-1fe0c677a793"
            },
            "outputs": [
                {
                    "output_type": "display_data",
                    "data": {
                        "text/html": "(1 row affected)"
                    },
                    "metadata": {}
                },
                {
                    "output_type": "display_data",
                    "data": {
                        "text/html": "(1 row affected)"
                    },
                    "metadata": {}
                },
                {
                    "output_type": "display_data",
                    "data": {
                        "text/html": "Total execution time: 00:00:00.262"
                    },
                    "metadata": {}
                },
                {
                    "output_type": "execute_result",
                    "execution_count": 151,
                    "data": {
                        "application/vnd.dataresource+json": {
                            "schema": {
                                "fields": [
                                    {
                                        "name": "industry_name"
                                    }
                                ]
                            },
                            "data": [
                                {
                                    "0": "Total private"
                                }
                            ]
                        },
                        "text/html": "<table><tr><th>industry_name</th></tr><tr><td>Total private</td></tr></table>"
                    },
                    "metadata": {}
                },
                {
                    "output_type": "execute_result",
                    "execution_count": 151,
                    "data": {
                        "application/vnd.dataresource+json": {
                            "schema": {
                                "fields": [
                                    {
                                        "name": "industry_name"
                                    }
                                ]
                            },
                            "data": [
                                {
                                    "0": "Coin-operated laundries and drycleaners"
                                }
                            ]
                        },
                        "text/html": "<table><tr><th>industry_name</th></tr><tr><td>Coin-operated laundries and drycleaners</td></tr></table>"
                    },
                    "metadata": {}
                }
            ],
            "execution_count": 151
        },
        {
            "cell_type": "markdown",
            "source": [
                "## <span style=\"font-size: 12pt; font-family: Montserrat, sans-serif; color: rgb(53, 74, 95); background-color: rgb(255, 255, 255); font-weight: 700; font-variant-numeric: normal; font-variant-east-asian: normal; vertical-align: baseline; white-space: pre-wrap;\">Subqueries, Unions, Derived Tables, Oh My!</span>\n",
                "\n",
                "1. <span style=\"background-color: rgb(255, 255, 255); font-size: 10pt; white-space: pre-wrap; color: rgb(102, 102, 102); font-family: Arvo, serif;\">Write a query that returns the series_id, industry_code, industry_name, and value from the january_2017 table but only if that value is greater than the average value for annual_2016 of data_type_code 82.</span>"
            ],
            "metadata": {
                "azdata_cell_guid": "e98ec195-5399-4718-83ef-54fb954662a5"
            },
            "attachments": {}
        },
        {
            "cell_type": "code",
            "source": [
                "WITH JAN AS\r\n",
                "    (SELECT [series_id], [value]\r\n",
                "    FROM [LaborStatisticsDB].[dbo].[january_2017]\r\n",
                "    WHERE [value] > (SELECT AVG([value])\r\n",
                "                FROM [LaborStatisticsDB].[dbo].[annual_2016]\r\n",
                "                WHERE [series_id] IN\r\n",
                "                    (SELECT [series_id]\r\n",
                "                    FROM [LaborStatisticsDB].[dbo].[series]\r\n",
                "                    WHERE [data_type_code] = 82))),\r\n",
                "    IND AS \r\n",
                "    (SELECT [industry_code], [industry_name]\r\n",
                "    FROM [LaborStatisticsDB].[dbo].[industry])\r\n",
                "\r\n",
                "\r\n",
                "SELECT JAN.series_id, JAN.value, SE.industry_code\r\n",
                "FROM [LaborStatisticsDB].[dbo].[series] AS SE\r\n",
                "\r\n",
                "INNER JOIN JAN\r\n",
                "ON JAN.series_id = SE.series_id;\r\n",
                "\r\n",
                "\r\n",
                ""
            ],
            "metadata": {
                "azdata_cell_guid": "7c85f70b-528f-4cbd-bd8e-a6efab1c18df",
                "tags": []
            },
            "outputs": [
                {
                    "output_type": "display_data",
                    "data": {
                        "text/html": "(754 rows affected)"
                    },
                    "metadata": {}
                },
                {
                    "output_type": "display_data",
                    "data": {
                        "text/html": "Total execution time: 00:00:00.157"
                    },
                    "metadata": {}
                },
                {
                    "output_type": "execute_result",
                    "execution_count": 6,
                    "data": {
                        "application/vnd.dataresource+json": {
                            "schema": {
                                "fields": [
                                    {
                                        "name": "series_id"
                                    },
                                    {
                                        "name": "value"
                                    },
                                    {
                                        "name": "industry_code"
                                    }
                                ]
                            },
                            "data": [
                                {
                                    "0": "CES0500000056",
                                    "1": "4239112",
                                    "2": "05000000"
                                },
                                {
                                    "0": "CES0500000056",
                                    "1": "4239112",
                                    "2": "05000000"
                                },
                                {
                                    "0": "CES0500000057",
                                    "1": "110301694",
                                    "2": "05000000"
                                },
                                {
                                    "0": "CES0500000057",
                                    "1": "110301694",
                                    "2": "05000000"
                                },
                                {
                                    "0": "CES0500000081",
                                    "1": "3412651",
                                    "2": "05000000"
                                },
                                {
                                    "0": "CES0500000081",
                                    "1": "3412651",
                                    "2": "05000000"
                                },
                                {
                                    "0": "CES0500000082",
                                    "1": "74498171",
                                    "2": "05000000"
                                },
                                {
                                    "0": "CES0500000082",
                                    "1": "74498171",
                                    "2": "05000000"
                                },
                                {
                                    "0": "CES0600000057",
                                    "1": "21779094",
                                    "2": "06000000"
                                },
                                {
                                    "0": "CES0600000057",
                                    "1": "21779094",
                                    "2": "06000000"
                                },
                                {
                                    "0": "CES0600000082",
                                    "1": "13426820",
                                    "2": "06000000"
                                },
                                {
                                    "0": "CES0600000082",
                                    "1": "13426820",
                                    "2": "06000000"
                                },
                                {
                                    "0": "CES0800000056",
                                    "1": "3432382",
                                    "2": "08000000"
                                },
                                {
                                    "0": "CES0800000056",
                                    "1": "3432382",
                                    "2": "08000000"
                                },
                                {
                                    "0": "CES0800000057",
                                    "1": "88280865",
                                    "2": "08000000"
                                },
                                {
                                    "0": "CES0800000057",
                                    "1": "88280865",
                                    "2": "08000000"
                                },
                                {
                                    "0": "CES0800000081",
                                    "1": "2818821",
                                    "2": "08000000"
                                },
                                {
                                    "0": "CES0800000081",
                                    "1": "2818821",
                                    "2": "08000000"
                                },
                                {
                                    "0": "CES0800000082",
                                    "1": "60914722",
                                    "2": "08000000"
                                },
                                {
                                    "0": "CES0800000082",
                                    "1": "60914722",
                                    "2": "08000000"
                                },
                                {
                                    "0": "CES1000000057",
                                    "1": "966707",
                                    "2": "10000000"
                                },
                                {
                                    "0": "CES1000000057",
                                    "1": "966707",
                                    "2": "10000000"
                                },
                                {
                                    "0": "CES1021000057",
                                    "1": "927250",
                                    "2": "10210000"
                                },
                                {
                                    "0": "CES1021000057",
                                    "1": "927250",
                                    "2": "10210000"
                                },
                                {
                                    "0": "CES2000000057",
                                    "1": "7555007",
                                    "2": "20000000"
                                },
                                {
                                    "0": "CES2000000057",
                                    "1": "7555007",
                                    "2": "20000000"
                                },
                                {
                                    "0": "CES2000000082",
                                    "1": "5335274",
                                    "2": "20000000"
                                },
                                {
                                    "0": "CES2000000082",
                                    "1": "5335274",
                                    "2": "20000000"
                                },
                                {
                                    "0": "CES2023600057",
                                    "1": "1765016",
                                    "2": "20236000"
                                },
                                {
                                    "0": "CES2023600057",
                                    "1": "1765016",
                                    "2": "20236000"
                                },
                                {
                                    "0": "CES2023600082",
                                    "1": "1008035",
                                    "2": "20236000"
                                },
                                {
                                    "0": "CES2023600082",
                                    "1": "1008035",
                                    "2": "20236000"
                                },
                                {
                                    "0": "CES2023620057",
                                    "1": "990555",
                                    "2": "20236200"
                                },
                                {
                                    "0": "CES2023620057",
                                    "1": "990555",
                                    "2": "20236200"
                                },
                                {
                                    "0": "CES2023700057",
                                    "1": "1221764",
                                    "2": "20237000"
                                },
                                {
                                    "0": "CES2023700057",
                                    "1": "1221764",
                                    "2": "20237000"
                                },
                                {
                                    "0": "CES2023700082",
                                    "1": "908374",
                                    "2": "20237000"
                                },
                                {
                                    "0": "CES2023700082",
                                    "1": "908374",
                                    "2": "20237000"
                                },
                                {
                                    "0": "CES2023800057",
                                    "1": "4595075",
                                    "2": "20238000"
                                },
                                {
                                    "0": "CES2023800057",
                                    "1": "4595075",
                                    "2": "20238000"
                                },
                                {
                                    "0": "CES2023800082",
                                    "1": "3421902",
                                    "2": "20238000"
                                },
                                {
                                    "0": "CES2023800082",
                                    "1": "3421902",
                                    "2": "20238000"
                                },
                                {
                                    "0": "CES2023810057",
                                    "1": "833625",
                                    "2": "20238100"
                                },
                                {
                                    "0": "CES2023810057",
                                    "1": "833625",
                                    "2": "20238100"
                                },
                                {
                                    "0": "CES2023820057",
                                    "1": "2326342",
                                    "2": "20238200"
                                },
                                {
                                    "0": "CES2023820057",
                                    "1": "2326342",
                                    "2": "20238200"
                                },
                                {
                                    "0": "CES2023820082",
                                    "1": "1696080",
                                    "2": "20238200"
                                },
                                {
                                    "0": "CES2023820082",
                                    "1": "1696080",
                                    "2": "20238200"
                                },
                                {
                                    "0": "CES2023821057",
                                    "1": "1039534",
                                    "2": "20238210"
                                },
                                {
                                    "0": "CES2023821057",
                                    "1": "1039534",
                                    "2": "20238210"
                                },
                                {
                                    "0": "CES2023822057",
                                    "1": "1115270",
                                    "2": "20238220"
                                },
                                {
                                    "0": "CES2023822057",
                                    "1": "1115270",
                                    "2": "20238220"
                                },
                                {
                                    "0": "CES3000000057",
                                    "1": "13282613",
                                    "2": "30000000"
                                },
                                {
                                    "0": "CES3000000057",
                                    "1": "13282613",
                                    "2": "30000000"
                                },
                                {
                                    "0": "CES3000000082",
                                    "1": "7491723",
                                    "2": "30000000"
                                },
                                {
                                    "0": "CES3000000082",
                                    "1": "7491723",
                                    "2": "30000000"
                                },
                                {
                                    "0": "CES3100000057",
                                    "1": "8769944",
                                    "2": "31000000"
                                },
                                {
                                    "0": "CES3100000057",
                                    "1": "8769944",
                                    "2": "31000000"
                                },
                                {
                                    "0": "CES3100000082",
                                    "1": "4859716",
                                    "2": "31000000"
                                },
                                {
                                    "0": "CES3100000082",
                                    "1": "4859716",
                                    "2": "31000000"
                                },
                                {
                                    "0": "CES3133200057",
                                    "1": "1421283",
                                    "2": "31332000"
                                },
                                {
                                    "0": "CES3133200057",
                                    "1": "1421283",
                                    "2": "31332000"
                                },
                                {
                                    "0": "CES3133200082",
                                    "1": "871298",
                                    "2": "31332000"
                                },
                                {
                                    "0": "CES3133200082",
                                    "1": "871298",
                                    "2": "31332000"
                                },
                                {
                                    "0": "CES3133300057",
                                    "1": "1251217",
                                    "2": "31333000"
                                },
                                {
                                    "0": "CES3133300057",
                                    "1": "1251217",
                                    "2": "31333000"
                                },
                                {
                                    "0": "CES3133400057",
                                    "1": "1489440",
                                    "2": "31334000"
                                },
                                {
                                    "0": "CES3133400057",
                                    "1": "1489440",
                                    "2": "31334000"
                                },
                                {
                                    "0": "CES3133600057",
                                    "1": "2130760",
                                    "2": "31336000"
                                },
                                {
                                    "0": "CES3133600057",
                                    "1": "2130760",
                                    "2": "31336000"
                                },
                                {
                                    "0": "CES3133600082",
                                    "1": "1257764",
                                    "2": "31336000"
                                },
                                {
                                    "0": "CES3133600082",
                                    "1": "1257764",
                                    "2": "31336000"
                                },
                                {
                                    "0": "CES3133600157",
                                    "1": "1050677",
                                    "2": "31336001"
                                },
                                {
                                    "0": "CES3133600157",
                                    "1": "1050677",
                                    "2": "31336001"
                                },
                                {
                                    "0": "CES3133640057",
                                    "1": "879785",
                                    "2": "31336400"
                                },
                                {
                                    "0": "CES3133640057",
                                    "1": "879785",
                                    "2": "31336400"
                                },
                                {
                                    "0": "CES3200000057",
                                    "1": "4496035",
                                    "2": "32000000"
                                },
                                {
                                    "0": "CES3200000057",
                                    "1": "4496035",
                                    "2": "32000000"
                                },
                                {
                                    "0": "CES3200000082",
                                    "1": "2633628",
                                    "2": "32000000"
                                },
                                {
                                    "0": "CES3200000082",
                                    "1": "2633628",
                                    "2": "32000000"
                                },
                                {
                                    "0": "CES3231100057",
                                    "1": "1293730",
                                    "2": "32311000"
                                },
                                {
                                    "0": "CES3231100057",
                                    "1": "1293730",
                                    "2": "32311000"
                                },
                                {
                                    "0": "CES3231100082",
                                    "1": "851406",
                                    "2": "32311000"
                                },
                                {
                                    "0": "CES3231100082",
                                    "1": "851406",
                                    "2": "32311000"
                                },
                                {
                                    "0": "CES3232500057",
                                    "1": "1083956",
                                    "2": "32325000"
                                },
                                {
                                    "0": "CES3232500057",
                                    "1": "1083956",
                                    "2": "32325000"
                                },
                                {
                                    "0": "CES4000000056",
                                    "1": "939889",
                                    "2": "40000000"
                                },
                                {
                                    "0": "CES4000000056",
                                    "1": "939889",
                                    "2": "40000000"
                                },
                                {
                                    "0": "CES4000000057",
                                    "1": "21232093",
                                    "2": "40000000"
                                },
                                {
                                    "0": "CES4000000057",
                                    "1": "21232093",
                                    "2": "40000000"
                                },
                                {
                                    "0": "CES4000000082",
                                    "1": "14850661",
                                    "2": "40000000"
                                },
                                {
                                    "0": "CES4000000082",
                                    "1": "14850661",
                                    "2": "40000000"
                                },
                                {
                                    "0": "CES4142000057",
                                    "1": "6858602",
                                    "2": "41420000"
                                },
                                {
                                    "0": "CES4142000057",
                                    "1": "6858602",
                                    "2": "41420000"
                                },
                                {
                                    "0": "CES4142000082",
                                    "1": "4480134",
                                    "2": "41420000"
                                },
                                {
                                    "0": "CES4142000082",
                                    "1": "4480134",
                                    "2": "41420000"
                                },
                                {
                                    "0": "CES4142300057",
                                    "1": "3449034",
                                    "2": "41423000"
                                },
                                {
                                    "0": "CES4142300057",
                                    "1": "3449034",
                                    "2": "41423000"
                                },
                                {
                                    "0": "CES4142300082",
                                    "1": "2261006",
                                    "2": "41423000"
                                },
                                {
                                    "0": "CES4142300082",
                                    "1": "2261006",
                                    "2": "41423000"
                                },
                                {
                                    "0": "CES4142340057",
                                    "1": "915034",
                                    "2": "41423400"
                                },
                                {
                                    "0": "CES4142340057",
                                    "1": "915034",
                                    "2": "41423400"
                                },
                                {
                                    "0": "CES4142400057",
                                    "1": "2042100",
                                    "2": "41424000"
                                },
                                {
                                    "0": "CES4142400057",
                                    "1": "2042100",
                                    "2": "41424000"
                                },
                                {
                                    "0": "CES4142400082",
                                    "1": "1367413",
                                    "2": "41424000"
                                },
                                {
                                    "0": "CES4142400082",
                                    "1": "1367413",
                                    "2": "41424000"
                                },
                                {
                                    "0": "CES4142500057",
                                    "1": "1359605",
                                    "2": "41425000"
                                },
                                {
                                    "0": "CES4142500057",
                                    "1": "1359605",
                                    "2": "41425000"
                                },
                                {
                                    "0": "CES4142500082",
                                    "1": "855291",
                                    "2": "41425000"
                                },
                                {
                                    "0": "CES4142500082",
                                    "1": "855291",
                                    "2": "41425000"
                                },
                                {
                                    "0": "CES4142512057",
                                    "1": "1317589",
                                    "2": "41425120"
                                },
                                {
                                    "0": "CES4142512057",
                                    "1": "1317589",
                                    "2": "41425120"
                                },
                                {
                                    "0": "CES4142512082",
                                    "1": "831319",
                                    "2": "41425120"
                                },
                                {
                                    "0": "CES4142512082",
                                    "1": "831319",
                                    "2": "41425120"
                                },
                                {
                                    "0": "CES4200000057",
                                    "1": "8857570",
                                    "2": "42000000"
                                },
                                {
                                    "0": "CES4200000057",
                                    "1": "8857570",
                                    "2": "42000000"
                                },
                                {
                                    "0": "CES4200000082",
                                    "1": "6123554",
                                    "2": "42000000"
                                },
                                {
                                    "0": "CES4200000082",
                                    "1": "6123554",
                                    "2": "42000000"
                                },
                                {
                                    "0": "CES4244100057",
                                    "1": "1740340",
                                    "2": "42441000"
                                },
                                {
                                    "0": "CES4244100057",
                                    "1": "1740340",
                                    "2": "42441000"
                                },
                                {
                                    "0": "CES4244100082",
                                    "1": "1180297",
                                    "2": "42441000"
                                },
                                {
                                    "0": "CES4244100082",
                                    "1": "1180297",
                                    "2": "42441000"
                                },
                                {
                                    "0": "CES4244110057",
                                    "1": "1232818",
                                    "2": "42441100"
                                },
                                {
                                    "0": "CES4244110057",
                                    "1": "1232818",
                                    "2": "42441100"
                                },
                                {
                                    "0": "CES4244110082",
                                    "1": "839595",
                                    "2": "42441100"
                                },
                                {
                                    "0": "CES4244110082",
                                    "1": "839595",
                                    "2": "42441100"
                                },
                                {
                                    "0": "CES4244111057",
                                    "1": "1110063",
                                    "2": "42441110"
                                },
                                {
                                    "0": "CES4244111057",
                                    "1": "1110063",
                                    "2": "42441110"
                                },
                                {
                                    "0": "CES4244500057",
                                    "1": "1352705",
                                    "2": "42445000"
                                },
                                {
                                    "0": "CES4244500057",
                                    "1": "1352705",
                                    "2": "42445000"
                                },
                                {
                                    "0": "CES4244500082",
                                    "1": "974710",
                                    "2": "42445000"
                                },
                                {
                                    "0": "CES4244500082",
                                    "1": "974710",
                                    "2": "42445000"
                                },
                                {
                                    "0": "CES4244510057",
                                    "1": "1180650",
                                    "2": "42445100"
                                },
                                {
                                    "0": "CES4244510057",
                                    "1": "1180650",
                                    "2": "42445100"
                                },
                                {
                                    "0": "CES4244510082",
                                    "1": "868430",
                                    "2": "42445100"
                                },
                                {
                                    "0": "CES4244510082",
                                    "1": "868430",
                                    "2": "42445100"
                                },
                                {
                                    "0": "CES4244511057",
                                    "1": "1120814",
                                    "2": "42445110"
                                },
                                {
                                    "0": "CES4244511057",
                                    "1": "1120814",
                                    "2": "42445110"
                                },
                                {
                                    "0": "CES4244511082",
                                    "1": "821282",
                                    "2": "42445110"
                                },
                                {
                                    "0": "CES4244511082",
                                    "1": "821282",
                                    "2": "42445110"
                                },
                                {
                                    "0": "CES4245200057",
                                    "1": "1437264",
                                    "2": "42452000"
                                },
                                {
                                    "0": "CES4245200057",
                                    "1": "1437264",
                                    "2": "42452000"
                                },
                                {
                                    "0": "CES4245200082",
                                    "1": "1065807",
                                    "2": "42452000"
                                },
                                {
                                    "0": "CES4245200082",
                                    "1": "1065807",
                                    "2": "42452000"
                                },
                                {
                                    "0": "CES4300000057",
                                    "1": "4588906",
                                    "2": "43000000"
                                },
                                {
                                    "0": "CES4300000057",
                                    "1": "4588906",
                                    "2": "43000000"
                                },
                                {
                                    "0": "CES4300000082",
                                    "1": "3538683",
                                    "2": "43000000"
                                },
                                {
                                    "0": "CES4300000082",
                                    "1": "3538683",
                                    "2": "43000000"
                                },
                                {
                                    "0": "CES4348400057",
                                    "1": "1392202",
                                    "2": "43484000"
                                },
                                {
                                    "0": "CES4348400057",
                                    "1": "1392202",
                                    "2": "43484000"
                                },
                                {
                                    "0": "CES4348400082",
                                    "1": "1131821",
                                    "2": "43484000"
                                },
                                {
                                    "0": "CES4348400082",
                                    "1": "1131821",
                                    "2": "43484000"
                                },
                                {
                                    "0": "CES4348410057",
                                    "1": "966602",
                                    "2": "43484100"
                                },
                                {
                                    "0": "CES4348410057",
                                    "1": "966602",
                                    "2": "43484100"
                                },
                                {
                                    "0": "CES4422000057",
                                    "1": "920941",
                                    "2": "44220000"
                                },
                                {
                                    "0": "CES4422000057",
                                    "1": "920941",
                                    "2": "44220000"
                                },
                                {
                                    "0": "CES5000000057",
                                    "1": "3751205",
                                    "2": "50000000"
                                },
                                {
                                    "0": "CES5000000057",
                                    "1": "3751205",
                                    "2": "50000000"
                                },
                                {
                                    "0": "CES5000000082",
                                    "1": "2416443",
                                    "2": "50000000"
                                },
                                {
                                    "0": "CES5000000082",
                                    "1": "2416443",
                                    "2": "50000000"
                                },
                                {
                                    "0": "CES5051100057",
                                    "1": "1183283",
                                    "2": "50511000"
                                },
                                {
                                    "0": "CES5051100057",
                                    "1": "1183283",
                                    "2": "50511000"
                                },
                                {
                                    "0": "CES5051700057",
                                    "1": "992441",
                                    "2": "50517000"
                                },
                                {
                                    "0": "CES5051700057",
                                    "1": "992441",
                                    "2": "50517000"
                                },
                                {
                                    "0": "CES5500000057",
                                    "1": "10213192",
                                    "2": "55000000"
                                },
                                {
                                    "0": "CES5500000057",
                                    "1": "10213192",
                                    "2": "55000000"
                                },
                                {
                                    "0": "CES5500000082",
                                    "1": "6328968",
                                    "2": "55000000"
                                },
                                {
                                    "0": "CES5500000082",
                                    "1": "6328968",
                                    "2": "55000000"
                                },
                                {
                                    "0": "CES5552200057",
                                    "1": "3075310",
                                    "2": "55522000"
                                },
                                {
                                    "0": "CES5552200057",
                                    "1": "3075310",
                                    "2": "55522000"
                                },
                                {
                                    "0": "CES5552200082",
                                    "1": "1717912",
                                    "2": "55522000"
                                },
                                {
                                    "0": "CES5552200082",
                                    "1": "1717912",
                                    "2": "55522000"
                                },
                                {
                                    "0": "CES5552210057",
                                    "1": "1921539",
                                    "2": "55522100"
                                },
                                {
                                    "0": "CES5552210057",
                                    "1": "1921539",
                                    "2": "55522100"
                                },
                                {
                                    "0": "CES5552210082",
                                    "1": "971796",
                                    "2": "55522100"
                                },
                                {
                                    "0": "CES5552210082",
                                    "1": "971796",
                                    "2": "55522100"
                                },
                                {
                                    "0": "CES5552211057",
                                    "1": "1533413",
                                    "2": "55522110"
                                },
                                {
                                    "0": "CES5552211057",
                                    "1": "1533413",
                                    "2": "55522110"
                                },
                                {
                                    "0": "CES5552300057",
                                    "1": "1756545",
                                    "2": "55523000"
                                },
                                {
                                    "0": "CES5552300057",
                                    "1": "1756545",
                                    "2": "55523000"
                                },
                                {
                                    "0": "CES5552300082",
                                    "1": "1044224",
                                    "2": "55523000"
                                },
                                {
                                    "0": "CES5552300082",
                                    "1": "1044224",
                                    "2": "55523000"
                                },
                                {
                                    "0": "CES5552320057",
                                    "1": "852241",
                                    "2": "55523200"
                                },
                                {
                                    "0": "CES5552320057",
                                    "1": "852241",
                                    "2": "55523200"
                                },
                                {
                                    "0": "CES5552390057",
                                    "1": "905217",
                                    "2": "55523900"
                                },
                                {
                                    "0": "CES5552390057",
                                    "1": "905217",
                                    "2": "55523900"
                                },
                                {
                                    "0": "CES5552400057",
                                    "1": "3411895",
                                    "2": "55524000"
                                },
                                {
                                    "0": "CES5552400057",
                                    "1": "3411895",
                                    "2": "55524000"
                                },
                                {
                                    "0": "CES5552400082",
                                    "1": "2347328",
                                    "2": "55524000"
                                },
                                {
                                    "0": "CES5552400082",
                                    "1": "2347328",
                                    "2": "55524000"
                                },
                                {
                                    "0": "CES5552410057",
                                    "1": "2130379",
                                    "2": "55524100"
                                },
                                {
                                    "0": "CES5552410057",
                                    "1": "2130379",
                                    "2": "55524100"
                                },
                                {
                                    "0": "CES5552410082",
                                    "1": "1477799",
                                    "2": "55524100"
                                },
                                {
                                    "0": "CES5552410082",
                                    "1": "1477799",
                                    "2": "55524100"
                                },
                                {
                                    "0": "CES5552411057",
                                    "1": "1169424",
                                    "2": "55524110"
                                },
                                {
                                    "0": "CES5552411057",
                                    "1": "1169424",
                                    "2": "55524110"
                                },
                                {
                                    "0": "CES5552412057",
                                    "1": "917557",
                                    "2": "55524120"
                                },
                                {
                                    "0": "CES5552412057",
                                    "1": "917557",
                                    "2": "55524120"
                                },
                                {
                                    "0": "CES5552420057",
                                    "1": "1281029",
                                    "2": "55524200"
                                },
                                {
                                    "0": "CES5552420057",
                                    "1": "1281029",
                                    "2": "55524200"
                                },
                                {
                                    "0": "CES5552420082",
                                    "1": "872398",
                                    "2": "55524200"
                                },
                                {
                                    "0": "CES5552420082",
                                    "1": "872398",
                                    "2": "55524200"
                                },
                                {
                                    "0": "CES5552421057",
                                    "1": "858730",
                                    "2": "55524210"
                                },
                                {
                                    "0": "CES5552421057",
                                    "1": "858730",
                                    "2": "55524210"
                                },
                                {
                                    "0": "CES5553100057",
                                    "1": "1417131",
                                    "2": "55531000"
                                },
                                {
                                    "0": "CES5553100057",
                                    "1": "1417131",
                                    "2": "55531000"
                                },
                                {
                                    "0": "CES5553100082",
                                    "1": "862987",
                                    "2": "55531000"
                                },
                                {
                                    "0": "CES5553100082",
                                    "1": "862987",
                                    "2": "55531000"
                                },
                                {
                                    "0": "CES6000000057",
                                    "1": "23113158",
                                    "2": "60000000"
                                },
                                {
                                    "0": "CES6000000057",
                                    "1": "23113158",
                                    "2": "60000000"
                                },
                                {
                                    "0": "CES6000000082",
                                    "1": "15251268",
                                    "2": "60000000"
                                },
                                {
                                    "0": "CES6000000082",
                                    "1": "15251268",
                                    "2": "60000000"
                                },
                                {
                                    "0": "CES6054000057",
                                    "1": "13464691",
                                    "2": "60540000"
                                },
                                {
                                    "0": "CES6054000057",
                                    "1": "13464691",
                                    "2": "60540000"
                                },
                                {
                                    "0": "CES6054000082",
                                    "1": "8821026",
                                    "2": "60540000"
                                },
                                {
                                    "0": "CES6054000082",
                                    "1": "8821026",
                                    "2": "60540000"
                                },
                                {
                                    "0": "CES6054110057",
                                    "1": "1666281",
                                    "2": "60541100"
                                },
                                {
                                    "0": "CES6054110057",
                                    "1": "1666281",
                                    "2": "60541100"
                                },
                                {
                                    "0": "CES6054110082",
                                    "1": "1058862",
                                    "2": "60541100"
                                },
                                {
                                    "0": "CES6054110082",
                                    "1": "1058862",
                                    "2": "60541100"
                                },
                                {
                                    "0": "CES6054111057",
                                    "1": "1588040",
                                    "2": "60541110"
                                },
                                {
                                    "0": "CES6054111057",
                                    "1": "1588040",
                                    "2": "60541110"
                                },
                                {
                                    "0": "CES6054111082",
                                    "1": "1004009",
                                    "2": "60541110"
                                },
                                {
                                    "0": "CES6054111082",
                                    "1": "1004009",
                                    "2": "60541110"
                                },
                                {
                                    "0": "CES6054120057",
                                    "1": "1116237",
                                    "2": "60541200"
                                },
                                {
                                    "0": "CES6054120057",
                                    "1": "1116237",
                                    "2": "60541200"
                                },
                                {
                                    "0": "CES6054130057",
                                    "1": "2152162",
                                    "2": "60541300"
                                },
                                {
                                    "0": "CES6054130057",
                                    "1": "2152162",
                                    "2": "60541300"
                                },
                                {
                                    "0": "CES6054130082",
                                    "1": "1439445",
                                    "2": "60541300"
                                },
                                {
                                    "0": "CES6054130082",
                                    "1": "1439445",
                                    "2": "60541300"
                                },
                                {
                                    "0": "CES6054134057",
                                    "1": "1536969",
                                    "2": "60541340"
                                },
                                {
                                    "0": "CES6054134057",
                                    "1": "1536969",
                                    "2": "60541340"
                                },
                                {
                                    "0": "CES6054134082",
                                    "1": "1051499",
                                    "2": "60541340"
                                },
                                {
                                    "0": "CES6054134082",
                                    "1": "1051499",
                                    "2": "60541340"
                                },
                                {
                                    "0": "CES6054150057",
                                    "1": "3595409",
                                    "2": "60541500"
                                },
                                {
                                    "0": "CES6054150057",
                                    "1": "3595409",
                                    "2": "60541500"
                                },
                                {
                                    "0": "CES6054150082",
                                    "1": "2666568",
                                    "2": "60541500"
                                },
                                {
                                    "0": "CES6054150082",
                                    "1": "2666568",
                                    "2": "60541500"
                                },
                                {
                                    "0": "CES6054151157",
                                    "1": "1596292",
                                    "2": "60541511"
                                },
                                {
                                    "0": "CES6054151157",
                                    "1": "1596292",
                                    "2": "60541511"
                                },
                                {
                                    "0": "CES6054151182",
                                    "1": "1173494",
                                    "2": "60541511"
                                },
                                {
                                    "0": "CES6054151182",
                                    "1": "1173494",
                                    "2": "60541511"
                                },
                                {
                                    "0": "CES6054151257",
                                    "1": "1695613",
                                    "2": "60541512"
                                },
                                {
                                    "0": "CES6054151257",
                                    "1": "1695613",
                                    "2": "60541512"
                                },
                                {
                                    "0": "CES6054151282",
                                    "1": "1274481",
                                    "2": "60541512"
                                },
                                {
                                    "0": "CES6054151282",
                                    "1": "1274481",
                                    "2": "60541512"
                                },
                                {
                                    "0": "CES6054160057",
                                    "1": "2103707",
                                    "2": "60541600"
                                },
                                {
                                    "0": "CES6054160057",
                                    "1": "2103707",
                                    "2": "60541600"
                                },
                                {
                                    "0": "CES6054160082",
                                    "1": "1330587",
                                    "2": "60541600"
                                },
                                {
                                    "0": "CES6054160082",
                                    "1": "1330587",
                                    "2": "60541600"
                                },
                                {
                                    "0": "CES6054161057",
                                    "1": "1711601",
                                    "2": "60541610"
                                },
                                {
                                    "0": "CES6054161057",
                                    "1": "1711601",
                                    "2": "60541610"
                                },
                                {
                                    "0": "CES6054161082",
                                    "1": "1053691",
                                    "2": "60541610"
                                },
                                {
                                    "0": "CES6054161082",
                                    "1": "1053691",
                                    "2": "60541610"
                                },
                                {
                                    "0": "CES6054161157",
                                    "1": "955447",
                                    "2": "60541611"
                                },
                                {
                                    "0": "CES6054161157",
                                    "1": "955447",
                                    "2": "60541611"
                                },
                                {
                                    "0": "CES6054170057",
                                    "1": "1265137",
                                    "2": "60541700"
                                },
                                {
                                    "0": "CES6054170057",
                                    "1": "1265137",
                                    "2": "60541700"
                                },
                                {
                                    "0": "CES6054171057",
                                    "1": "1188296",
                                    "2": "60541710"
                                },
                                {
                                    "0": "CES6054171057",
                                    "1": "1188296",
                                    "2": "60541710"
                                },
                                {
                                    "0": "CES6054171257",
                                    "1": "860377",
                                    "2": "60541712"
                                },
                                {
                                    "0": "CES6054171257",
                                    "1": "860377",
                                    "2": "60541712"
                                },
                                {
                                    "0": "CES6055000057",
                                    "1": "3428612",
                                    "2": "60550000"
                                },
                                {
                                    "0": "CES6055000057",
                                    "1": "3428612",
                                    "2": "60550000"
                                },
                                {
                                    "0": "CES6055000082",
                                    "1": "1566036",
                                    "2": "60550000"
                                },
                                {
                                    "0": "CES6055000082",
                                    "1": "1566036",
                                    "2": "60550000"
                                },
                                {
                                    "0": "CES6055111457",
                                    "1": "3270688",
                                    "2": "60551114"
                                },
                                {
                                    "0": "CES6055111457",
                                    "1": "3270688",
                                    "2": "60551114"
                                },
                                {
                                    "0": "CES6055111482",
                                    "1": "1496334",
                                    "2": "60551114"
                                },
                                {
                                    "0": "CES6055111482",
                                    "1": "1496334",
                                    "2": "60551114"
                                },
                                {
                                    "0": "CES6056000057",
                                    "1": "6272001",
                                    "2": "60560000"
                                },
                                {
                                    "0": "CES6056000057",
                                    "1": "6272001",
                                    "2": "60560000"
                                },
                                {
                                    "0": "CES6056000082",
                                    "1": "4886085",
                                    "2": "60560000"
                                },
                                {
                                    "0": "CES6056000082",
                                    "1": "4886085",
                                    "2": "60560000"
                                },
                                {
                                    "0": "CES6056100057",
                                    "1": "5838373",
                                    "2": "60561000"
                                },
                                {
                                    "0": "CES6056100057",
                                    "1": "5838373",
                                    "2": "60561000"
                                },
                                {
                                    "0": "CES6056100082",
                                    "1": "4565569",
                                    "2": "60561000"
                                },
                                {
                                    "0": "CES6056100082",
                                    "1": "4565569",
                                    "2": "60561000"
                                },
                                {
                                    "0": "CES6056130057",
                                    "1": "2255347",
                                    "2": "60561300"
                                },
                                {
                                    "0": "CES6056130057",
                                    "1": "2255347",
                                    "2": "60561300"
                                },
                                {
                                    "0": "CES6056130082",
                                    "1": "2013846",
                                    "2": "60561300"
                                },
                                {
                                    "0": "CES6056130082",
                                    "1": "2013846",
                                    "2": "60561300"
                                },
                                {
                                    "0": "CES6056132057",
                                    "1": "1723484",
                                    "2": "60561320"
                                },
                                {
                                    "0": "CES6056132057",
                                    "1": "1723484",
                                    "2": "60561320"
                                },
                                {
                                    "0": "CES6056132082",
                                    "1": "1598939",
                                    "2": "60561320"
                                },
                                {
                                    "0": "CES6056132082",
                                    "1": "1598939",
                                    "2": "60561320"
                                },
                                {
                                    "0": "CES6056170057",
                                    "1": "1150182",
                                    "2": "60561700"
                                },
                                {
                                    "0": "CES6056170057",
                                    "1": "1150182",
                                    "2": "60561700"
                                },
                                {
                                    "0": "CES6056170082",
                                    "1": "846000",
                                    "2": "60561700"
                                },
                                {
                                    "0": "CES6056170082",
                                    "1": "846000",
                                    "2": "60561700"
                                },
                                {
                                    "0": "CES6500000057",
                                    "1": "19585920",
                                    "2": "65000000"
                                },
                                {
                                    "0": "CES6500000057",
                                    "1": "19585920",
                                    "2": "65000000"
                                },
                                {
                                    "0": "CES6500000082",
                                    "1": "14765156",
                                    "2": "65000000"
                                },
                                {
                                    "0": "CES6500000082",
                                    "1": "14765156",
                                    "2": "65000000"
                                },
                                {
                                    "0": "CES6562000057",
                                    "1": "16718245",
                                    "2": "65620000"
                                },
                                {
                                    "0": "CES6562000057",
                                    "1": "16718245",
                                    "2": "65620000"
                                },
                                {
                                    "0": "CES6562000082",
                                    "1": "12762526",
                                    "2": "65620000"
                                },
                                {
                                    "0": "CES6562000082",
                                    "1": "12762526",
                                    "2": "65620000"
                                },
                                {
                                    "0": "CES6562000157",
                                    "1": "14957970",
                                    "2": "65620001"
                                },
                                {
                                    "0": "CES6562000157",
                                    "1": "14957970",
                                    "2": "65620001"
                                },
                                {
                                    "0": "CES6562000182",
                                    "1": "11413008",
                                    "2": "65620001"
                                },
                                {
                                    "0": "CES6562000182",
                                    "1": "11413008",
                                    "2": "65620001"
                                },
                                {
                                    "0": "CES6562100057",
                                    "1": "7193566",
                                    "2": "65621000"
                                },
                                {
                                    "0": "CES6562100057",
                                    "1": "7193566",
                                    "2": "65621000"
                                },
                                {
                                    "0": "CES6562100082",
                                    "1": "4875906",
                                    "2": "65621000"
                                },
                                {
                                    "0": "CES6562100082",
                                    "1": "4875906",
                                    "2": "65621000"
                                },
                                {
                                    "0": "CES6562110057",
                                    "1": "3521877",
                                    "2": "65621100"
                                },
                                {
                                    "0": "CES6562110057",
                                    "1": "3521877",
                                    "2": "65621100"
                                },
                                {
                                    "0": "CES6562110082",
                                    "1": "2141331",
                                    "2": "65621100"
                                },
                                {
                                    "0": "CES6562110082",
                                    "1": "2141331",
                                    "2": "65621100"
                                },
                                {
                                    "0": "CES6562111157",
                                    "1": "3472162",
                                    "2": "65621111"
                                },
                                {
                                    "0": "CES6562111157",
                                    "1": "3472162",
                                    "2": "65621111"
                                },
                                {
                                    "0": "CES6562111182",
                                    "1": "2113086",
                                    "2": "65621111"
                                },
                                {
                                    "0": "CES6562111182",
                                    "1": "2113086",
                                    "2": "65621111"
                                },
                                {
                                    "0": "CES6562120057",
                                    "1": "842558",
                                    "2": "65621200"
                                },
                                {
                                    "0": "CES6562120057",
                                    "1": "842558",
                                    "2": "65621200"
                                },
                                {
                                    "0": "CES6562140057",
                                    "1": "839455",
                                    "2": "65621400"
                                },
                                {
                                    "0": "CES6562140057",
                                    "1": "839455",
                                    "2": "65621400"
                                },
                                {
                                    "0": "CES6562200057",
                                    "1": "5842779",
                                    "2": "65622000"
                                },
                                {
                                    "0": "CES6562200057",
                                    "1": "5842779",
                                    "2": "65622000"
                                },
                                {
                                    "0": "CES6562200082",
                                    "1": "5048432",
                                    "2": "65622000"
                                },
                                {
                                    "0": "CES6562200082",
                                    "1": "5048432",
                                    "2": "65622000"
                                },
                                {
                                    "0": "CES6562210057",
                                    "1": "5428714",
                                    "2": "65622100"
                                },
                                {
                                    "0": "CES6562210057",
                                    "1": "5428714",
                                    "2": "65622100"
                                },
                                {
                                    "0": "CES6562210082",
                                    "1": "4716914",
                                    "2": "65622100"
                                },
                                {
                                    "0": "CES6562210082",
                                    "1": "4716914",
                                    "2": "65622100"
                                },
                                {
                                    "0": "CES6562300057",
                                    "1": "1941241",
                                    "2": "65623000"
                                },
                                {
                                    "0": "CES6562300057",
                                    "1": "1941241",
                                    "2": "65623000"
                                },
                                {
                                    "0": "CES6562300082",
                                    "1": "1489277",
                                    "2": "65623000"
                                },
                                {
                                    "0": "CES6562300082",
                                    "1": "1489277",
                                    "2": "65623000"
                                },
                                {
                                    "0": "CES6562310057",
                                    "1": "994994",
                                    "2": "65623100"
                                },
                                {
                                    "0": "CES6562310057",
                                    "1": "994994",
                                    "2": "65623100"
                                },
                                {
                                    "0": "CES6562400057",
                                    "1": "1787502",
                                    "2": "65624000"
                                },
                                {
                                    "0": "CES6562400057",
                                    "1": "1787502",
                                    "2": "65624000"
                                },
                                {
                                    "0": "CES6562400082",
                                    "1": "1337022",
                                    "2": "65624000"
                                },
                                {
                                    "0": "CES6562400082",
                                    "1": "1337022",
                                    "2": "65624000"
                                },
                                {
                                    "0": "CES6562410057",
                                    "1": "1095365",
                                    "2": "65624100"
                                },
                                {
                                    "0": "CES6562410057",
                                    "1": "1095365",
                                    "2": "65624100"
                                },
                                {
                                    "0": "CES6562410082",
                                    "1": "828771",
                                    "2": "65624100"
                                },
                                {
                                    "0": "CES6562410082",
                                    "1": "828771",
                                    "2": "65624100"
                                },
                                {
                                    "0": "CES7000000057",
                                    "1": "6232054",
                                    "2": "70000000"
                                },
                                {
                                    "0": "CES7000000057",
                                    "1": "6232054",
                                    "2": "70000000"
                                },
                                {
                                    "0": "CES7000000082",
                                    "1": "4537173",
                                    "2": "70000000"
                                },
                                {
                                    "0": "CES7000000082",
                                    "1": "4537173",
                                    "2": "70000000"
                                },
                                {
                                    "0": "CES7071000057",
                                    "1": "1167355",
                                    "2": "70710000"
                                },
                                {
                                    "0": "CES7071000057",
                                    "1": "1167355",
                                    "2": "70710000"
                                },
                                {
                                    "0": "CES7072000057",
                                    "1": "5078737",
                                    "2": "70720000"
                                },
                                {
                                    "0": "CES7072000057",
                                    "1": "5078737",
                                    "2": "70720000"
                                },
                                {
                                    "0": "CES7072000082",
                                    "1": "3802356",
                                    "2": "70720000"
                                },
                                {
                                    "0": "CES7072000082",
                                    "1": "3802356",
                                    "2": "70720000"
                                },
                                {
                                    "0": "CES7072100057",
                                    "1": "1008168",
                                    "2": "70721000"
                                },
                                {
                                    "0": "CES7072100057",
                                    "1": "1008168",
                                    "2": "70721000"
                                },
                                {
                                    "0": "CES7072110057",
                                    "1": "980738",
                                    "2": "70721100"
                                },
                                {
                                    "0": "CES7072110057",
                                    "1": "980738",
                                    "2": "70721100"
                                },
                                {
                                    "0": "CES7072200057",
                                    "1": "4058595",
                                    "2": "70722000"
                                },
                                {
                                    "0": "CES7072200057",
                                    "1": "4058595",
                                    "2": "70722000"
                                },
                                {
                                    "0": "CES7072200082",
                                    "1": "3085429",
                                    "2": "70722000"
                                },
                                {
                                    "0": "CES7072200082",
                                    "1": "3085429",
                                    "2": "70722000"
                                },
                                {
                                    "0": "CES7072250057",
                                    "1": "3617277",
                                    "2": "70722500"
                                },
                                {
                                    "0": "CES7072250057",
                                    "1": "3617277",
                                    "2": "70722500"
                                },
                                {
                                    "0": "CES7072250082",
                                    "1": "2768855",
                                    "2": "70722500"
                                },
                                {
                                    "0": "CES7072250082",
                                    "1": "2768855",
                                    "2": "70722500"
                                },
                                {
                                    "0": "CES7072251157",
                                    "1": "2105534",
                                    "2": "70722511"
                                },
                                {
                                    "0": "CES7072251157",
                                    "1": "2105534",
                                    "2": "70722511"
                                },
                                {
                                    "0": "CES7072251182",
                                    "1": "1626780",
                                    "2": "70722511"
                                },
                                {
                                    "0": "CES7072251182",
                                    "1": "1626780",
                                    "2": "70722511"
                                },
                                {
                                    "0": "CES7072251357",
                                    "1": "1281353",
                                    "2": "70722513"
                                },
                                {
                                    "0": "CES7072251357",
                                    "1": "1281353",
                                    "2": "70722513"
                                },
                                {
                                    "0": "CES7072251382",
                                    "1": "969748",
                                    "2": "70722513"
                                },
                                {
                                    "0": "CES7072251382",
                                    "1": "969748",
                                    "2": "70722513"
                                },
                                {
                                    "0": "CES8000000057",
                                    "1": "4263141",
                                    "2": "80000000"
                                },
                                {
                                    "0": "CES8000000057",
                                    "1": "4263141",
                                    "2": "80000000"
                                },
                                {
                                    "0": "CES8000000082",
                                    "1": "2875314",
                                    "2": "80000000"
                                },
                                {
                                    "0": "CES8000000082",
                                    "1": "2875314",
                                    "2": "80000000"
                                },
                                {
                                    "0": "CES8081100057",
                                    "1": "1051091",
                                    "2": "80811000"
                                },
                                {
                                    "0": "CES8081100057",
                                    "1": "1051091",
                                    "2": "80811000"
                                },
                                {
                                    "0": "CES8081300057",
                                    "1": "2494120",
                                    "2": "80813000"
                                },
                                {
                                    "0": "CES8081300057",
                                    "1": "2494120",
                                    "2": "80813000"
                                },
                                {
                                    "0": "CES8081300082",
                                    "1": "1599916",
                                    "2": "80813000"
                                },
                                {
                                    "0": "CES8081300082",
                                    "1": "1599916",
                                    "2": "80813000"
                                },
                                {
                                    "0": "CEU0500000056",
                                    "1": "4165978",
                                    "2": "05000000"
                                },
                                {
                                    "0": "CEU0500000056",
                                    "1": "4165978",
                                    "2": "05000000"
                                },
                                {
                                    "0": "CEU0500000057",
                                    "1": "109731861",
                                    "2": "05000000"
                                },
                                {
                                    "0": "CEU0500000057",
                                    "1": "109731861",
                                    "2": "05000000"
                                },
                                {
                                    "0": "CEU0500000081",
                                    "1": "3335193",
                                    "2": "05000000"
                                },
                                {
                                    "0": "CEU0500000081",
                                    "1": "3335193",
                                    "2": "05000000"
                                },
                                {
                                    "0": "CEU0500000082",
                                    "1": "73474302",
                                    "2": "05000000"
                                },
                                {
                                    "0": "CEU0500000082",
                                    "1": "73474302",
                                    "2": "05000000"
                                },
                                {
                                    "0": "CEU0600000057",
                                    "1": "21113749",
                                    "2": "06000000"
                                },
                                {
                                    "0": "CEU0600000057",
                                    "1": "21113749",
                                    "2": "06000000"
                                },
                                {
                                    "0": "CEU0600000082",
                                    "1": "12711945",
                                    "2": "06000000"
                                },
                                {
                                    "0": "CEU0600000082",
                                    "1": "12711945",
                                    "2": "06000000"
                                },
                                {
                                    "0": "CEU0800000056",
                                    "1": "3388741",
                                    "2": "08000000"
                                },
                                {
                                    "0": "CEU0800000056",
                                    "1": "3388741",
                                    "2": "08000000"
                                },
                                {
                                    "0": "CEU0800000057",
                                    "1": "88446140",
                                    "2": "08000000"
                                },
                                {
                                    "0": "CEU0800000057",
                                    "1": "88446140",
                                    "2": "08000000"
                                },
                                {
                                    "0": "CEU0800000081",
                                    "1": "2777879",
                                    "2": "08000000"
                                },
                                {
                                    "0": "CEU0800000081",
                                    "1": "2777879",
                                    "2": "08000000"
                                },
                                {
                                    "0": "CEU0800000082",
                                    "1": "60807771",
                                    "2": "08000000"
                                },
                                {
                                    "0": "CEU0800000082",
                                    "1": "60807771",
                                    "2": "08000000"
                                },
                                {
                                    "0": "CEU1000000057",
                                    "1": "973773",
                                    "2": "10000000"
                                },
                                {
                                    "0": "CEU1000000057",
                                    "1": "973773",
                                    "2": "10000000"
                                },
                                {
                                    "0": "CEU1021000057",
                                    "1": "932874",
                                    "2": "10210000"
                                },
                                {
                                    "0": "CEU1021000057",
                                    "1": "932874",
                                    "2": "10210000"
                                },
                                {
                                    "0": "CEU2000000057",
                                    "1": "6925429",
                                    "2": "20000000"
                                },
                                {
                                    "0": "CEU2000000057",
                                    "1": "6925429",
                                    "2": "20000000"
                                },
                                {
                                    "0": "CEU2000000082",
                                    "1": "4724156",
                                    "2": "20000000"
                                },
                                {
                                    "0": "CEU2000000082",
                                    "1": "4724156",
                                    "2": "20000000"
                                },
                                {
                                    "0": "CEU2023600057",
                                    "1": "1692237",
                                    "2": "20236000"
                                },
                                {
                                    "0": "CEU2023600057",
                                    "1": "1692237",
                                    "2": "20236000"
                                },
                                {
                                    "0": "CEU2023600082",
                                    "1": "940800",
                                    "2": "20236000"
                                },
                                {
                                    "0": "CEU2023600082",
                                    "1": "940800",
                                    "2": "20236000"
                                },
                                {
                                    "0": "CEU2023620057",
                                    "1": "953792",
                                    "2": "20236200"
                                },
                                {
                                    "0": "CEU2023620057",
                                    "1": "953792",
                                    "2": "20236200"
                                },
                                {
                                    "0": "CEU2023700057",
                                    "1": "1023452",
                                    "2": "20237000"
                                },
                                {
                                    "0": "CEU2023700057",
                                    "1": "1023452",
                                    "2": "20237000"
                                },
                                {
                                    "0": "CEU2023800057",
                                    "1": "4210973",
                                    "2": "20238000"
                                },
                                {
                                    "0": "CEU2023800057",
                                    "1": "4210973",
                                    "2": "20238000"
                                },
                                {
                                    "0": "CEU2023800082",
                                    "1": "3062211",
                                    "2": "20238000"
                                },
                                {
                                    "0": "CEU2023800082",
                                    "1": "3062211",
                                    "2": "20238000"
                                },
                                {
                                    "0": "CEU2023820057",
                                    "1": "2238858",
                                    "2": "20238200"
                                },
                                {
                                    "0": "CEU2023820057",
                                    "1": "2238858",
                                    "2": "20238200"
                                },
                                {
                                    "0": "CEU2023820082",
                                    "1": "1621266",
                                    "2": "20238200"
                                },
                                {
                                    "0": "CEU2023820082",
                                    "1": "1621266",
                                    "2": "20238200"
                                },
                                {
                                    "0": "CEU2023821057",
                                    "1": "988806",
                                    "2": "20238210"
                                },
                                {
                                    "0": "CEU2023821057",
                                    "1": "988806",
                                    "2": "20238210"
                                },
                                {
                                    "0": "CEU2023822057",
                                    "1": "1082068",
                                    "2": "20238220"
                                },
                                {
                                    "0": "CEU2023822057",
                                    "1": "1082068",
                                    "2": "20238220"
                                },
                                {
                                    "0": "CEU3000000057",
                                    "1": "13241229",
                                    "2": "30000000"
                                },
                                {
                                    "0": "CEU3000000057",
                                    "1": "13241229",
                                    "2": "30000000"
                                },
                                {
                                    "0": "CEU3000000082",
                                    "1": "7411960",
                                    "2": "30000000"
                                },
                                {
                                    "0": "CEU3000000082",
                                    "1": "7411960",
                                    "2": "30000000"
                                },
                                {
                                    "0": "CEU3100000057",
                                    "1": "8758974",
                                    "2": "31000000"
                                },
                                {
                                    "0": "CEU3100000057",
                                    "1": "8758974",
                                    "2": "31000000"
                                },
                                {
                                    "0": "CEU3100000082",
                                    "1": "4808368",
                                    "2": "31000000"
                                },
                                {
                                    "0": "CEU3100000082",
                                    "1": "4808368",
                                    "2": "31000000"
                                },
                                {
                                    "0": "CEU3133200057",
                                    "1": "1417807",
                                    "2": "31332000"
                                },
                                {
                                    "0": "CEU3133200057",
                                    "1": "1417807",
                                    "2": "31332000"
                                },
                                {
                                    "0": "CEU3133200082",
                                    "1": "867242",
                                    "2": "31332000"
                                },
                                {
                                    "0": "CEU3133200082",
                                    "1": "867242",
                                    "2": "31332000"
                                },
                                {
                                    "0": "CEU3133300057",
                                    "1": "1259875",
                                    "2": "31333000"
                                },
                                {
                                    "0": "CEU3133300057",
                                    "1": "1259875",
                                    "2": "31333000"
                                },
                                {
                                    "0": "CEU3133400057",
                                    "1": "1499453",
                                    "2": "31334000"
                                },
                                {
                                    "0": "CEU3133400057",
                                    "1": "1499453",
                                    "2": "31334000"
                                },
                                {
                                    "0": "CEU3133600057",
                                    "1": "2137791",
                                    "2": "31336000"
                                },
                                {
                                    "0": "CEU3133600057",
                                    "1": "2137791",
                                    "2": "31336000"
                                },
                                {
                                    "0": "CEU3133600082",
                                    "1": "1242685",
                                    "2": "31336000"
                                },
                                {
                                    "0": "CEU3133600082",
                                    "1": "1242685",
                                    "2": "31336000"
                                },
                                {
                                    "0": "CEU3133600157",
                                    "1": "1053186",
                                    "2": "31336001"
                                },
                                {
                                    "0": "CEU3133600157",
                                    "1": "1053186",
                                    "2": "31336001"
                                },
                                {
                                    "0": "CEU3133640057",
                                    "1": "872986",
                                    "2": "31336400"
                                },
                                {
                                    "0": "CEU3133640057",
                                    "1": "872986",
                                    "2": "31336400"
                                },
                                {
                                    "0": "CEU3200000057",
                                    "1": "4468396",
                                    "2": "32000000"
                                },
                                {
                                    "0": "CEU3200000057",
                                    "1": "4468396",
                                    "2": "32000000"
                                },
                                {
                                    "0": "CEU3200000082",
                                    "1": "2605069",
                                    "2": "32000000"
                                },
                                {
                                    "0": "CEU3200000082",
                                    "1": "2605069",
                                    "2": "32000000"
                                },
                                {
                                    "0": "CEU3231100057",
                                    "1": "1275631",
                                    "2": "32311000"
                                },
                                {
                                    "0": "CEU3231100057",
                                    "1": "1275631",
                                    "2": "32311000"
                                },
                                {
                                    "0": "CEU3231100082",
                                    "1": "842201",
                                    "2": "32311000"
                                },
                                {
                                    "0": "CEU3231100082",
                                    "1": "842201",
                                    "2": "32311000"
                                },
                                {
                                    "0": "CEU3232500057",
                                    "1": "1086916",
                                    "2": "32325000"
                                },
                                {
                                    "0": "CEU3232500057",
                                    "1": "1086916",
                                    "2": "32325000"
                                },
                                {
                                    "0": "CEU4000000056",
                                    "1": "928918",
                                    "2": "40000000"
                                },
                                {
                                    "0": "CEU4000000056",
                                    "1": "928918",
                                    "2": "40000000"
                                },
                                {
                                    "0": "CEU4000000057",
                                    "1": "21207198",
                                    "2": "40000000"
                                },
                                {
                                    "0": "CEU4000000057",
                                    "1": "21207198",
                                    "2": "40000000"
                                },
                                {
                                    "0": "CEU4000000082",
                                    "1": "14732108",
                                    "2": "40000000"
                                },
                                {
                                    "0": "CEU4000000082",
                                    "1": "14732108",
                                    "2": "40000000"
                                },
                                {
                                    "0": "CEU4142000057",
                                    "1": "6930351",
                                    "2": "41420000"
                                },
                                {
                                    "0": "CEU4142000057",
                                    "1": "6930351",
                                    "2": "41420000"
                                },
                                {
                                    "0": "CEU4142000082",
                                    "1": "4506110",
                                    "2": "41420000"
                                },
                                {
                                    "0": "CEU4142000082",
                                    "1": "4506110",
                                    "2": "41420000"
                                },
                                {
                                    "0": "CEU4142300057",
                                    "1": "3494945",
                                    "2": "41423000"
                                },
                                {
                                    "0": "CEU4142300057",
                                    "1": "3494945",
                                    "2": "41423000"
                                },
                                {
                                    "0": "CEU4142300082",
                                    "1": "2283094",
                                    "2": "41423000"
                                },
                                {
                                    "0": "CEU4142300082",
                                    "1": "2283094",
                                    "2": "41423000"
                                },
                                {
                                    "0": "CEU4142340057",
                                    "1": "949056",
                                    "2": "41423400"
                                },
                                {
                                    "0": "CEU4142340057",
                                    "1": "949056",
                                    "2": "41423400"
                                },
                                {
                                    "0": "CEU4142400057",
                                    "1": "2044132",
                                    "2": "41424000"
                                },
                                {
                                    "0": "CEU4142400057",
                                    "1": "2044132",
                                    "2": "41424000"
                                },
                                {
                                    "0": "CEU4142400082",
                                    "1": "1348136",
                                    "2": "41424000"
                                },
                                {
                                    "0": "CEU4142400082",
                                    "1": "1348136",
                                    "2": "41424000"
                                },
                                {
                                    "0": "CEU4142500057",
                                    "1": "1389263",
                                    "2": "41425000"
                                },
                                {
                                    "0": "CEU4142500057",
                                    "1": "1389263",
                                    "2": "41425000"
                                },
                                {
                                    "0": "CEU4142500082",
                                    "1": "873578",
                                    "2": "41425000"
                                },
                                {
                                    "0": "CEU4142500082",
                                    "1": "873578",
                                    "2": "41425000"
                                },
                                {
                                    "0": "CEU4142512057",
                                    "1": "1347220",
                                    "2": "41425120"
                                },
                                {
                                    "0": "CEU4142512057",
                                    "1": "1347220",
                                    "2": "41425120"
                                },
                                {
                                    "0": "CEU4142512082",
                                    "1": "851551",
                                    "2": "41425120"
                                },
                                {
                                    "0": "CEU4142512082",
                                    "1": "851551",
                                    "2": "41425120"
                                },
                                {
                                    "0": "CEU4200000057",
                                    "1": "8761040",
                                    "2": "42000000"
                                },
                                {
                                    "0": "CEU4200000057",
                                    "1": "8761040",
                                    "2": "42000000"
                                },
                                {
                                    "0": "CEU4200000082",
                                    "1": "6060100",
                                    "2": "42000000"
                                },
                                {
                                    "0": "CEU4200000082",
                                    "1": "6060100",
                                    "2": "42000000"
                                },
                                {
                                    "0": "CEU4244100057",
                                    "1": "1724940",
                                    "2": "42441000"
                                },
                                {
                                    "0": "CEU4244100057",
                                    "1": "1724940",
                                    "2": "42441000"
                                },
                                {
                                    "0": "CEU4244100082",
                                    "1": "1163420",
                                    "2": "42441000"
                                },
                                {
                                    "0": "CEU4244100082",
                                    "1": "1163420",
                                    "2": "42441000"
                                },
                                {
                                    "0": "CEU4244110057",
                                    "1": "1239175",
                                    "2": "42441100"
                                },
                                {
                                    "0": "CEU4244110057",
                                    "1": "1239175",
                                    "2": "42441100"
                                },
                                {
                                    "0": "CEU4244110082",
                                    "1": "831131",
                                    "2": "42441100"
                                },
                                {
                                    "0": "CEU4244110082",
                                    "1": "831131",
                                    "2": "42441100"
                                },
                                {
                                    "0": "CEU4244111057",
                                    "1": "1119385",
                                    "2": "42441110"
                                },
                                {
                                    "0": "CEU4244111057",
                                    "1": "1119385",
                                    "2": "42441110"
                                },
                                {
                                    "0": "CEU4244500057",
                                    "1": "1338097",
                                    "2": "42445000"
                                },
                                {
                                    "0": "CEU4244500057",
                                    "1": "1338097",
                                    "2": "42445000"
                                },
                                {
                                    "0": "CEU4244500082",
                                    "1": "963315",
                                    "2": "42445000"
                                },
                                {
                                    "0": "CEU4244500082",
                                    "1": "963315",
                                    "2": "42445000"
                                },
                                {
                                    "0": "CEU4244510057",
                                    "1": "1168906",
                                    "2": "42445100"
                                },
                                {
                                    "0": "CEU4244510057",
                                    "1": "1168906",
                                    "2": "42445100"
                                },
                                {
                                    "0": "CEU4244510082",
                                    "1": "861224",
                                    "2": "42445100"
                                },
                                {
                                    "0": "CEU4244510082",
                                    "1": "861224",
                                    "2": "42445100"
                                },
                                {
                                    "0": "CEU4244511057",
                                    "1": "1110354",
                                    "2": "42445110"
                                },
                                {
                                    "0": "CEU4244511057",
                                    "1": "1110354",
                                    "2": "42445110"
                                },
                                {
                                    "0": "CEU4245200057",
                                    "1": "1376086",
                                    "2": "42452000"
                                },
                                {
                                    "0": "CEU4245200057",
                                    "1": "1376086",
                                    "2": "42452000"
                                },
                                {
                                    "0": "CEU4245200082",
                                    "1": "1049973",
                                    "2": "42452000"
                                },
                                {
                                    "0": "CEU4245200082",
                                    "1": "1049973",
                                    "2": "42452000"
                                },
                                {
                                    "0": "CEU4300000057",
                                    "1": "4575913",
                                    "2": "43000000"
                                },
                                {
                                    "0": "CEU4300000057",
                                    "1": "4575913",
                                    "2": "43000000"
                                },
                                {
                                    "0": "CEU4300000082",
                                    "1": "3495553",
                                    "2": "43000000"
                                },
                                {
                                    "0": "CEU4300000082",
                                    "1": "3495553",
                                    "2": "43000000"
                                },
                                {
                                    "0": "CEU4348400057",
                                    "1": "1346733",
                                    "2": "43484000"
                                },
                                {
                                    "0": "CEU4348400057",
                                    "1": "1346733",
                                    "2": "43484000"
                                },
                                {
                                    "0": "CEU4348400082",
                                    "1": "1092427",
                                    "2": "43484000"
                                },
                                {
                                    "0": "CEU4348400082",
                                    "1": "1092427",
                                    "2": "43484000"
                                },
                                {
                                    "0": "CEU4348410057",
                                    "1": "952051",
                                    "2": "43484100"
                                },
                                {
                                    "0": "CEU4348410057",
                                    "1": "952051",
                                    "2": "43484100"
                                },
                                {
                                    "0": "CEU4422000057",
                                    "1": "919164",
                                    "2": "44220000"
                                },
                                {
                                    "0": "CEU4422000057",
                                    "1": "919164",
                                    "2": "44220000"
                                },
                                {
                                    "0": "CEU5000000057",
                                    "1": "3839933",
                                    "2": "50000000"
                                },
                                {
                                    "0": "CEU5000000057",
                                    "1": "3839933",
                                    "2": "50000000"
                                },
                                {
                                    "0": "CEU5000000082",
                                    "1": "2434992",
                                    "2": "50000000"
                                },
                                {
                                    "0": "CEU5000000082",
                                    "1": "2434992",
                                    "2": "50000000"
                                },
                                {
                                    "0": "CEU5051100057",
                                    "1": "1227512",
                                    "2": "50511000"
                                },
                                {
                                    "0": "CEU5051100057",
                                    "1": "1227512",
                                    "2": "50511000"
                                },
                                {
                                    "0": "CEU5051120057",
                                    "1": "860100",
                                    "2": "50511200"
                                },
                                {
                                    "0": "CEU5051120057",
                                    "1": "860100",
                                    "2": "50511200"
                                },
                                {
                                    "0": "CEU5051700057",
                                    "1": "1020155",
                                    "2": "50517000"
                                },
                                {
                                    "0": "CEU5051700057",
                                    "1": "1020155",
                                    "2": "50517000"
                                },
                                {
                                    "0": "CEU5500000057",
                                    "1": "10456034",
                                    "2": "55000000"
                                },
                                {
                                    "0": "CEU5500000057",
                                    "1": "10456034",
                                    "2": "55000000"
                                },
                                {
                                    "0": "CEU5500000082",
                                    "1": "6467426",
                                    "2": "55000000"
                                },
                                {
                                    "0": "CEU5500000082",
                                    "1": "6467426",
                                    "2": "55000000"
                                },
                                {
                                    "0": "CEU5552200057",
                                    "1": "3149170",
                                    "2": "55522000"
                                },
                                {
                                    "0": "CEU5552200057",
                                    "1": "3149170",
                                    "2": "55522000"
                                },
                                {
                                    "0": "CEU5552200082",
                                    "1": "1767137",
                                    "2": "55522000"
                                },
                                {
                                    "0": "CEU5552200082",
                                    "1": "1767137",
                                    "2": "55522000"
                                },
                                {
                                    "0": "CEU5552210057",
                                    "1": "1979117",
                                    "2": "55522100"
                                },
                                {
                                    "0": "CEU5552210057",
                                    "1": "1979117",
                                    "2": "55522100"
                                },
                                {
                                    "0": "CEU5552210082",
                                    "1": "1004069",
                                    "2": "55522100"
                                },
                                {
                                    "0": "CEU5552210082",
                                    "1": "1004069",
                                    "2": "55522100"
                                },
                                {
                                    "0": "CEU5552211057",
                                    "1": "1575662",
                                    "2": "55522110"
                                },
                                {
                                    "0": "CEU5552211057",
                                    "1": "1575662",
                                    "2": "55522110"
                                },
                                {
                                    "0": "CEU5552300057",
                                    "1": "1818312",
                                    "2": "55523000"
                                },
                                {
                                    "0": "CEU5552300057",
                                    "1": "1818312",
                                    "2": "55523000"
                                },
                                {
                                    "0": "CEU5552300082",
                                    "1": "1087325",
                                    "2": "55523000"
                                },
                                {
                                    "0": "CEU5552300082",
                                    "1": "1087325",
                                    "2": "55523000"
                                },
                                {
                                    "0": "CEU5552320057",
                                    "1": "882519",
                                    "2": "55523200"
                                },
                                {
                                    "0": "CEU5552320057",
                                    "1": "882519",
                                    "2": "55523200"
                                },
                                {
                                    "0": "CEU5552390057",
                                    "1": "937922",
                                    "2": "55523900"
                                },
                                {
                                    "0": "CEU5552390057",
                                    "1": "937922",
                                    "2": "55523900"
                                },
                                {
                                    "0": "CEU5552400057",
                                    "1": "3532152",
                                    "2": "55524000"
                                },
                                {
                                    "0": "CEU5552400057",
                                    "1": "3532152",
                                    "2": "55524000"
                                },
                                {
                                    "0": "CEU5552400082",
                                    "1": "2408490",
                                    "2": "55524000"
                                },
                                {
                                    "0": "CEU5552400082",
                                    "1": "2408490",
                                    "2": "55524000"
                                },
                                {
                                    "0": "CEU5552410057",
                                    "1": "2215577",
                                    "2": "55524100"
                                },
                                {
                                    "0": "CEU5552410057",
                                    "1": "2215577",
                                    "2": "55524100"
                                },
                                {
                                    "0": "CEU5552410082",
                                    "1": "1509979",
                                    "2": "55524100"
                                },
                                {
                                    "0": "CEU5552410082",
                                    "1": "1509979",
                                    "2": "55524100"
                                },
                                {
                                    "0": "CEU5552411057",
                                    "1": "1216763",
                                    "2": "55524110"
                                },
                                {
                                    "0": "CEU5552411057",
                                    "1": "1216763",
                                    "2": "55524110"
                                },
                                {
                                    "0": "CEU5552412057",
                                    "1": "941433",
                                    "2": "55524120"
                                },
                                {
                                    "0": "CEU5552412057",
                                    "1": "941433",
                                    "2": "55524120"
                                },
                                {
                                    "0": "CEU5552420057",
                                    "1": "1315375",
                                    "2": "55524200"
                                },
                                {
                                    "0": "CEU5552420057",
                                    "1": "1315375",
                                    "2": "55524200"
                                },
                                {
                                    "0": "CEU5552420082",
                                    "1": "894878",
                                    "2": "55524200"
                                },
                                {
                                    "0": "CEU5552420082",
                                    "1": "894878",
                                    "2": "55524200"
                                },
                                {
                                    "0": "CEU5552421057",
                                    "1": "878065",
                                    "2": "55524210"
                                },
                                {
                                    "0": "CEU5552421057",
                                    "1": "878065",
                                    "2": "55524210"
                                },
                                {
                                    "0": "CEU5553100057",
                                    "1": "1418712",
                                    "2": "55531000"
                                },
                                {
                                    "0": "CEU5553100057",
                                    "1": "1418712",
                                    "2": "55531000"
                                },
                                {
                                    "0": "CEU5553100082",
                                    "1": "865620",
                                    "2": "55531000"
                                },
                                {
                                    "0": "CEU5553100082",
                                    "1": "865620",
                                    "2": "55531000"
                                },
                                {
                                    "0": "CEU6000000057",
                                    "1": "23230608",
                                    "2": "60000000"
                                },
                                {
                                    "0": "CEU6000000057",
                                    "1": "23230608",
                                    "2": "60000000"
                                },
                                {
                                    "0": "CEU6000000082",
                                    "1": "15219807",
                                    "2": "60000000"
                                },
                                {
                                    "0": "CEU6000000082",
                                    "1": "15219807",
                                    "2": "60000000"
                                },
                                {
                                    "0": "CEU6054000057",
                                    "1": "13718735",
                                    "2": "60540000"
                                },
                                {
                                    "0": "CEU6054000057",
                                    "1": "13718735",
                                    "2": "60540000"
                                },
                                {
                                    "0": "CEU6054000082",
                                    "1": "8976687",
                                    "2": "60540000"
                                },
                                {
                                    "0": "CEU6054000082",
                                    "1": "8976687",
                                    "2": "60540000"
                                },
                                {
                                    "0": "CEU6054110057",
                                    "1": "1722541",
                                    "2": "60541100"
                                },
                                {
                                    "0": "CEU6054110057",
                                    "1": "1722541",
                                    "2": "60541100"
                                },
                                {
                                    "0": "CEU6054110082",
                                    "1": "1093898",
                                    "2": "60541100"
                                },
                                {
                                    "0": "CEU6054110082",
                                    "1": "1093898",
                                    "2": "60541100"
                                },
                                {
                                    "0": "CEU6054111057",
                                    "1": "1641024",
                                    "2": "60541110"
                                },
                                {
                                    "0": "CEU6054111057",
                                    "1": "1641024",
                                    "2": "60541110"
                                },
                                {
                                    "0": "CEU6054111082",
                                    "1": "1038464",
                                    "2": "60541110"
                                },
                                {
                                    "0": "CEU6054111082",
                                    "1": "1038464",
                                    "2": "60541110"
                                },
                                {
                                    "0": "CEU6054120057",
                                    "1": "1202203",
                                    "2": "60541200"
                                },
                                {
                                    "0": "CEU6054120057",
                                    "1": "1202203",
                                    "2": "60541200"
                                },
                                {
                                    "0": "CEU6054130057",
                                    "1": "2146385",
                                    "2": "60541300"
                                },
                                {
                                    "0": "CEU6054130057",
                                    "1": "2146385",
                                    "2": "60541300"
                                },
                                {
                                    "0": "CEU6054130082",
                                    "1": "1422967",
                                    "2": "60541300"
                                },
                                {
                                    "0": "CEU6054130082",
                                    "1": "1422967",
                                    "2": "60541300"
                                },
                                {
                                    "0": "CEU6054134057",
                                    "1": "1537888",
                                    "2": "60541340"
                                },
                                {
                                    "0": "CEU6054134057",
                                    "1": "1537888",
                                    "2": "60541340"
                                },
                                {
                                    "0": "CEU6054134082",
                                    "1": "1042223",
                                    "2": "60541340"
                                },
                                {
                                    "0": "CEU6054134082",
                                    "1": "1042223",
                                    "2": "60541340"
                                },
                                {
                                    "0": "CEU6054150057",
                                    "1": "3676138",
                                    "2": "60541500"
                                },
                                {
                                    "0": "CEU6054150057",
                                    "1": "3676138",
                                    "2": "60541500"
                                },
                                {
                                    "0": "CEU6054150082",
                                    "1": "2725031",
                                    "2": "60541500"
                                },
                                {
                                    "0": "CEU6054150082",
                                    "1": "2725031",
                                    "2": "60541500"
                                },
                                {
                                    "0": "CEU6054151157",
                                    "1": "1639255",
                                    "2": "60541511"
                                },
                                {
                                    "0": "CEU6054151157",
                                    "1": "1639255",
                                    "2": "60541511"
                                },
                                {
                                    "0": "CEU6054151182",
                                    "1": "1198283",
                                    "2": "60541511"
                                },
                                {
                                    "0": "CEU6054151182",
                                    "1": "1198283",
                                    "2": "60541511"
                                },
                                {
                                    "0": "CEU6054151257",
                                    "1": "1738428",
                                    "2": "60541512"
                                },
                                {
                                    "0": "CEU6054151257",
                                    "1": "1738428",
                                    "2": "60541512"
                                },
                                {
                                    "0": "CEU6054151282",
                                    "1": "1309441",
                                    "2": "60541512"
                                },
                                {
                                    "0": "CEU6054151282",
                                    "1": "1309441",
                                    "2": "60541512"
                                },
                                {
                                    "0": "CEU6054160057",
                                    "1": "2123095",
                                    "2": "60541600"
                                },
                                {
                                    "0": "CEU6054160057",
                                    "1": "2123095",
                                    "2": "60541600"
                                },
                                {
                                    "0": "CEU6054160082",
                                    "1": "1336594",
                                    "2": "60541600"
                                },
                                {
                                    "0": "CEU6054160082",
                                    "1": "1336594",
                                    "2": "60541600"
                                },
                                {
                                    "0": "CEU6054161057",
                                    "1": "1755386",
                                    "2": "60541610"
                                },
                                {
                                    "0": "CEU6054161057",
                                    "1": "1755386",
                                    "2": "60541610"
                                },
                                {
                                    "0": "CEU6054161082",
                                    "1": "1066602",
                                    "2": "60541610"
                                },
                                {
                                    "0": "CEU6054161082",
                                    "1": "1066602",
                                    "2": "60541610"
                                },
                                {
                                    "0": "CEU6054161157",
                                    "1": "981156",
                                    "2": "60541611"
                                },
                                {
                                    "0": "CEU6054161157",
                                    "1": "981156",
                                    "2": "60541611"
                                },
                                {
                                    "0": "CEU6054170057",
                                    "1": "1283264",
                                    "2": "60541700"
                                },
                                {
                                    "0": "CEU6054170057",
                                    "1": "1283264",
                                    "2": "60541700"
                                },
                                {
                                    "0": "CEU6054171057",
                                    "1": "1207983",
                                    "2": "60541710"
                                },
                                {
                                    "0": "CEU6054171057",
                                    "1": "1207983",
                                    "2": "60541710"
                                },
                                {
                                    "0": "CEU6054171257",
                                    "1": "874882",
                                    "2": "60541712"
                                },
                                {
                                    "0": "CEU6054171257",
                                    "1": "874882",
                                    "2": "60541712"
                                },
                                {
                                    "0": "CEU6055000057",
                                    "1": "3491614",
                                    "2": "60550000"
                                },
                                {
                                    "0": "CEU6055000057",
                                    "1": "3491614",
                                    "2": "60550000"
                                },
                                {
                                    "0": "CEU6055000082",
                                    "1": "1587677",
                                    "2": "60550000"
                                },
                                {
                                    "0": "CEU6055000082",
                                    "1": "1587677",
                                    "2": "60550000"
                                },
                                {
                                    "0": "CEU6055111457",
                                    "1": "3329401",
                                    "2": "60551114"
                                },
                                {
                                    "0": "CEU6055111457",
                                    "1": "3329401",
                                    "2": "60551114"
                                },
                                {
                                    "0": "CEU6055111482",
                                    "1": "1517287",
                                    "2": "60551114"
                                },
                                {
                                    "0": "CEU6055111482",
                                    "1": "1517287",
                                    "2": "60551114"
                                },
                                {
                                    "0": "CEU6056000057",
                                    "1": "6040399",
                                    "2": "60560000"
                                },
                                {
                                    "0": "CEU6056000057",
                                    "1": "6040399",
                                    "2": "60560000"
                                },
                                {
                                    "0": "CEU6056000082",
                                    "1": "4659531",
                                    "2": "60560000"
                                },
                                {
                                    "0": "CEU6056000082",
                                    "1": "4659531",
                                    "2": "60560000"
                                },
                                {
                                    "0": "CEU6056100057",
                                    "1": "5597836",
                                    "2": "60561000"
                                },
                                {
                                    "0": "CEU6056100057",
                                    "1": "5597836",
                                    "2": "60561000"
                                },
                                {
                                    "0": "CEU6056100082",
                                    "1": "4357866",
                                    "2": "60561000"
                                },
                                {
                                    "0": "CEU6056100082",
                                    "1": "4357866",
                                    "2": "60561000"
                                },
                                {
                                    "0": "CEU6056130057",
                                    "1": "2167910",
                                    "2": "60561300"
                                },
                                {
                                    "0": "CEU6056130057",
                                    "1": "2167910",
                                    "2": "60561300"
                                },
                                {
                                    "0": "CEU6056130082",
                                    "1": "1938059",
                                    "2": "60561300"
                                },
                                {
                                    "0": "CEU6056130082",
                                    "1": "1938059",
                                    "2": "60561300"
                                },
                                {
                                    "0": "CEU6056132057",
                                    "1": "1650527",
                                    "2": "60561320"
                                },
                                {
                                    "0": "CEU6056132057",
                                    "1": "1650527",
                                    "2": "60561320"
                                },
                                {
                                    "0": "CEU6056132082",
                                    "1": "1530782",
                                    "2": "60561320"
                                },
                                {
                                    "0": "CEU6056132082",
                                    "1": "1530782",
                                    "2": "60561320"
                                },
                                {
                                    "0": "CEU6056170057",
                                    "1": "999862",
                                    "2": "60561700"
                                },
                                {
                                    "0": "CEU6056170057",
                                    "1": "999862",
                                    "2": "60561700"
                                },
                                {
                                    "0": "CEU6500000057",
                                    "1": "19616812",
                                    "2": "65000000"
                                },
                                {
                                    "0": "CEU6500000057",
                                    "1": "19616812",
                                    "2": "65000000"
                                },
                                {
                                    "0": "CEU6500000082",
                                    "1": "14816074",
                                    "2": "65000000"
                                },
                                {
                                    "0": "CEU6500000082",
                                    "1": "14816074",
                                    "2": "65000000"
                                },
                                {
                                    "0": "CEU6562000057",
                                    "1": "16893809",
                                    "2": "65620000"
                                },
                                {
                                    "0": "CEU6562000057",
                                    "1": "16893809",
                                    "2": "65620000"
                                },
                                {
                                    "0": "CEU6562000082",
                                    "1": "12878462",
                                    "2": "65620000"
                                },
                                {
                                    "0": "CEU6562000082",
                                    "1": "12878462",
                                    "2": "65620000"
                                },
                                {
                                    "0": "CEU6562000157",
                                    "1": "15094574",
                                    "2": "65620001"
                                },
                                {
                                    "0": "CEU6562000157",
                                    "1": "15094574",
                                    "2": "65620001"
                                },
                                {
                                    "0": "CEU6562000182",
                                    "1": "11537267",
                                    "2": "65620001"
                                },
                                {
                                    "0": "CEU6562000182",
                                    "1": "11537267",
                                    "2": "65620001"
                                },
                                {
                                    "0": "CEU6562100057",
                                    "1": "7203262",
                                    "2": "65621000"
                                },
                                {
                                    "0": "CEU6562100057",
                                    "1": "7203262",
                                    "2": "65621000"
                                },
                                {
                                    "0": "CEU6562100082",
                                    "1": "4907269",
                                    "2": "65621000"
                                },
                                {
                                    "0": "CEU6562100082",
                                    "1": "4907269",
                                    "2": "65621000"
                                },
                                {
                                    "0": "CEU6562110057",
                                    "1": "3513888",
                                    "2": "65621100"
                                },
                                {
                                    "0": "CEU6562110057",
                                    "1": "3513888",
                                    "2": "65621100"
                                },
                                {
                                    "0": "CEU6562110082",
                                    "1": "2149121",
                                    "2": "65621100"
                                },
                                {
                                    "0": "CEU6562110082",
                                    "1": "2149121",
                                    "2": "65621100"
                                },
                                {
                                    "0": "CEU6562111157",
                                    "1": "3465699",
                                    "2": "65621111"
                                },
                                {
                                    "0": "CEU6562111157",
                                    "1": "3465699",
                                    "2": "65621111"
                                },
                                {
                                    "0": "CEU6562111182",
                                    "1": "2121845",
                                    "2": "65621111"
                                },
                                {
                                    "0": "CEU6562111182",
                                    "1": "2121845",
                                    "2": "65621111"
                                },
                                {
                                    "0": "CEU6562120057",
                                    "1": "847345",
                                    "2": "65621200"
                                },
                                {
                                    "0": "CEU6562120057",
                                    "1": "847345",
                                    "2": "65621200"
                                },
                                {
                                    "0": "CEU6562140057",
                                    "1": "848281",
                                    "2": "65621400"
                                },
                                {
                                    "0": "CEU6562140057",
                                    "1": "848281",
                                    "2": "65621400"
                                },
                                {
                                    "0": "CEU6562200057",
                                    "1": "5923747",
                                    "2": "65622000"
                                },
                                {
                                    "0": "CEU6562200057",
                                    "1": "5923747",
                                    "2": "65622000"
                                },
                                {
                                    "0": "CEU6562200082",
                                    "1": "5105336",
                                    "2": "65622000"
                                },
                                {
                                    "0": "CEU6562200082",
                                    "1": "5105336",
                                    "2": "65622000"
                                },
                                {
                                    "0": "CEU6562210057",
                                    "1": "5505844",
                                    "2": "65622100"
                                },
                                {
                                    "0": "CEU6562210057",
                                    "1": "5505844",
                                    "2": "65622100"
                                },
                                {
                                    "0": "CEU6562210082",
                                    "1": "4773547",
                                    "2": "65622100"
                                },
                                {
                                    "0": "CEU6562210082",
                                    "1": "4773547",
                                    "2": "65622100"
                                },
                                {
                                    "0": "CEU6562300057",
                                    "1": "1981669",
                                    "2": "65623000"
                                },
                                {
                                    "0": "CEU6562300057",
                                    "1": "1981669",
                                    "2": "65623000"
                                },
                                {
                                    "0": "CEU6562300082",
                                    "1": "1525889",
                                    "2": "65623000"
                                },
                                {
                                    "0": "CEU6562300082",
                                    "1": "1525889",
                                    "2": "65623000"
                                },
                                {
                                    "0": "CEU6562310057",
                                    "1": "1017723",
                                    "2": "65623100"
                                },
                                {
                                    "0": "CEU6562310057",
                                    "1": "1017723",
                                    "2": "65623100"
                                },
                                {
                                    "0": "CEU6562400057",
                                    "1": "1811418",
                                    "2": "65624000"
                                },
                                {
                                    "0": "CEU6562400057",
                                    "1": "1811418",
                                    "2": "65624000"
                                },
                                {
                                    "0": "CEU6562400082",
                                    "1": "1357629",
                                    "2": "65624000"
                                },
                                {
                                    "0": "CEU6562400082",
                                    "1": "1357629",
                                    "2": "65624000"
                                },
                                {
                                    "0": "CEU6562410057",
                                    "1": "1105190",
                                    "2": "65624100"
                                },
                                {
                                    "0": "CEU6562410057",
                                    "1": "1105190",
                                    "2": "65624100"
                                },
                                {
                                    "0": "CEU6562410082",
                                    "1": "838886",
                                    "2": "65624100"
                                },
                                {
                                    "0": "CEU6562410082",
                                    "1": "838886",
                                    "2": "65624100"
                                },
                                {
                                    "0": "CEU7000000057",
                                    "1": "5920672",
                                    "2": "70000000"
                                },
                                {
                                    "0": "CEU7000000057",
                                    "1": "5920672",
                                    "2": "70000000"
                                },
                                {
                                    "0": "CEU7000000082",
                                    "1": "4224098",
                                    "2": "70000000"
                                },
                                {
                                    "0": "CEU7000000082",
                                    "1": "4224098",
                                    "2": "70000000"
                                },
                                {
                                    "0": "CEU7071000057",
                                    "1": "1074458",
                                    "2": "70710000"
                                },
                                {
                                    "0": "CEU7071000057",
                                    "1": "1074458",
                                    "2": "70710000"
                                },
                                {
                                    "0": "CEU7072000057",
                                    "1": "4847577",
                                    "2": "70720000"
                                },
                                {
                                    "0": "CEU7072000057",
                                    "1": "4847577",
                                    "2": "70720000"
                                },
                                {
                                    "0": "CEU7072000082",
                                    "1": "3572648",
                                    "2": "70720000"
                                },
                                {
                                    "0": "CEU7072000082",
                                    "1": "3572648",
                                    "2": "70720000"
                                },
                                {
                                    "0": "CEU7072100057",
                                    "1": "958129",
                                    "2": "70721000"
                                },
                                {
                                    "0": "CEU7072100057",
                                    "1": "958129",
                                    "2": "70721000"
                                },
                                {
                                    "0": "CEU7072110057",
                                    "1": "938363",
                                    "2": "70721100"
                                },
                                {
                                    "0": "CEU7072110057",
                                    "1": "938363",
                                    "2": "70721100"
                                },
                                {
                                    "0": "CEU7072200057",
                                    "1": "3877793",
                                    "2": "70722000"
                                },
                                {
                                    "0": "CEU7072200057",
                                    "1": "3877793",
                                    "2": "70722000"
                                },
                                {
                                    "0": "CEU7072200082",
                                    "1": "2913295",
                                    "2": "70722000"
                                },
                                {
                                    "0": "CEU7072200082",
                                    "1": "2913295",
                                    "2": "70722000"
                                },
                                {
                                    "0": "CEU7072250057",
                                    "1": "3471778",
                                    "2": "70722500"
                                },
                                {
                                    "0": "CEU7072250057",
                                    "1": "3471778",
                                    "2": "70722500"
                                },
                                {
                                    "0": "CEU7072250082",
                                    "1": "2617225",
                                    "2": "70722500"
                                },
                                {
                                    "0": "CEU7072250082",
                                    "1": "2617225",
                                    "2": "70722500"
                                },
                                {
                                    "0": "CEU7072251157",
                                    "1": "2009900",
                                    "2": "70722511"
                                },
                                {
                                    "0": "CEU7072251157",
                                    "1": "2009900",
                                    "2": "70722511"
                                },
                                {
                                    "0": "CEU7072251182",
                                    "1": "1528888",
                                    "2": "70722511"
                                },
                                {
                                    "0": "CEU7072251182",
                                    "1": "1528888",
                                    "2": "70722511"
                                },
                                {
                                    "0": "CEU7072251357",
                                    "1": "1237183",
                                    "2": "70722513"
                                },
                                {
                                    "0": "CEU7072251357",
                                    "1": "1237183",
                                    "2": "70722513"
                                },
                                {
                                    "0": "CEU7072251382",
                                    "1": "922041",
                                    "2": "70722513"
                                },
                                {
                                    "0": "CEU7072251382",
                                    "1": "922041",
                                    "2": "70722513"
                                },
                                {
                                    "0": "CEU8000000057",
                                    "1": "4254988",
                                    "2": "80000000"
                                },
                                {
                                    "0": "CEU8000000057",
                                    "1": "4254988",
                                    "2": "80000000"
                                },
                                {
                                    "0": "CEU8000000082",
                                    "1": "2836698",
                                    "2": "80000000"
                                },
                                {
                                    "0": "CEU8000000082",
                                    "1": "2836698",
                                    "2": "80000000"
                                },
                                {
                                    "0": "CEU8081100057",
                                    "1": "1038855",
                                    "2": "80811000"
                                },
                                {
                                    "0": "CEU8081100057",
                                    "1": "1038855",
                                    "2": "80811000"
                                },
                                {
                                    "0": "CEU8081300057",
                                    "1": "2507238",
                                    "2": "80813000"
                                },
                                {
                                    "0": "CEU8081300057",
                                    "1": "2507238",
                                    "2": "80813000"
                                },
                                {
                                    "0": "CEU8081300082",
                                    "1": "1594855",
                                    "2": "80813000"
                                },
                                {
                                    "0": "CEU8081300082",
                                    "1": "1594855",
                                    "2": "80813000"
                                }
                            ]
                        },
                        "text/html": "<table><tr><th>series_id</th><th>value</th><th>industry_code</th></tr><tr><td>CES0500000056</td><td>4239112</td><td>05000000</td></tr><tr><td>CES0500000056</td><td>4239112</td><td>05000000</td></tr><tr><td>CES0500000057</td><td>110301694</td><td>05000000</td></tr><tr><td>CES0500000057</td><td>110301694</td><td>05000000</td></tr><tr><td>CES0500000081</td><td>3412651</td><td>05000000</td></tr><tr><td>CES0500000081</td><td>3412651</td><td>05000000</td></tr><tr><td>CES0500000082</td><td>74498171</td><td>05000000</td></tr><tr><td>CES0500000082</td><td>74498171</td><td>05000000</td></tr><tr><td>CES0600000057</td><td>21779094</td><td>06000000</td></tr><tr><td>CES0600000057</td><td>21779094</td><td>06000000</td></tr><tr><td>CES0600000082</td><td>13426820</td><td>06000000</td></tr><tr><td>CES0600000082</td><td>13426820</td><td>06000000</td></tr><tr><td>CES0800000056</td><td>3432382</td><td>08000000</td></tr><tr><td>CES0800000056</td><td>3432382</td><td>08000000</td></tr><tr><td>CES0800000057</td><td>88280865</td><td>08000000</td></tr><tr><td>CES0800000057</td><td>88280865</td><td>08000000</td></tr><tr><td>CES0800000081</td><td>2818821</td><td>08000000</td></tr><tr><td>CES0800000081</td><td>2818821</td><td>08000000</td></tr><tr><td>CES0800000082</td><td>60914722</td><td>08000000</td></tr><tr><td>CES0800000082</td><td>60914722</td><td>08000000</td></tr><tr><td>CES1000000057</td><td>966707</td><td>10000000</td></tr><tr><td>CES1000000057</td><td>966707</td><td>10000000</td></tr><tr><td>CES1021000057</td><td>927250</td><td>10210000</td></tr><tr><td>CES1021000057</td><td>927250</td><td>10210000</td></tr><tr><td>CES2000000057</td><td>7555007</td><td>20000000</td></tr><tr><td>CES2000000057</td><td>7555007</td><td>20000000</td></tr><tr><td>CES2000000082</td><td>5335274</td><td>20000000</td></tr><tr><td>CES2000000082</td><td>5335274</td><td>20000000</td></tr><tr><td>CES2023600057</td><td>1765016</td><td>20236000</td></tr><tr><td>CES2023600057</td><td>1765016</td><td>20236000</td></tr><tr><td>CES2023600082</td><td>1008035</td><td>20236000</td></tr><tr><td>CES2023600082</td><td>1008035</td><td>20236000</td></tr><tr><td>CES2023620057</td><td>990555</td><td>20236200</td></tr><tr><td>CES2023620057</td><td>990555</td><td>20236200</td></tr><tr><td>CES2023700057</td><td>1221764</td><td>20237000</td></tr><tr><td>CES2023700057</td><td>1221764</td><td>20237000</td></tr><tr><td>CES2023700082</td><td>908374</td><td>20237000</td></tr><tr><td>CES2023700082</td><td>908374</td><td>20237000</td></tr><tr><td>CES2023800057</td><td>4595075</td><td>20238000</td></tr><tr><td>CES2023800057</td><td>4595075</td><td>20238000</td></tr><tr><td>CES2023800082</td><td>3421902</td><td>20238000</td></tr><tr><td>CES2023800082</td><td>3421902</td><td>20238000</td></tr><tr><td>CES2023810057</td><td>833625</td><td>20238100</td></tr><tr><td>CES2023810057</td><td>833625</td><td>20238100</td></tr><tr><td>CES2023820057</td><td>2326342</td><td>20238200</td></tr><tr><td>CES2023820057</td><td>2326342</td><td>20238200</td></tr><tr><td>CES2023820082</td><td>1696080</td><td>20238200</td></tr><tr><td>CES2023820082</td><td>1696080</td><td>20238200</td></tr><tr><td>CES2023821057</td><td>1039534</td><td>20238210</td></tr><tr><td>CES2023821057</td><td>1039534</td><td>20238210</td></tr><tr><td>CES2023822057</td><td>1115270</td><td>20238220</td></tr><tr><td>CES2023822057</td><td>1115270</td><td>20238220</td></tr><tr><td>CES3000000057</td><td>13282613</td><td>30000000</td></tr><tr><td>CES3000000057</td><td>13282613</td><td>30000000</td></tr><tr><td>CES3000000082</td><td>7491723</td><td>30000000</td></tr><tr><td>CES3000000082</td><td>7491723</td><td>30000000</td></tr><tr><td>CES3100000057</td><td>8769944</td><td>31000000</td></tr><tr><td>CES3100000057</td><td>8769944</td><td>31000000</td></tr><tr><td>CES3100000082</td><td>4859716</td><td>31000000</td></tr><tr><td>CES3100000082</td><td>4859716</td><td>31000000</td></tr><tr><td>CES3133200057</td><td>1421283</td><td>31332000</td></tr><tr><td>CES3133200057</td><td>1421283</td><td>31332000</td></tr><tr><td>CES3133200082</td><td>871298</td><td>31332000</td></tr><tr><td>CES3133200082</td><td>871298</td><td>31332000</td></tr><tr><td>CES3133300057</td><td>1251217</td><td>31333000</td></tr><tr><td>CES3133300057</td><td>1251217</td><td>31333000</td></tr><tr><td>CES3133400057</td><td>1489440</td><td>31334000</td></tr><tr><td>CES3133400057</td><td>1489440</td><td>31334000</td></tr><tr><td>CES3133600057</td><td>2130760</td><td>31336000</td></tr><tr><td>CES3133600057</td><td>2130760</td><td>31336000</td></tr><tr><td>CES3133600082</td><td>1257764</td><td>31336000</td></tr><tr><td>CES3133600082</td><td>1257764</td><td>31336000</td></tr><tr><td>CES3133600157</td><td>1050677</td><td>31336001</td></tr><tr><td>CES3133600157</td><td>1050677</td><td>31336001</td></tr><tr><td>CES3133640057</td><td>879785</td><td>31336400</td></tr><tr><td>CES3133640057</td><td>879785</td><td>31336400</td></tr><tr><td>CES3200000057</td><td>4496035</td><td>32000000</td></tr><tr><td>CES3200000057</td><td>4496035</td><td>32000000</td></tr><tr><td>CES3200000082</td><td>2633628</td><td>32000000</td></tr><tr><td>CES3200000082</td><td>2633628</td><td>32000000</td></tr><tr><td>CES3231100057</td><td>1293730</td><td>32311000</td></tr><tr><td>CES3231100057</td><td>1293730</td><td>32311000</td></tr><tr><td>CES3231100082</td><td>851406</td><td>32311000</td></tr><tr><td>CES3231100082</td><td>851406</td><td>32311000</td></tr><tr><td>CES3232500057</td><td>1083956</td><td>32325000</td></tr><tr><td>CES3232500057</td><td>1083956</td><td>32325000</td></tr><tr><td>CES4000000056</td><td>939889</td><td>40000000</td></tr><tr><td>CES4000000056</td><td>939889</td><td>40000000</td></tr><tr><td>CES4000000057</td><td>21232093</td><td>40000000</td></tr><tr><td>CES4000000057</td><td>21232093</td><td>40000000</td></tr><tr><td>CES4000000082</td><td>14850661</td><td>40000000</td></tr><tr><td>CES4000000082</td><td>14850661</td><td>40000000</td></tr><tr><td>CES4142000057</td><td>6858602</td><td>41420000</td></tr><tr><td>CES4142000057</td><td>6858602</td><td>41420000</td></tr><tr><td>CES4142000082</td><td>4480134</td><td>41420000</td></tr><tr><td>CES4142000082</td><td>4480134</td><td>41420000</td></tr><tr><td>CES4142300057</td><td>3449034</td><td>41423000</td></tr><tr><td>CES4142300057</td><td>3449034</td><td>41423000</td></tr><tr><td>CES4142300082</td><td>2261006</td><td>41423000</td></tr><tr><td>CES4142300082</td><td>2261006</td><td>41423000</td></tr><tr><td>CES4142340057</td><td>915034</td><td>41423400</td></tr><tr><td>CES4142340057</td><td>915034</td><td>41423400</td></tr><tr><td>CES4142400057</td><td>2042100</td><td>41424000</td></tr><tr><td>CES4142400057</td><td>2042100</td><td>41424000</td></tr><tr><td>CES4142400082</td><td>1367413</td><td>41424000</td></tr><tr><td>CES4142400082</td><td>1367413</td><td>41424000</td></tr><tr><td>CES4142500057</td><td>1359605</td><td>41425000</td></tr><tr><td>CES4142500057</td><td>1359605</td><td>41425000</td></tr><tr><td>CES4142500082</td><td>855291</td><td>41425000</td></tr><tr><td>CES4142500082</td><td>855291</td><td>41425000</td></tr><tr><td>CES4142512057</td><td>1317589</td><td>41425120</td></tr><tr><td>CES4142512057</td><td>1317589</td><td>41425120</td></tr><tr><td>CES4142512082</td><td>831319</td><td>41425120</td></tr><tr><td>CES4142512082</td><td>831319</td><td>41425120</td></tr><tr><td>CES4200000057</td><td>8857570</td><td>42000000</td></tr><tr><td>CES4200000057</td><td>8857570</td><td>42000000</td></tr><tr><td>CES4200000082</td><td>6123554</td><td>42000000</td></tr><tr><td>CES4200000082</td><td>6123554</td><td>42000000</td></tr><tr><td>CES4244100057</td><td>1740340</td><td>42441000</td></tr><tr><td>CES4244100057</td><td>1740340</td><td>42441000</td></tr><tr><td>CES4244100082</td><td>1180297</td><td>42441000</td></tr><tr><td>CES4244100082</td><td>1180297</td><td>42441000</td></tr><tr><td>CES4244110057</td><td>1232818</td><td>42441100</td></tr><tr><td>CES4244110057</td><td>1232818</td><td>42441100</td></tr><tr><td>CES4244110082</td><td>839595</td><td>42441100</td></tr><tr><td>CES4244110082</td><td>839595</td><td>42441100</td></tr><tr><td>CES4244111057</td><td>1110063</td><td>42441110</td></tr><tr><td>CES4244111057</td><td>1110063</td><td>42441110</td></tr><tr><td>CES4244500057</td><td>1352705</td><td>42445000</td></tr><tr><td>CES4244500057</td><td>1352705</td><td>42445000</td></tr><tr><td>CES4244500082</td><td>974710</td><td>42445000</td></tr><tr><td>CES4244500082</td><td>974710</td><td>42445000</td></tr><tr><td>CES4244510057</td><td>1180650</td><td>42445100</td></tr><tr><td>CES4244510057</td><td>1180650</td><td>42445100</td></tr><tr><td>CES4244510082</td><td>868430</td><td>42445100</td></tr><tr><td>CES4244510082</td><td>868430</td><td>42445100</td></tr><tr><td>CES4244511057</td><td>1120814</td><td>42445110</td></tr><tr><td>CES4244511057</td><td>1120814</td><td>42445110</td></tr><tr><td>CES4244511082</td><td>821282</td><td>42445110</td></tr><tr><td>CES4244511082</td><td>821282</td><td>42445110</td></tr><tr><td>CES4245200057</td><td>1437264</td><td>42452000</td></tr><tr><td>CES4245200057</td><td>1437264</td><td>42452000</td></tr><tr><td>CES4245200082</td><td>1065807</td><td>42452000</td></tr><tr><td>CES4245200082</td><td>1065807</td><td>42452000</td></tr><tr><td>CES4300000057</td><td>4588906</td><td>43000000</td></tr><tr><td>CES4300000057</td><td>4588906</td><td>43000000</td></tr><tr><td>CES4300000082</td><td>3538683</td><td>43000000</td></tr><tr><td>CES4300000082</td><td>3538683</td><td>43000000</td></tr><tr><td>CES4348400057</td><td>1392202</td><td>43484000</td></tr><tr><td>CES4348400057</td><td>1392202</td><td>43484000</td></tr><tr><td>CES4348400082</td><td>1131821</td><td>43484000</td></tr><tr><td>CES4348400082</td><td>1131821</td><td>43484000</td></tr><tr><td>CES4348410057</td><td>966602</td><td>43484100</td></tr><tr><td>CES4348410057</td><td>966602</td><td>43484100</td></tr><tr><td>CES4422000057</td><td>920941</td><td>44220000</td></tr><tr><td>CES4422000057</td><td>920941</td><td>44220000</td></tr><tr><td>CES5000000057</td><td>3751205</td><td>50000000</td></tr><tr><td>CES5000000057</td><td>3751205</td><td>50000000</td></tr><tr><td>CES5000000082</td><td>2416443</td><td>50000000</td></tr><tr><td>CES5000000082</td><td>2416443</td><td>50000000</td></tr><tr><td>CES5051100057</td><td>1183283</td><td>50511000</td></tr><tr><td>CES5051100057</td><td>1183283</td><td>50511000</td></tr><tr><td>CES5051700057</td><td>992441</td><td>50517000</td></tr><tr><td>CES5051700057</td><td>992441</td><td>50517000</td></tr><tr><td>CES5500000057</td><td>10213192</td><td>55000000</td></tr><tr><td>CES5500000057</td><td>10213192</td><td>55000000</td></tr><tr><td>CES5500000082</td><td>6328968</td><td>55000000</td></tr><tr><td>CES5500000082</td><td>6328968</td><td>55000000</td></tr><tr><td>CES5552200057</td><td>3075310</td><td>55522000</td></tr><tr><td>CES5552200057</td><td>3075310</td><td>55522000</td></tr><tr><td>CES5552200082</td><td>1717912</td><td>55522000</td></tr><tr><td>CES5552200082</td><td>1717912</td><td>55522000</td></tr><tr><td>CES5552210057</td><td>1921539</td><td>55522100</td></tr><tr><td>CES5552210057</td><td>1921539</td><td>55522100</td></tr><tr><td>CES5552210082</td><td>971796</td><td>55522100</td></tr><tr><td>CES5552210082</td><td>971796</td><td>55522100</td></tr><tr><td>CES5552211057</td><td>1533413</td><td>55522110</td></tr><tr><td>CES5552211057</td><td>1533413</td><td>55522110</td></tr><tr><td>CES5552300057</td><td>1756545</td><td>55523000</td></tr><tr><td>CES5552300057</td><td>1756545</td><td>55523000</td></tr><tr><td>CES5552300082</td><td>1044224</td><td>55523000</td></tr><tr><td>CES5552300082</td><td>1044224</td><td>55523000</td></tr><tr><td>CES5552320057</td><td>852241</td><td>55523200</td></tr><tr><td>CES5552320057</td><td>852241</td><td>55523200</td></tr><tr><td>CES5552390057</td><td>905217</td><td>55523900</td></tr><tr><td>CES5552390057</td><td>905217</td><td>55523900</td></tr><tr><td>CES5552400057</td><td>3411895</td><td>55524000</td></tr><tr><td>CES5552400057</td><td>3411895</td><td>55524000</td></tr><tr><td>CES5552400082</td><td>2347328</td><td>55524000</td></tr><tr><td>CES5552400082</td><td>2347328</td><td>55524000</td></tr><tr><td>CES5552410057</td><td>2130379</td><td>55524100</td></tr><tr><td>CES5552410057</td><td>2130379</td><td>55524100</td></tr><tr><td>CES5552410082</td><td>1477799</td><td>55524100</td></tr><tr><td>CES5552410082</td><td>1477799</td><td>55524100</td></tr><tr><td>CES5552411057</td><td>1169424</td><td>55524110</td></tr><tr><td>CES5552411057</td><td>1169424</td><td>55524110</td></tr><tr><td>CES5552412057</td><td>917557</td><td>55524120</td></tr><tr><td>CES5552412057</td><td>917557</td><td>55524120</td></tr><tr><td>CES5552420057</td><td>1281029</td><td>55524200</td></tr><tr><td>CES5552420057</td><td>1281029</td><td>55524200</td></tr><tr><td>CES5552420082</td><td>872398</td><td>55524200</td></tr><tr><td>CES5552420082</td><td>872398</td><td>55524200</td></tr><tr><td>CES5552421057</td><td>858730</td><td>55524210</td></tr><tr><td>CES5552421057</td><td>858730</td><td>55524210</td></tr><tr><td>CES5553100057</td><td>1417131</td><td>55531000</td></tr><tr><td>CES5553100057</td><td>1417131</td><td>55531000</td></tr><tr><td>CES5553100082</td><td>862987</td><td>55531000</td></tr><tr><td>CES5553100082</td><td>862987</td><td>55531000</td></tr><tr><td>CES6000000057</td><td>23113158</td><td>60000000</td></tr><tr><td>CES6000000057</td><td>23113158</td><td>60000000</td></tr><tr><td>CES6000000082</td><td>15251268</td><td>60000000</td></tr><tr><td>CES6000000082</td><td>15251268</td><td>60000000</td></tr><tr><td>CES6054000057</td><td>13464691</td><td>60540000</td></tr><tr><td>CES6054000057</td><td>13464691</td><td>60540000</td></tr><tr><td>CES6054000082</td><td>8821026</td><td>60540000</td></tr><tr><td>CES6054000082</td><td>8821026</td><td>60540000</td></tr><tr><td>CES6054110057</td><td>1666281</td><td>60541100</td></tr><tr><td>CES6054110057</td><td>1666281</td><td>60541100</td></tr><tr><td>CES6054110082</td><td>1058862</td><td>60541100</td></tr><tr><td>CES6054110082</td><td>1058862</td><td>60541100</td></tr><tr><td>CES6054111057</td><td>1588040</td><td>60541110</td></tr><tr><td>CES6054111057</td><td>1588040</td><td>60541110</td></tr><tr><td>CES6054111082</td><td>1004009</td><td>60541110</td></tr><tr><td>CES6054111082</td><td>1004009</td><td>60541110</td></tr><tr><td>CES6054120057</td><td>1116237</td><td>60541200</td></tr><tr><td>CES6054120057</td><td>1116237</td><td>60541200</td></tr><tr><td>CES6054130057</td><td>2152162</td><td>60541300</td></tr><tr><td>CES6054130057</td><td>2152162</td><td>60541300</td></tr><tr><td>CES6054130082</td><td>1439445</td><td>60541300</td></tr><tr><td>CES6054130082</td><td>1439445</td><td>60541300</td></tr><tr><td>CES6054134057</td><td>1536969</td><td>60541340</td></tr><tr><td>CES6054134057</td><td>1536969</td><td>60541340</td></tr><tr><td>CES6054134082</td><td>1051499</td><td>60541340</td></tr><tr><td>CES6054134082</td><td>1051499</td><td>60541340</td></tr><tr><td>CES6054150057</td><td>3595409</td><td>60541500</td></tr><tr><td>CES6054150057</td><td>3595409</td><td>60541500</td></tr><tr><td>CES6054150082</td><td>2666568</td><td>60541500</td></tr><tr><td>CES6054150082</td><td>2666568</td><td>60541500</td></tr><tr><td>CES6054151157</td><td>1596292</td><td>60541511</td></tr><tr><td>CES6054151157</td><td>1596292</td><td>60541511</td></tr><tr><td>CES6054151182</td><td>1173494</td><td>60541511</td></tr><tr><td>CES6054151182</td><td>1173494</td><td>60541511</td></tr><tr><td>CES6054151257</td><td>1695613</td><td>60541512</td></tr><tr><td>CES6054151257</td><td>1695613</td><td>60541512</td></tr><tr><td>CES6054151282</td><td>1274481</td><td>60541512</td></tr><tr><td>CES6054151282</td><td>1274481</td><td>60541512</td></tr><tr><td>CES6054160057</td><td>2103707</td><td>60541600</td></tr><tr><td>CES6054160057</td><td>2103707</td><td>60541600</td></tr><tr><td>CES6054160082</td><td>1330587</td><td>60541600</td></tr><tr><td>CES6054160082</td><td>1330587</td><td>60541600</td></tr><tr><td>CES6054161057</td><td>1711601</td><td>60541610</td></tr><tr><td>CES6054161057</td><td>1711601</td><td>60541610</td></tr><tr><td>CES6054161082</td><td>1053691</td><td>60541610</td></tr><tr><td>CES6054161082</td><td>1053691</td><td>60541610</td></tr><tr><td>CES6054161157</td><td>955447</td><td>60541611</td></tr><tr><td>CES6054161157</td><td>955447</td><td>60541611</td></tr><tr><td>CES6054170057</td><td>1265137</td><td>60541700</td></tr><tr><td>CES6054170057</td><td>1265137</td><td>60541700</td></tr><tr><td>CES6054171057</td><td>1188296</td><td>60541710</td></tr><tr><td>CES6054171057</td><td>1188296</td><td>60541710</td></tr><tr><td>CES6054171257</td><td>860377</td><td>60541712</td></tr><tr><td>CES6054171257</td><td>860377</td><td>60541712</td></tr><tr><td>CES6055000057</td><td>3428612</td><td>60550000</td></tr><tr><td>CES6055000057</td><td>3428612</td><td>60550000</td></tr><tr><td>CES6055000082</td><td>1566036</td><td>60550000</td></tr><tr><td>CES6055000082</td><td>1566036</td><td>60550000</td></tr><tr><td>CES6055111457</td><td>3270688</td><td>60551114</td></tr><tr><td>CES6055111457</td><td>3270688</td><td>60551114</td></tr><tr><td>CES6055111482</td><td>1496334</td><td>60551114</td></tr><tr><td>CES6055111482</td><td>1496334</td><td>60551114</td></tr><tr><td>CES6056000057</td><td>6272001</td><td>60560000</td></tr><tr><td>CES6056000057</td><td>6272001</td><td>60560000</td></tr><tr><td>CES6056000082</td><td>4886085</td><td>60560000</td></tr><tr><td>CES6056000082</td><td>4886085</td><td>60560000</td></tr><tr><td>CES6056100057</td><td>5838373</td><td>60561000</td></tr><tr><td>CES6056100057</td><td>5838373</td><td>60561000</td></tr><tr><td>CES6056100082</td><td>4565569</td><td>60561000</td></tr><tr><td>CES6056100082</td><td>4565569</td><td>60561000</td></tr><tr><td>CES6056130057</td><td>2255347</td><td>60561300</td></tr><tr><td>CES6056130057</td><td>2255347</td><td>60561300</td></tr><tr><td>CES6056130082</td><td>2013846</td><td>60561300</td></tr><tr><td>CES6056130082</td><td>2013846</td><td>60561300</td></tr><tr><td>CES6056132057</td><td>1723484</td><td>60561320</td></tr><tr><td>CES6056132057</td><td>1723484</td><td>60561320</td></tr><tr><td>CES6056132082</td><td>1598939</td><td>60561320</td></tr><tr><td>CES6056132082</td><td>1598939</td><td>60561320</td></tr><tr><td>CES6056170057</td><td>1150182</td><td>60561700</td></tr><tr><td>CES6056170057</td><td>1150182</td><td>60561700</td></tr><tr><td>CES6056170082</td><td>846000</td><td>60561700</td></tr><tr><td>CES6056170082</td><td>846000</td><td>60561700</td></tr><tr><td>CES6500000057</td><td>19585920</td><td>65000000</td></tr><tr><td>CES6500000057</td><td>19585920</td><td>65000000</td></tr><tr><td>CES6500000082</td><td>14765156</td><td>65000000</td></tr><tr><td>CES6500000082</td><td>14765156</td><td>65000000</td></tr><tr><td>CES6562000057</td><td>16718245</td><td>65620000</td></tr><tr><td>CES6562000057</td><td>16718245</td><td>65620000</td></tr><tr><td>CES6562000082</td><td>12762526</td><td>65620000</td></tr><tr><td>CES6562000082</td><td>12762526</td><td>65620000</td></tr><tr><td>CES6562000157</td><td>14957970</td><td>65620001</td></tr><tr><td>CES6562000157</td><td>14957970</td><td>65620001</td></tr><tr><td>CES6562000182</td><td>11413008</td><td>65620001</td></tr><tr><td>CES6562000182</td><td>11413008</td><td>65620001</td></tr><tr><td>CES6562100057</td><td>7193566</td><td>65621000</td></tr><tr><td>CES6562100057</td><td>7193566</td><td>65621000</td></tr><tr><td>CES6562100082</td><td>4875906</td><td>65621000</td></tr><tr><td>CES6562100082</td><td>4875906</td><td>65621000</td></tr><tr><td>CES6562110057</td><td>3521877</td><td>65621100</td></tr><tr><td>CES6562110057</td><td>3521877</td><td>65621100</td></tr><tr><td>CES6562110082</td><td>2141331</td><td>65621100</td></tr><tr><td>CES6562110082</td><td>2141331</td><td>65621100</td></tr><tr><td>CES6562111157</td><td>3472162</td><td>65621111</td></tr><tr><td>CES6562111157</td><td>3472162</td><td>65621111</td></tr><tr><td>CES6562111182</td><td>2113086</td><td>65621111</td></tr><tr><td>CES6562111182</td><td>2113086</td><td>65621111</td></tr><tr><td>CES6562120057</td><td>842558</td><td>65621200</td></tr><tr><td>CES6562120057</td><td>842558</td><td>65621200</td></tr><tr><td>CES6562140057</td><td>839455</td><td>65621400</td></tr><tr><td>CES6562140057</td><td>839455</td><td>65621400</td></tr><tr><td>CES6562200057</td><td>5842779</td><td>65622000</td></tr><tr><td>CES6562200057</td><td>5842779</td><td>65622000</td></tr><tr><td>CES6562200082</td><td>5048432</td><td>65622000</td></tr><tr><td>CES6562200082</td><td>5048432</td><td>65622000</td></tr><tr><td>CES6562210057</td><td>5428714</td><td>65622100</td></tr><tr><td>CES6562210057</td><td>5428714</td><td>65622100</td></tr><tr><td>CES6562210082</td><td>4716914</td><td>65622100</td></tr><tr><td>CES6562210082</td><td>4716914</td><td>65622100</td></tr><tr><td>CES6562300057</td><td>1941241</td><td>65623000</td></tr><tr><td>CES6562300057</td><td>1941241</td><td>65623000</td></tr><tr><td>CES6562300082</td><td>1489277</td><td>65623000</td></tr><tr><td>CES6562300082</td><td>1489277</td><td>65623000</td></tr><tr><td>CES6562310057</td><td>994994</td><td>65623100</td></tr><tr><td>CES6562310057</td><td>994994</td><td>65623100</td></tr><tr><td>CES6562400057</td><td>1787502</td><td>65624000</td></tr><tr><td>CES6562400057</td><td>1787502</td><td>65624000</td></tr><tr><td>CES6562400082</td><td>1337022</td><td>65624000</td></tr><tr><td>CES6562400082</td><td>1337022</td><td>65624000</td></tr><tr><td>CES6562410057</td><td>1095365</td><td>65624100</td></tr><tr><td>CES6562410057</td><td>1095365</td><td>65624100</td></tr><tr><td>CES6562410082</td><td>828771</td><td>65624100</td></tr><tr><td>CES6562410082</td><td>828771</td><td>65624100</td></tr><tr><td>CES7000000057</td><td>6232054</td><td>70000000</td></tr><tr><td>CES7000000057</td><td>6232054</td><td>70000000</td></tr><tr><td>CES7000000082</td><td>4537173</td><td>70000000</td></tr><tr><td>CES7000000082</td><td>4537173</td><td>70000000</td></tr><tr><td>CES7071000057</td><td>1167355</td><td>70710000</td></tr><tr><td>CES7071000057</td><td>1167355</td><td>70710000</td></tr><tr><td>CES7072000057</td><td>5078737</td><td>70720000</td></tr><tr><td>CES7072000057</td><td>5078737</td><td>70720000</td></tr><tr><td>CES7072000082</td><td>3802356</td><td>70720000</td></tr><tr><td>CES7072000082</td><td>3802356</td><td>70720000</td></tr><tr><td>CES7072100057</td><td>1008168</td><td>70721000</td></tr><tr><td>CES7072100057</td><td>1008168</td><td>70721000</td></tr><tr><td>CES7072110057</td><td>980738</td><td>70721100</td></tr><tr><td>CES7072110057</td><td>980738</td><td>70721100</td></tr><tr><td>CES7072200057</td><td>4058595</td><td>70722000</td></tr><tr><td>CES7072200057</td><td>4058595</td><td>70722000</td></tr><tr><td>CES7072200082</td><td>3085429</td><td>70722000</td></tr><tr><td>CES7072200082</td><td>3085429</td><td>70722000</td></tr><tr><td>CES7072250057</td><td>3617277</td><td>70722500</td></tr><tr><td>CES7072250057</td><td>3617277</td><td>70722500</td></tr><tr><td>CES7072250082</td><td>2768855</td><td>70722500</td></tr><tr><td>CES7072250082</td><td>2768855</td><td>70722500</td></tr><tr><td>CES7072251157</td><td>2105534</td><td>70722511</td></tr><tr><td>CES7072251157</td><td>2105534</td><td>70722511</td></tr><tr><td>CES7072251182</td><td>1626780</td><td>70722511</td></tr><tr><td>CES7072251182</td><td>1626780</td><td>70722511</td></tr><tr><td>CES7072251357</td><td>1281353</td><td>70722513</td></tr><tr><td>CES7072251357</td><td>1281353</td><td>70722513</td></tr><tr><td>CES7072251382</td><td>969748</td><td>70722513</td></tr><tr><td>CES7072251382</td><td>969748</td><td>70722513</td></tr><tr><td>CES8000000057</td><td>4263141</td><td>80000000</td></tr><tr><td>CES8000000057</td><td>4263141</td><td>80000000</td></tr><tr><td>CES8000000082</td><td>2875314</td><td>80000000</td></tr><tr><td>CES8000000082</td><td>2875314</td><td>80000000</td></tr><tr><td>CES8081100057</td><td>1051091</td><td>80811000</td></tr><tr><td>CES8081100057</td><td>1051091</td><td>80811000</td></tr><tr><td>CES8081300057</td><td>2494120</td><td>80813000</td></tr><tr><td>CES8081300057</td><td>2494120</td><td>80813000</td></tr><tr><td>CES8081300082</td><td>1599916</td><td>80813000</td></tr><tr><td>CES8081300082</td><td>1599916</td><td>80813000</td></tr><tr><td>CEU0500000056</td><td>4165978</td><td>05000000</td></tr><tr><td>CEU0500000056</td><td>4165978</td><td>05000000</td></tr><tr><td>CEU0500000057</td><td>109731861</td><td>05000000</td></tr><tr><td>CEU0500000057</td><td>109731861</td><td>05000000</td></tr><tr><td>CEU0500000081</td><td>3335193</td><td>05000000</td></tr><tr><td>CEU0500000081</td><td>3335193</td><td>05000000</td></tr><tr><td>CEU0500000082</td><td>73474302</td><td>05000000</td></tr><tr><td>CEU0500000082</td><td>73474302</td><td>05000000</td></tr><tr><td>CEU0600000057</td><td>21113749</td><td>06000000</td></tr><tr><td>CEU0600000057</td><td>21113749</td><td>06000000</td></tr><tr><td>CEU0600000082</td><td>12711945</td><td>06000000</td></tr><tr><td>CEU0600000082</td><td>12711945</td><td>06000000</td></tr><tr><td>CEU0800000056</td><td>3388741</td><td>08000000</td></tr><tr><td>CEU0800000056</td><td>3388741</td><td>08000000</td></tr><tr><td>CEU0800000057</td><td>88446140</td><td>08000000</td></tr><tr><td>CEU0800000057</td><td>88446140</td><td>08000000</td></tr><tr><td>CEU0800000081</td><td>2777879</td><td>08000000</td></tr><tr><td>CEU0800000081</td><td>2777879</td><td>08000000</td></tr><tr><td>CEU0800000082</td><td>60807771</td><td>08000000</td></tr><tr><td>CEU0800000082</td><td>60807771</td><td>08000000</td></tr><tr><td>CEU1000000057</td><td>973773</td><td>10000000</td></tr><tr><td>CEU1000000057</td><td>973773</td><td>10000000</td></tr><tr><td>CEU1021000057</td><td>932874</td><td>10210000</td></tr><tr><td>CEU1021000057</td><td>932874</td><td>10210000</td></tr><tr><td>CEU2000000057</td><td>6925429</td><td>20000000</td></tr><tr><td>CEU2000000057</td><td>6925429</td><td>20000000</td></tr><tr><td>CEU2000000082</td><td>4724156</td><td>20000000</td></tr><tr><td>CEU2000000082</td><td>4724156</td><td>20000000</td></tr><tr><td>CEU2023600057</td><td>1692237</td><td>20236000</td></tr><tr><td>CEU2023600057</td><td>1692237</td><td>20236000</td></tr><tr><td>CEU2023600082</td><td>940800</td><td>20236000</td></tr><tr><td>CEU2023600082</td><td>940800</td><td>20236000</td></tr><tr><td>CEU2023620057</td><td>953792</td><td>20236200</td></tr><tr><td>CEU2023620057</td><td>953792</td><td>20236200</td></tr><tr><td>CEU2023700057</td><td>1023452</td><td>20237000</td></tr><tr><td>CEU2023700057</td><td>1023452</td><td>20237000</td></tr><tr><td>CEU2023800057</td><td>4210973</td><td>20238000</td></tr><tr><td>CEU2023800057</td><td>4210973</td><td>20238000</td></tr><tr><td>CEU2023800082</td><td>3062211</td><td>20238000</td></tr><tr><td>CEU2023800082</td><td>3062211</td><td>20238000</td></tr><tr><td>CEU2023820057</td><td>2238858</td><td>20238200</td></tr><tr><td>CEU2023820057</td><td>2238858</td><td>20238200</td></tr><tr><td>CEU2023820082</td><td>1621266</td><td>20238200</td></tr><tr><td>CEU2023820082</td><td>1621266</td><td>20238200</td></tr><tr><td>CEU2023821057</td><td>988806</td><td>20238210</td></tr><tr><td>CEU2023821057</td><td>988806</td><td>20238210</td></tr><tr><td>CEU2023822057</td><td>1082068</td><td>20238220</td></tr><tr><td>CEU2023822057</td><td>1082068</td><td>20238220</td></tr><tr><td>CEU3000000057</td><td>13241229</td><td>30000000</td></tr><tr><td>CEU3000000057</td><td>13241229</td><td>30000000</td></tr><tr><td>CEU3000000082</td><td>7411960</td><td>30000000</td></tr><tr><td>CEU3000000082</td><td>7411960</td><td>30000000</td></tr><tr><td>CEU3100000057</td><td>8758974</td><td>31000000</td></tr><tr><td>CEU3100000057</td><td>8758974</td><td>31000000</td></tr><tr><td>CEU3100000082</td><td>4808368</td><td>31000000</td></tr><tr><td>CEU3100000082</td><td>4808368</td><td>31000000</td></tr><tr><td>CEU3133200057</td><td>1417807</td><td>31332000</td></tr><tr><td>CEU3133200057</td><td>1417807</td><td>31332000</td></tr><tr><td>CEU3133200082</td><td>867242</td><td>31332000</td></tr><tr><td>CEU3133200082</td><td>867242</td><td>31332000</td></tr><tr><td>CEU3133300057</td><td>1259875</td><td>31333000</td></tr><tr><td>CEU3133300057</td><td>1259875</td><td>31333000</td></tr><tr><td>CEU3133400057</td><td>1499453</td><td>31334000</td></tr><tr><td>CEU3133400057</td><td>1499453</td><td>31334000</td></tr><tr><td>CEU3133600057</td><td>2137791</td><td>31336000</td></tr><tr><td>CEU3133600057</td><td>2137791</td><td>31336000</td></tr><tr><td>CEU3133600082</td><td>1242685</td><td>31336000</td></tr><tr><td>CEU3133600082</td><td>1242685</td><td>31336000</td></tr><tr><td>CEU3133600157</td><td>1053186</td><td>31336001</td></tr><tr><td>CEU3133600157</td><td>1053186</td><td>31336001</td></tr><tr><td>CEU3133640057</td><td>872986</td><td>31336400</td></tr><tr><td>CEU3133640057</td><td>872986</td><td>31336400</td></tr><tr><td>CEU3200000057</td><td>4468396</td><td>32000000</td></tr><tr><td>CEU3200000057</td><td>4468396</td><td>32000000</td></tr><tr><td>CEU3200000082</td><td>2605069</td><td>32000000</td></tr><tr><td>CEU3200000082</td><td>2605069</td><td>32000000</td></tr><tr><td>CEU3231100057</td><td>1275631</td><td>32311000</td></tr><tr><td>CEU3231100057</td><td>1275631</td><td>32311000</td></tr><tr><td>CEU3231100082</td><td>842201</td><td>32311000</td></tr><tr><td>CEU3231100082</td><td>842201</td><td>32311000</td></tr><tr><td>CEU3232500057</td><td>1086916</td><td>32325000</td></tr><tr><td>CEU3232500057</td><td>1086916</td><td>32325000</td></tr><tr><td>CEU4000000056</td><td>928918</td><td>40000000</td></tr><tr><td>CEU4000000056</td><td>928918</td><td>40000000</td></tr><tr><td>CEU4000000057</td><td>21207198</td><td>40000000</td></tr><tr><td>CEU4000000057</td><td>21207198</td><td>40000000</td></tr><tr><td>CEU4000000082</td><td>14732108</td><td>40000000</td></tr><tr><td>CEU4000000082</td><td>14732108</td><td>40000000</td></tr><tr><td>CEU4142000057</td><td>6930351</td><td>41420000</td></tr><tr><td>CEU4142000057</td><td>6930351</td><td>41420000</td></tr><tr><td>CEU4142000082</td><td>4506110</td><td>41420000</td></tr><tr><td>CEU4142000082</td><td>4506110</td><td>41420000</td></tr><tr><td>CEU4142300057</td><td>3494945</td><td>41423000</td></tr><tr><td>CEU4142300057</td><td>3494945</td><td>41423000</td></tr><tr><td>CEU4142300082</td><td>2283094</td><td>41423000</td></tr><tr><td>CEU4142300082</td><td>2283094</td><td>41423000</td></tr><tr><td>CEU4142340057</td><td>949056</td><td>41423400</td></tr><tr><td>CEU4142340057</td><td>949056</td><td>41423400</td></tr><tr><td>CEU4142400057</td><td>2044132</td><td>41424000</td></tr><tr><td>CEU4142400057</td><td>2044132</td><td>41424000</td></tr><tr><td>CEU4142400082</td><td>1348136</td><td>41424000</td></tr><tr><td>CEU4142400082</td><td>1348136</td><td>41424000</td></tr><tr><td>CEU4142500057</td><td>1389263</td><td>41425000</td></tr><tr><td>CEU4142500057</td><td>1389263</td><td>41425000</td></tr><tr><td>CEU4142500082</td><td>873578</td><td>41425000</td></tr><tr><td>CEU4142500082</td><td>873578</td><td>41425000</td></tr><tr><td>CEU4142512057</td><td>1347220</td><td>41425120</td></tr><tr><td>CEU4142512057</td><td>1347220</td><td>41425120</td></tr><tr><td>CEU4142512082</td><td>851551</td><td>41425120</td></tr><tr><td>CEU4142512082</td><td>851551</td><td>41425120</td></tr><tr><td>CEU4200000057</td><td>8761040</td><td>42000000</td></tr><tr><td>CEU4200000057</td><td>8761040</td><td>42000000</td></tr><tr><td>CEU4200000082</td><td>6060100</td><td>42000000</td></tr><tr><td>CEU4200000082</td><td>6060100</td><td>42000000</td></tr><tr><td>CEU4244100057</td><td>1724940</td><td>42441000</td></tr><tr><td>CEU4244100057</td><td>1724940</td><td>42441000</td></tr><tr><td>CEU4244100082</td><td>1163420</td><td>42441000</td></tr><tr><td>CEU4244100082</td><td>1163420</td><td>42441000</td></tr><tr><td>CEU4244110057</td><td>1239175</td><td>42441100</td></tr><tr><td>CEU4244110057</td><td>1239175</td><td>42441100</td></tr><tr><td>CEU4244110082</td><td>831131</td><td>42441100</td></tr><tr><td>CEU4244110082</td><td>831131</td><td>42441100</td></tr><tr><td>CEU4244111057</td><td>1119385</td><td>42441110</td></tr><tr><td>CEU4244111057</td><td>1119385</td><td>42441110</td></tr><tr><td>CEU4244500057</td><td>1338097</td><td>42445000</td></tr><tr><td>CEU4244500057</td><td>1338097</td><td>42445000</td></tr><tr><td>CEU4244500082</td><td>963315</td><td>42445000</td></tr><tr><td>CEU4244500082</td><td>963315</td><td>42445000</td></tr><tr><td>CEU4244510057</td><td>1168906</td><td>42445100</td></tr><tr><td>CEU4244510057</td><td>1168906</td><td>42445100</td></tr><tr><td>CEU4244510082</td><td>861224</td><td>42445100</td></tr><tr><td>CEU4244510082</td><td>861224</td><td>42445100</td></tr><tr><td>CEU4244511057</td><td>1110354</td><td>42445110</td></tr><tr><td>CEU4244511057</td><td>1110354</td><td>42445110</td></tr><tr><td>CEU4245200057</td><td>1376086</td><td>42452000</td></tr><tr><td>CEU4245200057</td><td>1376086</td><td>42452000</td></tr><tr><td>CEU4245200082</td><td>1049973</td><td>42452000</td></tr><tr><td>CEU4245200082</td><td>1049973</td><td>42452000</td></tr><tr><td>CEU4300000057</td><td>4575913</td><td>43000000</td></tr><tr><td>CEU4300000057</td><td>4575913</td><td>43000000</td></tr><tr><td>CEU4300000082</td><td>3495553</td><td>43000000</td></tr><tr><td>CEU4300000082</td><td>3495553</td><td>43000000</td></tr><tr><td>CEU4348400057</td><td>1346733</td><td>43484000</td></tr><tr><td>CEU4348400057</td><td>1346733</td><td>43484000</td></tr><tr><td>CEU4348400082</td><td>1092427</td><td>43484000</td></tr><tr><td>CEU4348400082</td><td>1092427</td><td>43484000</td></tr><tr><td>CEU4348410057</td><td>952051</td><td>43484100</td></tr><tr><td>CEU4348410057</td><td>952051</td><td>43484100</td></tr><tr><td>CEU4422000057</td><td>919164</td><td>44220000</td></tr><tr><td>CEU4422000057</td><td>919164</td><td>44220000</td></tr><tr><td>CEU5000000057</td><td>3839933</td><td>50000000</td></tr><tr><td>CEU5000000057</td><td>3839933</td><td>50000000</td></tr><tr><td>CEU5000000082</td><td>2434992</td><td>50000000</td></tr><tr><td>CEU5000000082</td><td>2434992</td><td>50000000</td></tr><tr><td>CEU5051100057</td><td>1227512</td><td>50511000</td></tr><tr><td>CEU5051100057</td><td>1227512</td><td>50511000</td></tr><tr><td>CEU5051120057</td><td>860100</td><td>50511200</td></tr><tr><td>CEU5051120057</td><td>860100</td><td>50511200</td></tr><tr><td>CEU5051700057</td><td>1020155</td><td>50517000</td></tr><tr><td>CEU5051700057</td><td>1020155</td><td>50517000</td></tr><tr><td>CEU5500000057</td><td>10456034</td><td>55000000</td></tr><tr><td>CEU5500000057</td><td>10456034</td><td>55000000</td></tr><tr><td>CEU5500000082</td><td>6467426</td><td>55000000</td></tr><tr><td>CEU5500000082</td><td>6467426</td><td>55000000</td></tr><tr><td>CEU5552200057</td><td>3149170</td><td>55522000</td></tr><tr><td>CEU5552200057</td><td>3149170</td><td>55522000</td></tr><tr><td>CEU5552200082</td><td>1767137</td><td>55522000</td></tr><tr><td>CEU5552200082</td><td>1767137</td><td>55522000</td></tr><tr><td>CEU5552210057</td><td>1979117</td><td>55522100</td></tr><tr><td>CEU5552210057</td><td>1979117</td><td>55522100</td></tr><tr><td>CEU5552210082</td><td>1004069</td><td>55522100</td></tr><tr><td>CEU5552210082</td><td>1004069</td><td>55522100</td></tr><tr><td>CEU5552211057</td><td>1575662</td><td>55522110</td></tr><tr><td>CEU5552211057</td><td>1575662</td><td>55522110</td></tr><tr><td>CEU5552300057</td><td>1818312</td><td>55523000</td></tr><tr><td>CEU5552300057</td><td>1818312</td><td>55523000</td></tr><tr><td>CEU5552300082</td><td>1087325</td><td>55523000</td></tr><tr><td>CEU5552300082</td><td>1087325</td><td>55523000</td></tr><tr><td>CEU5552320057</td><td>882519</td><td>55523200</td></tr><tr><td>CEU5552320057</td><td>882519</td><td>55523200</td></tr><tr><td>CEU5552390057</td><td>937922</td><td>55523900</td></tr><tr><td>CEU5552390057</td><td>937922</td><td>55523900</td></tr><tr><td>CEU5552400057</td><td>3532152</td><td>55524000</td></tr><tr><td>CEU5552400057</td><td>3532152</td><td>55524000</td></tr><tr><td>CEU5552400082</td><td>2408490</td><td>55524000</td></tr><tr><td>CEU5552400082</td><td>2408490</td><td>55524000</td></tr><tr><td>CEU5552410057</td><td>2215577</td><td>55524100</td></tr><tr><td>CEU5552410057</td><td>2215577</td><td>55524100</td></tr><tr><td>CEU5552410082</td><td>1509979</td><td>55524100</td></tr><tr><td>CEU5552410082</td><td>1509979</td><td>55524100</td></tr><tr><td>CEU5552411057</td><td>1216763</td><td>55524110</td></tr><tr><td>CEU5552411057</td><td>1216763</td><td>55524110</td></tr><tr><td>CEU5552412057</td><td>941433</td><td>55524120</td></tr><tr><td>CEU5552412057</td><td>941433</td><td>55524120</td></tr><tr><td>CEU5552420057</td><td>1315375</td><td>55524200</td></tr><tr><td>CEU5552420057</td><td>1315375</td><td>55524200</td></tr><tr><td>CEU5552420082</td><td>894878</td><td>55524200</td></tr><tr><td>CEU5552420082</td><td>894878</td><td>55524200</td></tr><tr><td>CEU5552421057</td><td>878065</td><td>55524210</td></tr><tr><td>CEU5552421057</td><td>878065</td><td>55524210</td></tr><tr><td>CEU5553100057</td><td>1418712</td><td>55531000</td></tr><tr><td>CEU5553100057</td><td>1418712</td><td>55531000</td></tr><tr><td>CEU5553100082</td><td>865620</td><td>55531000</td></tr><tr><td>CEU5553100082</td><td>865620</td><td>55531000</td></tr><tr><td>CEU6000000057</td><td>23230608</td><td>60000000</td></tr><tr><td>CEU6000000057</td><td>23230608</td><td>60000000</td></tr><tr><td>CEU6000000082</td><td>15219807</td><td>60000000</td></tr><tr><td>CEU6000000082</td><td>15219807</td><td>60000000</td></tr><tr><td>CEU6054000057</td><td>13718735</td><td>60540000</td></tr><tr><td>CEU6054000057</td><td>13718735</td><td>60540000</td></tr><tr><td>CEU6054000082</td><td>8976687</td><td>60540000</td></tr><tr><td>CEU6054000082</td><td>8976687</td><td>60540000</td></tr><tr><td>CEU6054110057</td><td>1722541</td><td>60541100</td></tr><tr><td>CEU6054110057</td><td>1722541</td><td>60541100</td></tr><tr><td>CEU6054110082</td><td>1093898</td><td>60541100</td></tr><tr><td>CEU6054110082</td><td>1093898</td><td>60541100</td></tr><tr><td>CEU6054111057</td><td>1641024</td><td>60541110</td></tr><tr><td>CEU6054111057</td><td>1641024</td><td>60541110</td></tr><tr><td>CEU6054111082</td><td>1038464</td><td>60541110</td></tr><tr><td>CEU6054111082</td><td>1038464</td><td>60541110</td></tr><tr><td>CEU6054120057</td><td>1202203</td><td>60541200</td></tr><tr><td>CEU6054120057</td><td>1202203</td><td>60541200</td></tr><tr><td>CEU6054130057</td><td>2146385</td><td>60541300</td></tr><tr><td>CEU6054130057</td><td>2146385</td><td>60541300</td></tr><tr><td>CEU6054130082</td><td>1422967</td><td>60541300</td></tr><tr><td>CEU6054130082</td><td>1422967</td><td>60541300</td></tr><tr><td>CEU6054134057</td><td>1537888</td><td>60541340</td></tr><tr><td>CEU6054134057</td><td>1537888</td><td>60541340</td></tr><tr><td>CEU6054134082</td><td>1042223</td><td>60541340</td></tr><tr><td>CEU6054134082</td><td>1042223</td><td>60541340</td></tr><tr><td>CEU6054150057</td><td>3676138</td><td>60541500</td></tr><tr><td>CEU6054150057</td><td>3676138</td><td>60541500</td></tr><tr><td>CEU6054150082</td><td>2725031</td><td>60541500</td></tr><tr><td>CEU6054150082</td><td>2725031</td><td>60541500</td></tr><tr><td>CEU6054151157</td><td>1639255</td><td>60541511</td></tr><tr><td>CEU6054151157</td><td>1639255</td><td>60541511</td></tr><tr><td>CEU6054151182</td><td>1198283</td><td>60541511</td></tr><tr><td>CEU6054151182</td><td>1198283</td><td>60541511</td></tr><tr><td>CEU6054151257</td><td>1738428</td><td>60541512</td></tr><tr><td>CEU6054151257</td><td>1738428</td><td>60541512</td></tr><tr><td>CEU6054151282</td><td>1309441</td><td>60541512</td></tr><tr><td>CEU6054151282</td><td>1309441</td><td>60541512</td></tr><tr><td>CEU6054160057</td><td>2123095</td><td>60541600</td></tr><tr><td>CEU6054160057</td><td>2123095</td><td>60541600</td></tr><tr><td>CEU6054160082</td><td>1336594</td><td>60541600</td></tr><tr><td>CEU6054160082</td><td>1336594</td><td>60541600</td></tr><tr><td>CEU6054161057</td><td>1755386</td><td>60541610</td></tr><tr><td>CEU6054161057</td><td>1755386</td><td>60541610</td></tr><tr><td>CEU6054161082</td><td>1066602</td><td>60541610</td></tr><tr><td>CEU6054161082</td><td>1066602</td><td>60541610</td></tr><tr><td>CEU6054161157</td><td>981156</td><td>60541611</td></tr><tr><td>CEU6054161157</td><td>981156</td><td>60541611</td></tr><tr><td>CEU6054170057</td><td>1283264</td><td>60541700</td></tr><tr><td>CEU6054170057</td><td>1283264</td><td>60541700</td></tr><tr><td>CEU6054171057</td><td>1207983</td><td>60541710</td></tr><tr><td>CEU6054171057</td><td>1207983</td><td>60541710</td></tr><tr><td>CEU6054171257</td><td>874882</td><td>60541712</td></tr><tr><td>CEU6054171257</td><td>874882</td><td>60541712</td></tr><tr><td>CEU6055000057</td><td>3491614</td><td>60550000</td></tr><tr><td>CEU6055000057</td><td>3491614</td><td>60550000</td></tr><tr><td>CEU6055000082</td><td>1587677</td><td>60550000</td></tr><tr><td>CEU6055000082</td><td>1587677</td><td>60550000</td></tr><tr><td>CEU6055111457</td><td>3329401</td><td>60551114</td></tr><tr><td>CEU6055111457</td><td>3329401</td><td>60551114</td></tr><tr><td>CEU6055111482</td><td>1517287</td><td>60551114</td></tr><tr><td>CEU6055111482</td><td>1517287</td><td>60551114</td></tr><tr><td>CEU6056000057</td><td>6040399</td><td>60560000</td></tr><tr><td>CEU6056000057</td><td>6040399</td><td>60560000</td></tr><tr><td>CEU6056000082</td><td>4659531</td><td>60560000</td></tr><tr><td>CEU6056000082</td><td>4659531</td><td>60560000</td></tr><tr><td>CEU6056100057</td><td>5597836</td><td>60561000</td></tr><tr><td>CEU6056100057</td><td>5597836</td><td>60561000</td></tr><tr><td>CEU6056100082</td><td>4357866</td><td>60561000</td></tr><tr><td>CEU6056100082</td><td>4357866</td><td>60561000</td></tr><tr><td>CEU6056130057</td><td>2167910</td><td>60561300</td></tr><tr><td>CEU6056130057</td><td>2167910</td><td>60561300</td></tr><tr><td>CEU6056130082</td><td>1938059</td><td>60561300</td></tr><tr><td>CEU6056130082</td><td>1938059</td><td>60561300</td></tr><tr><td>CEU6056132057</td><td>1650527</td><td>60561320</td></tr><tr><td>CEU6056132057</td><td>1650527</td><td>60561320</td></tr><tr><td>CEU6056132082</td><td>1530782</td><td>60561320</td></tr><tr><td>CEU6056132082</td><td>1530782</td><td>60561320</td></tr><tr><td>CEU6056170057</td><td>999862</td><td>60561700</td></tr><tr><td>CEU6056170057</td><td>999862</td><td>60561700</td></tr><tr><td>CEU6500000057</td><td>19616812</td><td>65000000</td></tr><tr><td>CEU6500000057</td><td>19616812</td><td>65000000</td></tr><tr><td>CEU6500000082</td><td>14816074</td><td>65000000</td></tr><tr><td>CEU6500000082</td><td>14816074</td><td>65000000</td></tr><tr><td>CEU6562000057</td><td>16893809</td><td>65620000</td></tr><tr><td>CEU6562000057</td><td>16893809</td><td>65620000</td></tr><tr><td>CEU6562000082</td><td>12878462</td><td>65620000</td></tr><tr><td>CEU6562000082</td><td>12878462</td><td>65620000</td></tr><tr><td>CEU6562000157</td><td>15094574</td><td>65620001</td></tr><tr><td>CEU6562000157</td><td>15094574</td><td>65620001</td></tr><tr><td>CEU6562000182</td><td>11537267</td><td>65620001</td></tr><tr><td>CEU6562000182</td><td>11537267</td><td>65620001</td></tr><tr><td>CEU6562100057</td><td>7203262</td><td>65621000</td></tr><tr><td>CEU6562100057</td><td>7203262</td><td>65621000</td></tr><tr><td>CEU6562100082</td><td>4907269</td><td>65621000</td></tr><tr><td>CEU6562100082</td><td>4907269</td><td>65621000</td></tr><tr><td>CEU6562110057</td><td>3513888</td><td>65621100</td></tr><tr><td>CEU6562110057</td><td>3513888</td><td>65621100</td></tr><tr><td>CEU6562110082</td><td>2149121</td><td>65621100</td></tr><tr><td>CEU6562110082</td><td>2149121</td><td>65621100</td></tr><tr><td>CEU6562111157</td><td>3465699</td><td>65621111</td></tr><tr><td>CEU6562111157</td><td>3465699</td><td>65621111</td></tr><tr><td>CEU6562111182</td><td>2121845</td><td>65621111</td></tr><tr><td>CEU6562111182</td><td>2121845</td><td>65621111</td></tr><tr><td>CEU6562120057</td><td>847345</td><td>65621200</td></tr><tr><td>CEU6562120057</td><td>847345</td><td>65621200</td></tr><tr><td>CEU6562140057</td><td>848281</td><td>65621400</td></tr><tr><td>CEU6562140057</td><td>848281</td><td>65621400</td></tr><tr><td>CEU6562200057</td><td>5923747</td><td>65622000</td></tr><tr><td>CEU6562200057</td><td>5923747</td><td>65622000</td></tr><tr><td>CEU6562200082</td><td>5105336</td><td>65622000</td></tr><tr><td>CEU6562200082</td><td>5105336</td><td>65622000</td></tr><tr><td>CEU6562210057</td><td>5505844</td><td>65622100</td></tr><tr><td>CEU6562210057</td><td>5505844</td><td>65622100</td></tr><tr><td>CEU6562210082</td><td>4773547</td><td>65622100</td></tr><tr><td>CEU6562210082</td><td>4773547</td><td>65622100</td></tr><tr><td>CEU6562300057</td><td>1981669</td><td>65623000</td></tr><tr><td>CEU6562300057</td><td>1981669</td><td>65623000</td></tr><tr><td>CEU6562300082</td><td>1525889</td><td>65623000</td></tr><tr><td>CEU6562300082</td><td>1525889</td><td>65623000</td></tr><tr><td>CEU6562310057</td><td>1017723</td><td>65623100</td></tr><tr><td>CEU6562310057</td><td>1017723</td><td>65623100</td></tr><tr><td>CEU6562400057</td><td>1811418</td><td>65624000</td></tr><tr><td>CEU6562400057</td><td>1811418</td><td>65624000</td></tr><tr><td>CEU6562400082</td><td>1357629</td><td>65624000</td></tr><tr><td>CEU6562400082</td><td>1357629</td><td>65624000</td></tr><tr><td>CEU6562410057</td><td>1105190</td><td>65624100</td></tr><tr><td>CEU6562410057</td><td>1105190</td><td>65624100</td></tr><tr><td>CEU6562410082</td><td>838886</td><td>65624100</td></tr><tr><td>CEU6562410082</td><td>838886</td><td>65624100</td></tr><tr><td>CEU7000000057</td><td>5920672</td><td>70000000</td></tr><tr><td>CEU7000000057</td><td>5920672</td><td>70000000</td></tr><tr><td>CEU7000000082</td><td>4224098</td><td>70000000</td></tr><tr><td>CEU7000000082</td><td>4224098</td><td>70000000</td></tr><tr><td>CEU7071000057</td><td>1074458</td><td>70710000</td></tr><tr><td>CEU7071000057</td><td>1074458</td><td>70710000</td></tr><tr><td>CEU7072000057</td><td>4847577</td><td>70720000</td></tr><tr><td>CEU7072000057</td><td>4847577</td><td>70720000</td></tr><tr><td>CEU7072000082</td><td>3572648</td><td>70720000</td></tr><tr><td>CEU7072000082</td><td>3572648</td><td>70720000</td></tr><tr><td>CEU7072100057</td><td>958129</td><td>70721000</td></tr><tr><td>CEU7072100057</td><td>958129</td><td>70721000</td></tr><tr><td>CEU7072110057</td><td>938363</td><td>70721100</td></tr><tr><td>CEU7072110057</td><td>938363</td><td>70721100</td></tr><tr><td>CEU7072200057</td><td>3877793</td><td>70722000</td></tr><tr><td>CEU7072200057</td><td>3877793</td><td>70722000</td></tr><tr><td>CEU7072200082</td><td>2913295</td><td>70722000</td></tr><tr><td>CEU7072200082</td><td>2913295</td><td>70722000</td></tr><tr><td>CEU7072250057</td><td>3471778</td><td>70722500</td></tr><tr><td>CEU7072250057</td><td>3471778</td><td>70722500</td></tr><tr><td>CEU7072250082</td><td>2617225</td><td>70722500</td></tr><tr><td>CEU7072250082</td><td>2617225</td><td>70722500</td></tr><tr><td>CEU7072251157</td><td>2009900</td><td>70722511</td></tr><tr><td>CEU7072251157</td><td>2009900</td><td>70722511</td></tr><tr><td>CEU7072251182</td><td>1528888</td><td>70722511</td></tr><tr><td>CEU7072251182</td><td>1528888</td><td>70722511</td></tr><tr><td>CEU7072251357</td><td>1237183</td><td>70722513</td></tr><tr><td>CEU7072251357</td><td>1237183</td><td>70722513</td></tr><tr><td>CEU7072251382</td><td>922041</td><td>70722513</td></tr><tr><td>CEU7072251382</td><td>922041</td><td>70722513</td></tr><tr><td>CEU8000000057</td><td>4254988</td><td>80000000</td></tr><tr><td>CEU8000000057</td><td>4254988</td><td>80000000</td></tr><tr><td>CEU8000000082</td><td>2836698</td><td>80000000</td></tr><tr><td>CEU8000000082</td><td>2836698</td><td>80000000</td></tr><tr><td>CEU8081100057</td><td>1038855</td><td>80811000</td></tr><tr><td>CEU8081100057</td><td>1038855</td><td>80811000</td></tr><tr><td>CEU8081300057</td><td>2507238</td><td>80813000</td></tr><tr><td>CEU8081300057</td><td>2507238</td><td>80813000</td></tr><tr><td>CEU8081300082</td><td>1594855</td><td>80813000</td></tr><tr><td>CEU8081300082</td><td>1594855</td><td>80813000</td></tr></table>"
                    },
                    "metadata": {}
                }
            ],
            "execution_count": 6
        },
        {
            "cell_type": "markdown",
            "source": [
                "2. <span style=\"background-color: rgb(255, 255, 255); font-size: 10pt; white-space: pre-wrap; color: rgb(102, 102, 102); font-family: Arvo, serif;\">Create a Union table comparing average weekly earnings&nbsp; of production and nonsupervisory employees between annual_16 and january_17 using the data type 30.&nbsp; Round to the nearest penny.&nbsp; You should have a column for the average earnings and a column for the year, and the period.</span>"
            ],
            "metadata": {
                "azdata_cell_guid": "1bb0ed09-4b02-4132-910e-5903697628af"
            },
            "attachments": {}
        },
        {
            "cell_type": "code",
            "source": [
                "-- average weekly earnings prod/nonsup employees 2016\r\n",
                "\r\n",
                "SELECT [year], [period], ROUND([value], 2) AS 'Average Earnings'\r\n",
                "FROM [LaborStatisticsDB].[dbo].[annual_2016]\r\n",
                "WHERE [series_id] IN\r\n",
                "\r\n",
                "    (SELECT [series_id] \r\n",
                "    FROM [LaborStatisticsDB].[dbo].[series]\r\n",
                "    WHERE [data_type_code] = 30)\r\n",
                "\r\n",
                "\r\n",
                "UNION\r\n",
                "\r\n",
                "SELECT [year], [period], ROUND([value], 2) AS 'Average Earnings'\r\n",
                "FROM [LaborStatisticsDB].[dbo].[january_2017]\r\n",
                "WHERE [series_id] IN\r\n",
                "\r\n",
                "    (SELECT [series_id] \r\n",
                "    FROM [LaborStatisticsDB].[dbo].[series]\r\n",
                "    WHERE [data_type_code] = 30);\r\n",
                "\r\n",
                ""
            ],
            "metadata": {
                "azdata_cell_guid": "0841b6d6-9af2-41ba-8e28-dc40d08bd061"
            },
            "outputs": [
                {
                    "output_type": "display_data",
                    "data": {
                        "text/html": "(1642 rows affected)"
                    },
                    "metadata": {}
                },
                {
                    "output_type": "display_data",
                    "data": {
                        "text/html": "Total execution time: 00:00:00.277"
                    },
                    "metadata": {}
                },
                {
                    "output_type": "execute_result",
                    "execution_count": 18,
                    "data": {
                        "application/vnd.dataresource+json": {
                            "schema": {
                                "fields": [
                                    {
                                        "name": "year"
                                    },
                                    {
                                        "name": "period"
                                    },
                                    {
                                        "name": "Average Earnings"
                                    }
                                ]
                            },
                            "data": [
                                {
                                    "0": "2016",
                                    "1": "M13",
                                    "2": "231.47"
                                },
                                {
                                    "0": "2016",
                                    "1": "M13",
                                    "2": "233.2"
                                },
                                {
                                    "0": "2016",
                                    "1": "M13",
                                    "2": "244.17"
                                },
                                {
                                    "0": "2016",
                                    "1": "M13",
                                    "2": "245.68"
                                },
                                {
                                    "0": "2016",
                                    "1": "M13",
                                    "2": "255.04"
                                },
                                {
                                    "0": "2016",
                                    "1": "M13",
                                    "2": "256.49"
                                },
                                {
                                    "0": "2016",
                                    "1": "M13",
                                    "2": "256.66"
                                },
                                {
                                    "0": "2016",
                                    "1": "M13",
                                    "2": "256.94"
                                },
                                {
                                    "0": "2016",
                                    "1": "M13",
                                    "2": "261.56"
                                },
                                {
                                    "0": "2016",
                                    "1": "M13",
                                    "2": "266.16"
                                },
                                {
                                    "0": "2016",
                                    "1": "M13",
                                    "2": "276.94"
                                },
                                {
                                    "0": "2016",
                                    "1": "M13",
                                    "2": "280.73"
                                },
                                {
                                    "0": "2016",
                                    "1": "M13",
                                    "2": "287.63"
                                },
                                {
                                    "0": "2016",
                                    "1": "M13",
                                    "2": "291.68"
                                },
                                {
                                    "0": "2016",
                                    "1": "M13",
                                    "2": "292.16"
                                },
                                {
                                    "0": "2016",
                                    "1": "M13",
                                    "2": "307.07"
                                },
                                {
                                    "0": "2016",
                                    "1": "M13",
                                    "2": "309.92"
                                },
                                {
                                    "0": "2016",
                                    "1": "M13",
                                    "2": "310.12"
                                },
                                {
                                    "0": "2016",
                                    "1": "M13",
                                    "2": "311.42"
                                },
                                {
                                    "0": "2016",
                                    "1": "M13",
                                    "2": "313.14"
                                },
                                {
                                    "0": "2016",
                                    "1": "M13",
                                    "2": "317.78"
                                },
                                {
                                    "0": "2016",
                                    "1": "M13",
                                    "2": "317.85"
                                },
                                {
                                    "0": "2016",
                                    "1": "M13",
                                    "2": "318.52"
                                },
                                {
                                    "0": "2016",
                                    "1": "M13",
                                    "2": "319.52"
                                },
                                {
                                    "0": "2016",
                                    "1": "M13",
                                    "2": "321.44"
                                },
                                {
                                    "0": "2016",
                                    "1": "M13",
                                    "2": "324.19"
                                },
                                {
                                    "0": "2016",
                                    "1": "M13",
                                    "2": "332.23"
                                },
                                {
                                    "0": "2016",
                                    "1": "M13",
                                    "2": "335.71"
                                },
                                {
                                    "0": "2016",
                                    "1": "M13",
                                    "2": "337.14"
                                },
                                {
                                    "0": "2016",
                                    "1": "M13",
                                    "2": "340.37"
                                },
                                {
                                    "0": "2016",
                                    "1": "M13",
                                    "2": "344.54"
                                },
                                {
                                    "0": "2016",
                                    "1": "M13",
                                    "2": "345.45"
                                },
                                {
                                    "0": "2016",
                                    "1": "M13",
                                    "2": "346.05"
                                },
                                {
                                    "0": "2016",
                                    "1": "M13",
                                    "2": "351.07"
                                },
                                {
                                    "0": "2016",
                                    "1": "M13",
                                    "2": "353.3"
                                },
                                {
                                    "0": "2016",
                                    "1": "M13",
                                    "2": "353.94"
                                },
                                {
                                    "0": "2016",
                                    "1": "M13",
                                    "2": "354.62"
                                },
                                {
                                    "0": "2016",
                                    "1": "M13",
                                    "2": "355"
                                },
                                {
                                    "0": "2016",
                                    "1": "M13",
                                    "2": "356.65"
                                },
                                {
                                    "0": "2016",
                                    "1": "M13",
                                    "2": "357.01"
                                },
                                {
                                    "0": "2016",
                                    "1": "M13",
                                    "2": "357.1"
                                },
                                {
                                    "0": "2016",
                                    "1": "M13",
                                    "2": "358.98"
                                },
                                {
                                    "0": "2016",
                                    "1": "M13",
                                    "2": "359.86"
                                },
                                {
                                    "0": "2016",
                                    "1": "M13",
                                    "2": "361.64"
                                },
                                {
                                    "0": "2016",
                                    "1": "M13",
                                    "2": "361.66"
                                },
                                {
                                    "0": "2016",
                                    "1": "M13",
                                    "2": "363.11"
                                },
                                {
                                    "0": "2016",
                                    "1": "M13",
                                    "2": "363.47"
                                },
                                {
                                    "0": "2016",
                                    "1": "M13",
                                    "2": "364.01"
                                },
                                {
                                    "0": "2016",
                                    "1": "M13",
                                    "2": "366.63"
                                },
                                {
                                    "0": "2016",
                                    "1": "M13",
                                    "2": "372.55"
                                },
                                {
                                    "0": "2016",
                                    "1": "M13",
                                    "2": "375.46"
                                },
                                {
                                    "0": "2016",
                                    "1": "M13",
                                    "2": "378.72"
                                },
                                {
                                    "0": "2016",
                                    "1": "M13",
                                    "2": "380.39"
                                },
                                {
                                    "0": "2016",
                                    "1": "M13",
                                    "2": "382.12"
                                },
                                {
                                    "0": "2016",
                                    "1": "M13",
                                    "2": "384.71"
                                },
                                {
                                    "0": "2016",
                                    "1": "M13",
                                    "2": "385.39"
                                },
                                {
                                    "0": "2016",
                                    "1": "M13",
                                    "2": "387.11"
                                },
                                {
                                    "0": "2016",
                                    "1": "M13",
                                    "2": "397.68"
                                },
                                {
                                    "0": "2016",
                                    "1": "M13",
                                    "2": "402.01"
                                },
                                {
                                    "0": "2016",
                                    "1": "M13",
                                    "2": "403.44"
                                },
                                {
                                    "0": "2016",
                                    "1": "M13",
                                    "2": "403.65"
                                },
                                {
                                    "0": "2016",
                                    "1": "M13",
                                    "2": "403.75"
                                },
                                {
                                    "0": "2016",
                                    "1": "M13",
                                    "2": "404.66"
                                },
                                {
                                    "0": "2016",
                                    "1": "M13",
                                    "2": "404.9"
                                },
                                {
                                    "0": "2016",
                                    "1": "M13",
                                    "2": "406.07"
                                },
                                {
                                    "0": "2016",
                                    "1": "M13",
                                    "2": "406.3"
                                },
                                {
                                    "0": "2016",
                                    "1": "M13",
                                    "2": "412.68"
                                },
                                {
                                    "0": "2016",
                                    "1": "M13",
                                    "2": "414.87"
                                },
                                {
                                    "0": "2016",
                                    "1": "M13",
                                    "2": "417.55"
                                },
                                {
                                    "0": "2016",
                                    "1": "M13",
                                    "2": "419.44"
                                },
                                {
                                    "0": "2016",
                                    "1": "M13",
                                    "2": "419.49"
                                },
                                {
                                    "0": "2016",
                                    "1": "M13",
                                    "2": "420.61"
                                },
                                {
                                    "0": "2016",
                                    "1": "M13",
                                    "2": "421.94"
                                },
                                {
                                    "0": "2016",
                                    "1": "M13",
                                    "2": "424.24"
                                },
                                {
                                    "0": "2016",
                                    "1": "M13",
                                    "2": "426.52"
                                },
                                {
                                    "0": "2016",
                                    "1": "M13",
                                    "2": "427.05"
                                },
                                {
                                    "0": "2016",
                                    "1": "M13",
                                    "2": "435.99"
                                },
                                {
                                    "0": "2016",
                                    "1": "M13",
                                    "2": "442.44"
                                },
                                {
                                    "0": "2016",
                                    "1": "M13",
                                    "2": "442.55"
                                },
                                {
                                    "0": "2016",
                                    "1": "M13",
                                    "2": "447.62"
                                },
                                {
                                    "0": "2016",
                                    "1": "M13",
                                    "2": "451.99"
                                },
                                {
                                    "0": "2016",
                                    "1": "M13",
                                    "2": "458.87"
                                },
                                {
                                    "0": "2016",
                                    "1": "M13",
                                    "2": "460.61"
                                },
                                {
                                    "0": "2016",
                                    "1": "M13",
                                    "2": "462.82"
                                },
                                {
                                    "0": "2016",
                                    "1": "M13",
                                    "2": "471.87"
                                },
                                {
                                    "0": "2016",
                                    "1": "M13",
                                    "2": "477.45"
                                },
                                {
                                    "0": "2016",
                                    "1": "M13",
                                    "2": "478.84"
                                },
                                {
                                    "0": "2016",
                                    "1": "M13",
                                    "2": "480.28"
                                },
                                {
                                    "0": "2016",
                                    "1": "M13",
                                    "2": "480.76"
                                },
                                {
                                    "0": "2016",
                                    "1": "M13",
                                    "2": "481.29"
                                },
                                {
                                    "0": "2016",
                                    "1": "M13",
                                    "2": "486.51"
                                },
                                {
                                    "0": "2016",
                                    "1": "M13",
                                    "2": "486.76"
                                },
                                {
                                    "0": "2016",
                                    "1": "M13",
                                    "2": "487.73"
                                },
                                {
                                    "0": "2016",
                                    "1": "M13",
                                    "2": "489.23"
                                },
                                {
                                    "0": "2016",
                                    "1": "M13",
                                    "2": "490.8"
                                },
                                {
                                    "0": "2016",
                                    "1": "M13",
                                    "2": "492.41"
                                },
                                {
                                    "0": "2016",
                                    "1": "M13",
                                    "2": "494.03"
                                },
                                {
                                    "0": "2016",
                                    "1": "M13",
                                    "2": "496.36"
                                },
                                {
                                    "0": "2016",
                                    "1": "M13",
                                    "2": "499.15"
                                },
                                {
                                    "0": "2016",
                                    "1": "M13",
                                    "2": "499.8"
                                },
                                {
                                    "0": "2016",
                                    "1": "M13",
                                    "2": "504.37"
                                },
                                {
                                    "0": "2016",
                                    "1": "M13",
                                    "2": "507.46"
                                },
                                {
                                    "0": "2016",
                                    "1": "M13",
                                    "2": "513.81"
                                },
                                {
                                    "0": "2016",
                                    "1": "M13",
                                    "2": "514.46"
                                },
                                {
                                    "0": "2016",
                                    "1": "M13",
                                    "2": "515.12"
                                },
                                {
                                    "0": "2016",
                                    "1": "M13",
                                    "2": "518.82"
                                },
                                {
                                    "0": "2016",
                                    "1": "M13",
                                    "2": "520.32"
                                },
                                {
                                    "0": "2016",
                                    "1": "M13",
                                    "2": "524.36"
                                },
                                {
                                    "0": "2016",
                                    "1": "M13",
                                    "2": "525.21"
                                },
                                {
                                    "0": "2016",
                                    "1": "M13",
                                    "2": "526.83"
                                },
                                {
                                    "0": "2016",
                                    "1": "M13",
                                    "2": "527.03"
                                },
                                {
                                    "0": "2016",
                                    "1": "M13",
                                    "2": "529.31"
                                },
                                {
                                    "0": "2016",
                                    "1": "M13",
                                    "2": "530.65"
                                },
                                {
                                    "0": "2016",
                                    "1": "M13",
                                    "2": "531.85"
                                },
                                {
                                    "0": "2016",
                                    "1": "M13",
                                    "2": "532.36"
                                },
                                {
                                    "0": "2016",
                                    "1": "M13",
                                    "2": "536.45"
                                },
                                {
                                    "0": "2016",
                                    "1": "M13",
                                    "2": "539.86"
                                },
                                {
                                    "0": "2016",
                                    "1": "M13",
                                    "2": "543.72"
                                },
                                {
                                    "0": "2016",
                                    "1": "M13",
                                    "2": "543.89"
                                },
                                {
                                    "0": "2016",
                                    "1": "M13",
                                    "2": "544.02"
                                },
                                {
                                    "0": "2016",
                                    "1": "M13",
                                    "2": "544.09"
                                },
                                {
                                    "0": "2016",
                                    "1": "M13",
                                    "2": "544.87"
                                },
                                {
                                    "0": "2016",
                                    "1": "M13",
                                    "2": "549.66"
                                },
                                {
                                    "0": "2016",
                                    "1": "M13",
                                    "2": "549.69"
                                },
                                {
                                    "0": "2016",
                                    "1": "M13",
                                    "2": "549.98"
                                },
                                {
                                    "0": "2016",
                                    "1": "M13",
                                    "2": "551.81"
                                },
                                {
                                    "0": "2016",
                                    "1": "M13",
                                    "2": "554"
                                },
                                {
                                    "0": "2016",
                                    "1": "M13",
                                    "2": "555.04"
                                },
                                {
                                    "0": "2016",
                                    "1": "M13",
                                    "2": "557.84"
                                },
                                {
                                    "0": "2016",
                                    "1": "M13",
                                    "2": "558.76"
                                },
                                {
                                    "0": "2016",
                                    "1": "M13",
                                    "2": "559.79"
                                },
                                {
                                    "0": "2016",
                                    "1": "M13",
                                    "2": "560.4"
                                },
                                {
                                    "0": "2016",
                                    "1": "M13",
                                    "2": "564.59"
                                },
                                {
                                    "0": "2016",
                                    "1": "M13",
                                    "2": "571.3"
                                },
                                {
                                    "0": "2016",
                                    "1": "M13",
                                    "2": "571.47"
                                },
                                {
                                    "0": "2016",
                                    "1": "M13",
                                    "2": "574.56"
                                },
                                {
                                    "0": "2016",
                                    "1": "M13",
                                    "2": "576.59"
                                },
                                {
                                    "0": "2016",
                                    "1": "M13",
                                    "2": "580.04"
                                },
                                {
                                    "0": "2016",
                                    "1": "M13",
                                    "2": "585.56"
                                },
                                {
                                    "0": "2016",
                                    "1": "M13",
                                    "2": "586.37"
                                },
                                {
                                    "0": "2016",
                                    "1": "M13",
                                    "2": "590.55"
                                },
                                {
                                    "0": "2016",
                                    "1": "M13",
                                    "2": "592.49"
                                },
                                {
                                    "0": "2016",
                                    "1": "M13",
                                    "2": "593.7"
                                },
                                {
                                    "0": "2016",
                                    "1": "M13",
                                    "2": "595.73"
                                },
                                {
                                    "0": "2016",
                                    "1": "M13",
                                    "2": "595.75"
                                },
                                {
                                    "0": "2016",
                                    "1": "M13",
                                    "2": "597.05"
                                },
                                {
                                    "0": "2016",
                                    "1": "M13",
                                    "2": "597.73"
                                },
                                {
                                    "0": "2016",
                                    "1": "M13",
                                    "2": "598.29"
                                },
                                {
                                    "0": "2016",
                                    "1": "M13",
                                    "2": "601.63"
                                },
                                {
                                    "0": "2016",
                                    "1": "M13",
                                    "2": "604.25"
                                },
                                {
                                    "0": "2016",
                                    "1": "M13",
                                    "2": "604.49"
                                },
                                {
                                    "0": "2016",
                                    "1": "M13",
                                    "2": "610.94"
                                },
                                {
                                    "0": "2016",
                                    "1": "M13",
                                    "2": "613.37"
                                },
                                {
                                    "0": "2016",
                                    "1": "M13",
                                    "2": "616.38"
                                },
                                {
                                    "0": "2016",
                                    "1": "M13",
                                    "2": "618.03"
                                },
                                {
                                    "0": "2016",
                                    "1": "M13",
                                    "2": "619.1"
                                },
                                {
                                    "0": "2016",
                                    "1": "M13",
                                    "2": "619.18"
                                },
                                {
                                    "0": "2016",
                                    "1": "M13",
                                    "2": "619.59"
                                },
                                {
                                    "0": "2016",
                                    "1": "M13",
                                    "2": "620.95"
                                },
                                {
                                    "0": "2016",
                                    "1": "M13",
                                    "2": "621.63"
                                },
                                {
                                    "0": "2016",
                                    "1": "M13",
                                    "2": "623.67"
                                },
                                {
                                    "0": "2016",
                                    "1": "M13",
                                    "2": "623.86"
                                },
                                {
                                    "0": "2016",
                                    "1": "M13",
                                    "2": "624.13"
                                },
                                {
                                    "0": "2016",
                                    "1": "M13",
                                    "2": "628.91"
                                },
                                {
                                    "0": "2016",
                                    "1": "M13",
                                    "2": "632.01"
                                },
                                {
                                    "0": "2016",
                                    "1": "M13",
                                    "2": "634.3"
                                },
                                {
                                    "0": "2016",
                                    "1": "M13",
                                    "2": "636.64"
                                },
                                {
                                    "0": "2016",
                                    "1": "M13",
                                    "2": "639.44"
                                },
                                {
                                    "0": "2016",
                                    "1": "M13",
                                    "2": "640.39"
                                },
                                {
                                    "0": "2016",
                                    "1": "M13",
                                    "2": "643.14"
                                },
                                {
                                    "0": "2016",
                                    "1": "M13",
                                    "2": "644.07"
                                },
                                {
                                    "0": "2016",
                                    "1": "M13",
                                    "2": "644.62"
                                },
                                {
                                    "0": "2016",
                                    "1": "M13",
                                    "2": "644.88"
                                },
                                {
                                    "0": "2016",
                                    "1": "M13",
                                    "2": "645.96"
                                },
                                {
                                    "0": "2016",
                                    "1": "M13",
                                    "2": "646.09"
                                },
                                {
                                    "0": "2016",
                                    "1": "M13",
                                    "2": "647.6"
                                },
                                {
                                    "0": "2016",
                                    "1": "M13",
                                    "2": "648.6"
                                },
                                {
                                    "0": "2016",
                                    "1": "M13",
                                    "2": "648.94"
                                },
                                {
                                    "0": "2016",
                                    "1": "M13",
                                    "2": "651.13"
                                },
                                {
                                    "0": "2016",
                                    "1": "M13",
                                    "2": "652.3"
                                },
                                {
                                    "0": "2016",
                                    "1": "M13",
                                    "2": "652.43"
                                },
                                {
                                    "0": "2016",
                                    "1": "M13",
                                    "2": "653.62"
                                },
                                {
                                    "0": "2016",
                                    "1": "M13",
                                    "2": "655.5"
                                },
                                {
                                    "0": "2016",
                                    "1": "M13",
                                    "2": "655.98"
                                },
                                {
                                    "0": "2016",
                                    "1": "M13",
                                    "2": "658.21"
                                },
                                {
                                    "0": "2016",
                                    "1": "M13",
                                    "2": "658.32"
                                },
                                {
                                    "0": "2016",
                                    "1": "M13",
                                    "2": "661.91"
                                },
                                {
                                    "0": "2016",
                                    "1": "M13",
                                    "2": "665.79"
                                },
                                {
                                    "0": "2016",
                                    "1": "M13",
                                    "2": "666.8"
                                },
                                {
                                    "0": "2016",
                                    "1": "M13",
                                    "2": "668.1"
                                },
                                {
                                    "0": "2016",
                                    "1": "M13",
                                    "2": "670.63"
                                },
                                {
                                    "0": "2016",
                                    "1": "M13",
                                    "2": "672.23"
                                },
                                {
                                    "0": "2016",
                                    "1": "M13",
                                    "2": "673.53"
                                },
                                {
                                    "0": "2016",
                                    "1": "M13",
                                    "2": "674.25"
                                },
                                {
                                    "0": "2016",
                                    "1": "M13",
                                    "2": "676.82"
                                },
                                {
                                    "0": "2016",
                                    "1": "M13",
                                    "2": "677.49"
                                },
                                {
                                    "0": "2016",
                                    "1": "M13",
                                    "2": "678.89"
                                },
                                {
                                    "0": "2016",
                                    "1": "M13",
                                    "2": "679.87"
                                },
                                {
                                    "0": "2016",
                                    "1": "M13",
                                    "2": "680.95"
                                },
                                {
                                    "0": "2016",
                                    "1": "M13",
                                    "2": "683.29"
                                },
                                {
                                    "0": "2016",
                                    "1": "M13",
                                    "2": "683.49"
                                },
                                {
                                    "0": "2016",
                                    "1": "M13",
                                    "2": "683.51"
                                },
                                {
                                    "0": "2016",
                                    "1": "M13",
                                    "2": "686.38"
                                },
                                {
                                    "0": "2016",
                                    "1": "M13",
                                    "2": "689.7"
                                },
                                {
                                    "0": "2016",
                                    "1": "M13",
                                    "2": "689.92"
                                },
                                {
                                    "0": "2016",
                                    "1": "M13",
                                    "2": "695.75"
                                },
                                {
                                    "0": "2016",
                                    "1": "M13",
                                    "2": "696.5"
                                },
                                {
                                    "0": "2016",
                                    "1": "M13",
                                    "2": "698.18"
                                },
                                {
                                    "0": "2016",
                                    "1": "M13",
                                    "2": "698.96"
                                },
                                {
                                    "0": "2016",
                                    "1": "M13",
                                    "2": "699.3"
                                },
                                {
                                    "0": "2016",
                                    "1": "M13",
                                    "2": "700.44"
                                },
                                {
                                    "0": "2016",
                                    "1": "M13",
                                    "2": "700.58"
                                },
                                {
                                    "0": "2016",
                                    "1": "M13",
                                    "2": "700.98"
                                },
                                {
                                    "0": "2016",
                                    "1": "M13",
                                    "2": "703.35"
                                },
                                {
                                    "0": "2016",
                                    "1": "M13",
                                    "2": "703.55"
                                },
                                {
                                    "0": "2016",
                                    "1": "M13",
                                    "2": "703.81"
                                },
                                {
                                    "0": "2016",
                                    "1": "M13",
                                    "2": "706.3"
                                },
                                {
                                    "0": "2016",
                                    "1": "M13",
                                    "2": "708.04"
                                },
                                {
                                    "0": "2016",
                                    "1": "M13",
                                    "2": "710.02"
                                },
                                {
                                    "0": "2016",
                                    "1": "M13",
                                    "2": "712.03"
                                },
                                {
                                    "0": "2016",
                                    "1": "M13",
                                    "2": "712.47"
                                },
                                {
                                    "0": "2016",
                                    "1": "M13",
                                    "2": "712.72"
                                },
                                {
                                    "0": "2016",
                                    "1": "M13",
                                    "2": "713.32"
                                },
                                {
                                    "0": "2016",
                                    "1": "M13",
                                    "2": "713.78"
                                },
                                {
                                    "0": "2016",
                                    "1": "M13",
                                    "2": "715.3"
                                },
                                {
                                    "0": "2016",
                                    "1": "M13",
                                    "2": "715.31"
                                },
                                {
                                    "0": "2016",
                                    "1": "M13",
                                    "2": "716.57"
                                },
                                {
                                    "0": "2016",
                                    "1": "M13",
                                    "2": "718.61"
                                },
                                {
                                    "0": "2016",
                                    "1": "M13",
                                    "2": "720.07"
                                },
                                {
                                    "0": "2016",
                                    "1": "M13",
                                    "2": "723.69"
                                },
                                {
                                    "0": "2016",
                                    "1": "M13",
                                    "2": "724.4"
                                },
                                {
                                    "0": "2016",
                                    "1": "M13",
                                    "2": "724.92"
                                },
                                {
                                    "0": "2016",
                                    "1": "M13",
                                    "2": "727.97"
                                },
                                {
                                    "0": "2016",
                                    "1": "M13",
                                    "2": "728.01"
                                },
                                {
                                    "0": "2016",
                                    "1": "M13",
                                    "2": "728.4"
                                },
                                {
                                    "0": "2016",
                                    "1": "M13",
                                    "2": "730.09"
                                },
                                {
                                    "0": "2016",
                                    "1": "M13",
                                    "2": "731.48"
                                },
                                {
                                    "0": "2016",
                                    "1": "M13",
                                    "2": "732.38"
                                },
                                {
                                    "0": "2016",
                                    "1": "M13",
                                    "2": "734.01"
                                },
                                {
                                    "0": "2016",
                                    "1": "M13",
                                    "2": "734.52"
                                },
                                {
                                    "0": "2016",
                                    "1": "M13",
                                    "2": "737.9"
                                },
                                {
                                    "0": "2016",
                                    "1": "M13",
                                    "2": "739.39"
                                },
                                {
                                    "0": "2016",
                                    "1": "M13",
                                    "2": "739.6"
                                },
                                {
                                    "0": "2016",
                                    "1": "M13",
                                    "2": "745.85"
                                },
                                {
                                    "0": "2016",
                                    "1": "M13",
                                    "2": "746.56"
                                },
                                {
                                    "0": "2016",
                                    "1": "M13",
                                    "2": "746.88"
                                },
                                {
                                    "0": "2016",
                                    "1": "M13",
                                    "2": "749.49"
                                },
                                {
                                    "0": "2016",
                                    "1": "M13",
                                    "2": "750.23"
                                },
                                {
                                    "0": "2016",
                                    "1": "M13",
                                    "2": "751.87"
                                },
                                {
                                    "0": "2016",
                                    "1": "M13",
                                    "2": "752.95"
                                },
                                {
                                    "0": "2016",
                                    "1": "M13",
                                    "2": "754.09"
                                },
                                {
                                    "0": "2016",
                                    "1": "M13",
                                    "2": "754.23"
                                },
                                {
                                    "0": "2016",
                                    "1": "M13",
                                    "2": "756.81"
                                },
                                {
                                    "0": "2016",
                                    "1": "M13",
                                    "2": "758.35"
                                },
                                {
                                    "0": "2016",
                                    "1": "M13",
                                    "2": "761.17"
                                },
                                {
                                    "0": "2016",
                                    "1": "M13",
                                    "2": "762.51"
                                },
                                {
                                    "0": "2016",
                                    "1": "M13",
                                    "2": "763.43"
                                },
                                {
                                    "0": "2016",
                                    "1": "M13",
                                    "2": "763.8"
                                },
                                {
                                    "0": "2016",
                                    "1": "M13",
                                    "2": "764.4"
                                },
                                {
                                    "0": "2016",
                                    "1": "M13",
                                    "2": "766.59"
                                },
                                {
                                    "0": "2016",
                                    "1": "M13",
                                    "2": "767.65"
                                },
                                {
                                    "0": "2016",
                                    "1": "M13",
                                    "2": "770.72"
                                },
                                {
                                    "0": "2016",
                                    "1": "M13",
                                    "2": "771.14"
                                },
                                {
                                    "0": "2016",
                                    "1": "M13",
                                    "2": "771.31"
                                },
                                {
                                    "0": "2016",
                                    "1": "M13",
                                    "2": "772.43"
                                },
                                {
                                    "0": "2016",
                                    "1": "M13",
                                    "2": "773.58"
                                },
                                {
                                    "0": "2016",
                                    "1": "M13",
                                    "2": "774.39"
                                },
                                {
                                    "0": "2016",
                                    "1": "M13",
                                    "2": "774.9"
                                },
                                {
                                    "0": "2016",
                                    "1": "M13",
                                    "2": "777.44"
                                },
                                {
                                    "0": "2016",
                                    "1": "M13",
                                    "2": "778.26"
                                },
                                {
                                    "0": "2016",
                                    "1": "M13",
                                    "2": "778.36"
                                },
                                {
                                    "0": "2016",
                                    "1": "M13",
                                    "2": "779.71"
                                },
                                {
                                    "0": "2016",
                                    "1": "M13",
                                    "2": "780.75"
                                },
                                {
                                    "0": "2016",
                                    "1": "M13",
                                    "2": "783.48"
                                },
                                {
                                    "0": "2016",
                                    "1": "M13",
                                    "2": "787.15"
                                },
                                {
                                    "0": "2016",
                                    "1": "M13",
                                    "2": "788.23"
                                },
                                {
                                    "0": "2016",
                                    "1": "M13",
                                    "2": "788.82"
                                },
                                {
                                    "0": "2016",
                                    "1": "M13",
                                    "2": "789.78"
                                },
                                {
                                    "0": "2016",
                                    "1": "M13",
                                    "2": "790.84"
                                },
                                {
                                    "0": "2016",
                                    "1": "M13",
                                    "2": "791.48"
                                },
                                {
                                    "0": "2016",
                                    "1": "M13",
                                    "2": "793.88"
                                },
                                {
                                    "0": "2016",
                                    "1": "M13",
                                    "2": "797.25"
                                },
                                {
                                    "0": "2016",
                                    "1": "M13",
                                    "2": "800.24"
                                },
                                {
                                    "0": "2016",
                                    "1": "M13",
                                    "2": "800.39"
                                },
                                {
                                    "0": "2016",
                                    "1": "M13",
                                    "2": "800.74"
                                },
                                {
                                    "0": "2016",
                                    "1": "M13",
                                    "2": "803.37"
                                },
                                {
                                    "0": "2016",
                                    "1": "M13",
                                    "2": "804.09"
                                },
                                {
                                    "0": "2016",
                                    "1": "M13",
                                    "2": "806.96"
                                },
                                {
                                    "0": "2016",
                                    "1": "M13",
                                    "2": "811.02"
                                },
                                {
                                    "0": "2016",
                                    "1": "M13",
                                    "2": "814.33"
                                },
                                {
                                    "0": "2016",
                                    "1": "M13",
                                    "2": "815.16"
                                },
                                {
                                    "0": "2016",
                                    "1": "M13",
                                    "2": "816.75"
                                },
                                {
                                    "0": "2016",
                                    "1": "M13",
                                    "2": "816.98"
                                },
                                {
                                    "0": "2016",
                                    "1": "M13",
                                    "2": "817.2"
                                },
                                {
                                    "0": "2016",
                                    "1": "M13",
                                    "2": "819.08"
                                },
                                {
                                    "0": "2016",
                                    "1": "M13",
                                    "2": "825.74"
                                },
                                {
                                    "0": "2016",
                                    "1": "M13",
                                    "2": "825.84"
                                },
                                {
                                    "0": "2016",
                                    "1": "M13",
                                    "2": "826.28"
                                },
                                {
                                    "0": "2016",
                                    "1": "M13",
                                    "2": "827.22"
                                },
                                {
                                    "0": "2016",
                                    "1": "M13",
                                    "2": "827.24"
                                },
                                {
                                    "0": "2016",
                                    "1": "M13",
                                    "2": "827.81"
                                },
                                {
                                    "0": "2016",
                                    "1": "M13",
                                    "2": "829.1"
                                },
                                {
                                    "0": "2016",
                                    "1": "M13",
                                    "2": "830.58"
                                },
                                {
                                    "0": "2016",
                                    "1": "M13",
                                    "2": "832.04"
                                },
                                {
                                    "0": "2016",
                                    "1": "M13",
                                    "2": "832.77"
                                },
                                {
                                    "0": "2016",
                                    "1": "M13",
                                    "2": "832.86"
                                },
                                {
                                    "0": "2016",
                                    "1": "M13",
                                    "2": "833.43"
                                },
                                {
                                    "0": "2016",
                                    "1": "M13",
                                    "2": "834.02"
                                },
                                {
                                    "0": "2016",
                                    "1": "M13",
                                    "2": "835.85"
                                },
                                {
                                    "0": "2016",
                                    "1": "M13",
                                    "2": "837.17"
                                },
                                {
                                    "0": "2016",
                                    "1": "M13",
                                    "2": "838.18"
                                },
                                {
                                    "0": "2016",
                                    "1": "M13",
                                    "2": "839.97"
                                },
                                {
                                    "0": "2016",
                                    "1": "M13",
                                    "2": "841.33"
                                },
                                {
                                    "0": "2016",
                                    "1": "M13",
                                    "2": "842.11"
                                },
                                {
                                    "0": "2016",
                                    "1": "M13",
                                    "2": "842.55"
                                },
                                {
                                    "0": "2016",
                                    "1": "M13",
                                    "2": "843.26"
                                },
                                {
                                    "0": "2016",
                                    "1": "M13",
                                    "2": "844.26"
                                },
                                {
                                    "0": "2016",
                                    "1": "M13",
                                    "2": "844.59"
                                },
                                {
                                    "0": "2016",
                                    "1": "M13",
                                    "2": "846.54"
                                },
                                {
                                    "0": "2016",
                                    "1": "M13",
                                    "2": "847.67"
                                },
                                {
                                    "0": "2016",
                                    "1": "M13",
                                    "2": "847.7"
                                },
                                {
                                    "0": "2016",
                                    "1": "M13",
                                    "2": "850.43"
                                },
                                {
                                    "0": "2016",
                                    "1": "M13",
                                    "2": "851.65"
                                },
                                {
                                    "0": "2016",
                                    "1": "M13",
                                    "2": "852.53"
                                },
                                {
                                    "0": "2016",
                                    "1": "M13",
                                    "2": "852.73"
                                },
                                {
                                    "0": "2016",
                                    "1": "M13",
                                    "2": "855.64"
                                },
                                {
                                    "0": "2016",
                                    "1": "M13",
                                    "2": "855.69"
                                },
                                {
                                    "0": "2016",
                                    "1": "M13",
                                    "2": "856.22"
                                },
                                {
                                    "0": "2016",
                                    "1": "M13",
                                    "2": "856.39"
                                },
                                {
                                    "0": "2016",
                                    "1": "M13",
                                    "2": "857.11"
                                },
                                {
                                    "0": "2016",
                                    "1": "M13",
                                    "2": "858.22"
                                },
                                {
                                    "0": "2016",
                                    "1": "M13",
                                    "2": "859.39"
                                },
                                {
                                    "0": "2016",
                                    "1": "M13",
                                    "2": "860.91"
                                },
                                {
                                    "0": "2016",
                                    "1": "M13",
                                    "2": "863.92"
                                },
                                {
                                    "0": "2016",
                                    "1": "M13",
                                    "2": "864.27"
                                },
                                {
                                    "0": "2016",
                                    "1": "M13",
                                    "2": "865.35"
                                },
                                {
                                    "0": "2016",
                                    "1": "M13",
                                    "2": "868.22"
                                },
                                {
                                    "0": "2016",
                                    "1": "M13",
                                    "2": "868.26"
                                },
                                {
                                    "0": "2016",
                                    "1": "M13",
                                    "2": "869.25"
                                },
                                {
                                    "0": "2016",
                                    "1": "M13",
                                    "2": "869.9"
                                },
                                {
                                    "0": "2016",
                                    "1": "M13",
                                    "2": "874.38"
                                },
                                {
                                    "0": "2016",
                                    "1": "M13",
                                    "2": "877.44"
                                },
                                {
                                    "0": "2016",
                                    "1": "M13",
                                    "2": "878.07"
                                },
                                {
                                    "0": "2016",
                                    "1": "M13",
                                    "2": "878.96"
                                },
                                {
                                    "0": "2016",
                                    "1": "M13",
                                    "2": "879.4"
                                },
                                {
                                    "0": "2016",
                                    "1": "M13",
                                    "2": "881.05"
                                },
                                {
                                    "0": "2016",
                                    "1": "M13",
                                    "2": "884.3"
                                },
                                {
                                    "0": "2016",
                                    "1": "M13",
                                    "2": "885.39"
                                },
                                {
                                    "0": "2016",
                                    "1": "M13",
                                    "2": "889.25"
                                },
                                {
                                    "0": "2016",
                                    "1": "M13",
                                    "2": "890.91"
                                },
                                {
                                    "0": "2016",
                                    "1": "M13",
                                    "2": "891.61"
                                },
                                {
                                    "0": "2016",
                                    "1": "M13",
                                    "2": "893.81"
                                },
                                {
                                    "0": "2016",
                                    "1": "M13",
                                    "2": "895.95"
                                },
                                {
                                    "0": "2016",
                                    "1": "M13",
                                    "2": "898.16"
                                },
                                {
                                    "0": "2016",
                                    "1": "M13",
                                    "2": "898.27"
                                },
                                {
                                    "0": "2016",
                                    "1": "M13",
                                    "2": "898.76"
                                },
                                {
                                    "0": "2016",
                                    "1": "M13",
                                    "2": "901.05"
                                },
                                {
                                    "0": "2016",
                                    "1": "M13",
                                    "2": "901.82"
                                },
                                {
                                    "0": "2016",
                                    "1": "M13",
                                    "2": "904.3"
                                },
                                {
                                    "0": "2016",
                                    "1": "M13",
                                    "2": "905.3"
                                },
                                {
                                    "0": "2016",
                                    "1": "M13",
                                    "2": "905.93"
                                },
                                {
                                    "0": "2016",
                                    "1": "M13",
                                    "2": "906.79"
                                },
                                {
                                    "0": "2016",
                                    "1": "M13",
                                    "2": "907.4"
                                },
                                {
                                    "0": "2016",
                                    "1": "M13",
                                    "2": "908.15"
                                },
                                {
                                    "0": "2016",
                                    "1": "M13",
                                    "2": "908.2"
                                },
                                {
                                    "0": "2016",
                                    "1": "M13",
                                    "2": "908.26"
                                },
                                {
                                    "0": "2016",
                                    "1": "M13",
                                    "2": "909.02"
                                },
                                {
                                    "0": "2016",
                                    "1": "M13",
                                    "2": "909.71"
                                },
                                {
                                    "0": "2016",
                                    "1": "M13",
                                    "2": "912"
                                },
                                {
                                    "0": "2016",
                                    "1": "M13",
                                    "2": "912.83"
                                },
                                {
                                    "0": "2016",
                                    "1": "M13",
                                    "2": "916.16"
                                },
                                {
                                    "0": "2016",
                                    "1": "M13",
                                    "2": "916.77"
                                },
                                {
                                    "0": "2016",
                                    "1": "M13",
                                    "2": "916.86"
                                },
                                {
                                    "0": "2016",
                                    "1": "M13",
                                    "2": "917.01"
                                },
                                {
                                    "0": "2016",
                                    "1": "M13",
                                    "2": "917.63"
                                },
                                {
                                    "0": "2016",
                                    "1": "M13",
                                    "2": "918.15"
                                },
                                {
                                    "0": "2016",
                                    "1": "M13",
                                    "2": "918.47"
                                },
                                {
                                    "0": "2016",
                                    "1": "M13",
                                    "2": "920.11"
                                },
                                {
                                    "0": "2016",
                                    "1": "M13",
                                    "2": "920.16"
                                },
                                {
                                    "0": "2016",
                                    "1": "M13",
                                    "2": "920.58"
                                },
                                {
                                    "0": "2016",
                                    "1": "M13",
                                    "2": "922.03"
                                },
                                {
                                    "0": "2016",
                                    "1": "M13",
                                    "2": "923.34"
                                },
                                {
                                    "0": "2016",
                                    "1": "M13",
                                    "2": "924.26"
                                },
                                {
                                    "0": "2016",
                                    "1": "M13",
                                    "2": "926.04"
                                },
                                {
                                    "0": "2016",
                                    "1": "M13",
                                    "2": "930.04"
                                },
                                {
                                    "0": "2016",
                                    "1": "M13",
                                    "2": "930.33"
                                },
                                {
                                    "0": "2016",
                                    "1": "M13",
                                    "2": "931.79"
                                },
                                {
                                    "0": "2016",
                                    "1": "M13",
                                    "2": "932.38"
                                },
                                {
                                    "0": "2016",
                                    "1": "M13",
                                    "2": "933.16"
                                },
                                {
                                    "0": "2016",
                                    "1": "M13",
                                    "2": "933.18"
                                },
                                {
                                    "0": "2016",
                                    "1": "M13",
                                    "2": "936.3"
                                },
                                {
                                    "0": "2016",
                                    "1": "M13",
                                    "2": "941.11"
                                },
                                {
                                    "0": "2016",
                                    "1": "M13",
                                    "2": "942.66"
                                },
                                {
                                    "0": "2016",
                                    "1": "M13",
                                    "2": "943.63"
                                },
                                {
                                    "0": "2016",
                                    "1": "M13",
                                    "2": "944.93"
                                },
                                {
                                    "0": "2016",
                                    "1": "M13",
                                    "2": "948.35"
                                },
                                {
                                    "0": "2016",
                                    "1": "M13",
                                    "2": "949.98"
                                },
                                {
                                    "0": "2016",
                                    "1": "M13",
                                    "2": "952.89"
                                },
                                {
                                    "0": "2016",
                                    "1": "M13",
                                    "2": "953.37"
                                },
                                {
                                    "0": "2016",
                                    "1": "M13",
                                    "2": "953.38"
                                },
                                {
                                    "0": "2016",
                                    "1": "M13",
                                    "2": "954.11"
                                },
                                {
                                    "0": "2016",
                                    "1": "M13",
                                    "2": "956.81"
                                },
                                {
                                    "0": "2016",
                                    "1": "M13",
                                    "2": "957.44"
                                },
                                {
                                    "0": "2016",
                                    "1": "M13",
                                    "2": "958.72"
                                },
                                {
                                    "0": "2016",
                                    "1": "M13",
                                    "2": "961.53"
                                },
                                {
                                    "0": "2016",
                                    "1": "M13",
                                    "2": "961.6"
                                },
                                {
                                    "0": "2016",
                                    "1": "M13",
                                    "2": "962.73"
                                },
                                {
                                    "0": "2016",
                                    "1": "M13",
                                    "2": "963.33"
                                },
                                {
                                    "0": "2016",
                                    "1": "M13",
                                    "2": "963.71"
                                },
                                {
                                    "0": "2016",
                                    "1": "M13",
                                    "2": "964.01"
                                },
                                {
                                    "0": "2016",
                                    "1": "M13",
                                    "2": "966.28"
                                },
                                {
                                    "0": "2016",
                                    "1": "M13",
                                    "2": "967.79"
                                },
                                {
                                    "0": "2016",
                                    "1": "M13",
                                    "2": "968.37"
                                },
                                {
                                    "0": "2016",
                                    "1": "M13",
                                    "2": "971.36"
                                },
                                {
                                    "0": "2016",
                                    "1": "M13",
                                    "2": "973.19"
                                },
                                {
                                    "0": "2016",
                                    "1": "M13",
                                    "2": "976.89"
                                },
                                {
                                    "0": "2016",
                                    "1": "M13",
                                    "2": "979.34"
                                },
                                {
                                    "0": "2016",
                                    "1": "M13",
                                    "2": "980.03"
                                },
                                {
                                    "0": "2016",
                                    "1": "M13",
                                    "2": "982.12"
                                },
                                {
                                    "0": "2016",
                                    "1": "M13",
                                    "2": "982.57"
                                },
                                {
                                    "0": "2016",
                                    "1": "M13",
                                    "2": "982.59"
                                },
                                {
                                    "0": "2016",
                                    "1": "M13",
                                    "2": "982.84"
                                },
                                {
                                    "0": "2016",
                                    "1": "M13",
                                    "2": "983.38"
                                },
                                {
                                    "0": "2016",
                                    "1": "M13",
                                    "2": "984.47"
                                },
                                {
                                    "0": "2016",
                                    "1": "M13",
                                    "2": "985.72"
                                },
                                {
                                    "0": "2016",
                                    "1": "M13",
                                    "2": "985.75"
                                },
                                {
                                    "0": "2016",
                                    "1": "M13",
                                    "2": "988.06"
                                },
                                {
                                    "0": "2016",
                                    "1": "M13",
                                    "2": "990.38"
                                },
                                {
                                    "0": "2016",
                                    "1": "M13",
                                    "2": "994.43"
                                },
                                {
                                    "0": "2016",
                                    "1": "M13",
                                    "2": "995.26"
                                },
                                {
                                    "0": "2016",
                                    "1": "M13",
                                    "2": "999.72"
                                },
                                {
                                    "0": "2016",
                                    "1": "M13",
                                    "2": "999.76"
                                },
                                {
                                    "0": "2016",
                                    "1": "M13",
                                    "2": "1003.06"
                                },
                                {
                                    "0": "2016",
                                    "1": "M13",
                                    "2": "1003.57"
                                },
                                {
                                    "0": "2016",
                                    "1": "M13",
                                    "2": "1004.23"
                                },
                                {
                                    "0": "2016",
                                    "1": "M13",
                                    "2": "1006.62"
                                },
                                {
                                    "0": "2016",
                                    "1": "M13",
                                    "2": "1007.31"
                                },
                                {
                                    "0": "2016",
                                    "1": "M13",
                                    "2": "1007.51"
                                },
                                {
                                    "0": "2016",
                                    "1": "M13",
                                    "2": "1008.86"
                                },
                                {
                                    "0": "2016",
                                    "1": "M13",
                                    "2": "1009.99"
                                },
                                {
                                    "0": "2016",
                                    "1": "M13",
                                    "2": "1019.91"
                                },
                                {
                                    "0": "2016",
                                    "1": "M13",
                                    "2": "1020.01"
                                },
                                {
                                    "0": "2016",
                                    "1": "M13",
                                    "2": "1021.07"
                                },
                                {
                                    "0": "2016",
                                    "1": "M13",
                                    "2": "1021.38"
                                },
                                {
                                    "0": "2016",
                                    "1": "M13",
                                    "2": "1029.07"
                                },
                                {
                                    "0": "2016",
                                    "1": "M13",
                                    "2": "1031.16"
                                },
                                {
                                    "0": "2016",
                                    "1": "M13",
                                    "2": "1031.41"
                                },
                                {
                                    "0": "2016",
                                    "1": "M13",
                                    "2": "1034.31"
                                },
                                {
                                    "0": "2016",
                                    "1": "M13",
                                    "2": "1035.53"
                                },
                                {
                                    "0": "2016",
                                    "1": "M13",
                                    "2": "1040.84"
                                },
                                {
                                    "0": "2016",
                                    "1": "M13",
                                    "2": "1041.79"
                                },
                                {
                                    "0": "2016",
                                    "1": "M13",
                                    "2": "1043.2"
                                },
                                {
                                    "0": "2016",
                                    "1": "M13",
                                    "2": "1043.52"
                                },
                                {
                                    "0": "2016",
                                    "1": "M13",
                                    "2": "1045.27"
                                },
                                {
                                    "0": "2016",
                                    "1": "M13",
                                    "2": "1048.6"
                                },
                                {
                                    "0": "2016",
                                    "1": "M13",
                                    "2": "1049.13"
                                },
                                {
                                    "0": "2016",
                                    "1": "M13",
                                    "2": "1050.77"
                                },
                                {
                                    "0": "2016",
                                    "1": "M13",
                                    "2": "1053"
                                },
                                {
                                    "0": "2016",
                                    "1": "M13",
                                    "2": "1055"
                                },
                                {
                                    "0": "2016",
                                    "1": "M13",
                                    "2": "1056.21"
                                },
                                {
                                    "0": "2016",
                                    "1": "M13",
                                    "2": "1064.26"
                                },
                                {
                                    "0": "2016",
                                    "1": "M13",
                                    "2": "1068.25"
                                },
                                {
                                    "0": "2016",
                                    "1": "M13",
                                    "2": "1070.62"
                                },
                                {
                                    "0": "2016",
                                    "1": "M13",
                                    "2": "1070.7"
                                },
                                {
                                    "0": "2016",
                                    "1": "M13",
                                    "2": "1071.7"
                                },
                                {
                                    "0": "2016",
                                    "1": "M13",
                                    "2": "1075.98"
                                },
                                {
                                    "0": "2016",
                                    "1": "M13",
                                    "2": "1078.18"
                                },
                                {
                                    "0": "2016",
                                    "1": "M13",
                                    "2": "1091.59"
                                },
                                {
                                    "0": "2016",
                                    "1": "M13",
                                    "2": "1092.56"
                                },
                                {
                                    "0": "2016",
                                    "1": "M13",
                                    "2": "1097.32"
                                },
                                {
                                    "0": "2016",
                                    "1": "M13",
                                    "2": "1101.21"
                                },
                                {
                                    "0": "2016",
                                    "1": "M13",
                                    "2": "1101.35"
                                },
                                {
                                    "0": "2016",
                                    "1": "M13",
                                    "2": "1102.48"
                                },
                                {
                                    "0": "2016",
                                    "1": "M13",
                                    "2": "1102.91"
                                },
                                {
                                    "0": "2016",
                                    "1": "M13",
                                    "2": "1105.1"
                                },
                                {
                                    "0": "2016",
                                    "1": "M13",
                                    "2": "1113.42"
                                },
                                {
                                    "0": "2016",
                                    "1": "M13",
                                    "2": "1117.1"
                                },
                                {
                                    "0": "2016",
                                    "1": "M13",
                                    "2": "1121.26"
                                },
                                {
                                    "0": "2016",
                                    "1": "M13",
                                    "2": "1123.03"
                                },
                                {
                                    "0": "2016",
                                    "1": "M13",
                                    "2": "1128.32"
                                },
                                {
                                    "0": "2016",
                                    "1": "M13",
                                    "2": "1129.79"
                                },
                                {
                                    "0": "2016",
                                    "1": "M13",
                                    "2": "1146.43"
                                },
                                {
                                    "0": "2016",
                                    "1": "M13",
                                    "2": "1156.21"
                                },
                                {
                                    "0": "2016",
                                    "1": "M13",
                                    "2": "1159.35"
                                },
                                {
                                    "0": "2016",
                                    "1": "M13",
                                    "2": "1163.47"
                                },
                                {
                                    "0": "2016",
                                    "1": "M13",
                                    "2": "1163.56"
                                },
                                {
                                    "0": "2016",
                                    "1": "M13",
                                    "2": "1167.54"
                                },
                                {
                                    "0": "2016",
                                    "1": "M13",
                                    "2": "1177.63"
                                },
                                {
                                    "0": "2016",
                                    "1": "M13",
                                    "2": "1177.81"
                                },
                                {
                                    "0": "2016",
                                    "1": "M13",
                                    "2": "1181.1"
                                },
                                {
                                    "0": "2016",
                                    "1": "M13",
                                    "2": "1186.07"
                                },
                                {
                                    "0": "2016",
                                    "1": "M13",
                                    "2": "1191.17"
                                },
                                {
                                    "0": "2016",
                                    "1": "M13",
                                    "2": "1196.4"
                                },
                                {
                                    "0": "2016",
                                    "1": "M13",
                                    "2": "1198.66"
                                },
                                {
                                    "0": "2016",
                                    "1": "M13",
                                    "2": "1199.71"
                                },
                                {
                                    "0": "2016",
                                    "1": "M13",
                                    "2": "1200.39"
                                },
                                {
                                    "0": "2016",
                                    "1": "M13",
                                    "2": "1210.29"
                                },
                                {
                                    "0": "2016",
                                    "1": "M13",
                                    "2": "1210.91"
                                },
                                {
                                    "0": "2016",
                                    "1": "M13",
                                    "2": "1212.89"
                                },
                                {
                                    "0": "2016",
                                    "1": "M13",
                                    "2": "1217.17"
                                },
                                {
                                    "0": "2016",
                                    "1": "M13",
                                    "2": "1220.32"
                                },
                                {
                                    "0": "2016",
                                    "1": "M13",
                                    "2": "1224.33"
                                },
                                {
                                    "0": "2016",
                                    "1": "M13",
                                    "2": "1224.52"
                                },
                                {
                                    "0": "2016",
                                    "1": "M13",
                                    "2": "1228.01"
                                },
                                {
                                    "0": "2016",
                                    "1": "M13",
                                    "2": "1229.51"
                                },
                                {
                                    "0": "2016",
                                    "1": "M13",
                                    "2": "1232.22"
                                },
                                {
                                    "0": "2016",
                                    "1": "M13",
                                    "2": "1232.42"
                                },
                                {
                                    "0": "2016",
                                    "1": "M13",
                                    "2": "1233.69"
                                },
                                {
                                    "0": "2016",
                                    "1": "M13",
                                    "2": "1234.05"
                                },
                                {
                                    "0": "2016",
                                    "1": "M13",
                                    "2": "1235.85"
                                },
                                {
                                    "0": "2016",
                                    "1": "M13",
                                    "2": "1239.51"
                                },
                                {
                                    "0": "2016",
                                    "1": "M13",
                                    "2": "1250.8"
                                },
                                {
                                    "0": "2016",
                                    "1": "M13",
                                    "2": "1254.58"
                                },
                                {
                                    "0": "2016",
                                    "1": "M13",
                                    "2": "1257.53"
                                },
                                {
                                    "0": "2016",
                                    "1": "M13",
                                    "2": "1260.3"
                                },
                                {
                                    "0": "2016",
                                    "1": "M13",
                                    "2": "1261.46"
                                },
                                {
                                    "0": "2016",
                                    "1": "M13",
                                    "2": "1274.39"
                                },
                                {
                                    "0": "2016",
                                    "1": "M13",
                                    "2": "1280.28"
                                },
                                {
                                    "0": "2016",
                                    "1": "M13",
                                    "2": "1297.72"
                                },
                                {
                                    "0": "2016",
                                    "1": "M13",
                                    "2": "1314.77"
                                },
                                {
                                    "0": "2016",
                                    "1": "M13",
                                    "2": "1318.75"
                                },
                                {
                                    "0": "2016",
                                    "1": "M13",
                                    "2": "1319.51"
                                },
                                {
                                    "0": "2016",
                                    "1": "M13",
                                    "2": "1337.26"
                                },
                                {
                                    "0": "2016",
                                    "1": "M13",
                                    "2": "1349.22"
                                },
                                {
                                    "0": "2016",
                                    "1": "M13",
                                    "2": "1350.5"
                                },
                                {
                                    "0": "2016",
                                    "1": "M13",
                                    "2": "1354.48"
                                },
                                {
                                    "0": "2016",
                                    "1": "M13",
                                    "2": "1385.09"
                                },
                                {
                                    "0": "2016",
                                    "1": "M13",
                                    "2": "1437.68"
                                },
                                {
                                    "0": "2016",
                                    "1": "M13",
                                    "2": "1443.04"
                                },
                                {
                                    "0": "2016",
                                    "1": "M13",
                                    "2": "1445.21"
                                },
                                {
                                    "0": "2016",
                                    "1": "M13",
                                    "2": "1461.86"
                                },
                                {
                                    "0": "2016",
                                    "1": "M13",
                                    "2": "1501.5"
                                },
                                {
                                    "0": "2016",
                                    "1": "M13",
                                    "2": "1502.24"
                                },
                                {
                                    "0": "2016",
                                    "1": "M13",
                                    "2": "1532.34"
                                },
                                {
                                    "0": "2016",
                                    "1": "M13",
                                    "2": "1537.03"
                                },
                                {
                                    "0": "2016",
                                    "1": "M13",
                                    "2": "1568.38"
                                },
                                {
                                    "0": "2016",
                                    "1": "M13",
                                    "2": "1570.61"
                                },
                                {
                                    "0": "2016",
                                    "1": "M13",
                                    "2": "1580.79"
                                },
                                {
                                    "0": "2016",
                                    "1": "M13",
                                    "2": "1583.98"
                                },
                                {
                                    "0": "2016",
                                    "1": "M13",
                                    "2": "1596.57"
                                },
                                {
                                    "0": "2016",
                                    "1": "M13",
                                    "2": "1603.07"
                                },
                                {
                                    "0": "2016",
                                    "1": "M13",
                                    "2": "1618.81"
                                },
                                {
                                    "0": "2016",
                                    "1": "M13",
                                    "2": "1637.45"
                                },
                                {
                                    "0": "2016",
                                    "1": "M13",
                                    "2": "1639.99"
                                },
                                {
                                    "0": "2016",
                                    "1": "M13",
                                    "2": "1688.8"
                                },
                                {
                                    "0": "2016",
                                    "1": "M13",
                                    "2": "1699.97"
                                },
                                {
                                    "0": "2016",
                                    "1": "M13",
                                    "2": "1712.65"
                                },
                                {
                                    "0": "2016",
                                    "1": "M13",
                                    "2": "1718.26"
                                },
                                {
                                    "0": "2016",
                                    "1": "M13",
                                    "2": "1720.42"
                                },
                                {
                                    "0": "2016",
                                    "1": "M13",
                                    "2": "1730.96"
                                },
                                {
                                    "0": "2017",
                                    "1": "M01",
                                    "2": "232"
                                },
                                {
                                    "0": "2017",
                                    "1": "M01",
                                    "2": "235.14"
                                },
                                {
                                    "0": "2017",
                                    "1": "M01",
                                    "2": "237.25"
                                },
                                {
                                    "0": "2017",
                                    "1": "M01",
                                    "2": "238.74"
                                },
                                {
                                    "0": "2017",
                                    "1": "M01",
                                    "2": "244.49"
                                },
                                {
                                    "0": "2017",
                                    "1": "M01",
                                    "2": "245.14"
                                },
                                {
                                    "0": "2017",
                                    "1": "M01",
                                    "2": "249.42"
                                },
                                {
                                    "0": "2017",
                                    "1": "M01",
                                    "2": "251.75"
                                },
                                {
                                    "0": "2017",
                                    "1": "M01",
                                    "2": "252.65"
                                },
                                {
                                    "0": "2017",
                                    "1": "M01",
                                    "2": "252.72"
                                },
                                {
                                    "0": "2017",
                                    "1": "M01",
                                    "2": "255.29"
                                },
                                {
                                    "0": "2017",
                                    "1": "M01",
                                    "2": "259.62"
                                },
                                {
                                    "0": "2017",
                                    "1": "M01",
                                    "2": "262.2"
                                },
                                {
                                    "0": "2017",
                                    "1": "M01",
                                    "2": "264.51"
                                },
                                {
                                    "0": "2017",
                                    "1": "M01",
                                    "2": "269.7"
                                },
                                {
                                    "0": "2017",
                                    "1": "M01",
                                    "2": "270.12"
                                },
                                {
                                    "0": "2017",
                                    "1": "M01",
                                    "2": "272.88"
                                },
                                {
                                    "0": "2017",
                                    "1": "M01",
                                    "2": "273.67"
                                },
                                {
                                    "0": "2017",
                                    "1": "M01",
                                    "2": "274.25"
                                },
                                {
                                    "0": "2017",
                                    "1": "M01",
                                    "2": "276.64"
                                },
                                {
                                    "0": "2017",
                                    "1": "M01",
                                    "2": "278.21"
                                },
                                {
                                    "0": "2017",
                                    "1": "M01",
                                    "2": "281.31"
                                },
                                {
                                    "0": "2017",
                                    "1": "M01",
                                    "2": "286.66"
                                },
                                {
                                    "0": "2017",
                                    "1": "M01",
                                    "2": "288.22"
                                },
                                {
                                    "0": "2017",
                                    "1": "M01",
                                    "2": "289.89"
                                },
                                {
                                    "0": "2017",
                                    "1": "M01",
                                    "2": "291.16"
                                },
                                {
                                    "0": "2017",
                                    "1": "M01",
                                    "2": "292.28"
                                },
                                {
                                    "0": "2017",
                                    "1": "M01",
                                    "2": "293.39"
                                },
                                {
                                    "0": "2017",
                                    "1": "M01",
                                    "2": "293.49"
                                },
                                {
                                    "0": "2017",
                                    "1": "M01",
                                    "2": "295.24"
                                },
                                {
                                    "0": "2017",
                                    "1": "M01",
                                    "2": "295.46"
                                },
                                {
                                    "0": "2017",
                                    "1": "M01",
                                    "2": "299.88"
                                },
                                {
                                    "0": "2017",
                                    "1": "M01",
                                    "2": "302"
                                },
                                {
                                    "0": "2017",
                                    "1": "M01",
                                    "2": "303.92"
                                },
                                {
                                    "0": "2017",
                                    "1": "M01",
                                    "2": "309.16"
                                },
                                {
                                    "0": "2017",
                                    "1": "M01",
                                    "2": "310.7"
                                },
                                {
                                    "0": "2017",
                                    "1": "M01",
                                    "2": "311.17"
                                },
                                {
                                    "0": "2017",
                                    "1": "M01",
                                    "2": "315"
                                },
                                {
                                    "0": "2017",
                                    "1": "M01",
                                    "2": "315.24"
                                },
                                {
                                    "0": "2017",
                                    "1": "M01",
                                    "2": "316.06"
                                },
                                {
                                    "0": "2017",
                                    "1": "M01",
                                    "2": "318.02"
                                },
                                {
                                    "0": "2017",
                                    "1": "M01",
                                    "2": "318.24"
                                },
                                {
                                    "0": "2017",
                                    "1": "M01",
                                    "2": "319.46"
                                },
                                {
                                    "0": "2017",
                                    "1": "M01",
                                    "2": "320.4"
                                },
                                {
                                    "0": "2017",
                                    "1": "M01",
                                    "2": "320.52"
                                },
                                {
                                    "0": "2017",
                                    "1": "M01",
                                    "2": "323.01"
                                },
                                {
                                    "0": "2017",
                                    "1": "M01",
                                    "2": "323.52"
                                },
                                {
                                    "0": "2017",
                                    "1": "M01",
                                    "2": "326.37"
                                },
                                {
                                    "0": "2017",
                                    "1": "M01",
                                    "2": "326.71"
                                },
                                {
                                    "0": "2017",
                                    "1": "M01",
                                    "2": "328.24"
                                },
                                {
                                    "0": "2017",
                                    "1": "M01",
                                    "2": "329.4"
                                },
                                {
                                    "0": "2017",
                                    "1": "M01",
                                    "2": "330.53"
                                },
                                {
                                    "0": "2017",
                                    "1": "M01",
                                    "2": "330.79"
                                },
                                {
                                    "0": "2017",
                                    "1": "M01",
                                    "2": "331.43"
                                },
                                {
                                    "0": "2017",
                                    "1": "M01",
                                    "2": "332.59"
                                },
                                {
                                    "0": "2017",
                                    "1": "M01",
                                    "2": "334.42"
                                },
                                {
                                    "0": "2017",
                                    "1": "M01",
                                    "2": "339.15"
                                },
                                {
                                    "0": "2017",
                                    "1": "M01",
                                    "2": "339.2"
                                },
                                {
                                    "0": "2017",
                                    "1": "M01",
                                    "2": "339.47"
                                },
                                {
                                    "0": "2017",
                                    "1": "M01",
                                    "2": "340.66"
                                },
                                {
                                    "0": "2017",
                                    "1": "M01",
                                    "2": "340.92"
                                },
                                {
                                    "0": "2017",
                                    "1": "M01",
                                    "2": "342.07"
                                },
                                {
                                    "0": "2017",
                                    "1": "M01",
                                    "2": "342.97"
                                },
                                {
                                    "0": "2017",
                                    "1": "M01",
                                    "2": "344.1"
                                },
                                {
                                    "0": "2017",
                                    "1": "M01",
                                    "2": "347.17"
                                },
                                {
                                    "0": "2017",
                                    "1": "M01",
                                    "2": "347.21"
                                },
                                {
                                    "0": "2017",
                                    "1": "M01",
                                    "2": "347.47"
                                },
                                {
                                    "0": "2017",
                                    "1": "M01",
                                    "2": "350.3"
                                },
                                {
                                    "0": "2017",
                                    "1": "M01",
                                    "2": "355.79"
                                },
                                {
                                    "0": "2017",
                                    "1": "M01",
                                    "2": "356.1"
                                },
                                {
                                    "0": "2017",
                                    "1": "M01",
                                    "2": "356.17"
                                },
                                {
                                    "0": "2017",
                                    "1": "M01",
                                    "2": "357.41"
                                },
                                {
                                    "0": "2017",
                                    "1": "M01",
                                    "2": "359.01"
                                },
                                {
                                    "0": "2017",
                                    "1": "M01",
                                    "2": "359.18"
                                },
                                {
                                    "0": "2017",
                                    "1": "M01",
                                    "2": "360.68"
                                },
                                {
                                    "0": "2017",
                                    "1": "M01",
                                    "2": "360.8"
                                },
                                {
                                    "0": "2017",
                                    "1": "M01",
                                    "2": "361.5"
                                },
                                {
                                    "0": "2017",
                                    "1": "M01",
                                    "2": "361.73"
                                },
                                {
                                    "0": "2017",
                                    "1": "M01",
                                    "2": "362.42"
                                },
                                {
                                    "0": "2017",
                                    "1": "M01",
                                    "2": "364.06"
                                },
                                {
                                    "0": "2017",
                                    "1": "M01",
                                    "2": "364.48"
                                },
                                {
                                    "0": "2017",
                                    "1": "M01",
                                    "2": "365.01"
                                },
                                {
                                    "0": "2017",
                                    "1": "M01",
                                    "2": "365.31"
                                },
                                {
                                    "0": "2017",
                                    "1": "M01",
                                    "2": "365.45"
                                },
                                {
                                    "0": "2017",
                                    "1": "M01",
                                    "2": "365.58"
                                },
                                {
                                    "0": "2017",
                                    "1": "M01",
                                    "2": "367.51"
                                },
                                {
                                    "0": "2017",
                                    "1": "M01",
                                    "2": "369.68"
                                },
                                {
                                    "0": "2017",
                                    "1": "M01",
                                    "2": "370.44"
                                },
                                {
                                    "0": "2017",
                                    "1": "M01",
                                    "2": "371.4"
                                },
                                {
                                    "0": "2017",
                                    "1": "M01",
                                    "2": "371.82"
                                },
                                {
                                    "0": "2017",
                                    "1": "M01",
                                    "2": "374.65"
                                },
                                {
                                    "0": "2017",
                                    "1": "M01",
                                    "2": "374.9"
                                },
                                {
                                    "0": "2017",
                                    "1": "M01",
                                    "2": "376.25"
                                },
                                {
                                    "0": "2017",
                                    "1": "M01",
                                    "2": "376.6"
                                },
                                {
                                    "0": "2017",
                                    "1": "M01",
                                    "2": "376.8"
                                },
                                {
                                    "0": "2017",
                                    "1": "M01",
                                    "2": "378.67"
                                },
                                {
                                    "0": "2017",
                                    "1": "M01",
                                    "2": "379.95"
                                },
                                {
                                    "0": "2017",
                                    "1": "M01",
                                    "2": "381.62"
                                },
                                {
                                    "0": "2017",
                                    "1": "M01",
                                    "2": "381.64"
                                },
                                {
                                    "0": "2017",
                                    "1": "M01",
                                    "2": "382.98"
                                },
                                {
                                    "0": "2017",
                                    "1": "M01",
                                    "2": "383.49"
                                },
                                {
                                    "0": "2017",
                                    "1": "M01",
                                    "2": "384.13"
                                },
                                {
                                    "0": "2017",
                                    "1": "M01",
                                    "2": "384.38"
                                },
                                {
                                    "0": "2017",
                                    "1": "M01",
                                    "2": "385.48"
                                },
                                {
                                    "0": "2017",
                                    "1": "M01",
                                    "2": "386.37"
                                },
                                {
                                    "0": "2017",
                                    "1": "M01",
                                    "2": "386.54"
                                },
                                {
                                    "0": "2017",
                                    "1": "M01",
                                    "2": "389.33"
                                },
                                {
                                    "0": "2017",
                                    "1": "M01",
                                    "2": "389.6"
                                },
                                {
                                    "0": "2017",
                                    "1": "M01",
                                    "2": "389.65"
                                },
                                {
                                    "0": "2017",
                                    "1": "M01",
                                    "2": "390.88"
                                },
                                {
                                    "0": "2017",
                                    "1": "M01",
                                    "2": "391.09"
                                },
                                {
                                    "0": "2017",
                                    "1": "M01",
                                    "2": "392.4"
                                },
                                {
                                    "0": "2017",
                                    "1": "M01",
                                    "2": "392.93"
                                },
                                {
                                    "0": "2017",
                                    "1": "M01",
                                    "2": "395.01"
                                },
                                {
                                    "0": "2017",
                                    "1": "M01",
                                    "2": "395.35"
                                },
                                {
                                    "0": "2017",
                                    "1": "M01",
                                    "2": "406.05"
                                },
                                {
                                    "0": "2017",
                                    "1": "M01",
                                    "2": "406.17"
                                },
                                {
                                    "0": "2017",
                                    "1": "M01",
                                    "2": "407.34"
                                },
                                {
                                    "0": "2017",
                                    "1": "M01",
                                    "2": "409.06"
                                },
                                {
                                    "0": "2017",
                                    "1": "M01",
                                    "2": "409.13"
                                },
                                {
                                    "0": "2017",
                                    "1": "M01",
                                    "2": "409.77"
                                },
                                {
                                    "0": "2017",
                                    "1": "M01",
                                    "2": "409.84"
                                },
                                {
                                    "0": "2017",
                                    "1": "M01",
                                    "2": "410.56"
                                },
                                {
                                    "0": "2017",
                                    "1": "M01",
                                    "2": "411.06"
                                },
                                {
                                    "0": "2017",
                                    "1": "M01",
                                    "2": "411.26"
                                },
                                {
                                    "0": "2017",
                                    "1": "M01",
                                    "2": "413.32"
                                },
                                {
                                    "0": "2017",
                                    "1": "M01",
                                    "2": "413.44"
                                },
                                {
                                    "0": "2017",
                                    "1": "M01",
                                    "2": "413.59"
                                },
                                {
                                    "0": "2017",
                                    "1": "M01",
                                    "2": "413.71"
                                },
                                {
                                    "0": "2017",
                                    "1": "M01",
                                    "2": "416.3"
                                },
                                {
                                    "0": "2017",
                                    "1": "M01",
                                    "2": "416.44"
                                },
                                {
                                    "0": "2017",
                                    "1": "M01",
                                    "2": "417.88"
                                },
                                {
                                    "0": "2017",
                                    "1": "M01",
                                    "2": "417.96"
                                },
                                {
                                    "0": "2017",
                                    "1": "M01",
                                    "2": "418.18"
                                },
                                {
                                    "0": "2017",
                                    "1": "M01",
                                    "2": "418.8"
                                },
                                {
                                    "0": "2017",
                                    "1": "M01",
                                    "2": "419.05"
                                },
                                {
                                    "0": "2017",
                                    "1": "M01",
                                    "2": "420.89"
                                },
                                {
                                    "0": "2017",
                                    "1": "M01",
                                    "2": "421.37"
                                },
                                {
                                    "0": "2017",
                                    "1": "M01",
                                    "2": "421.74"
                                },
                                {
                                    "0": "2017",
                                    "1": "M01",
                                    "2": "422.69"
                                },
                                {
                                    "0": "2017",
                                    "1": "M01",
                                    "2": "422.8"
                                },
                                {
                                    "0": "2017",
                                    "1": "M01",
                                    "2": "424.41"
                                },
                                {
                                    "0": "2017",
                                    "1": "M01",
                                    "2": "425.43"
                                },
                                {
                                    "0": "2017",
                                    "1": "M01",
                                    "2": "425.52"
                                },
                                {
                                    "0": "2017",
                                    "1": "M01",
                                    "2": "425.85"
                                },
                                {
                                    "0": "2017",
                                    "1": "M01",
                                    "2": "426.08"
                                },
                                {
                                    "0": "2017",
                                    "1": "M01",
                                    "2": "427.63"
                                },
                                {
                                    "0": "2017",
                                    "1": "M01",
                                    "2": "427.99"
                                },
                                {
                                    "0": "2017",
                                    "1": "M01",
                                    "2": "428.61"
                                },
                                {
                                    "0": "2017",
                                    "1": "M01",
                                    "2": "429.21"
                                },
                                {
                                    "0": "2017",
                                    "1": "M01",
                                    "2": "432.77"
                                },
                                {
                                    "0": "2017",
                                    "1": "M01",
                                    "2": "433.69"
                                },
                                {
                                    "0": "2017",
                                    "1": "M01",
                                    "2": "433.88"
                                },
                                {
                                    "0": "2017",
                                    "1": "M01",
                                    "2": "442.02"
                                },
                                {
                                    "0": "2017",
                                    "1": "M01",
                                    "2": "445.39"
                                },
                                {
                                    "0": "2017",
                                    "1": "M01",
                                    "2": "445.8"
                                },
                                {
                                    "0": "2017",
                                    "1": "M01",
                                    "2": "451.06"
                                },
                                {
                                    "0": "2017",
                                    "1": "M01",
                                    "2": "452.93"
                                },
                                {
                                    "0": "2017",
                                    "1": "M01",
                                    "2": "453.12"
                                },
                                {
                                    "0": "2017",
                                    "1": "M01",
                                    "2": "453.56"
                                },
                                {
                                    "0": "2017",
                                    "1": "M01",
                                    "2": "454.99"
                                },
                                {
                                    "0": "2017",
                                    "1": "M01",
                                    "2": "457.06"
                                },
                                {
                                    "0": "2017",
                                    "1": "M01",
                                    "2": "459.32"
                                },
                                {
                                    "0": "2017",
                                    "1": "M01",
                                    "2": "464.92"
                                },
                                {
                                    "0": "2017",
                                    "1": "M01",
                                    "2": "465.35"
                                },
                                {
                                    "0": "2017",
                                    "1": "M01",
                                    "2": "466.44"
                                },
                                {
                                    "0": "2017",
                                    "1": "M01",
                                    "2": "469.82"
                                },
                                {
                                    "0": "2017",
                                    "1": "M01",
                                    "2": "471.35"
                                },
                                {
                                    "0": "2017",
                                    "1": "M01",
                                    "2": "471.38"
                                },
                                {
                                    "0": "2017",
                                    "1": "M01",
                                    "2": "472.03"
                                },
                                {
                                    "0": "2017",
                                    "1": "M01",
                                    "2": "474.01"
                                },
                                {
                                    "0": "2017",
                                    "1": "M01",
                                    "2": "474.64"
                                },
                                {
                                    "0": "2017",
                                    "1": "M01",
                                    "2": "474.76"
                                },
                                {
                                    "0": "2017",
                                    "1": "M01",
                                    "2": "477.7"
                                },
                                {
                                    "0": "2017",
                                    "1": "M01",
                                    "2": "480.08"
                                },
                                {
                                    "0": "2017",
                                    "1": "M01",
                                    "2": "484.19"
                                },
                                {
                                    "0": "2017",
                                    "1": "M01",
                                    "2": "490.95"
                                },
                                {
                                    "0": "2017",
                                    "1": "M01",
                                    "2": "491.68"
                                },
                                {
                                    "0": "2017",
                                    "1": "M01",
                                    "2": "492.13"
                                },
                                {
                                    "0": "2017",
                                    "1": "M01",
                                    "2": "493.01"
                                },
                                {
                                    "0": "2017",
                                    "1": "M01",
                                    "2": "494.14"
                                },
                                {
                                    "0": "2017",
                                    "1": "M01",
                                    "2": "494.21"
                                },
                                {
                                    "0": "2017",
                                    "1": "M01",
                                    "2": "494.54"
                                },
                                {
                                    "0": "2017",
                                    "1": "M01",
                                    "2": "494.72"
                                },
                                {
                                    "0": "2017",
                                    "1": "M01",
                                    "2": "496.01"
                                },
                                {
                                    "0": "2017",
                                    "1": "M01",
                                    "2": "497.27"
                                },
                                {
                                    "0": "2017",
                                    "1": "M01",
                                    "2": "497.75"
                                },
                                {
                                    "0": "2017",
                                    "1": "M01",
                                    "2": "499.85"
                                },
                                {
                                    "0": "2017",
                                    "1": "M01",
                                    "2": "500.54"
                                },
                                {
                                    "0": "2017",
                                    "1": "M01",
                                    "2": "501.98"
                                },
                                {
                                    "0": "2017",
                                    "1": "M01",
                                    "2": "503.08"
                                },
                                {
                                    "0": "2017",
                                    "1": "M01",
                                    "2": "503.82"
                                },
                                {
                                    "0": "2017",
                                    "1": "M01",
                                    "2": "503.84"
                                },
                                {
                                    "0": "2017",
                                    "1": "M01",
                                    "2": "504.01"
                                },
                                {
                                    "0": "2017",
                                    "1": "M01",
                                    "2": "504.31"
                                },
                                {
                                    "0": "2017",
                                    "1": "M01",
                                    "2": "506.14"
                                },
                                {
                                    "0": "2017",
                                    "1": "M01",
                                    "2": "509.95"
                                },
                                {
                                    "0": "2017",
                                    "1": "M01",
                                    "2": "513.57"
                                },
                                {
                                    "0": "2017",
                                    "1": "M01",
                                    "2": "515.09"
                                },
                                {
                                    "0": "2017",
                                    "1": "M01",
                                    "2": "515.63"
                                },
                                {
                                    "0": "2017",
                                    "1": "M01",
                                    "2": "516.15"
                                },
                                {
                                    "0": "2017",
                                    "1": "M01",
                                    "2": "516.42"
                                },
                                {
                                    "0": "2017",
                                    "1": "M01",
                                    "2": "516.8"
                                },
                                {
                                    "0": "2017",
                                    "1": "M01",
                                    "2": "518.9"
                                },
                                {
                                    "0": "2017",
                                    "1": "M01",
                                    "2": "520.05"
                                },
                                {
                                    "0": "2017",
                                    "1": "M01",
                                    "2": "520.07"
                                },
                                {
                                    "0": "2017",
                                    "1": "M01",
                                    "2": "520.41"
                                },
                                {
                                    "0": "2017",
                                    "1": "M01",
                                    "2": "521.38"
                                },
                                {
                                    "0": "2017",
                                    "1": "M01",
                                    "2": "524.15"
                                },
                                {
                                    "0": "2017",
                                    "1": "M01",
                                    "2": "524.25"
                                },
                                {
                                    "0": "2017",
                                    "1": "M01",
                                    "2": "524.82"
                                },
                                {
                                    "0": "2017",
                                    "1": "M01",
                                    "2": "525.72"
                                },
                                {
                                    "0": "2017",
                                    "1": "M01",
                                    "2": "526.08"
                                },
                                {
                                    "0": "2017",
                                    "1": "M01",
                                    "2": "528.16"
                                },
                                {
                                    "0": "2017",
                                    "1": "M01",
                                    "2": "530.07"
                                },
                                {
                                    "0": "2017",
                                    "1": "M01",
                                    "2": "530.8"
                                },
                                {
                                    "0": "2017",
                                    "1": "M01",
                                    "2": "534.16"
                                },
                                {
                                    "0": "2017",
                                    "1": "M01",
                                    "2": "536.25"
                                },
                                {
                                    "0": "2017",
                                    "1": "M01",
                                    "2": "537.3"
                                },
                                {
                                    "0": "2017",
                                    "1": "M01",
                                    "2": "537.87"
                                },
                                {
                                    "0": "2017",
                                    "1": "M01",
                                    "2": "538.57"
                                },
                                {
                                    "0": "2017",
                                    "1": "M01",
                                    "2": "539.6"
                                },
                                {
                                    "0": "2017",
                                    "1": "M01",
                                    "2": "539.71"
                                },
                                {
                                    "0": "2017",
                                    "1": "M01",
                                    "2": "542.16"
                                },
                                {
                                    "0": "2017",
                                    "1": "M01",
                                    "2": "543.35"
                                },
                                {
                                    "0": "2017",
                                    "1": "M01",
                                    "2": "544.64"
                                },
                                {
                                    "0": "2017",
                                    "1": "M01",
                                    "2": "544.78"
                                },
                                {
                                    "0": "2017",
                                    "1": "M01",
                                    "2": "544.87"
                                },
                                {
                                    "0": "2017",
                                    "1": "M01",
                                    "2": "546.18"
                                },
                                {
                                    "0": "2017",
                                    "1": "M01",
                                    "2": "546.29"
                                },
                                {
                                    "0": "2017",
                                    "1": "M01",
                                    "2": "547.88"
                                },
                                {
                                    "0": "2017",
                                    "1": "M01",
                                    "2": "548.76"
                                },
                                {
                                    "0": "2017",
                                    "1": "M01",
                                    "2": "549.43"
                                },
                                {
                                    "0": "2017",
                                    "1": "M01",
                                    "2": "551.09"
                                },
                                {
                                    "0": "2017",
                                    "1": "M01",
                                    "2": "551.48"
                                },
                                {
                                    "0": "2017",
                                    "1": "M01",
                                    "2": "552.02"
                                },
                                {
                                    "0": "2017",
                                    "1": "M01",
                                    "2": "552.29"
                                },
                                {
                                    "0": "2017",
                                    "1": "M01",
                                    "2": "552.83"
                                },
                                {
                                    "0": "2017",
                                    "1": "M01",
                                    "2": "553.09"
                                },
                                {
                                    "0": "2017",
                                    "1": "M01",
                                    "2": "553.91"
                                },
                                {
                                    "0": "2017",
                                    "1": "M01",
                                    "2": "554.69"
                                },
                                {
                                    "0": "2017",
                                    "1": "M01",
                                    "2": "554.76"
                                },
                                {
                                    "0": "2017",
                                    "1": "M01",
                                    "2": "556.71"
                                },
                                {
                                    "0": "2017",
                                    "1": "M01",
                                    "2": "558.55"
                                },
                                {
                                    "0": "2017",
                                    "1": "M01",
                                    "2": "558.72"
                                },
                                {
                                    "0": "2017",
                                    "1": "M01",
                                    "2": "559.69"
                                },
                                {
                                    "0": "2017",
                                    "1": "M01",
                                    "2": "560.07"
                                },
                                {
                                    "0": "2017",
                                    "1": "M01",
                                    "2": "561.8"
                                },
                                {
                                    "0": "2017",
                                    "1": "M01",
                                    "2": "563.21"
                                },
                                {
                                    "0": "2017",
                                    "1": "M01",
                                    "2": "563.47"
                                },
                                {
                                    "0": "2017",
                                    "1": "M01",
                                    "2": "564.16"
                                },
                                {
                                    "0": "2017",
                                    "1": "M01",
                                    "2": "565.68"
                                },
                                {
                                    "0": "2017",
                                    "1": "M01",
                                    "2": "565.71"
                                },
                                {
                                    "0": "2017",
                                    "1": "M01",
                                    "2": "566.15"
                                },
                                {
                                    "0": "2017",
                                    "1": "M01",
                                    "2": "566.83"
                                },
                                {
                                    "0": "2017",
                                    "1": "M01",
                                    "2": "568.05"
                                },
                                {
                                    "0": "2017",
                                    "1": "M01",
                                    "2": "569.18"
                                },
                                {
                                    "0": "2017",
                                    "1": "M01",
                                    "2": "569.56"
                                },
                                {
                                    "0": "2017",
                                    "1": "M01",
                                    "2": "569.65"
                                },
                                {
                                    "0": "2017",
                                    "1": "M01",
                                    "2": "571.47"
                                },
                                {
                                    "0": "2017",
                                    "1": "M01",
                                    "2": "571.54"
                                },
                                {
                                    "0": "2017",
                                    "1": "M01",
                                    "2": "571.64"
                                },
                                {
                                    "0": "2017",
                                    "1": "M01",
                                    "2": "574.57"
                                },
                                {
                                    "0": "2017",
                                    "1": "M01",
                                    "2": "574.92"
                                },
                                {
                                    "0": "2017",
                                    "1": "M01",
                                    "2": "577.5"
                                },
                                {
                                    "0": "2017",
                                    "1": "M01",
                                    "2": "578.86"
                                },
                                {
                                    "0": "2017",
                                    "1": "M01",
                                    "2": "580.8"
                                },
                                {
                                    "0": "2017",
                                    "1": "M01",
                                    "2": "582.9"
                                },
                                {
                                    "0": "2017",
                                    "1": "M01",
                                    "2": "584.06"
                                },
                                {
                                    "0": "2017",
                                    "1": "M01",
                                    "2": "584.93"
                                },
                                {
                                    "0": "2017",
                                    "1": "M01",
                                    "2": "587.74"
                                },
                                {
                                    "0": "2017",
                                    "1": "M01",
                                    "2": "588.55"
                                },
                                {
                                    "0": "2017",
                                    "1": "M01",
                                    "2": "588.6"
                                },
                                {
                                    "0": "2017",
                                    "1": "M01",
                                    "2": "588.92"
                                },
                                {
                                    "0": "2017",
                                    "1": "M01",
                                    "2": "592.02"
                                },
                                {
                                    "0": "2017",
                                    "1": "M01",
                                    "2": "592.88"
                                },
                                {
                                    "0": "2017",
                                    "1": "M01",
                                    "2": "594.54"
                                },
                                {
                                    "0": "2017",
                                    "1": "M01",
                                    "2": "594.74"
                                },
                                {
                                    "0": "2017",
                                    "1": "M01",
                                    "2": "596.55"
                                },
                                {
                                    "0": "2017",
                                    "1": "M01",
                                    "2": "596.57"
                                },
                                {
                                    "0": "2017",
                                    "1": "M01",
                                    "2": "596.94"
                                },
                                {
                                    "0": "2017",
                                    "1": "M01",
                                    "2": "598.02"
                                },
                                {
                                    "0": "2017",
                                    "1": "M01",
                                    "2": "599.03"
                                },
                                {
                                    "0": "2017",
                                    "1": "M01",
                                    "2": "599.81"
                                },
                                {
                                    "0": "2017",
                                    "1": "M01",
                                    "2": "600.22"
                                },
                                {
                                    "0": "2017",
                                    "1": "M01",
                                    "2": "600.4"
                                },
                                {
                                    "0": "2017",
                                    "1": "M01",
                                    "2": "601.7"
                                },
                                {
                                    "0": "2017",
                                    "1": "M01",
                                    "2": "607"
                                },
                                {
                                    "0": "2017",
                                    "1": "M01",
                                    "2": "607.38"
                                },
                                {
                                    "0": "2017",
                                    "1": "M01",
                                    "2": "608.06"
                                },
                                {
                                    "0": "2017",
                                    "1": "M01",
                                    "2": "608.29"
                                },
                                {
                                    "0": "2017",
                                    "1": "M01",
                                    "2": "608.47"
                                },
                                {
                                    "0": "2017",
                                    "1": "M01",
                                    "2": "609.41"
                                },
                                {
                                    "0": "2017",
                                    "1": "M01",
                                    "2": "610.49"
                                },
                                {
                                    "0": "2017",
                                    "1": "M01",
                                    "2": "611.12"
                                },
                                {
                                    "0": "2017",
                                    "1": "M01",
                                    "2": "611.32"
                                },
                                {
                                    "0": "2017",
                                    "1": "M01",
                                    "2": "611.94"
                                },
                                {
                                    "0": "2017",
                                    "1": "M01",
                                    "2": "614.17"
                                },
                                {
                                    "0": "2017",
                                    "1": "M01",
                                    "2": "615.16"
                                },
                                {
                                    "0": "2017",
                                    "1": "M01",
                                    "2": "615.54"
                                },
                                {
                                    "0": "2017",
                                    "1": "M01",
                                    "2": "616.52"
                                },
                                {
                                    "0": "2017",
                                    "1": "M01",
                                    "2": "618.43"
                                },
                                {
                                    "0": "2017",
                                    "1": "M01",
                                    "2": "618.68"
                                },
                                {
                                    "0": "2017",
                                    "1": "M01",
                                    "2": "619.17"
                                },
                                {
                                    "0": "2017",
                                    "1": "M01",
                                    "2": "620.08"
                                },
                                {
                                    "0": "2017",
                                    "1": "M01",
                                    "2": "620.9"
                                },
                                {
                                    "0": "2017",
                                    "1": "M01",
                                    "2": "622.93"
                                },
                                {
                                    "0": "2017",
                                    "1": "M01",
                                    "2": "623.66"
                                },
                                {
                                    "0": "2017",
                                    "1": "M01",
                                    "2": "625.59"
                                },
                                {
                                    "0": "2017",
                                    "1": "M01",
                                    "2": "626.26"
                                },
                                {
                                    "0": "2017",
                                    "1": "M01",
                                    "2": "628.84"
                                },
                                {
                                    "0": "2017",
                                    "1": "M01",
                                    "2": "628.88"
                                },
                                {
                                    "0": "2017",
                                    "1": "M01",
                                    "2": "629.75"
                                },
                                {
                                    "0": "2017",
                                    "1": "M01",
                                    "2": "630.13"
                                },
                                {
                                    "0": "2017",
                                    "1": "M01",
                                    "2": "631.51"
                                },
                                {
                                    "0": "2017",
                                    "1": "M01",
                                    "2": "631.9"
                                },
                                {
                                    "0": "2017",
                                    "1": "M01",
                                    "2": "632.02"
                                },
                                {
                                    "0": "2017",
                                    "1": "M01",
                                    "2": "632.09"
                                },
                                {
                                    "0": "2017",
                                    "1": "M01",
                                    "2": "633"
                                },
                                {
                                    "0": "2017",
                                    "1": "M01",
                                    "2": "633.43"
                                },
                                {
                                    "0": "2017",
                                    "1": "M01",
                                    "2": "633.95"
                                },
                                {
                                    "0": "2017",
                                    "1": "M01",
                                    "2": "634.5"
                                },
                                {
                                    "0": "2017",
                                    "1": "M01",
                                    "2": "634.84"
                                },
                                {
                                    "0": "2017",
                                    "1": "M01",
                                    "2": "635.01"
                                },
                                {
                                    "0": "2017",
                                    "1": "M01",
                                    "2": "636.75"
                                },
                                {
                                    "0": "2017",
                                    "1": "M01",
                                    "2": "638.98"
                                },
                                {
                                    "0": "2017",
                                    "1": "M01",
                                    "2": "640.04"
                                },
                                {
                                    "0": "2017",
                                    "1": "M01",
                                    "2": "640.53"
                                },
                                {
                                    "0": "2017",
                                    "1": "M01",
                                    "2": "640.85"
                                },
                                {
                                    "0": "2017",
                                    "1": "M01",
                                    "2": "641.45"
                                },
                                {
                                    "0": "2017",
                                    "1": "M01",
                                    "2": "641.63"
                                },
                                {
                                    "0": "2017",
                                    "1": "M01",
                                    "2": "642.67"
                                },
                                {
                                    "0": "2017",
                                    "1": "M01",
                                    "2": "642.88"
                                },
                                {
                                    "0": "2017",
                                    "1": "M01",
                                    "2": "643.31"
                                },
                                {
                                    "0": "2017",
                                    "1": "M01",
                                    "2": "643.4"
                                },
                                {
                                    "0": "2017",
                                    "1": "M01",
                                    "2": "643.69"
                                },
                                {
                                    "0": "2017",
                                    "1": "M01",
                                    "2": "643.93"
                                },
                                {
                                    "0": "2017",
                                    "1": "M01",
                                    "2": "644.78"
                                },
                                {
                                    "0": "2017",
                                    "1": "M01",
                                    "2": "645.22"
                                },
                                {
                                    "0": "2017",
                                    "1": "M01",
                                    "2": "645.47"
                                },
                                {
                                    "0": "2017",
                                    "1": "M01",
                                    "2": "646.07"
                                },
                                {
                                    "0": "2017",
                                    "1": "M01",
                                    "2": "652.12"
                                },
                                {
                                    "0": "2017",
                                    "1": "M01",
                                    "2": "652.19"
                                },
                                {
                                    "0": "2017",
                                    "1": "M01",
                                    "2": "652.54"
                                },
                                {
                                    "0": "2017",
                                    "1": "M01",
                                    "2": "653.21"
                                },
                                {
                                    "0": "2017",
                                    "1": "M01",
                                    "2": "653.97"
                                },
                                {
                                    "0": "2017",
                                    "1": "M01",
                                    "2": "654.21"
                                },
                                {
                                    "0": "2017",
                                    "1": "M01",
                                    "2": "655.42"
                                },
                                {
                                    "0": "2017",
                                    "1": "M01",
                                    "2": "655.53"
                                },
                                {
                                    "0": "2017",
                                    "1": "M01",
                                    "2": "655.9"
                                },
                                {
                                    "0": "2017",
                                    "1": "M01",
                                    "2": "656.01"
                                },
                                {
                                    "0": "2017",
                                    "1": "M01",
                                    "2": "657"
                                },
                                {
                                    "0": "2017",
                                    "1": "M01",
                                    "2": "659.79"
                                },
                                {
                                    "0": "2017",
                                    "1": "M01",
                                    "2": "660.99"
                                },
                                {
                                    "0": "2017",
                                    "1": "M01",
                                    "2": "662.05"
                                },
                                {
                                    "0": "2017",
                                    "1": "M01",
                                    "2": "662.3"
                                },
                                {
                                    "0": "2017",
                                    "1": "M01",
                                    "2": "662.32"
                                },
                                {
                                    "0": "2017",
                                    "1": "M01",
                                    "2": "663.18"
                                },
                                {
                                    "0": "2017",
                                    "1": "M01",
                                    "2": "663.82"
                                },
                                {
                                    "0": "2017",
                                    "1": "M01",
                                    "2": "664.2"
                                },
                                {
                                    "0": "2017",
                                    "1": "M01",
                                    "2": "664.46"
                                },
                                {
                                    "0": "2017",
                                    "1": "M01",
                                    "2": "664.5"
                                },
                                {
                                    "0": "2017",
                                    "1": "M01",
                                    "2": "666.54"
                                },
                                {
                                    "0": "2017",
                                    "1": "M01",
                                    "2": "667.14"
                                },
                                {
                                    "0": "2017",
                                    "1": "M01",
                                    "2": "670.35"
                                },
                                {
                                    "0": "2017",
                                    "1": "M01",
                                    "2": "670.76"
                                },
                                {
                                    "0": "2017",
                                    "1": "M01",
                                    "2": "671.3"
                                },
                                {
                                    "0": "2017",
                                    "1": "M01",
                                    "2": "672.77"
                                },
                                {
                                    "0": "2017",
                                    "1": "M01",
                                    "2": "674.5"
                                },
                                {
                                    "0": "2017",
                                    "1": "M01",
                                    "2": "674.69"
                                },
                                {
                                    "0": "2017",
                                    "1": "M01",
                                    "2": "676.02"
                                },
                                {
                                    "0": "2017",
                                    "1": "M01",
                                    "2": "676.36"
                                },
                                {
                                    "0": "2017",
                                    "1": "M01",
                                    "2": "679.08"
                                },
                                {
                                    "0": "2017",
                                    "1": "M01",
                                    "2": "679.14"
                                },
                                {
                                    "0": "2017",
                                    "1": "M01",
                                    "2": "679.33"
                                },
                                {
                                    "0": "2017",
                                    "1": "M01",
                                    "2": "682.44"
                                },
                                {
                                    "0": "2017",
                                    "1": "M01",
                                    "2": "684.04"
                                },
                                {
                                    "0": "2017",
                                    "1": "M01",
                                    "2": "684.6"
                                },
                                {
                                    "0": "2017",
                                    "1": "M01",
                                    "2": "684.83"
                                },
                                {
                                    "0": "2017",
                                    "1": "M01",
                                    "2": "685.08"
                                },
                                {
                                    "0": "2017",
                                    "1": "M01",
                                    "2": "685.41"
                                },
                                {
                                    "0": "2017",
                                    "1": "M01",
                                    "2": "685.81"
                                },
                                {
                                    "0": "2017",
                                    "1": "M01",
                                    "2": "686.07"
                                },
                                {
                                    "0": "2017",
                                    "1": "M01",
                                    "2": "689.48"
                                },
                                {
                                    "0": "2017",
                                    "1": "M01",
                                    "2": "690.05"
                                },
                                {
                                    "0": "2017",
                                    "1": "M01",
                                    "2": "691.65"
                                },
                                {
                                    "0": "2017",
                                    "1": "M01",
                                    "2": "691.87"
                                },
                                {
                                    "0": "2017",
                                    "1": "M01",
                                    "2": "692.78"
                                },
                                {
                                    "0": "2017",
                                    "1": "M01",
                                    "2": "693.08"
                                },
                                {
                                    "0": "2017",
                                    "1": "M01",
                                    "2": "693.85"
                                },
                                {
                                    "0": "2017",
                                    "1": "M01",
                                    "2": "694.3"
                                },
                                {
                                    "0": "2017",
                                    "1": "M01",
                                    "2": "694.85"
                                },
                                {
                                    "0": "2017",
                                    "1": "M01",
                                    "2": "695.69"
                                },
                                {
                                    "0": "2017",
                                    "1": "M01",
                                    "2": "696.73"
                                },
                                {
                                    "0": "2017",
                                    "1": "M01",
                                    "2": "697.51"
                                },
                                {
                                    "0": "2017",
                                    "1": "M01",
                                    "2": "697.87"
                                },
                                {
                                    "0": "2017",
                                    "1": "M01",
                                    "2": "698"
                                },
                                {
                                    "0": "2017",
                                    "1": "M01",
                                    "2": "698.54"
                                },
                                {
                                    "0": "2017",
                                    "1": "M01",
                                    "2": "698.7"
                                },
                                {
                                    "0": "2017",
                                    "1": "M01",
                                    "2": "702.37"
                                },
                                {
                                    "0": "2017",
                                    "1": "M01",
                                    "2": "702.7"
                                },
                                {
                                    "0": "2017",
                                    "1": "M01",
                                    "2": "703.1"
                                },
                                {
                                    "0": "2017",
                                    "1": "M01",
                                    "2": "704.3"
                                },
                                {
                                    "0": "2017",
                                    "1": "M01",
                                    "2": "704.37"
                                },
                                {
                                    "0": "2017",
                                    "1": "M01",
                                    "2": "705.76"
                                },
                                {
                                    "0": "2017",
                                    "1": "M01",
                                    "2": "706"
                                },
                                {
                                    "0": "2017",
                                    "1": "M01",
                                    "2": "706.32"
                                },
                                {
                                    "0": "2017",
                                    "1": "M01",
                                    "2": "706.33"
                                },
                                {
                                    "0": "2017",
                                    "1": "M01",
                                    "2": "706.38"
                                },
                                {
                                    "0": "2017",
                                    "1": "M01",
                                    "2": "706.46"
                                },
                                {
                                    "0": "2017",
                                    "1": "M01",
                                    "2": "706.88"
                                },
                                {
                                    "0": "2017",
                                    "1": "M01",
                                    "2": "707.11"
                                },
                                {
                                    "0": "2017",
                                    "1": "M01",
                                    "2": "707.44"
                                },
                                {
                                    "0": "2017",
                                    "1": "M01",
                                    "2": "707.67"
                                },
                                {
                                    "0": "2017",
                                    "1": "M01",
                                    "2": "708"
                                },
                                {
                                    "0": "2017",
                                    "1": "M01",
                                    "2": "708.94"
                                },
                                {
                                    "0": "2017",
                                    "1": "M01",
                                    "2": "709.24"
                                },
                                {
                                    "0": "2017",
                                    "1": "M01",
                                    "2": "710.29"
                                },
                                {
                                    "0": "2017",
                                    "1": "M01",
                                    "2": "710.48"
                                },
                                {
                                    "0": "2017",
                                    "1": "M01",
                                    "2": "710.65"
                                },
                                {
                                    "0": "2017",
                                    "1": "M01",
                                    "2": "711.85"
                                },
                                {
                                    "0": "2017",
                                    "1": "M01",
                                    "2": "711.98"
                                },
                                {
                                    "0": "2017",
                                    "1": "M01",
                                    "2": "712.47"
                                },
                                {
                                    "0": "2017",
                                    "1": "M01",
                                    "2": "712.71"
                                },
                                {
                                    "0": "2017",
                                    "1": "M01",
                                    "2": "712.92"
                                },
                                {
                                    "0": "2017",
                                    "1": "M01",
                                    "2": "715.13"
                                },
                                {
                                    "0": "2017",
                                    "1": "M01",
                                    "2": "716.04"
                                },
                                {
                                    "0": "2017",
                                    "1": "M01",
                                    "2": "716.87"
                                },
                                {
                                    "0": "2017",
                                    "1": "M01",
                                    "2": "718.31"
                                },
                                {
                                    "0": "2017",
                                    "1": "M01",
                                    "2": "718.62"
                                },
                                {
                                    "0": "2017",
                                    "1": "M01",
                                    "2": "719.04"
                                },
                                {
                                    "0": "2017",
                                    "1": "M01",
                                    "2": "719.53"
                                },
                                {
                                    "0": "2017",
                                    "1": "M01",
                                    "2": "720.32"
                                },
                                {
                                    "0": "2017",
                                    "1": "M01",
                                    "2": "720.33"
                                },
                                {
                                    "0": "2017",
                                    "1": "M01",
                                    "2": "720.78"
                                },
                                {
                                    "0": "2017",
                                    "1": "M01",
                                    "2": "721.07"
                                },
                                {
                                    "0": "2017",
                                    "1": "M01",
                                    "2": "721.09"
                                },
                                {
                                    "0": "2017",
                                    "1": "M01",
                                    "2": "721.54"
                                },
                                {
                                    "0": "2017",
                                    "1": "M01",
                                    "2": "721.72"
                                },
                                {
                                    "0": "2017",
                                    "1": "M01",
                                    "2": "722.25"
                                },
                                {
                                    "0": "2017",
                                    "1": "M01",
                                    "2": "723.65"
                                },
                                {
                                    "0": "2017",
                                    "1": "M01",
                                    "2": "723.69"
                                },
                                {
                                    "0": "2017",
                                    "1": "M01",
                                    "2": "723.74"
                                },
                                {
                                    "0": "2017",
                                    "1": "M01",
                                    "2": "723.77"
                                },
                                {
                                    "0": "2017",
                                    "1": "M01",
                                    "2": "725.9"
                                },
                                {
                                    "0": "2017",
                                    "1": "M01",
                                    "2": "726.13"
                                },
                                {
                                    "0": "2017",
                                    "1": "M01",
                                    "2": "726.64"
                                },
                                {
                                    "0": "2017",
                                    "1": "M01",
                                    "2": "726.83"
                                },
                                {
                                    "0": "2017",
                                    "1": "M01",
                                    "2": "727.44"
                                },
                                {
                                    "0": "2017",
                                    "1": "M01",
                                    "2": "727.66"
                                },
                                {
                                    "0": "2017",
                                    "1": "M01",
                                    "2": "728.75"
                                },
                                {
                                    "0": "2017",
                                    "1": "M01",
                                    "2": "729.11"
                                },
                                {
                                    "0": "2017",
                                    "1": "M01",
                                    "2": "730.3"
                                },
                                {
                                    "0": "2017",
                                    "1": "M01",
                                    "2": "730.73"
                                },
                                {
                                    "0": "2017",
                                    "1": "M01",
                                    "2": "730.84"
                                },
                                {
                                    "0": "2017",
                                    "1": "M01",
                                    "2": "732.9"
                                },
                                {
                                    "0": "2017",
                                    "1": "M01",
                                    "2": "733.49"
                                },
                                {
                                    "0": "2017",
                                    "1": "M01",
                                    "2": "734.8"
                                },
                                {
                                    "0": "2017",
                                    "1": "M01",
                                    "2": "734.84"
                                },
                                {
                                    "0": "2017",
                                    "1": "M01",
                                    "2": "735.84"
                                },
                                {
                                    "0": "2017",
                                    "1": "M01",
                                    "2": "737.17"
                                },
                                {
                                    "0": "2017",
                                    "1": "M01",
                                    "2": "737.25"
                                },
                                {
                                    "0": "2017",
                                    "1": "M01",
                                    "2": "737.3"
                                },
                                {
                                    "0": "2017",
                                    "1": "M01",
                                    "2": "737.84"
                                },
                                {
                                    "0": "2017",
                                    "1": "M01",
                                    "2": "738.01"
                                },
                                {
                                    "0": "2017",
                                    "1": "M01",
                                    "2": "738.07"
                                },
                                {
                                    "0": "2017",
                                    "1": "M01",
                                    "2": "738.53"
                                },
                                {
                                    "0": "2017",
                                    "1": "M01",
                                    "2": "739.2"
                                },
                                {
                                    "0": "2017",
                                    "1": "M01",
                                    "2": "740"
                                },
                                {
                                    "0": "2017",
                                    "1": "M01",
                                    "2": "740.59"
                                },
                                {
                                    "0": "2017",
                                    "1": "M01",
                                    "2": "742.28"
                                },
                                {
                                    "0": "2017",
                                    "1": "M01",
                                    "2": "742.68"
                                },
                                {
                                    "0": "2017",
                                    "1": "M01",
                                    "2": "742.94"
                                },
                                {
                                    "0": "2017",
                                    "1": "M01",
                                    "2": "743.26"
                                },
                                {
                                    "0": "2017",
                                    "1": "M01",
                                    "2": "743.27"
                                },
                                {
                                    "0": "2017",
                                    "1": "M01",
                                    "2": "743.35"
                                },
                                {
                                    "0": "2017",
                                    "1": "M01",
                                    "2": "744.75"
                                },
                                {
                                    "0": "2017",
                                    "1": "M01",
                                    "2": "744.98"
                                },
                                {
                                    "0": "2017",
                                    "1": "M01",
                                    "2": "745.19"
                                },
                                {
                                    "0": "2017",
                                    "1": "M01",
                                    "2": "745.47"
                                },
                                {
                                    "0": "2017",
                                    "1": "M01",
                                    "2": "747.26"
                                },
                                {
                                    "0": "2017",
                                    "1": "M01",
                                    "2": "749.89"
                                },
                                {
                                    "0": "2017",
                                    "1": "M01",
                                    "2": "750.38"
                                },
                                {
                                    "0": "2017",
                                    "1": "M01",
                                    "2": "750.83"
                                },
                                {
                                    "0": "2017",
                                    "1": "M01",
                                    "2": "751.61"
                                },
                                {
                                    "0": "2017",
                                    "1": "M01",
                                    "2": "753.61"
                                },
                                {
                                    "0": "2017",
                                    "1": "M01",
                                    "2": "753.65"
                                },
                                {
                                    "0": "2017",
                                    "1": "M01",
                                    "2": "754.98"
                                },
                                {
                                    "0": "2017",
                                    "1": "M01",
                                    "2": "755.02"
                                },
                                {
                                    "0": "2017",
                                    "1": "M01",
                                    "2": "755.04"
                                },
                                {
                                    "0": "2017",
                                    "1": "M01",
                                    "2": "755.6"
                                },
                                {
                                    "0": "2017",
                                    "1": "M01",
                                    "2": "756.2"
                                },
                                {
                                    "0": "2017",
                                    "1": "M01",
                                    "2": "756.45"
                                },
                                {
                                    "0": "2017",
                                    "1": "M01",
                                    "2": "756.5"
                                },
                                {
                                    "0": "2017",
                                    "1": "M01",
                                    "2": "756.97"
                                },
                                {
                                    "0": "2017",
                                    "1": "M01",
                                    "2": "757.76"
                                },
                                {
                                    "0": "2017",
                                    "1": "M01",
                                    "2": "759.25"
                                },
                                {
                                    "0": "2017",
                                    "1": "M01",
                                    "2": "759.62"
                                },
                                {
                                    "0": "2017",
                                    "1": "M01",
                                    "2": "760.13"
                                },
                                {
                                    "0": "2017",
                                    "1": "M01",
                                    "2": "760.49"
                                },
                                {
                                    "0": "2017",
                                    "1": "M01",
                                    "2": "760.51"
                                },
                                {
                                    "0": "2017",
                                    "1": "M01",
                                    "2": "760.58"
                                },
                                {
                                    "0": "2017",
                                    "1": "M01",
                                    "2": "760.73"
                                },
                                {
                                    "0": "2017",
                                    "1": "M01",
                                    "2": "762.66"
                                },
                                {
                                    "0": "2017",
                                    "1": "M01",
                                    "2": "762.79"
                                },
                                {
                                    "0": "2017",
                                    "1": "M01",
                                    "2": "763.73"
                                },
                                {
                                    "0": "2017",
                                    "1": "M01",
                                    "2": "764.22"
                                },
                                {
                                    "0": "2017",
                                    "1": "M01",
                                    "2": "764.67"
                                },
                                {
                                    "0": "2017",
                                    "1": "M01",
                                    "2": "765.31"
                                },
                                {
                                    "0": "2017",
                                    "1": "M01",
                                    "2": "765.61"
                                },
                                {
                                    "0": "2017",
                                    "1": "M01",
                                    "2": "766.01"
                                },
                                {
                                    "0": "2017",
                                    "1": "M01",
                                    "2": "766.12"
                                },
                                {
                                    "0": "2017",
                                    "1": "M01",
                                    "2": "767.52"
                                },
                                {
                                    "0": "2017",
                                    "1": "M01",
                                    "2": "768.57"
                                },
                                {
                                    "0": "2017",
                                    "1": "M01",
                                    "2": "769.65"
                                },
                                {
                                    "0": "2017",
                                    "1": "M01",
                                    "2": "770"
                                },
                                {
                                    "0": "2017",
                                    "1": "M01",
                                    "2": "770.41"
                                },
                                {
                                    "0": "2017",
                                    "1": "M01",
                                    "2": "770.74"
                                },
                                {
                                    "0": "2017",
                                    "1": "M01",
                                    "2": "770.83"
                                },
                                {
                                    "0": "2017",
                                    "1": "M01",
                                    "2": "772.56"
                                },
                                {
                                    "0": "2017",
                                    "1": "M01",
                                    "2": "772.86"
                                },
                                {
                                    "0": "2017",
                                    "1": "M01",
                                    "2": "773.15"
                                },
                                {
                                    "0": "2017",
                                    "1": "M01",
                                    "2": "773.28"
                                },
                                {
                                    "0": "2017",
                                    "1": "M01",
                                    "2": "773.91"
                                },
                                {
                                    "0": "2017",
                                    "1": "M01",
                                    "2": "774.49"
                                },
                                {
                                    "0": "2017",
                                    "1": "M01",
                                    "2": "775.54"
                                },
                                {
                                    "0": "2017",
                                    "1": "M01",
                                    "2": "776.42"
                                },
                                {
                                    "0": "2017",
                                    "1": "M01",
                                    "2": "777.02"
                                },
                                {
                                    "0": "2017",
                                    "1": "M01",
                                    "2": "777.06"
                                },
                                {
                                    "0": "2017",
                                    "1": "M01",
                                    "2": "777.14"
                                },
                                {
                                    "0": "2017",
                                    "1": "M01",
                                    "2": "777.38"
                                },
                                {
                                    "0": "2017",
                                    "1": "M01",
                                    "2": "777.87"
                                },
                                {
                                    "0": "2017",
                                    "1": "M01",
                                    "2": "778.27"
                                },
                                {
                                    "0": "2017",
                                    "1": "M01",
                                    "2": "778.96"
                                },
                                {
                                    "0": "2017",
                                    "1": "M01",
                                    "2": "779.44"
                                },
                                {
                                    "0": "2017",
                                    "1": "M01",
                                    "2": "779.64"
                                },
                                {
                                    "0": "2017",
                                    "1": "M01",
                                    "2": "782.29"
                                },
                                {
                                    "0": "2017",
                                    "1": "M01",
                                    "2": "783.03"
                                },
                                {
                                    "0": "2017",
                                    "1": "M01",
                                    "2": "784.19"
                                },
                                {
                                    "0": "2017",
                                    "1": "M01",
                                    "2": "784.29"
                                },
                                {
                                    "0": "2017",
                                    "1": "M01",
                                    "2": "785.37"
                                },
                                {
                                    "0": "2017",
                                    "1": "M01",
                                    "2": "786.6"
                                },
                                {
                                    "0": "2017",
                                    "1": "M01",
                                    "2": "788.39"
                                },
                                {
                                    "0": "2017",
                                    "1": "M01",
                                    "2": "789.06"
                                },
                                {
                                    "0": "2017",
                                    "1": "M01",
                                    "2": "789.25"
                                },
                                {
                                    "0": "2017",
                                    "1": "M01",
                                    "2": "789.39"
                                },
                                {
                                    "0": "2017",
                                    "1": "M01",
                                    "2": "789.71"
                                },
                                {
                                    "0": "2017",
                                    "1": "M01",
                                    "2": "789.89"
                                },
                                {
                                    "0": "2017",
                                    "1": "M01",
                                    "2": "791.15"
                                },
                                {
                                    "0": "2017",
                                    "1": "M01",
                                    "2": "791.5"
                                },
                                {
                                    "0": "2017",
                                    "1": "M01",
                                    "2": "792.1"
                                },
                                {
                                    "0": "2017",
                                    "1": "M01",
                                    "2": "792.37"
                                },
                                {
                                    "0": "2017",
                                    "1": "M01",
                                    "2": "792.42"
                                },
                                {
                                    "0": "2017",
                                    "1": "M01",
                                    "2": "792.44"
                                },
                                {
                                    "0": "2017",
                                    "1": "M01",
                                    "2": "793.18"
                                },
                                {
                                    "0": "2017",
                                    "1": "M01",
                                    "2": "794.38"
                                },
                                {
                                    "0": "2017",
                                    "1": "M01",
                                    "2": "794.46"
                                },
                                {
                                    "0": "2017",
                                    "1": "M01",
                                    "2": "795.62"
                                },
                                {
                                    "0": "2017",
                                    "1": "M01",
                                    "2": "795.87"
                                },
                                {
                                    "0": "2017",
                                    "1": "M01",
                                    "2": "795.98"
                                },
                                {
                                    "0": "2017",
                                    "1": "M01",
                                    "2": "796.05"
                                },
                                {
                                    "0": "2017",
                                    "1": "M01",
                                    "2": "796.73"
                                },
                                {
                                    "0": "2017",
                                    "1": "M01",
                                    "2": "797.89"
                                },
                                {
                                    "0": "2017",
                                    "1": "M01",
                                    "2": "799.88"
                                },
                                {
                                    "0": "2017",
                                    "1": "M01",
                                    "2": "801.47"
                                },
                                {
                                    "0": "2017",
                                    "1": "M01",
                                    "2": "804.46"
                                },
                                {
                                    "0": "2017",
                                    "1": "M01",
                                    "2": "804.53"
                                },
                                {
                                    "0": "2017",
                                    "1": "M01",
                                    "2": "804.86"
                                },
                                {
                                    "0": "2017",
                                    "1": "M01",
                                    "2": "805.57"
                                },
                                {
                                    "0": "2017",
                                    "1": "M01",
                                    "2": "806.02"
                                },
                                {
                                    "0": "2017",
                                    "1": "M01",
                                    "2": "806.12"
                                },
                                {
                                    "0": "2017",
                                    "1": "M01",
                                    "2": "808.37"
                                },
                                {
                                    "0": "2017",
                                    "1": "M01",
                                    "2": "810.21"
                                },
                                {
                                    "0": "2017",
                                    "1": "M01",
                                    "2": "810.77"
                                },
                                {
                                    "0": "2017",
                                    "1": "M01",
                                    "2": "811.39"
                                },
                                {
                                    "0": "2017",
                                    "1": "M01",
                                    "2": "811.49"
                                },
                                {
                                    "0": "2017",
                                    "1": "M01",
                                    "2": "811.76"
                                },
                                {
                                    "0": "2017",
                                    "1": "M01",
                                    "2": "812.43"
                                },
                                {
                                    "0": "2017",
                                    "1": "M01",
                                    "2": "813.63"
                                },
                                {
                                    "0": "2017",
                                    "1": "M01",
                                    "2": "813.75"
                                },
                                {
                                    "0": "2017",
                                    "1": "M01",
                                    "2": "814.86"
                                },
                                {
                                    "0": "2017",
                                    "1": "M01",
                                    "2": "815.25"
                                },
                                {
                                    "0": "2017",
                                    "1": "M01",
                                    "2": "816.07"
                                },
                                {
                                    "0": "2017",
                                    "1": "M01",
                                    "2": "818.44"
                                },
                                {
                                    "0": "2017",
                                    "1": "M01",
                                    "2": "819.14"
                                },
                                {
                                    "0": "2017",
                                    "1": "M01",
                                    "2": "819.18"
                                },
                                {
                                    "0": "2017",
                                    "1": "M01",
                                    "2": "819.31"
                                },
                                {
                                    "0": "2017",
                                    "1": "M01",
                                    "2": "819.96"
                                },
                                {
                                    "0": "2017",
                                    "1": "M01",
                                    "2": "820.8"
                                },
                                {
                                    "0": "2017",
                                    "1": "M01",
                                    "2": "821.01"
                                },
                                {
                                    "0": "2017",
                                    "1": "M01",
                                    "2": "821.83"
                                },
                                {
                                    "0": "2017",
                                    "1": "M01",
                                    "2": "821.9"
                                },
                                {
                                    "0": "2017",
                                    "1": "M01",
                                    "2": "821.96"
                                },
                                {
                                    "0": "2017",
                                    "1": "M01",
                                    "2": "822.08"
                                },
                                {
                                    "0": "2017",
                                    "1": "M01",
                                    "2": "823.55"
                                },
                                {
                                    "0": "2017",
                                    "1": "M01",
                                    "2": "824.5"
                                },
                                {
                                    "0": "2017",
                                    "1": "M01",
                                    "2": "824.73"
                                },
                                {
                                    "0": "2017",
                                    "1": "M01",
                                    "2": "825.1"
                                },
                                {
                                    "0": "2017",
                                    "1": "M01",
                                    "2": "825.93"
                                },
                                {
                                    "0": "2017",
                                    "1": "M01",
                                    "2": "826.59"
                                },
                                {
                                    "0": "2017",
                                    "1": "M01",
                                    "2": "826.62"
                                },
                                {
                                    "0": "2017",
                                    "1": "M01",
                                    "2": "826.97"
                                },
                                {
                                    "0": "2017",
                                    "1": "M01",
                                    "2": "827.04"
                                },
                                {
                                    "0": "2017",
                                    "1": "M01",
                                    "2": "827.2"
                                },
                                {
                                    "0": "2017",
                                    "1": "M01",
                                    "2": "827.75"
                                },
                                {
                                    "0": "2017",
                                    "1": "M01",
                                    "2": "828.24"
                                },
                                {
                                    "0": "2017",
                                    "1": "M01",
                                    "2": "828.65"
                                },
                                {
                                    "0": "2017",
                                    "1": "M01",
                                    "2": "829.16"
                                },
                                {
                                    "0": "2017",
                                    "1": "M01",
                                    "2": "829.67"
                                },
                                {
                                    "0": "2017",
                                    "1": "M01",
                                    "2": "832.2"
                                },
                                {
                                    "0": "2017",
                                    "1": "M01",
                                    "2": "832.96"
                                },
                                {
                                    "0": "2017",
                                    "1": "M01",
                                    "2": "833.54"
                                },
                                {
                                    "0": "2017",
                                    "1": "M01",
                                    "2": "834.09"
                                },
                                {
                                    "0": "2017",
                                    "1": "M01",
                                    "2": "834.15"
                                },
                                {
                                    "0": "2017",
                                    "1": "M01",
                                    "2": "834.27"
                                },
                                {
                                    "0": "2017",
                                    "1": "M01",
                                    "2": "834.96"
                                },
                                {
                                    "0": "2017",
                                    "1": "M01",
                                    "2": "835.09"
                                },
                                {
                                    "0": "2017",
                                    "1": "M01",
                                    "2": "835.33"
                                },
                                {
                                    "0": "2017",
                                    "1": "M01",
                                    "2": "835.35"
                                },
                                {
                                    "0": "2017",
                                    "1": "M01",
                                    "2": "836.03"
                                },
                                {
                                    "0": "2017",
                                    "1": "M01",
                                    "2": "836.14"
                                },
                                {
                                    "0": "2017",
                                    "1": "M01",
                                    "2": "836.63"
                                },
                                {
                                    "0": "2017",
                                    "1": "M01",
                                    "2": "836.74"
                                },
                                {
                                    "0": "2017",
                                    "1": "M01",
                                    "2": "836.98"
                                },
                                {
                                    "0": "2017",
                                    "1": "M01",
                                    "2": "837.34"
                                },
                                {
                                    "0": "2017",
                                    "1": "M01",
                                    "2": "837.84"
                                },
                                {
                                    "0": "2017",
                                    "1": "M01",
                                    "2": "838.32"
                                },
                                {
                                    "0": "2017",
                                    "1": "M01",
                                    "2": "838.88"
                                },
                                {
                                    "0": "2017",
                                    "1": "M01",
                                    "2": "839.36"
                                },
                                {
                                    "0": "2017",
                                    "1": "M01",
                                    "2": "839.47"
                                },
                                {
                                    "0": "2017",
                                    "1": "M01",
                                    "2": "840.45"
                                },
                                {
                                    "0": "2017",
                                    "1": "M01",
                                    "2": "841.19"
                                },
                                {
                                    "0": "2017",
                                    "1": "M01",
                                    "2": "841.4"
                                },
                                {
                                    "0": "2017",
                                    "1": "M01",
                                    "2": "844.29"
                                },
                                {
                                    "0": "2017",
                                    "1": "M01",
                                    "2": "845.39"
                                },
                                {
                                    "0": "2017",
                                    "1": "M01",
                                    "2": "845.44"
                                },
                                {
                                    "0": "2017",
                                    "1": "M01",
                                    "2": "845.83"
                                },
                                {
                                    "0": "2017",
                                    "1": "M01",
                                    "2": "846.03"
                                },
                                {
                                    "0": "2017",
                                    "1": "M01",
                                    "2": "847.76"
                                },
                                {
                                    "0": "2017",
                                    "1": "M01",
                                    "2": "847.88"
                                },
                                {
                                    "0": "2017",
                                    "1": "M01",
                                    "2": "847.96"
                                },
                                {
                                    "0": "2017",
                                    "1": "M01",
                                    "2": "848.91"
                                },
                                {
                                    "0": "2017",
                                    "1": "M01",
                                    "2": "849.36"
                                },
                                {
                                    "0": "2017",
                                    "1": "M01",
                                    "2": "849.68"
                                },
                                {
                                    "0": "2017",
                                    "1": "M01",
                                    "2": "849.95"
                                },
                                {
                                    "0": "2017",
                                    "1": "M01",
                                    "2": "851.24"
                                },
                                {
                                    "0": "2017",
                                    "1": "M01",
                                    "2": "851.83"
                                },
                                {
                                    "0": "2017",
                                    "1": "M01",
                                    "2": "851.94"
                                },
                                {
                                    "0": "2017",
                                    "1": "M01",
                                    "2": "852.98"
                                },
                                {
                                    "0": "2017",
                                    "1": "M01",
                                    "2": "853.78"
                                },
                                {
                                    "0": "2017",
                                    "1": "M01",
                                    "2": "854.47"
                                },
                                {
                                    "0": "2017",
                                    "1": "M01",
                                    "2": "855.75"
                                },
                                {
                                    "0": "2017",
                                    "1": "M01",
                                    "2": "855.82"
                                },
                                {
                                    "0": "2017",
                                    "1": "M01",
                                    "2": "855.83"
                                },
                                {
                                    "0": "2017",
                                    "1": "M01",
                                    "2": "859.58"
                                },
                                {
                                    "0": "2017",
                                    "1": "M01",
                                    "2": "859.84"
                                },
                                {
                                    "0": "2017",
                                    "1": "M01",
                                    "2": "861.42"
                                },
                                {
                                    "0": "2017",
                                    "1": "M01",
                                    "2": "861.9"
                                },
                                {
                                    "0": "2017",
                                    "1": "M01",
                                    "2": "862.36"
                                },
                                {
                                    "0": "2017",
                                    "1": "M01",
                                    "2": "864.4"
                                },
                                {
                                    "0": "2017",
                                    "1": "M01",
                                    "2": "864.46"
                                },
                                {
                                    "0": "2017",
                                    "1": "M01",
                                    "2": "864.84"
                                },
                                {
                                    "0": "2017",
                                    "1": "M01",
                                    "2": "865.28"
                                },
                                {
                                    "0": "2017",
                                    "1": "M01",
                                    "2": "865.37"
                                },
                                {
                                    "0": "2017",
                                    "1": "M01",
                                    "2": "865.58"
                                },
                                {
                                    "0": "2017",
                                    "1": "M01",
                                    "2": "866.84"
                                },
                                {
                                    "0": "2017",
                                    "1": "M01",
                                    "2": "867.56"
                                },
                                {
                                    "0": "2017",
                                    "1": "M01",
                                    "2": "869.09"
                                },
                                {
                                    "0": "2017",
                                    "1": "M01",
                                    "2": "869.28"
                                },
                                {
                                    "0": "2017",
                                    "1": "M01",
                                    "2": "869.62"
                                },
                                {
                                    "0": "2017",
                                    "1": "M01",
                                    "2": "872.66"
                                },
                                {
                                    "0": "2017",
                                    "1": "M01",
                                    "2": "872.99"
                                },
                                {
                                    "0": "2017",
                                    "1": "M01",
                                    "2": "873.02"
                                },
                                {
                                    "0": "2017",
                                    "1": "M01",
                                    "2": "873.05"
                                },
                                {
                                    "0": "2017",
                                    "1": "M01",
                                    "2": "874.71"
                                },
                                {
                                    "0": "2017",
                                    "1": "M01",
                                    "2": "875.47"
                                },
                                {
                                    "0": "2017",
                                    "1": "M01",
                                    "2": "875.75"
                                },
                                {
                                    "0": "2017",
                                    "1": "M01",
                                    "2": "876.03"
                                },
                                {
                                    "0": "2017",
                                    "1": "M01",
                                    "2": "876.65"
                                },
                                {
                                    "0": "2017",
                                    "1": "M01",
                                    "2": "876.68"
                                },
                                {
                                    "0": "2017",
                                    "1": "M01",
                                    "2": "877.5"
                                },
                                {
                                    "0": "2017",
                                    "1": "M01",
                                    "2": "878.64"
                                },
                                {
                                    "0": "2017",
                                    "1": "M01",
                                    "2": "879.62"
                                },
                                {
                                    "0": "2017",
                                    "1": "M01",
                                    "2": "879.84"
                                },
                                {
                                    "0": "2017",
                                    "1": "M01",
                                    "2": "880.65"
                                },
                                {
                                    "0": "2017",
                                    "1": "M01",
                                    "2": "880.88"
                                },
                                {
                                    "0": "2017",
                                    "1": "M01",
                                    "2": "880.93"
                                },
                                {
                                    "0": "2017",
                                    "1": "M01",
                                    "2": "881.09"
                                },
                                {
                                    "0": "2017",
                                    "1": "M01",
                                    "2": "881.16"
                                },
                                {
                                    "0": "2017",
                                    "1": "M01",
                                    "2": "881.28"
                                },
                                {
                                    "0": "2017",
                                    "1": "M01",
                                    "2": "883.46"
                                },
                                {
                                    "0": "2017",
                                    "1": "M01",
                                    "2": "883.73"
                                },
                                {
                                    "0": "2017",
                                    "1": "M01",
                                    "2": "884.42"
                                },
                                {
                                    "0": "2017",
                                    "1": "M01",
                                    "2": "884.44"
                                },
                                {
                                    "0": "2017",
                                    "1": "M01",
                                    "2": "884.67"
                                },
                                {
                                    "0": "2017",
                                    "1": "M01",
                                    "2": "884.7"
                                },
                                {
                                    "0": "2017",
                                    "1": "M01",
                                    "2": "885.31"
                                },
                                {
                                    "0": "2017",
                                    "1": "M01",
                                    "2": "886.62"
                                },
                                {
                                    "0": "2017",
                                    "1": "M01",
                                    "2": "887.1"
                                },
                                {
                                    "0": "2017",
                                    "1": "M01",
                                    "2": "887.78"
                                },
                                {
                                    "0": "2017",
                                    "1": "M01",
                                    "2": "888.08"
                                },
                                {
                                    "0": "2017",
                                    "1": "M01",
                                    "2": "888.38"
                                },
                                {
                                    "0": "2017",
                                    "1": "M01",
                                    "2": "888.68"
                                },
                                {
                                    "0": "2017",
                                    "1": "M01",
                                    "2": "890.6"
                                },
                                {
                                    "0": "2017",
                                    "1": "M01",
                                    "2": "891.67"
                                },
                                {
                                    "0": "2017",
                                    "1": "M01",
                                    "2": "892.49"
                                },
                                {
                                    "0": "2017",
                                    "1": "M01",
                                    "2": "893.54"
                                },
                                {
                                    "0": "2017",
                                    "1": "M01",
                                    "2": "894.96"
                                },
                                {
                                    "0": "2017",
                                    "1": "M01",
                                    "2": "895.36"
                                },
                                {
                                    "0": "2017",
                                    "1": "M01",
                                    "2": "895.56"
                                },
                                {
                                    "0": "2017",
                                    "1": "M01",
                                    "2": "896.8"
                                },
                                {
                                    "0": "2017",
                                    "1": "M01",
                                    "2": "898.32"
                                },
                                {
                                    "0": "2017",
                                    "1": "M01",
                                    "2": "898.56"
                                },
                                {
                                    "0": "2017",
                                    "1": "M01",
                                    "2": "899.7"
                                },
                                {
                                    "0": "2017",
                                    "1": "M01",
                                    "2": "899.9"
                                },
                                {
                                    "0": "2017",
                                    "1": "M01",
                                    "2": "901.23"
                                },
                                {
                                    "0": "2017",
                                    "1": "M01",
                                    "2": "903.05"
                                },
                                {
                                    "0": "2017",
                                    "1": "M01",
                                    "2": "903.67"
                                },
                                {
                                    "0": "2017",
                                    "1": "M01",
                                    "2": "904.24"
                                },
                                {
                                    "0": "2017",
                                    "1": "M01",
                                    "2": "906.75"
                                },
                                {
                                    "0": "2017",
                                    "1": "M01",
                                    "2": "906.78"
                                },
                                {
                                    "0": "2017",
                                    "1": "M01",
                                    "2": "907.08"
                                },
                                {
                                    "0": "2017",
                                    "1": "M01",
                                    "2": "907.86"
                                },
                                {
                                    "0": "2017",
                                    "1": "M01",
                                    "2": "910.03"
                                },
                                {
                                    "0": "2017",
                                    "1": "M01",
                                    "2": "911.53"
                                },
                                {
                                    "0": "2017",
                                    "1": "M01",
                                    "2": "911.89"
                                },
                                {
                                    "0": "2017",
                                    "1": "M01",
                                    "2": "913.65"
                                },
                                {
                                    "0": "2017",
                                    "1": "M01",
                                    "2": "913.85"
                                },
                                {
                                    "0": "2017",
                                    "1": "M01",
                                    "2": "913.88"
                                },
                                {
                                    "0": "2017",
                                    "1": "M01",
                                    "2": "914.28"
                                },
                                {
                                    "0": "2017",
                                    "1": "M01",
                                    "2": "914.76"
                                },
                                {
                                    "0": "2017",
                                    "1": "M01",
                                    "2": "915.37"
                                },
                                {
                                    "0": "2017",
                                    "1": "M01",
                                    "2": "915.71"
                                },
                                {
                                    "0": "2017",
                                    "1": "M01",
                                    "2": "916.26"
                                },
                                {
                                    "0": "2017",
                                    "1": "M01",
                                    "2": "916.84"
                                },
                                {
                                    "0": "2017",
                                    "1": "M01",
                                    "2": "916.9"
                                },
                                {
                                    "0": "2017",
                                    "1": "M01",
                                    "2": "917.54"
                                },
                                {
                                    "0": "2017",
                                    "1": "M01",
                                    "2": "918.1"
                                },
                                {
                                    "0": "2017",
                                    "1": "M01",
                                    "2": "918.38"
                                },
                                {
                                    "0": "2017",
                                    "1": "M01",
                                    "2": "919.43"
                                },
                                {
                                    "0": "2017",
                                    "1": "M01",
                                    "2": "919.76"
                                },
                                {
                                    "0": "2017",
                                    "1": "M01",
                                    "2": "920"
                                },
                                {
                                    "0": "2017",
                                    "1": "M01",
                                    "2": "921.9"
                                },
                                {
                                    "0": "2017",
                                    "1": "M01",
                                    "2": "921.99"
                                },
                                {
                                    "0": "2017",
                                    "1": "M01",
                                    "2": "923.38"
                                },
                                {
                                    "0": "2017",
                                    "1": "M01",
                                    "2": "924"
                                },
                                {
                                    "0": "2017",
                                    "1": "M01",
                                    "2": "924.32"
                                },
                                {
                                    "0": "2017",
                                    "1": "M01",
                                    "2": "924.6"
                                },
                                {
                                    "0": "2017",
                                    "1": "M01",
                                    "2": "924.71"
                                },
                                {
                                    "0": "2017",
                                    "1": "M01",
                                    "2": "925.12"
                                },
                                {
                                    "0": "2017",
                                    "1": "M01",
                                    "2": "925.63"
                                },
                                {
                                    "0": "2017",
                                    "1": "M01",
                                    "2": "926.19"
                                },
                                {
                                    "0": "2017",
                                    "1": "M01",
                                    "2": "926.88"
                                },
                                {
                                    "0": "2017",
                                    "1": "M01",
                                    "2": "927.26"
                                },
                                {
                                    "0": "2017",
                                    "1": "M01",
                                    "2": "928.04"
                                },
                                {
                                    "0": "2017",
                                    "1": "M01",
                                    "2": "928.4"
                                },
                                {
                                    "0": "2017",
                                    "1": "M01",
                                    "2": "928.89"
                                },
                                {
                                    "0": "2017",
                                    "1": "M01",
                                    "2": "930.92"
                                },
                                {
                                    "0": "2017",
                                    "1": "M01",
                                    "2": "931.5"
                                },
                                {
                                    "0": "2017",
                                    "1": "M01",
                                    "2": "933.3"
                                },
                                {
                                    "0": "2017",
                                    "1": "M01",
                                    "2": "933.4"
                                },
                                {
                                    "0": "2017",
                                    "1": "M01",
                                    "2": "933.9"
                                },
                                {
                                    "0": "2017",
                                    "1": "M01",
                                    "2": "935.13"
                                },
                                {
                                    "0": "2017",
                                    "1": "M01",
                                    "2": "935.81"
                                },
                                {
                                    "0": "2017",
                                    "1": "M01",
                                    "2": "936.03"
                                },
                                {
                                    "0": "2017",
                                    "1": "M01",
                                    "2": "936.17"
                                },
                                {
                                    "0": "2017",
                                    "1": "M01",
                                    "2": "936.41"
                                },
                                {
                                    "0": "2017",
                                    "1": "M01",
                                    "2": "937.24"
                                },
                                {
                                    "0": "2017",
                                    "1": "M01",
                                    "2": "937.75"
                                },
                                {
                                    "0": "2017",
                                    "1": "M01",
                                    "2": "939"
                                },
                                {
                                    "0": "2017",
                                    "1": "M01",
                                    "2": "939.14"
                                },
                                {
                                    "0": "2017",
                                    "1": "M01",
                                    "2": "939.25"
                                },
                                {
                                    "0": "2017",
                                    "1": "M01",
                                    "2": "939.68"
                                },
                                {
                                    "0": "2017",
                                    "1": "M01",
                                    "2": "940.34"
                                },
                                {
                                    "0": "2017",
                                    "1": "M01",
                                    "2": "941.75"
                                },
                                {
                                    "0": "2017",
                                    "1": "M01",
                                    "2": "945.45"
                                },
                                {
                                    "0": "2017",
                                    "1": "M01",
                                    "2": "946.91"
                                },
                                {
                                    "0": "2017",
                                    "1": "M01",
                                    "2": "948.78"
                                },
                                {
                                    "0": "2017",
                                    "1": "M01",
                                    "2": "949.82"
                                },
                                {
                                    "0": "2017",
                                    "1": "M01",
                                    "2": "951.26"
                                },
                                {
                                    "0": "2017",
                                    "1": "M01",
                                    "2": "951.49"
                                },
                                {
                                    "0": "2017",
                                    "1": "M01",
                                    "2": "951.88"
                                },
                                {
                                    "0": "2017",
                                    "1": "M01",
                                    "2": "955.15"
                                },
                                {
                                    "0": "2017",
                                    "1": "M01",
                                    "2": "957.76"
                                },
                                {
                                    "0": "2017",
                                    "1": "M01",
                                    "2": "958.11"
                                },
                                {
                                    "0": "2017",
                                    "1": "M01",
                                    "2": "959.24"
                                },
                                {
                                    "0": "2017",
                                    "1": "M01",
                                    "2": "959.78"
                                },
                                {
                                    "0": "2017",
                                    "1": "M01",
                                    "2": "960.72"
                                },
                                {
                                    "0": "2017",
                                    "1": "M01",
                                    "2": "962.3"
                                },
                                {
                                    "0": "2017",
                                    "1": "M01",
                                    "2": "964.72"
                                },
                                {
                                    "0": "2017",
                                    "1": "M01",
                                    "2": "965.6"
                                },
                                {
                                    "0": "2017",
                                    "1": "M01",
                                    "2": "965.68"
                                },
                                {
                                    "0": "2017",
                                    "1": "M01",
                                    "2": "966.01"
                                },
                                {
                                    "0": "2017",
                                    "1": "M01",
                                    "2": "966.46"
                                },
                                {
                                    "0": "2017",
                                    "1": "M01",
                                    "2": "966.91"
                                },
                                {
                                    "0": "2017",
                                    "1": "M01",
                                    "2": "967.27"
                                },
                                {
                                    "0": "2017",
                                    "1": "M01",
                                    "2": "967.66"
                                },
                                {
                                    "0": "2017",
                                    "1": "M01",
                                    "2": "968.37"
                                },
                                {
                                    "0": "2017",
                                    "1": "M01",
                                    "2": "968.89"
                                },
                                {
                                    "0": "2017",
                                    "1": "M01",
                                    "2": "969.36"
                                },
                                {
                                    "0": "2017",
                                    "1": "M01",
                                    "2": "972.69"
                                },
                                {
                                    "0": "2017",
                                    "1": "M01",
                                    "2": "974.38"
                                },
                                {
                                    "0": "2017",
                                    "1": "M01",
                                    "2": "974.97"
                                },
                                {
                                    "0": "2017",
                                    "1": "M01",
                                    "2": "976.9"
                                },
                                {
                                    "0": "2017",
                                    "1": "M01",
                                    "2": "977.18"
                                },
                                {
                                    "0": "2017",
                                    "1": "M01",
                                    "2": "977.91"
                                },
                                {
                                    "0": "2017",
                                    "1": "M01",
                                    "2": "978.32"
                                },
                                {
                                    "0": "2017",
                                    "1": "M01",
                                    "2": "979.02"
                                },
                                {
                                    "0": "2017",
                                    "1": "M01",
                                    "2": "979.55"
                                },
                                {
                                    "0": "2017",
                                    "1": "M01",
                                    "2": "979.97"
                                },
                                {
                                    "0": "2017",
                                    "1": "M01",
                                    "2": "981.71"
                                },
                                {
                                    "0": "2017",
                                    "1": "M01",
                                    "2": "982.1"
                                },
                                {
                                    "0": "2017",
                                    "1": "M01",
                                    "2": "983.12"
                                },
                                {
                                    "0": "2017",
                                    "1": "M01",
                                    "2": "983.66"
                                },
                                {
                                    "0": "2017",
                                    "1": "M01",
                                    "2": "983.97"
                                },
                                {
                                    "0": "2017",
                                    "1": "M01",
                                    "2": "985.4"
                                },
                                {
                                    "0": "2017",
                                    "1": "M01",
                                    "2": "987.2"
                                },
                                {
                                    "0": "2017",
                                    "1": "M01",
                                    "2": "987.37"
                                },
                                {
                                    "0": "2017",
                                    "1": "M01",
                                    "2": "988.4"
                                },
                                {
                                    "0": "2017",
                                    "1": "M01",
                                    "2": "990.4"
                                },
                                {
                                    "0": "2017",
                                    "1": "M01",
                                    "2": "991.38"
                                },
                                {
                                    "0": "2017",
                                    "1": "M01",
                                    "2": "991.84"
                                },
                                {
                                    "0": "2017",
                                    "1": "M01",
                                    "2": "993.65"
                                },
                                {
                                    "0": "2017",
                                    "1": "M01",
                                    "2": "993.98"
                                },
                                {
                                    "0": "2017",
                                    "1": "M01",
                                    "2": "994.19"
                                },
                                {
                                    "0": "2017",
                                    "1": "M01",
                                    "2": "997.9"
                                },
                                {
                                    "0": "2017",
                                    "1": "M01",
                                    "2": "998.24"
                                },
                                {
                                    "0": "2017",
                                    "1": "M01",
                                    "2": "999.22"
                                },
                                {
                                    "0": "2017",
                                    "1": "M01",
                                    "2": "999.46"
                                },
                                {
                                    "0": "2017",
                                    "1": "M01",
                                    "2": "1000.3"
                                },
                                {
                                    "0": "2017",
                                    "1": "M01",
                                    "2": "1000.51"
                                },
                                {
                                    "0": "2017",
                                    "1": "M01",
                                    "2": "1000.67"
                                },
                                {
                                    "0": "2017",
                                    "1": "M01",
                                    "2": "1001.59"
                                },
                                {
                                    "0": "2017",
                                    "1": "M01",
                                    "2": "1002.4"
                                },
                                {
                                    "0": "2017",
                                    "1": "M01",
                                    "2": "1003"
                                },
                                {
                                    "0": "2017",
                                    "1": "M01",
                                    "2": "1007.12"
                                },
                                {
                                    "0": "2017",
                                    "1": "M01",
                                    "2": "1008.14"
                                },
                                {
                                    "0": "2017",
                                    "1": "M01",
                                    "2": "1008.58"
                                },
                                {
                                    "0": "2017",
                                    "1": "M01",
                                    "2": "1008.9"
                                },
                                {
                                    "0": "2017",
                                    "1": "M01",
                                    "2": "1010.79"
                                },
                                {
                                    "0": "2017",
                                    "1": "M01",
                                    "2": "1010.9"
                                },
                                {
                                    "0": "2017",
                                    "1": "M01",
                                    "2": "1011.27"
                                },
                                {
                                    "0": "2017",
                                    "1": "M01",
                                    "2": "1011.56"
                                },
                                {
                                    "0": "2017",
                                    "1": "M01",
                                    "2": "1012.65"
                                },
                                {
                                    "0": "2017",
                                    "1": "M01",
                                    "2": "1014.34"
                                },
                                {
                                    "0": "2017",
                                    "1": "M01",
                                    "2": "1014.93"
                                },
                                {
                                    "0": "2017",
                                    "1": "M01",
                                    "2": "1015.23"
                                },
                                {
                                    "0": "2017",
                                    "1": "M01",
                                    "2": "1015.31"
                                },
                                {
                                    "0": "2017",
                                    "1": "M01",
                                    "2": "1015.74"
                                },
                                {
                                    "0": "2017",
                                    "1": "M01",
                                    "2": "1017.68"
                                },
                                {
                                    "0": "2017",
                                    "1": "M01",
                                    "2": "1018.46"
                                },
                                {
                                    "0": "2017",
                                    "1": "M01",
                                    "2": "1018.64"
                                },
                                {
                                    "0": "2017",
                                    "1": "M01",
                                    "2": "1018.7"
                                },
                                {
                                    "0": "2017",
                                    "1": "M01",
                                    "2": "1020.74"
                                },
                                {
                                    "0": "2017",
                                    "1": "M01",
                                    "2": "1022.35"
                                },
                                {
                                    "0": "2017",
                                    "1": "M01",
                                    "2": "1023.37"
                                },
                                {
                                    "0": "2017",
                                    "1": "M01",
                                    "2": "1023.73"
                                },
                                {
                                    "0": "2017",
                                    "1": "M01",
                                    "2": "1025.05"
                                },
                                {
                                    "0": "2017",
                                    "1": "M01",
                                    "2": "1025.3"
                                },
                                {
                                    "0": "2017",
                                    "1": "M01",
                                    "2": "1025.36"
                                },
                                {
                                    "0": "2017",
                                    "1": "M01",
                                    "2": "1025.38"
                                },
                                {
                                    "0": "2017",
                                    "1": "M01",
                                    "2": "1025.77"
                                },
                                {
                                    "0": "2017",
                                    "1": "M01",
                                    "2": "1028.57"
                                },
                                {
                                    "0": "2017",
                                    "1": "M01",
                                    "2": "1032.24"
                                },
                                {
                                    "0": "2017",
                                    "1": "M01",
                                    "2": "1033.92"
                                },
                                {
                                    "0": "2017",
                                    "1": "M01",
                                    "2": "1034.77"
                                },
                                {
                                    "0": "2017",
                                    "1": "M01",
                                    "2": "1034.89"
                                },
                                {
                                    "0": "2017",
                                    "1": "M01",
                                    "2": "1036"
                                },
                                {
                                    "0": "2017",
                                    "1": "M01",
                                    "2": "1040.82"
                                },
                                {
                                    "0": "2017",
                                    "1": "M01",
                                    "2": "1041.4"
                                },
                                {
                                    "0": "2017",
                                    "1": "M01",
                                    "2": "1042.34"
                                },
                                {
                                    "0": "2017",
                                    "1": "M01",
                                    "2": "1042.89"
                                },
                                {
                                    "0": "2017",
                                    "1": "M01",
                                    "2": "1043.19"
                                },
                                {
                                    "0": "2017",
                                    "1": "M01",
                                    "2": "1043.86"
                                },
                                {
                                    "0": "2017",
                                    "1": "M01",
                                    "2": "1044.89"
                                },
                                {
                                    "0": "2017",
                                    "1": "M01",
                                    "2": "1045.7"
                                },
                                {
                                    "0": "2017",
                                    "1": "M01",
                                    "2": "1046.04"
                                },
                                {
                                    "0": "2017",
                                    "1": "M01",
                                    "2": "1046.32"
                                },
                                {
                                    "0": "2017",
                                    "1": "M01",
                                    "2": "1046.58"
                                },
                                {
                                    "0": "2017",
                                    "1": "M01",
                                    "2": "1047.94"
                                },
                                {
                                    "0": "2017",
                                    "1": "M01",
                                    "2": "1048.43"
                                },
                                {
                                    "0": "2017",
                                    "1": "M01",
                                    "2": "1048.55"
                                },
                                {
                                    "0": "2017",
                                    "1": "M01",
                                    "2": "1050.09"
                                },
                                {
                                    "0": "2017",
                                    "1": "M01",
                                    "2": "1050.98"
                                },
                                {
                                    "0": "2017",
                                    "1": "M01",
                                    "2": "1051.52"
                                },
                                {
                                    "0": "2017",
                                    "1": "M01",
                                    "2": "1053.15"
                                },
                                {
                                    "0": "2017",
                                    "1": "M01",
                                    "2": "1056.06"
                                },
                                {
                                    "0": "2017",
                                    "1": "M01",
                                    "2": "1057.08"
                                },
                                {
                                    "0": "2017",
                                    "1": "M01",
                                    "2": "1057.6"
                                },
                                {
                                    "0": "2017",
                                    "1": "M01",
                                    "2": "1058.94"
                                },
                                {
                                    "0": "2017",
                                    "1": "M01",
                                    "2": "1060.07"
                                },
                                {
                                    "0": "2017",
                                    "1": "M01",
                                    "2": "1063.3"
                                },
                                {
                                    "0": "2017",
                                    "1": "M01",
                                    "2": "1063.92"
                                },
                                {
                                    "0": "2017",
                                    "1": "M01",
                                    "2": "1064.09"
                                },
                                {
                                    "0": "2017",
                                    "1": "M01",
                                    "2": "1065.23"
                                },
                                {
                                    "0": "2017",
                                    "1": "M01",
                                    "2": "1066.13"
                                },
                                {
                                    "0": "2017",
                                    "1": "M01",
                                    "2": "1066.93"
                                },
                                {
                                    "0": "2017",
                                    "1": "M01",
                                    "2": "1073.2"
                                },
                                {
                                    "0": "2017",
                                    "1": "M01",
                                    "2": "1074.95"
                                },
                                {
                                    "0": "2017",
                                    "1": "M01",
                                    "2": "1075.31"
                                },
                                {
                                    "0": "2017",
                                    "1": "M01",
                                    "2": "1075.61"
                                },
                                {
                                    "0": "2017",
                                    "1": "M01",
                                    "2": "1076.5"
                                },
                                {
                                    "0": "2017",
                                    "1": "M01",
                                    "2": "1076.7"
                                },
                                {
                                    "0": "2017",
                                    "1": "M01",
                                    "2": "1076.94"
                                },
                                {
                                    "0": "2017",
                                    "1": "M01",
                                    "2": "1082.4"
                                },
                                {
                                    "0": "2017",
                                    "1": "M01",
                                    "2": "1082.96"
                                },
                                {
                                    "0": "2017",
                                    "1": "M01",
                                    "2": "1083.21"
                                },
                                {
                                    "0": "2017",
                                    "1": "M01",
                                    "2": "1083.3"
                                },
                                {
                                    "0": "2017",
                                    "1": "M01",
                                    "2": "1084.44"
                                },
                                {
                                    "0": "2017",
                                    "1": "M01",
                                    "2": "1084.76"
                                },
                                {
                                    "0": "2017",
                                    "1": "M01",
                                    "2": "1086.96"
                                },
                                {
                                    "0": "2017",
                                    "1": "M01",
                                    "2": "1087.27"
                                },
                                {
                                    "0": "2017",
                                    "1": "M01",
                                    "2": "1087.69"
                                },
                                {
                                    "0": "2017",
                                    "1": "M01",
                                    "2": "1088.49"
                                },
                                {
                                    "0": "2017",
                                    "1": "M01",
                                    "2": "1088.64"
                                },
                                {
                                    "0": "2017",
                                    "1": "M01",
                                    "2": "1088.98"
                                },
                                {
                                    "0": "2017",
                                    "1": "M01",
                                    "2": "1089.88"
                                },
                                {
                                    "0": "2017",
                                    "1": "M01",
                                    "2": "1089.91"
                                },
                                {
                                    "0": "2017",
                                    "1": "M01",
                                    "2": "1090.32"
                                },
                                {
                                    "0": "2017",
                                    "1": "M01",
                                    "2": "1093.12"
                                },
                                {
                                    "0": "2017",
                                    "1": "M01",
                                    "2": "1094.95"
                                },
                                {
                                    "0": "2017",
                                    "1": "M01",
                                    "2": "1096.03"
                                },
                                {
                                    "0": "2017",
                                    "1": "M01",
                                    "2": "1096.2"
                                },
                                {
                                    "0": "2017",
                                    "1": "M01",
                                    "2": "1096.96"
                                },
                                {
                                    "0": "2017",
                                    "1": "M01",
                                    "2": "1098"
                                },
                                {
                                    "0": "2017",
                                    "1": "M01",
                                    "2": "1098.55"
                                },
                                {
                                    "0": "2017",
                                    "1": "M01",
                                    "2": "1098.68"
                                },
                                {
                                    "0": "2017",
                                    "1": "M01",
                                    "2": "1099.86"
                                },
                                {
                                    "0": "2017",
                                    "1": "M01",
                                    "2": "1101.52"
                                },
                                {
                                    "0": "2017",
                                    "1": "M01",
                                    "2": "1101.93"
                                },
                                {
                                    "0": "2017",
                                    "1": "M01",
                                    "2": "1102.45"
                                },
                                {
                                    "0": "2017",
                                    "1": "M01",
                                    "2": "1105.7"
                                },
                                {
                                    "0": "2017",
                                    "1": "M01",
                                    "2": "1105.86"
                                },
                                {
                                    "0": "2017",
                                    "1": "M01",
                                    "2": "1108.72"
                                },
                                {
                                    "0": "2017",
                                    "1": "M01",
                                    "2": "1109.84"
                                },
                                {
                                    "0": "2017",
                                    "1": "M01",
                                    "2": "1110.98"
                                },
                                {
                                    "0": "2017",
                                    "1": "M01",
                                    "2": "1114.1"
                                },
                                {
                                    "0": "2017",
                                    "1": "M01",
                                    "2": "1120.39"
                                },
                                {
                                    "0": "2017",
                                    "1": "M01",
                                    "2": "1120.75"
                                },
                                {
                                    "0": "2017",
                                    "1": "M01",
                                    "2": "1121.61"
                                },
                                {
                                    "0": "2017",
                                    "1": "M01",
                                    "2": "1126.88"
                                },
                                {
                                    "0": "2017",
                                    "1": "M01",
                                    "2": "1130.82"
                                },
                                {
                                    "0": "2017",
                                    "1": "M01",
                                    "2": "1133.35"
                                },
                                {
                                    "0": "2017",
                                    "1": "M01",
                                    "2": "1133.94"
                                },
                                {
                                    "0": "2017",
                                    "1": "M01",
                                    "2": "1135.7"
                                },
                                {
                                    "0": "2017",
                                    "1": "M01",
                                    "2": "1137.04"
                                },
                                {
                                    "0": "2017",
                                    "1": "M01",
                                    "2": "1138.57"
                                },
                                {
                                    "0": "2017",
                                    "1": "M01",
                                    "2": "1143.69"
                                },
                                {
                                    "0": "2017",
                                    "1": "M01",
                                    "2": "1146.3"
                                },
                                {
                                    "0": "2017",
                                    "1": "M01",
                                    "2": "1148.86"
                                },
                                {
                                    "0": "2017",
                                    "1": "M01",
                                    "2": "1150.59"
                                },
                                {
                                    "0": "2017",
                                    "1": "M01",
                                    "2": "1150.9"
                                },
                                {
                                    "0": "2017",
                                    "1": "M01",
                                    "2": "1156.61"
                                },
                                {
                                    "0": "2017",
                                    "1": "M01",
                                    "2": "1167.48"
                                },
                                {
                                    "0": "2017",
                                    "1": "M01",
                                    "2": "1168.27"
                                },
                                {
                                    "0": "2017",
                                    "1": "M01",
                                    "2": "1174.24"
                                },
                                {
                                    "0": "2017",
                                    "1": "M01",
                                    "2": "1177.52"
                                },
                                {
                                    "0": "2017",
                                    "1": "M01",
                                    "2": "1178.73"
                                },
                                {
                                    "0": "2017",
                                    "1": "M01",
                                    "2": "1179.62"
                                },
                                {
                                    "0": "2017",
                                    "1": "M01",
                                    "2": "1181.98"
                                },
                                {
                                    "0": "2017",
                                    "1": "M01",
                                    "2": "1182.71"
                                },
                                {
                                    "0": "2017",
                                    "1": "M01",
                                    "2": "1186.18"
                                },
                                {
                                    "0": "2017",
                                    "1": "M01",
                                    "2": "1186.69"
                                },
                                {
                                    "0": "2017",
                                    "1": "M01",
                                    "2": "1187.62"
                                },
                                {
                                    "0": "2017",
                                    "1": "M01",
                                    "2": "1194.9"
                                },
                                {
                                    "0": "2017",
                                    "1": "M01",
                                    "2": "1195.68"
                                },
                                {
                                    "0": "2017",
                                    "1": "M01",
                                    "2": "1196.48"
                                },
                                {
                                    "0": "2017",
                                    "1": "M01",
                                    "2": "1201.25"
                                },
                                {
                                    "0": "2017",
                                    "1": "M01",
                                    "2": "1201.32"
                                },
                                {
                                    "0": "2017",
                                    "1": "M01",
                                    "2": "1203.27"
                                },
                                {
                                    "0": "2017",
                                    "1": "M01",
                                    "2": "1204.1"
                                },
                                {
                                    "0": "2017",
                                    "1": "M01",
                                    "2": "1204.37"
                                },
                                {
                                    "0": "2017",
                                    "1": "M01",
                                    "2": "1205.03"
                                },
                                {
                                    "0": "2017",
                                    "1": "M01",
                                    "2": "1205.1"
                                },
                                {
                                    "0": "2017",
                                    "1": "M01",
                                    "2": "1206.65"
                                },
                                {
                                    "0": "2017",
                                    "1": "M01",
                                    "2": "1207.71"
                                },
                                {
                                    "0": "2017",
                                    "1": "M01",
                                    "2": "1210.4"
                                },
                                {
                                    "0": "2017",
                                    "1": "M01",
                                    "2": "1214.1"
                                },
                                {
                                    "0": "2017",
                                    "1": "M01",
                                    "2": "1215.22"
                                },
                                {
                                    "0": "2017",
                                    "1": "M01",
                                    "2": "1218.97"
                                },
                                {
                                    "0": "2017",
                                    "1": "M01",
                                    "2": "1219.54"
                                },
                                {
                                    "0": "2017",
                                    "1": "M01",
                                    "2": "1224.69"
                                },
                                {
                                    "0": "2017",
                                    "1": "M01",
                                    "2": "1225.07"
                                },
                                {
                                    "0": "2017",
                                    "1": "M01",
                                    "2": "1225.7"
                                },
                                {
                                    "0": "2017",
                                    "1": "M01",
                                    "2": "1226.64"
                                },
                                {
                                    "0": "2017",
                                    "1": "M01",
                                    "2": "1230.53"
                                },
                                {
                                    "0": "2017",
                                    "1": "M01",
                                    "2": "1230.87"
                                },
                                {
                                    "0": "2017",
                                    "1": "M01",
                                    "2": "1232.06"
                                },
                                {
                                    "0": "2017",
                                    "1": "M01",
                                    "2": "1233.59"
                                },
                                {
                                    "0": "2017",
                                    "1": "M01",
                                    "2": "1233.74"
                                },
                                {
                                    "0": "2017",
                                    "1": "M01",
                                    "2": "1234.69"
                                },
                                {
                                    "0": "2017",
                                    "1": "M01",
                                    "2": "1234.98"
                                },
                                {
                                    "0": "2017",
                                    "1": "M01",
                                    "2": "1236.14"
                                },
                                {
                                    "0": "2017",
                                    "1": "M01",
                                    "2": "1236.9"
                                },
                                {
                                    "0": "2017",
                                    "1": "M01",
                                    "2": "1237.72"
                                },
                                {
                                    "0": "2017",
                                    "1": "M01",
                                    "2": "1240.73"
                                },
                                {
                                    "0": "2017",
                                    "1": "M01",
                                    "2": "1240.88"
                                },
                                {
                                    "0": "2017",
                                    "1": "M01",
                                    "2": "1241.6"
                                },
                                {
                                    "0": "2017",
                                    "1": "M01",
                                    "2": "1242.83"
                                },
                                {
                                    "0": "2017",
                                    "1": "M01",
                                    "2": "1244.36"
                                },
                                {
                                    "0": "2017",
                                    "1": "M01",
                                    "2": "1248.21"
                                },
                                {
                                    "0": "2017",
                                    "1": "M01",
                                    "2": "1248.82"
                                },
                                {
                                    "0": "2017",
                                    "1": "M01",
                                    "2": "1251.47"
                                },
                                {
                                    "0": "2017",
                                    "1": "M01",
                                    "2": "1252.82"
                                },
                                {
                                    "0": "2017",
                                    "1": "M01",
                                    "2": "1253.53"
                                },
                                {
                                    "0": "2017",
                                    "1": "M01",
                                    "2": "1257.79"
                                },
                                {
                                    "0": "2017",
                                    "1": "M01",
                                    "2": "1264.29"
                                },
                                {
                                    "0": "2017",
                                    "1": "M01",
                                    "2": "1264.45"
                                },
                                {
                                    "0": "2017",
                                    "1": "M01",
                                    "2": "1266.59"
                                },
                                {
                                    "0": "2017",
                                    "1": "M01",
                                    "2": "1267.62"
                                },
                                {
                                    "0": "2017",
                                    "1": "M01",
                                    "2": "1267.74"
                                },
                                {
                                    "0": "2017",
                                    "1": "M01",
                                    "2": "1268.78"
                                },
                                {
                                    "0": "2017",
                                    "1": "M01",
                                    "2": "1268.98"
                                },
                                {
                                    "0": "2017",
                                    "1": "M01",
                                    "2": "1276.33"
                                },
                                {
                                    "0": "2017",
                                    "1": "M01",
                                    "2": "1276.44"
                                },
                                {
                                    "0": "2017",
                                    "1": "M01",
                                    "2": "1282.47"
                                },
                                {
                                    "0": "2017",
                                    "1": "M01",
                                    "2": "1283.25"
                                },
                                {
                                    "0": "2017",
                                    "1": "M01",
                                    "2": "1283.45"
                                },
                                {
                                    "0": "2017",
                                    "1": "M01",
                                    "2": "1284.79"
                                },
                                {
                                    "0": "2017",
                                    "1": "M01",
                                    "2": "1289.27"
                                },
                                {
                                    "0": "2017",
                                    "1": "M01",
                                    "2": "1289.68"
                                },
                                {
                                    "0": "2017",
                                    "1": "M01",
                                    "2": "1291.47"
                                },
                                {
                                    "0": "2017",
                                    "1": "M01",
                                    "2": "1309.25"
                                },
                                {
                                    "0": "2017",
                                    "1": "M01",
                                    "2": "1309.83"
                                },
                                {
                                    "0": "2017",
                                    "1": "M01",
                                    "2": "1316.96"
                                },
                                {
                                    "0": "2017",
                                    "1": "M01",
                                    "2": "1317.05"
                                },
                                {
                                    "0": "2017",
                                    "1": "M01",
                                    "2": "1324.77"
                                },
                                {
                                    "0": "2017",
                                    "1": "M01",
                                    "2": "1329.12"
                                },
                                {
                                    "0": "2017",
                                    "1": "M01",
                                    "2": "1331.01"
                                },
                                {
                                    "0": "2017",
                                    "1": "M01",
                                    "2": "1338.46"
                                },
                                {
                                    "0": "2017",
                                    "1": "M01",
                                    "2": "1338.89"
                                },
                                {
                                    "0": "2017",
                                    "1": "M01",
                                    "2": "1345.68"
                                },
                                {
                                    "0": "2017",
                                    "1": "M01",
                                    "2": "1366.08"
                                },
                                {
                                    "0": "2017",
                                    "1": "M01",
                                    "2": "1367.52"
                                },
                                {
                                    "0": "2017",
                                    "1": "M01",
                                    "2": "1370.14"
                                },
                                {
                                    "0": "2017",
                                    "1": "M01",
                                    "2": "1375.87"
                                },
                                {
                                    "0": "2017",
                                    "1": "M01",
                                    "2": "1380.69"
                                },
                                {
                                    "0": "2017",
                                    "1": "M01",
                                    "2": "1380.85"
                                },
                                {
                                    "0": "2017",
                                    "1": "M01",
                                    "2": "1383.61"
                                },
                                {
                                    "0": "2017",
                                    "1": "M01",
                                    "2": "1395.45"
                                },
                                {
                                    "0": "2017",
                                    "1": "M01",
                                    "2": "1405.4"
                                },
                                {
                                    "0": "2017",
                                    "1": "M01",
                                    "2": "1412.75"
                                },
                                {
                                    "0": "2017",
                                    "1": "M01",
                                    "2": "1427.77"
                                },
                                {
                                    "0": "2017",
                                    "1": "M01",
                                    "2": "1443.57"
                                },
                                {
                                    "0": "2017",
                                    "1": "M01",
                                    "2": "1444.13"
                                },
                                {
                                    "0": "2017",
                                    "1": "M01",
                                    "2": "1448.74"
                                },
                                {
                                    "0": "2017",
                                    "1": "M01",
                                    "2": "1463.45"
                                },
                                {
                                    "0": "2017",
                                    "1": "M01",
                                    "2": "1465.57"
                                },
                                {
                                    "0": "2017",
                                    "1": "M01",
                                    "2": "1466.04"
                                },
                                {
                                    "0": "2017",
                                    "1": "M01",
                                    "2": "1469.52"
                                },
                                {
                                    "0": "2017",
                                    "1": "M01",
                                    "2": "1483.68"
                                },
                                {
                                    "0": "2017",
                                    "1": "M01",
                                    "2": "1491.35"
                                },
                                {
                                    "0": "2017",
                                    "1": "M01",
                                    "2": "1496.37"
                                },
                                {
                                    "0": "2017",
                                    "1": "M01",
                                    "2": "1511.46"
                                },
                                {
                                    "0": "2017",
                                    "1": "M01",
                                    "2": "1532.16"
                                },
                                {
                                    "0": "2017",
                                    "1": "M01",
                                    "2": "1538.66"
                                },
                                {
                                    "0": "2017",
                                    "1": "M01",
                                    "2": "1558.66"
                                },
                                {
                                    "0": "2017",
                                    "1": "M01",
                                    "2": "1560"
                                },
                                {
                                    "0": "2017",
                                    "1": "M01",
                                    "2": "1561.4"
                                },
                                {
                                    "0": "2017",
                                    "1": "M01",
                                    "2": "1564.26"
                                },
                                {
                                    "0": "2017",
                                    "1": "M01",
                                    "2": "1569.54"
                                },
                                {
                                    "0": "2017",
                                    "1": "M01",
                                    "2": "1581.46"
                                },
                                {
                                    "0": "2017",
                                    "1": "M01",
                                    "2": "1585.84"
                                },
                                {
                                    "0": "2017",
                                    "1": "M01",
                                    "2": "1586.1"
                                },
                                {
                                    "0": "2017",
                                    "1": "M01",
                                    "2": "1591.09"
                                },
                                {
                                    "0": "2017",
                                    "1": "M01",
                                    "2": "1592.97"
                                },
                                {
                                    "0": "2017",
                                    "1": "M01",
                                    "2": "1606.22"
                                },
                                {
                                    "0": "2017",
                                    "1": "M01",
                                    "2": "1606.65"
                                },
                                {
                                    "0": "2017",
                                    "1": "M01",
                                    "2": "1611.22"
                                },
                                {
                                    "0": "2017",
                                    "1": "M01",
                                    "2": "1613.96"
                                },
                                {
                                    "0": "2017",
                                    "1": "M01",
                                    "2": "1614.25"
                                },
                                {
                                    "0": "2017",
                                    "1": "M01",
                                    "2": "1626.88"
                                },
                                {
                                    "0": "2017",
                                    "1": "M01",
                                    "2": "1638.42"
                                },
                                {
                                    "0": "2017",
                                    "1": "M01",
                                    "2": "1638.63"
                                },
                                {
                                    "0": "2017",
                                    "1": "M01",
                                    "2": "1644.36"
                                },
                                {
                                    "0": "2017",
                                    "1": "M01",
                                    "2": "1648.33"
                                },
                                {
                                    "0": "2017",
                                    "1": "M01",
                                    "2": "1651.65"
                                },
                                {
                                    "0": "2017",
                                    "1": "M01",
                                    "2": "1655.98"
                                },
                                {
                                    "0": "2017",
                                    "1": "M01",
                                    "2": "1663.59"
                                },
                                {
                                    "0": "2017",
                                    "1": "M01",
                                    "2": "1665.3"
                                },
                                {
                                    "0": "2017",
                                    "1": "M01",
                                    "2": "1678.74"
                                },
                                {
                                    "0": "2017",
                                    "1": "M01",
                                    "2": "1704.42"
                                },
                                {
                                    "0": "2017",
                                    "1": "M01",
                                    "2": "1713.07"
                                },
                                {
                                    "0": "2017",
                                    "1": "M01",
                                    "2": "1717.4"
                                },
                                {
                                    "0": "2017",
                                    "1": "M01",
                                    "2": "1749.02"
                                },
                                {
                                    "0": "2017",
                                    "1": "M01",
                                    "2": "1749.56"
                                },
                                {
                                    "0": "2017",
                                    "1": "M01",
                                    "2": "1758.48"
                                },
                                {
                                    "0": "2017",
                                    "1": "M01",
                                    "2": "1773.7"
                                },
                                {
                                    "0": "2017",
                                    "1": "M01",
                                    "2": "1792.27"
                                },
                                {
                                    "0": "2017",
                                    "1": "M01",
                                    "2": "1797.99"
                                },
                                {
                                    "0": "2017",
                                    "1": "M01",
                                    "2": "1812.6"
                                },
                                {
                                    "0": "2017",
                                    "1": "M01",
                                    "2": "1847.47"
                                }
                            ]
                        },
                        "text/html": "<table><tr><th>year</th><th>period</th><th>Average Earnings</th></tr><tr><td>2016</td><td>M13</td><td>231.47</td></tr><tr><td>2016</td><td>M13</td><td>233.2</td></tr><tr><td>2016</td><td>M13</td><td>244.17</td></tr><tr><td>2016</td><td>M13</td><td>245.68</td></tr><tr><td>2016</td><td>M13</td><td>255.04</td></tr><tr><td>2016</td><td>M13</td><td>256.49</td></tr><tr><td>2016</td><td>M13</td><td>256.66</td></tr><tr><td>2016</td><td>M13</td><td>256.94</td></tr><tr><td>2016</td><td>M13</td><td>261.56</td></tr><tr><td>2016</td><td>M13</td><td>266.16</td></tr><tr><td>2016</td><td>M13</td><td>276.94</td></tr><tr><td>2016</td><td>M13</td><td>280.73</td></tr><tr><td>2016</td><td>M13</td><td>287.63</td></tr><tr><td>2016</td><td>M13</td><td>291.68</td></tr><tr><td>2016</td><td>M13</td><td>292.16</td></tr><tr><td>2016</td><td>M13</td><td>307.07</td></tr><tr><td>2016</td><td>M13</td><td>309.92</td></tr><tr><td>2016</td><td>M13</td><td>310.12</td></tr><tr><td>2016</td><td>M13</td><td>311.42</td></tr><tr><td>2016</td><td>M13</td><td>313.14</td></tr><tr><td>2016</td><td>M13</td><td>317.78</td></tr><tr><td>2016</td><td>M13</td><td>317.85</td></tr><tr><td>2016</td><td>M13</td><td>318.52</td></tr><tr><td>2016</td><td>M13</td><td>319.52</td></tr><tr><td>2016</td><td>M13</td><td>321.44</td></tr><tr><td>2016</td><td>M13</td><td>324.19</td></tr><tr><td>2016</td><td>M13</td><td>332.23</td></tr><tr><td>2016</td><td>M13</td><td>335.71</td></tr><tr><td>2016</td><td>M13</td><td>337.14</td></tr><tr><td>2016</td><td>M13</td><td>340.37</td></tr><tr><td>2016</td><td>M13</td><td>344.54</td></tr><tr><td>2016</td><td>M13</td><td>345.45</td></tr><tr><td>2016</td><td>M13</td><td>346.05</td></tr><tr><td>2016</td><td>M13</td><td>351.07</td></tr><tr><td>2016</td><td>M13</td><td>353.3</td></tr><tr><td>2016</td><td>M13</td><td>353.94</td></tr><tr><td>2016</td><td>M13</td><td>354.62</td></tr><tr><td>2016</td><td>M13</td><td>355</td></tr><tr><td>2016</td><td>M13</td><td>356.65</td></tr><tr><td>2016</td><td>M13</td><td>357.01</td></tr><tr><td>2016</td><td>M13</td><td>357.1</td></tr><tr><td>2016</td><td>M13</td><td>358.98</td></tr><tr><td>2016</td><td>M13</td><td>359.86</td></tr><tr><td>2016</td><td>M13</td><td>361.64</td></tr><tr><td>2016</td><td>M13</td><td>361.66</td></tr><tr><td>2016</td><td>M13</td><td>363.11</td></tr><tr><td>2016</td><td>M13</td><td>363.47</td></tr><tr><td>2016</td><td>M13</td><td>364.01</td></tr><tr><td>2016</td><td>M13</td><td>366.63</td></tr><tr><td>2016</td><td>M13</td><td>372.55</td></tr><tr><td>2016</td><td>M13</td><td>375.46</td></tr><tr><td>2016</td><td>M13</td><td>378.72</td></tr><tr><td>2016</td><td>M13</td><td>380.39</td></tr><tr><td>2016</td><td>M13</td><td>382.12</td></tr><tr><td>2016</td><td>M13</td><td>384.71</td></tr><tr><td>2016</td><td>M13</td><td>385.39</td></tr><tr><td>2016</td><td>M13</td><td>387.11</td></tr><tr><td>2016</td><td>M13</td><td>397.68</td></tr><tr><td>2016</td><td>M13</td><td>402.01</td></tr><tr><td>2016</td><td>M13</td><td>403.44</td></tr><tr><td>2016</td><td>M13</td><td>403.65</td></tr><tr><td>2016</td><td>M13</td><td>403.75</td></tr><tr><td>2016</td><td>M13</td><td>404.66</td></tr><tr><td>2016</td><td>M13</td><td>404.9</td></tr><tr><td>2016</td><td>M13</td><td>406.07</td></tr><tr><td>2016</td><td>M13</td><td>406.3</td></tr><tr><td>2016</td><td>M13</td><td>412.68</td></tr><tr><td>2016</td><td>M13</td><td>414.87</td></tr><tr><td>2016</td><td>M13</td><td>417.55</td></tr><tr><td>2016</td><td>M13</td><td>419.44</td></tr><tr><td>2016</td><td>M13</td><td>419.49</td></tr><tr><td>2016</td><td>M13</td><td>420.61</td></tr><tr><td>2016</td><td>M13</td><td>421.94</td></tr><tr><td>2016</td><td>M13</td><td>424.24</td></tr><tr><td>2016</td><td>M13</td><td>426.52</td></tr><tr><td>2016</td><td>M13</td><td>427.05</td></tr><tr><td>2016</td><td>M13</td><td>435.99</td></tr><tr><td>2016</td><td>M13</td><td>442.44</td></tr><tr><td>2016</td><td>M13</td><td>442.55</td></tr><tr><td>2016</td><td>M13</td><td>447.62</td></tr><tr><td>2016</td><td>M13</td><td>451.99</td></tr><tr><td>2016</td><td>M13</td><td>458.87</td></tr><tr><td>2016</td><td>M13</td><td>460.61</td></tr><tr><td>2016</td><td>M13</td><td>462.82</td></tr><tr><td>2016</td><td>M13</td><td>471.87</td></tr><tr><td>2016</td><td>M13</td><td>477.45</td></tr><tr><td>2016</td><td>M13</td><td>478.84</td></tr><tr><td>2016</td><td>M13</td><td>480.28</td></tr><tr><td>2016</td><td>M13</td><td>480.76</td></tr><tr><td>2016</td><td>M13</td><td>481.29</td></tr><tr><td>2016</td><td>M13</td><td>486.51</td></tr><tr><td>2016</td><td>M13</td><td>486.76</td></tr><tr><td>2016</td><td>M13</td><td>487.73</td></tr><tr><td>2016</td><td>M13</td><td>489.23</td></tr><tr><td>2016</td><td>M13</td><td>490.8</td></tr><tr><td>2016</td><td>M13</td><td>492.41</td></tr><tr><td>2016</td><td>M13</td><td>494.03</td></tr><tr><td>2016</td><td>M13</td><td>496.36</td></tr><tr><td>2016</td><td>M13</td><td>499.15</td></tr><tr><td>2016</td><td>M13</td><td>499.8</td></tr><tr><td>2016</td><td>M13</td><td>504.37</td></tr><tr><td>2016</td><td>M13</td><td>507.46</td></tr><tr><td>2016</td><td>M13</td><td>513.81</td></tr><tr><td>2016</td><td>M13</td><td>514.46</td></tr><tr><td>2016</td><td>M13</td><td>515.12</td></tr><tr><td>2016</td><td>M13</td><td>518.82</td></tr><tr><td>2016</td><td>M13</td><td>520.32</td></tr><tr><td>2016</td><td>M13</td><td>524.36</td></tr><tr><td>2016</td><td>M13</td><td>525.21</td></tr><tr><td>2016</td><td>M13</td><td>526.83</td></tr><tr><td>2016</td><td>M13</td><td>527.03</td></tr><tr><td>2016</td><td>M13</td><td>529.31</td></tr><tr><td>2016</td><td>M13</td><td>530.65</td></tr><tr><td>2016</td><td>M13</td><td>531.85</td></tr><tr><td>2016</td><td>M13</td><td>532.36</td></tr><tr><td>2016</td><td>M13</td><td>536.45</td></tr><tr><td>2016</td><td>M13</td><td>539.86</td></tr><tr><td>2016</td><td>M13</td><td>543.72</td></tr><tr><td>2016</td><td>M13</td><td>543.89</td></tr><tr><td>2016</td><td>M13</td><td>544.02</td></tr><tr><td>2016</td><td>M13</td><td>544.09</td></tr><tr><td>2016</td><td>M13</td><td>544.87</td></tr><tr><td>2016</td><td>M13</td><td>549.66</td></tr><tr><td>2016</td><td>M13</td><td>549.69</td></tr><tr><td>2016</td><td>M13</td><td>549.98</td></tr><tr><td>2016</td><td>M13</td><td>551.81</td></tr><tr><td>2016</td><td>M13</td><td>554</td></tr><tr><td>2016</td><td>M13</td><td>555.04</td></tr><tr><td>2016</td><td>M13</td><td>557.84</td></tr><tr><td>2016</td><td>M13</td><td>558.76</td></tr><tr><td>2016</td><td>M13</td><td>559.79</td></tr><tr><td>2016</td><td>M13</td><td>560.4</td></tr><tr><td>2016</td><td>M13</td><td>564.59</td></tr><tr><td>2016</td><td>M13</td><td>571.3</td></tr><tr><td>2016</td><td>M13</td><td>571.47</td></tr><tr><td>2016</td><td>M13</td><td>574.56</td></tr><tr><td>2016</td><td>M13</td><td>576.59</td></tr><tr><td>2016</td><td>M13</td><td>580.04</td></tr><tr><td>2016</td><td>M13</td><td>585.56</td></tr><tr><td>2016</td><td>M13</td><td>586.37</td></tr><tr><td>2016</td><td>M13</td><td>590.55</td></tr><tr><td>2016</td><td>M13</td><td>592.49</td></tr><tr><td>2016</td><td>M13</td><td>593.7</td></tr><tr><td>2016</td><td>M13</td><td>595.73</td></tr><tr><td>2016</td><td>M13</td><td>595.75</td></tr><tr><td>2016</td><td>M13</td><td>597.05</td></tr><tr><td>2016</td><td>M13</td><td>597.73</td></tr><tr><td>2016</td><td>M13</td><td>598.29</td></tr><tr><td>2016</td><td>M13</td><td>601.63</td></tr><tr><td>2016</td><td>M13</td><td>604.25</td></tr><tr><td>2016</td><td>M13</td><td>604.49</td></tr><tr><td>2016</td><td>M13</td><td>610.94</td></tr><tr><td>2016</td><td>M13</td><td>613.37</td></tr><tr><td>2016</td><td>M13</td><td>616.38</td></tr><tr><td>2016</td><td>M13</td><td>618.03</td></tr><tr><td>2016</td><td>M13</td><td>619.1</td></tr><tr><td>2016</td><td>M13</td><td>619.18</td></tr><tr><td>2016</td><td>M13</td><td>619.59</td></tr><tr><td>2016</td><td>M13</td><td>620.95</td></tr><tr><td>2016</td><td>M13</td><td>621.63</td></tr><tr><td>2016</td><td>M13</td><td>623.67</td></tr><tr><td>2016</td><td>M13</td><td>623.86</td></tr><tr><td>2016</td><td>M13</td><td>624.13</td></tr><tr><td>2016</td><td>M13</td><td>628.91</td></tr><tr><td>2016</td><td>M13</td><td>632.01</td></tr><tr><td>2016</td><td>M13</td><td>634.3</td></tr><tr><td>2016</td><td>M13</td><td>636.64</td></tr><tr><td>2016</td><td>M13</td><td>639.44</td></tr><tr><td>2016</td><td>M13</td><td>640.39</td></tr><tr><td>2016</td><td>M13</td><td>643.14</td></tr><tr><td>2016</td><td>M13</td><td>644.07</td></tr><tr><td>2016</td><td>M13</td><td>644.62</td></tr><tr><td>2016</td><td>M13</td><td>644.88</td></tr><tr><td>2016</td><td>M13</td><td>645.96</td></tr><tr><td>2016</td><td>M13</td><td>646.09</td></tr><tr><td>2016</td><td>M13</td><td>647.6</td></tr><tr><td>2016</td><td>M13</td><td>648.6</td></tr><tr><td>2016</td><td>M13</td><td>648.94</td></tr><tr><td>2016</td><td>M13</td><td>651.13</td></tr><tr><td>2016</td><td>M13</td><td>652.3</td></tr><tr><td>2016</td><td>M13</td><td>652.43</td></tr><tr><td>2016</td><td>M13</td><td>653.62</td></tr><tr><td>2016</td><td>M13</td><td>655.5</td></tr><tr><td>2016</td><td>M13</td><td>655.98</td></tr><tr><td>2016</td><td>M13</td><td>658.21</td></tr><tr><td>2016</td><td>M13</td><td>658.32</td></tr><tr><td>2016</td><td>M13</td><td>661.91</td></tr><tr><td>2016</td><td>M13</td><td>665.79</td></tr><tr><td>2016</td><td>M13</td><td>666.8</td></tr><tr><td>2016</td><td>M13</td><td>668.1</td></tr><tr><td>2016</td><td>M13</td><td>670.63</td></tr><tr><td>2016</td><td>M13</td><td>672.23</td></tr><tr><td>2016</td><td>M13</td><td>673.53</td></tr><tr><td>2016</td><td>M13</td><td>674.25</td></tr><tr><td>2016</td><td>M13</td><td>676.82</td></tr><tr><td>2016</td><td>M13</td><td>677.49</td></tr><tr><td>2016</td><td>M13</td><td>678.89</td></tr><tr><td>2016</td><td>M13</td><td>679.87</td></tr><tr><td>2016</td><td>M13</td><td>680.95</td></tr><tr><td>2016</td><td>M13</td><td>683.29</td></tr><tr><td>2016</td><td>M13</td><td>683.49</td></tr><tr><td>2016</td><td>M13</td><td>683.51</td></tr><tr><td>2016</td><td>M13</td><td>686.38</td></tr><tr><td>2016</td><td>M13</td><td>689.7</td></tr><tr><td>2016</td><td>M13</td><td>689.92</td></tr><tr><td>2016</td><td>M13</td><td>695.75</td></tr><tr><td>2016</td><td>M13</td><td>696.5</td></tr><tr><td>2016</td><td>M13</td><td>698.18</td></tr><tr><td>2016</td><td>M13</td><td>698.96</td></tr><tr><td>2016</td><td>M13</td><td>699.3</td></tr><tr><td>2016</td><td>M13</td><td>700.44</td></tr><tr><td>2016</td><td>M13</td><td>700.58</td></tr><tr><td>2016</td><td>M13</td><td>700.98</td></tr><tr><td>2016</td><td>M13</td><td>703.35</td></tr><tr><td>2016</td><td>M13</td><td>703.55</td></tr><tr><td>2016</td><td>M13</td><td>703.81</td></tr><tr><td>2016</td><td>M13</td><td>706.3</td></tr><tr><td>2016</td><td>M13</td><td>708.04</td></tr><tr><td>2016</td><td>M13</td><td>710.02</td></tr><tr><td>2016</td><td>M13</td><td>712.03</td></tr><tr><td>2016</td><td>M13</td><td>712.47</td></tr><tr><td>2016</td><td>M13</td><td>712.72</td></tr><tr><td>2016</td><td>M13</td><td>713.32</td></tr><tr><td>2016</td><td>M13</td><td>713.78</td></tr><tr><td>2016</td><td>M13</td><td>715.3</td></tr><tr><td>2016</td><td>M13</td><td>715.31</td></tr><tr><td>2016</td><td>M13</td><td>716.57</td></tr><tr><td>2016</td><td>M13</td><td>718.61</td></tr><tr><td>2016</td><td>M13</td><td>720.07</td></tr><tr><td>2016</td><td>M13</td><td>723.69</td></tr><tr><td>2016</td><td>M13</td><td>724.4</td></tr><tr><td>2016</td><td>M13</td><td>724.92</td></tr><tr><td>2016</td><td>M13</td><td>727.97</td></tr><tr><td>2016</td><td>M13</td><td>728.01</td></tr><tr><td>2016</td><td>M13</td><td>728.4</td></tr><tr><td>2016</td><td>M13</td><td>730.09</td></tr><tr><td>2016</td><td>M13</td><td>731.48</td></tr><tr><td>2016</td><td>M13</td><td>732.38</td></tr><tr><td>2016</td><td>M13</td><td>734.01</td></tr><tr><td>2016</td><td>M13</td><td>734.52</td></tr><tr><td>2016</td><td>M13</td><td>737.9</td></tr><tr><td>2016</td><td>M13</td><td>739.39</td></tr><tr><td>2016</td><td>M13</td><td>739.6</td></tr><tr><td>2016</td><td>M13</td><td>745.85</td></tr><tr><td>2016</td><td>M13</td><td>746.56</td></tr><tr><td>2016</td><td>M13</td><td>746.88</td></tr><tr><td>2016</td><td>M13</td><td>749.49</td></tr><tr><td>2016</td><td>M13</td><td>750.23</td></tr><tr><td>2016</td><td>M13</td><td>751.87</td></tr><tr><td>2016</td><td>M13</td><td>752.95</td></tr><tr><td>2016</td><td>M13</td><td>754.09</td></tr><tr><td>2016</td><td>M13</td><td>754.23</td></tr><tr><td>2016</td><td>M13</td><td>756.81</td></tr><tr><td>2016</td><td>M13</td><td>758.35</td></tr><tr><td>2016</td><td>M13</td><td>761.17</td></tr><tr><td>2016</td><td>M13</td><td>762.51</td></tr><tr><td>2016</td><td>M13</td><td>763.43</td></tr><tr><td>2016</td><td>M13</td><td>763.8</td></tr><tr><td>2016</td><td>M13</td><td>764.4</td></tr><tr><td>2016</td><td>M13</td><td>766.59</td></tr><tr><td>2016</td><td>M13</td><td>767.65</td></tr><tr><td>2016</td><td>M13</td><td>770.72</td></tr><tr><td>2016</td><td>M13</td><td>771.14</td></tr><tr><td>2016</td><td>M13</td><td>771.31</td></tr><tr><td>2016</td><td>M13</td><td>772.43</td></tr><tr><td>2016</td><td>M13</td><td>773.58</td></tr><tr><td>2016</td><td>M13</td><td>774.39</td></tr><tr><td>2016</td><td>M13</td><td>774.9</td></tr><tr><td>2016</td><td>M13</td><td>777.44</td></tr><tr><td>2016</td><td>M13</td><td>778.26</td></tr><tr><td>2016</td><td>M13</td><td>778.36</td></tr><tr><td>2016</td><td>M13</td><td>779.71</td></tr><tr><td>2016</td><td>M13</td><td>780.75</td></tr><tr><td>2016</td><td>M13</td><td>783.48</td></tr><tr><td>2016</td><td>M13</td><td>787.15</td></tr><tr><td>2016</td><td>M13</td><td>788.23</td></tr><tr><td>2016</td><td>M13</td><td>788.82</td></tr><tr><td>2016</td><td>M13</td><td>789.78</td></tr><tr><td>2016</td><td>M13</td><td>790.84</td></tr><tr><td>2016</td><td>M13</td><td>791.48</td></tr><tr><td>2016</td><td>M13</td><td>793.88</td></tr><tr><td>2016</td><td>M13</td><td>797.25</td></tr><tr><td>2016</td><td>M13</td><td>800.24</td></tr><tr><td>2016</td><td>M13</td><td>800.39</td></tr><tr><td>2016</td><td>M13</td><td>800.74</td></tr><tr><td>2016</td><td>M13</td><td>803.37</td></tr><tr><td>2016</td><td>M13</td><td>804.09</td></tr><tr><td>2016</td><td>M13</td><td>806.96</td></tr><tr><td>2016</td><td>M13</td><td>811.02</td></tr><tr><td>2016</td><td>M13</td><td>814.33</td></tr><tr><td>2016</td><td>M13</td><td>815.16</td></tr><tr><td>2016</td><td>M13</td><td>816.75</td></tr><tr><td>2016</td><td>M13</td><td>816.98</td></tr><tr><td>2016</td><td>M13</td><td>817.2</td></tr><tr><td>2016</td><td>M13</td><td>819.08</td></tr><tr><td>2016</td><td>M13</td><td>825.74</td></tr><tr><td>2016</td><td>M13</td><td>825.84</td></tr><tr><td>2016</td><td>M13</td><td>826.28</td></tr><tr><td>2016</td><td>M13</td><td>827.22</td></tr><tr><td>2016</td><td>M13</td><td>827.24</td></tr><tr><td>2016</td><td>M13</td><td>827.81</td></tr><tr><td>2016</td><td>M13</td><td>829.1</td></tr><tr><td>2016</td><td>M13</td><td>830.58</td></tr><tr><td>2016</td><td>M13</td><td>832.04</td></tr><tr><td>2016</td><td>M13</td><td>832.77</td></tr><tr><td>2016</td><td>M13</td><td>832.86</td></tr><tr><td>2016</td><td>M13</td><td>833.43</td></tr><tr><td>2016</td><td>M13</td><td>834.02</td></tr><tr><td>2016</td><td>M13</td><td>835.85</td></tr><tr><td>2016</td><td>M13</td><td>837.17</td></tr><tr><td>2016</td><td>M13</td><td>838.18</td></tr><tr><td>2016</td><td>M13</td><td>839.97</td></tr><tr><td>2016</td><td>M13</td><td>841.33</td></tr><tr><td>2016</td><td>M13</td><td>842.11</td></tr><tr><td>2016</td><td>M13</td><td>842.55</td></tr><tr><td>2016</td><td>M13</td><td>843.26</td></tr><tr><td>2016</td><td>M13</td><td>844.26</td></tr><tr><td>2016</td><td>M13</td><td>844.59</td></tr><tr><td>2016</td><td>M13</td><td>846.54</td></tr><tr><td>2016</td><td>M13</td><td>847.67</td></tr><tr><td>2016</td><td>M13</td><td>847.7</td></tr><tr><td>2016</td><td>M13</td><td>850.43</td></tr><tr><td>2016</td><td>M13</td><td>851.65</td></tr><tr><td>2016</td><td>M13</td><td>852.53</td></tr><tr><td>2016</td><td>M13</td><td>852.73</td></tr><tr><td>2016</td><td>M13</td><td>855.64</td></tr><tr><td>2016</td><td>M13</td><td>855.69</td></tr><tr><td>2016</td><td>M13</td><td>856.22</td></tr><tr><td>2016</td><td>M13</td><td>856.39</td></tr><tr><td>2016</td><td>M13</td><td>857.11</td></tr><tr><td>2016</td><td>M13</td><td>858.22</td></tr><tr><td>2016</td><td>M13</td><td>859.39</td></tr><tr><td>2016</td><td>M13</td><td>860.91</td></tr><tr><td>2016</td><td>M13</td><td>863.92</td></tr><tr><td>2016</td><td>M13</td><td>864.27</td></tr><tr><td>2016</td><td>M13</td><td>865.35</td></tr><tr><td>2016</td><td>M13</td><td>868.22</td></tr><tr><td>2016</td><td>M13</td><td>868.26</td></tr><tr><td>2016</td><td>M13</td><td>869.25</td></tr><tr><td>2016</td><td>M13</td><td>869.9</td></tr><tr><td>2016</td><td>M13</td><td>874.38</td></tr><tr><td>2016</td><td>M13</td><td>877.44</td></tr><tr><td>2016</td><td>M13</td><td>878.07</td></tr><tr><td>2016</td><td>M13</td><td>878.96</td></tr><tr><td>2016</td><td>M13</td><td>879.4</td></tr><tr><td>2016</td><td>M13</td><td>881.05</td></tr><tr><td>2016</td><td>M13</td><td>884.3</td></tr><tr><td>2016</td><td>M13</td><td>885.39</td></tr><tr><td>2016</td><td>M13</td><td>889.25</td></tr><tr><td>2016</td><td>M13</td><td>890.91</td></tr><tr><td>2016</td><td>M13</td><td>891.61</td></tr><tr><td>2016</td><td>M13</td><td>893.81</td></tr><tr><td>2016</td><td>M13</td><td>895.95</td></tr><tr><td>2016</td><td>M13</td><td>898.16</td></tr><tr><td>2016</td><td>M13</td><td>898.27</td></tr><tr><td>2016</td><td>M13</td><td>898.76</td></tr><tr><td>2016</td><td>M13</td><td>901.05</td></tr><tr><td>2016</td><td>M13</td><td>901.82</td></tr><tr><td>2016</td><td>M13</td><td>904.3</td></tr><tr><td>2016</td><td>M13</td><td>905.3</td></tr><tr><td>2016</td><td>M13</td><td>905.93</td></tr><tr><td>2016</td><td>M13</td><td>906.79</td></tr><tr><td>2016</td><td>M13</td><td>907.4</td></tr><tr><td>2016</td><td>M13</td><td>908.15</td></tr><tr><td>2016</td><td>M13</td><td>908.2</td></tr><tr><td>2016</td><td>M13</td><td>908.26</td></tr><tr><td>2016</td><td>M13</td><td>909.02</td></tr><tr><td>2016</td><td>M13</td><td>909.71</td></tr><tr><td>2016</td><td>M13</td><td>912</td></tr><tr><td>2016</td><td>M13</td><td>912.83</td></tr><tr><td>2016</td><td>M13</td><td>916.16</td></tr><tr><td>2016</td><td>M13</td><td>916.77</td></tr><tr><td>2016</td><td>M13</td><td>916.86</td></tr><tr><td>2016</td><td>M13</td><td>917.01</td></tr><tr><td>2016</td><td>M13</td><td>917.63</td></tr><tr><td>2016</td><td>M13</td><td>918.15</td></tr><tr><td>2016</td><td>M13</td><td>918.47</td></tr><tr><td>2016</td><td>M13</td><td>920.11</td></tr><tr><td>2016</td><td>M13</td><td>920.16</td></tr><tr><td>2016</td><td>M13</td><td>920.58</td></tr><tr><td>2016</td><td>M13</td><td>922.03</td></tr><tr><td>2016</td><td>M13</td><td>923.34</td></tr><tr><td>2016</td><td>M13</td><td>924.26</td></tr><tr><td>2016</td><td>M13</td><td>926.04</td></tr><tr><td>2016</td><td>M13</td><td>930.04</td></tr><tr><td>2016</td><td>M13</td><td>930.33</td></tr><tr><td>2016</td><td>M13</td><td>931.79</td></tr><tr><td>2016</td><td>M13</td><td>932.38</td></tr><tr><td>2016</td><td>M13</td><td>933.16</td></tr><tr><td>2016</td><td>M13</td><td>933.18</td></tr><tr><td>2016</td><td>M13</td><td>936.3</td></tr><tr><td>2016</td><td>M13</td><td>941.11</td></tr><tr><td>2016</td><td>M13</td><td>942.66</td></tr><tr><td>2016</td><td>M13</td><td>943.63</td></tr><tr><td>2016</td><td>M13</td><td>944.93</td></tr><tr><td>2016</td><td>M13</td><td>948.35</td></tr><tr><td>2016</td><td>M13</td><td>949.98</td></tr><tr><td>2016</td><td>M13</td><td>952.89</td></tr><tr><td>2016</td><td>M13</td><td>953.37</td></tr><tr><td>2016</td><td>M13</td><td>953.38</td></tr><tr><td>2016</td><td>M13</td><td>954.11</td></tr><tr><td>2016</td><td>M13</td><td>956.81</td></tr><tr><td>2016</td><td>M13</td><td>957.44</td></tr><tr><td>2016</td><td>M13</td><td>958.72</td></tr><tr><td>2016</td><td>M13</td><td>961.53</td></tr><tr><td>2016</td><td>M13</td><td>961.6</td></tr><tr><td>2016</td><td>M13</td><td>962.73</td></tr><tr><td>2016</td><td>M13</td><td>963.33</td></tr><tr><td>2016</td><td>M13</td><td>963.71</td></tr><tr><td>2016</td><td>M13</td><td>964.01</td></tr><tr><td>2016</td><td>M13</td><td>966.28</td></tr><tr><td>2016</td><td>M13</td><td>967.79</td></tr><tr><td>2016</td><td>M13</td><td>968.37</td></tr><tr><td>2016</td><td>M13</td><td>971.36</td></tr><tr><td>2016</td><td>M13</td><td>973.19</td></tr><tr><td>2016</td><td>M13</td><td>976.89</td></tr><tr><td>2016</td><td>M13</td><td>979.34</td></tr><tr><td>2016</td><td>M13</td><td>980.03</td></tr><tr><td>2016</td><td>M13</td><td>982.12</td></tr><tr><td>2016</td><td>M13</td><td>982.57</td></tr><tr><td>2016</td><td>M13</td><td>982.59</td></tr><tr><td>2016</td><td>M13</td><td>982.84</td></tr><tr><td>2016</td><td>M13</td><td>983.38</td></tr><tr><td>2016</td><td>M13</td><td>984.47</td></tr><tr><td>2016</td><td>M13</td><td>985.72</td></tr><tr><td>2016</td><td>M13</td><td>985.75</td></tr><tr><td>2016</td><td>M13</td><td>988.06</td></tr><tr><td>2016</td><td>M13</td><td>990.38</td></tr><tr><td>2016</td><td>M13</td><td>994.43</td></tr><tr><td>2016</td><td>M13</td><td>995.26</td></tr><tr><td>2016</td><td>M13</td><td>999.72</td></tr><tr><td>2016</td><td>M13</td><td>999.76</td></tr><tr><td>2016</td><td>M13</td><td>1003.06</td></tr><tr><td>2016</td><td>M13</td><td>1003.57</td></tr><tr><td>2016</td><td>M13</td><td>1004.23</td></tr><tr><td>2016</td><td>M13</td><td>1006.62</td></tr><tr><td>2016</td><td>M13</td><td>1007.31</td></tr><tr><td>2016</td><td>M13</td><td>1007.51</td></tr><tr><td>2016</td><td>M13</td><td>1008.86</td></tr><tr><td>2016</td><td>M13</td><td>1009.99</td></tr><tr><td>2016</td><td>M13</td><td>1019.91</td></tr><tr><td>2016</td><td>M13</td><td>1020.01</td></tr><tr><td>2016</td><td>M13</td><td>1021.07</td></tr><tr><td>2016</td><td>M13</td><td>1021.38</td></tr><tr><td>2016</td><td>M13</td><td>1029.07</td></tr><tr><td>2016</td><td>M13</td><td>1031.16</td></tr><tr><td>2016</td><td>M13</td><td>1031.41</td></tr><tr><td>2016</td><td>M13</td><td>1034.31</td></tr><tr><td>2016</td><td>M13</td><td>1035.53</td></tr><tr><td>2016</td><td>M13</td><td>1040.84</td></tr><tr><td>2016</td><td>M13</td><td>1041.79</td></tr><tr><td>2016</td><td>M13</td><td>1043.2</td></tr><tr><td>2016</td><td>M13</td><td>1043.52</td></tr><tr><td>2016</td><td>M13</td><td>1045.27</td></tr><tr><td>2016</td><td>M13</td><td>1048.6</td></tr><tr><td>2016</td><td>M13</td><td>1049.13</td></tr><tr><td>2016</td><td>M13</td><td>1050.77</td></tr><tr><td>2016</td><td>M13</td><td>1053</td></tr><tr><td>2016</td><td>M13</td><td>1055</td></tr><tr><td>2016</td><td>M13</td><td>1056.21</td></tr><tr><td>2016</td><td>M13</td><td>1064.26</td></tr><tr><td>2016</td><td>M13</td><td>1068.25</td></tr><tr><td>2016</td><td>M13</td><td>1070.62</td></tr><tr><td>2016</td><td>M13</td><td>1070.7</td></tr><tr><td>2016</td><td>M13</td><td>1071.7</td></tr><tr><td>2016</td><td>M13</td><td>1075.98</td></tr><tr><td>2016</td><td>M13</td><td>1078.18</td></tr><tr><td>2016</td><td>M13</td><td>1091.59</td></tr><tr><td>2016</td><td>M13</td><td>1092.56</td></tr><tr><td>2016</td><td>M13</td><td>1097.32</td></tr><tr><td>2016</td><td>M13</td><td>1101.21</td></tr><tr><td>2016</td><td>M13</td><td>1101.35</td></tr><tr><td>2016</td><td>M13</td><td>1102.48</td></tr><tr><td>2016</td><td>M13</td><td>1102.91</td></tr><tr><td>2016</td><td>M13</td><td>1105.1</td></tr><tr><td>2016</td><td>M13</td><td>1113.42</td></tr><tr><td>2016</td><td>M13</td><td>1117.1</td></tr><tr><td>2016</td><td>M13</td><td>1121.26</td></tr><tr><td>2016</td><td>M13</td><td>1123.03</td></tr><tr><td>2016</td><td>M13</td><td>1128.32</td></tr><tr><td>2016</td><td>M13</td><td>1129.79</td></tr><tr><td>2016</td><td>M13</td><td>1146.43</td></tr><tr><td>2016</td><td>M13</td><td>1156.21</td></tr><tr><td>2016</td><td>M13</td><td>1159.35</td></tr><tr><td>2016</td><td>M13</td><td>1163.47</td></tr><tr><td>2016</td><td>M13</td><td>1163.56</td></tr><tr><td>2016</td><td>M13</td><td>1167.54</td></tr><tr><td>2016</td><td>M13</td><td>1177.63</td></tr><tr><td>2016</td><td>M13</td><td>1177.81</td></tr><tr><td>2016</td><td>M13</td><td>1181.1</td></tr><tr><td>2016</td><td>M13</td><td>1186.07</td></tr><tr><td>2016</td><td>M13</td><td>1191.17</td></tr><tr><td>2016</td><td>M13</td><td>1196.4</td></tr><tr><td>2016</td><td>M13</td><td>1198.66</td></tr><tr><td>2016</td><td>M13</td><td>1199.71</td></tr><tr><td>2016</td><td>M13</td><td>1200.39</td></tr><tr><td>2016</td><td>M13</td><td>1210.29</td></tr><tr><td>2016</td><td>M13</td><td>1210.91</td></tr><tr><td>2016</td><td>M13</td><td>1212.89</td></tr><tr><td>2016</td><td>M13</td><td>1217.17</td></tr><tr><td>2016</td><td>M13</td><td>1220.32</td></tr><tr><td>2016</td><td>M13</td><td>1224.33</td></tr><tr><td>2016</td><td>M13</td><td>1224.52</td></tr><tr><td>2016</td><td>M13</td><td>1228.01</td></tr><tr><td>2016</td><td>M13</td><td>1229.51</td></tr><tr><td>2016</td><td>M13</td><td>1232.22</td></tr><tr><td>2016</td><td>M13</td><td>1232.42</td></tr><tr><td>2016</td><td>M13</td><td>1233.69</td></tr><tr><td>2016</td><td>M13</td><td>1234.05</td></tr><tr><td>2016</td><td>M13</td><td>1235.85</td></tr><tr><td>2016</td><td>M13</td><td>1239.51</td></tr><tr><td>2016</td><td>M13</td><td>1250.8</td></tr><tr><td>2016</td><td>M13</td><td>1254.58</td></tr><tr><td>2016</td><td>M13</td><td>1257.53</td></tr><tr><td>2016</td><td>M13</td><td>1260.3</td></tr><tr><td>2016</td><td>M13</td><td>1261.46</td></tr><tr><td>2016</td><td>M13</td><td>1274.39</td></tr><tr><td>2016</td><td>M13</td><td>1280.28</td></tr><tr><td>2016</td><td>M13</td><td>1297.72</td></tr><tr><td>2016</td><td>M13</td><td>1314.77</td></tr><tr><td>2016</td><td>M13</td><td>1318.75</td></tr><tr><td>2016</td><td>M13</td><td>1319.51</td></tr><tr><td>2016</td><td>M13</td><td>1337.26</td></tr><tr><td>2016</td><td>M13</td><td>1349.22</td></tr><tr><td>2016</td><td>M13</td><td>1350.5</td></tr><tr><td>2016</td><td>M13</td><td>1354.48</td></tr><tr><td>2016</td><td>M13</td><td>1385.09</td></tr><tr><td>2016</td><td>M13</td><td>1437.68</td></tr><tr><td>2016</td><td>M13</td><td>1443.04</td></tr><tr><td>2016</td><td>M13</td><td>1445.21</td></tr><tr><td>2016</td><td>M13</td><td>1461.86</td></tr><tr><td>2016</td><td>M13</td><td>1501.5</td></tr><tr><td>2016</td><td>M13</td><td>1502.24</td></tr><tr><td>2016</td><td>M13</td><td>1532.34</td></tr><tr><td>2016</td><td>M13</td><td>1537.03</td></tr><tr><td>2016</td><td>M13</td><td>1568.38</td></tr><tr><td>2016</td><td>M13</td><td>1570.61</td></tr><tr><td>2016</td><td>M13</td><td>1580.79</td></tr><tr><td>2016</td><td>M13</td><td>1583.98</td></tr><tr><td>2016</td><td>M13</td><td>1596.57</td></tr><tr><td>2016</td><td>M13</td><td>1603.07</td></tr><tr><td>2016</td><td>M13</td><td>1618.81</td></tr><tr><td>2016</td><td>M13</td><td>1637.45</td></tr><tr><td>2016</td><td>M13</td><td>1639.99</td></tr><tr><td>2016</td><td>M13</td><td>1688.8</td></tr><tr><td>2016</td><td>M13</td><td>1699.97</td></tr><tr><td>2016</td><td>M13</td><td>1712.65</td></tr><tr><td>2016</td><td>M13</td><td>1718.26</td></tr><tr><td>2016</td><td>M13</td><td>1720.42</td></tr><tr><td>2016</td><td>M13</td><td>1730.96</td></tr><tr><td>2017</td><td>M01</td><td>232</td></tr><tr><td>2017</td><td>M01</td><td>235.14</td></tr><tr><td>2017</td><td>M01</td><td>237.25</td></tr><tr><td>2017</td><td>M01</td><td>238.74</td></tr><tr><td>2017</td><td>M01</td><td>244.49</td></tr><tr><td>2017</td><td>M01</td><td>245.14</td></tr><tr><td>2017</td><td>M01</td><td>249.42</td></tr><tr><td>2017</td><td>M01</td><td>251.75</td></tr><tr><td>2017</td><td>M01</td><td>252.65</td></tr><tr><td>2017</td><td>M01</td><td>252.72</td></tr><tr><td>2017</td><td>M01</td><td>255.29</td></tr><tr><td>2017</td><td>M01</td><td>259.62</td></tr><tr><td>2017</td><td>M01</td><td>262.2</td></tr><tr><td>2017</td><td>M01</td><td>264.51</td></tr><tr><td>2017</td><td>M01</td><td>269.7</td></tr><tr><td>2017</td><td>M01</td><td>270.12</td></tr><tr><td>2017</td><td>M01</td><td>272.88</td></tr><tr><td>2017</td><td>M01</td><td>273.67</td></tr><tr><td>2017</td><td>M01</td><td>274.25</td></tr><tr><td>2017</td><td>M01</td><td>276.64</td></tr><tr><td>2017</td><td>M01</td><td>278.21</td></tr><tr><td>2017</td><td>M01</td><td>281.31</td></tr><tr><td>2017</td><td>M01</td><td>286.66</td></tr><tr><td>2017</td><td>M01</td><td>288.22</td></tr><tr><td>2017</td><td>M01</td><td>289.89</td></tr><tr><td>2017</td><td>M01</td><td>291.16</td></tr><tr><td>2017</td><td>M01</td><td>292.28</td></tr><tr><td>2017</td><td>M01</td><td>293.39</td></tr><tr><td>2017</td><td>M01</td><td>293.49</td></tr><tr><td>2017</td><td>M01</td><td>295.24</td></tr><tr><td>2017</td><td>M01</td><td>295.46</td></tr><tr><td>2017</td><td>M01</td><td>299.88</td></tr><tr><td>2017</td><td>M01</td><td>302</td></tr><tr><td>2017</td><td>M01</td><td>303.92</td></tr><tr><td>2017</td><td>M01</td><td>309.16</td></tr><tr><td>2017</td><td>M01</td><td>310.7</td></tr><tr><td>2017</td><td>M01</td><td>311.17</td></tr><tr><td>2017</td><td>M01</td><td>315</td></tr><tr><td>2017</td><td>M01</td><td>315.24</td></tr><tr><td>2017</td><td>M01</td><td>316.06</td></tr><tr><td>2017</td><td>M01</td><td>318.02</td></tr><tr><td>2017</td><td>M01</td><td>318.24</td></tr><tr><td>2017</td><td>M01</td><td>319.46</td></tr><tr><td>2017</td><td>M01</td><td>320.4</td></tr><tr><td>2017</td><td>M01</td><td>320.52</td></tr><tr><td>2017</td><td>M01</td><td>323.01</td></tr><tr><td>2017</td><td>M01</td><td>323.52</td></tr><tr><td>2017</td><td>M01</td><td>326.37</td></tr><tr><td>2017</td><td>M01</td><td>326.71</td></tr><tr><td>2017</td><td>M01</td><td>328.24</td></tr><tr><td>2017</td><td>M01</td><td>329.4</td></tr><tr><td>2017</td><td>M01</td><td>330.53</td></tr><tr><td>2017</td><td>M01</td><td>330.79</td></tr><tr><td>2017</td><td>M01</td><td>331.43</td></tr><tr><td>2017</td><td>M01</td><td>332.59</td></tr><tr><td>2017</td><td>M01</td><td>334.42</td></tr><tr><td>2017</td><td>M01</td><td>339.15</td></tr><tr><td>2017</td><td>M01</td><td>339.2</td></tr><tr><td>2017</td><td>M01</td><td>339.47</td></tr><tr><td>2017</td><td>M01</td><td>340.66</td></tr><tr><td>2017</td><td>M01</td><td>340.92</td></tr><tr><td>2017</td><td>M01</td><td>342.07</td></tr><tr><td>2017</td><td>M01</td><td>342.97</td></tr><tr><td>2017</td><td>M01</td><td>344.1</td></tr><tr><td>2017</td><td>M01</td><td>347.17</td></tr><tr><td>2017</td><td>M01</td><td>347.21</td></tr><tr><td>2017</td><td>M01</td><td>347.47</td></tr><tr><td>2017</td><td>M01</td><td>350.3</td></tr><tr><td>2017</td><td>M01</td><td>355.79</td></tr><tr><td>2017</td><td>M01</td><td>356.1</td></tr><tr><td>2017</td><td>M01</td><td>356.17</td></tr><tr><td>2017</td><td>M01</td><td>357.41</td></tr><tr><td>2017</td><td>M01</td><td>359.01</td></tr><tr><td>2017</td><td>M01</td><td>359.18</td></tr><tr><td>2017</td><td>M01</td><td>360.68</td></tr><tr><td>2017</td><td>M01</td><td>360.8</td></tr><tr><td>2017</td><td>M01</td><td>361.5</td></tr><tr><td>2017</td><td>M01</td><td>361.73</td></tr><tr><td>2017</td><td>M01</td><td>362.42</td></tr><tr><td>2017</td><td>M01</td><td>364.06</td></tr><tr><td>2017</td><td>M01</td><td>364.48</td></tr><tr><td>2017</td><td>M01</td><td>365.01</td></tr><tr><td>2017</td><td>M01</td><td>365.31</td></tr><tr><td>2017</td><td>M01</td><td>365.45</td></tr><tr><td>2017</td><td>M01</td><td>365.58</td></tr><tr><td>2017</td><td>M01</td><td>367.51</td></tr><tr><td>2017</td><td>M01</td><td>369.68</td></tr><tr><td>2017</td><td>M01</td><td>370.44</td></tr><tr><td>2017</td><td>M01</td><td>371.4</td></tr><tr><td>2017</td><td>M01</td><td>371.82</td></tr><tr><td>2017</td><td>M01</td><td>374.65</td></tr><tr><td>2017</td><td>M01</td><td>374.9</td></tr><tr><td>2017</td><td>M01</td><td>376.25</td></tr><tr><td>2017</td><td>M01</td><td>376.6</td></tr><tr><td>2017</td><td>M01</td><td>376.8</td></tr><tr><td>2017</td><td>M01</td><td>378.67</td></tr><tr><td>2017</td><td>M01</td><td>379.95</td></tr><tr><td>2017</td><td>M01</td><td>381.62</td></tr><tr><td>2017</td><td>M01</td><td>381.64</td></tr><tr><td>2017</td><td>M01</td><td>382.98</td></tr><tr><td>2017</td><td>M01</td><td>383.49</td></tr><tr><td>2017</td><td>M01</td><td>384.13</td></tr><tr><td>2017</td><td>M01</td><td>384.38</td></tr><tr><td>2017</td><td>M01</td><td>385.48</td></tr><tr><td>2017</td><td>M01</td><td>386.37</td></tr><tr><td>2017</td><td>M01</td><td>386.54</td></tr><tr><td>2017</td><td>M01</td><td>389.33</td></tr><tr><td>2017</td><td>M01</td><td>389.6</td></tr><tr><td>2017</td><td>M01</td><td>389.65</td></tr><tr><td>2017</td><td>M01</td><td>390.88</td></tr><tr><td>2017</td><td>M01</td><td>391.09</td></tr><tr><td>2017</td><td>M01</td><td>392.4</td></tr><tr><td>2017</td><td>M01</td><td>392.93</td></tr><tr><td>2017</td><td>M01</td><td>395.01</td></tr><tr><td>2017</td><td>M01</td><td>395.35</td></tr><tr><td>2017</td><td>M01</td><td>406.05</td></tr><tr><td>2017</td><td>M01</td><td>406.17</td></tr><tr><td>2017</td><td>M01</td><td>407.34</td></tr><tr><td>2017</td><td>M01</td><td>409.06</td></tr><tr><td>2017</td><td>M01</td><td>409.13</td></tr><tr><td>2017</td><td>M01</td><td>409.77</td></tr><tr><td>2017</td><td>M01</td><td>409.84</td></tr><tr><td>2017</td><td>M01</td><td>410.56</td></tr><tr><td>2017</td><td>M01</td><td>411.06</td></tr><tr><td>2017</td><td>M01</td><td>411.26</td></tr><tr><td>2017</td><td>M01</td><td>413.32</td></tr><tr><td>2017</td><td>M01</td><td>413.44</td></tr><tr><td>2017</td><td>M01</td><td>413.59</td></tr><tr><td>2017</td><td>M01</td><td>413.71</td></tr><tr><td>2017</td><td>M01</td><td>416.3</td></tr><tr><td>2017</td><td>M01</td><td>416.44</td></tr><tr><td>2017</td><td>M01</td><td>417.88</td></tr><tr><td>2017</td><td>M01</td><td>417.96</td></tr><tr><td>2017</td><td>M01</td><td>418.18</td></tr><tr><td>2017</td><td>M01</td><td>418.8</td></tr><tr><td>2017</td><td>M01</td><td>419.05</td></tr><tr><td>2017</td><td>M01</td><td>420.89</td></tr><tr><td>2017</td><td>M01</td><td>421.37</td></tr><tr><td>2017</td><td>M01</td><td>421.74</td></tr><tr><td>2017</td><td>M01</td><td>422.69</td></tr><tr><td>2017</td><td>M01</td><td>422.8</td></tr><tr><td>2017</td><td>M01</td><td>424.41</td></tr><tr><td>2017</td><td>M01</td><td>425.43</td></tr><tr><td>2017</td><td>M01</td><td>425.52</td></tr><tr><td>2017</td><td>M01</td><td>425.85</td></tr><tr><td>2017</td><td>M01</td><td>426.08</td></tr><tr><td>2017</td><td>M01</td><td>427.63</td></tr><tr><td>2017</td><td>M01</td><td>427.99</td></tr><tr><td>2017</td><td>M01</td><td>428.61</td></tr><tr><td>2017</td><td>M01</td><td>429.21</td></tr><tr><td>2017</td><td>M01</td><td>432.77</td></tr><tr><td>2017</td><td>M01</td><td>433.69</td></tr><tr><td>2017</td><td>M01</td><td>433.88</td></tr><tr><td>2017</td><td>M01</td><td>442.02</td></tr><tr><td>2017</td><td>M01</td><td>445.39</td></tr><tr><td>2017</td><td>M01</td><td>445.8</td></tr><tr><td>2017</td><td>M01</td><td>451.06</td></tr><tr><td>2017</td><td>M01</td><td>452.93</td></tr><tr><td>2017</td><td>M01</td><td>453.12</td></tr><tr><td>2017</td><td>M01</td><td>453.56</td></tr><tr><td>2017</td><td>M01</td><td>454.99</td></tr><tr><td>2017</td><td>M01</td><td>457.06</td></tr><tr><td>2017</td><td>M01</td><td>459.32</td></tr><tr><td>2017</td><td>M01</td><td>464.92</td></tr><tr><td>2017</td><td>M01</td><td>465.35</td></tr><tr><td>2017</td><td>M01</td><td>466.44</td></tr><tr><td>2017</td><td>M01</td><td>469.82</td></tr><tr><td>2017</td><td>M01</td><td>471.35</td></tr><tr><td>2017</td><td>M01</td><td>471.38</td></tr><tr><td>2017</td><td>M01</td><td>472.03</td></tr><tr><td>2017</td><td>M01</td><td>474.01</td></tr><tr><td>2017</td><td>M01</td><td>474.64</td></tr><tr><td>2017</td><td>M01</td><td>474.76</td></tr><tr><td>2017</td><td>M01</td><td>477.7</td></tr><tr><td>2017</td><td>M01</td><td>480.08</td></tr><tr><td>2017</td><td>M01</td><td>484.19</td></tr><tr><td>2017</td><td>M01</td><td>490.95</td></tr><tr><td>2017</td><td>M01</td><td>491.68</td></tr><tr><td>2017</td><td>M01</td><td>492.13</td></tr><tr><td>2017</td><td>M01</td><td>493.01</td></tr><tr><td>2017</td><td>M01</td><td>494.14</td></tr><tr><td>2017</td><td>M01</td><td>494.21</td></tr><tr><td>2017</td><td>M01</td><td>494.54</td></tr><tr><td>2017</td><td>M01</td><td>494.72</td></tr><tr><td>2017</td><td>M01</td><td>496.01</td></tr><tr><td>2017</td><td>M01</td><td>497.27</td></tr><tr><td>2017</td><td>M01</td><td>497.75</td></tr><tr><td>2017</td><td>M01</td><td>499.85</td></tr><tr><td>2017</td><td>M01</td><td>500.54</td></tr><tr><td>2017</td><td>M01</td><td>501.98</td></tr><tr><td>2017</td><td>M01</td><td>503.08</td></tr><tr><td>2017</td><td>M01</td><td>503.82</td></tr><tr><td>2017</td><td>M01</td><td>503.84</td></tr><tr><td>2017</td><td>M01</td><td>504.01</td></tr><tr><td>2017</td><td>M01</td><td>504.31</td></tr><tr><td>2017</td><td>M01</td><td>506.14</td></tr><tr><td>2017</td><td>M01</td><td>509.95</td></tr><tr><td>2017</td><td>M01</td><td>513.57</td></tr><tr><td>2017</td><td>M01</td><td>515.09</td></tr><tr><td>2017</td><td>M01</td><td>515.63</td></tr><tr><td>2017</td><td>M01</td><td>516.15</td></tr><tr><td>2017</td><td>M01</td><td>516.42</td></tr><tr><td>2017</td><td>M01</td><td>516.8</td></tr><tr><td>2017</td><td>M01</td><td>518.9</td></tr><tr><td>2017</td><td>M01</td><td>520.05</td></tr><tr><td>2017</td><td>M01</td><td>520.07</td></tr><tr><td>2017</td><td>M01</td><td>520.41</td></tr><tr><td>2017</td><td>M01</td><td>521.38</td></tr><tr><td>2017</td><td>M01</td><td>524.15</td></tr><tr><td>2017</td><td>M01</td><td>524.25</td></tr><tr><td>2017</td><td>M01</td><td>524.82</td></tr><tr><td>2017</td><td>M01</td><td>525.72</td></tr><tr><td>2017</td><td>M01</td><td>526.08</td></tr><tr><td>2017</td><td>M01</td><td>528.16</td></tr><tr><td>2017</td><td>M01</td><td>530.07</td></tr><tr><td>2017</td><td>M01</td><td>530.8</td></tr><tr><td>2017</td><td>M01</td><td>534.16</td></tr><tr><td>2017</td><td>M01</td><td>536.25</td></tr><tr><td>2017</td><td>M01</td><td>537.3</td></tr><tr><td>2017</td><td>M01</td><td>537.87</td></tr><tr><td>2017</td><td>M01</td><td>538.57</td></tr><tr><td>2017</td><td>M01</td><td>539.6</td></tr><tr><td>2017</td><td>M01</td><td>539.71</td></tr><tr><td>2017</td><td>M01</td><td>542.16</td></tr><tr><td>2017</td><td>M01</td><td>543.35</td></tr><tr><td>2017</td><td>M01</td><td>544.64</td></tr><tr><td>2017</td><td>M01</td><td>544.78</td></tr><tr><td>2017</td><td>M01</td><td>544.87</td></tr><tr><td>2017</td><td>M01</td><td>546.18</td></tr><tr><td>2017</td><td>M01</td><td>546.29</td></tr><tr><td>2017</td><td>M01</td><td>547.88</td></tr><tr><td>2017</td><td>M01</td><td>548.76</td></tr><tr><td>2017</td><td>M01</td><td>549.43</td></tr><tr><td>2017</td><td>M01</td><td>551.09</td></tr><tr><td>2017</td><td>M01</td><td>551.48</td></tr><tr><td>2017</td><td>M01</td><td>552.02</td></tr><tr><td>2017</td><td>M01</td><td>552.29</td></tr><tr><td>2017</td><td>M01</td><td>552.83</td></tr><tr><td>2017</td><td>M01</td><td>553.09</td></tr><tr><td>2017</td><td>M01</td><td>553.91</td></tr><tr><td>2017</td><td>M01</td><td>554.69</td></tr><tr><td>2017</td><td>M01</td><td>554.76</td></tr><tr><td>2017</td><td>M01</td><td>556.71</td></tr><tr><td>2017</td><td>M01</td><td>558.55</td></tr><tr><td>2017</td><td>M01</td><td>558.72</td></tr><tr><td>2017</td><td>M01</td><td>559.69</td></tr><tr><td>2017</td><td>M01</td><td>560.07</td></tr><tr><td>2017</td><td>M01</td><td>561.8</td></tr><tr><td>2017</td><td>M01</td><td>563.21</td></tr><tr><td>2017</td><td>M01</td><td>563.47</td></tr><tr><td>2017</td><td>M01</td><td>564.16</td></tr><tr><td>2017</td><td>M01</td><td>565.68</td></tr><tr><td>2017</td><td>M01</td><td>565.71</td></tr><tr><td>2017</td><td>M01</td><td>566.15</td></tr><tr><td>2017</td><td>M01</td><td>566.83</td></tr><tr><td>2017</td><td>M01</td><td>568.05</td></tr><tr><td>2017</td><td>M01</td><td>569.18</td></tr><tr><td>2017</td><td>M01</td><td>569.56</td></tr><tr><td>2017</td><td>M01</td><td>569.65</td></tr><tr><td>2017</td><td>M01</td><td>571.47</td></tr><tr><td>2017</td><td>M01</td><td>571.54</td></tr><tr><td>2017</td><td>M01</td><td>571.64</td></tr><tr><td>2017</td><td>M01</td><td>574.57</td></tr><tr><td>2017</td><td>M01</td><td>574.92</td></tr><tr><td>2017</td><td>M01</td><td>577.5</td></tr><tr><td>2017</td><td>M01</td><td>578.86</td></tr><tr><td>2017</td><td>M01</td><td>580.8</td></tr><tr><td>2017</td><td>M01</td><td>582.9</td></tr><tr><td>2017</td><td>M01</td><td>584.06</td></tr><tr><td>2017</td><td>M01</td><td>584.93</td></tr><tr><td>2017</td><td>M01</td><td>587.74</td></tr><tr><td>2017</td><td>M01</td><td>588.55</td></tr><tr><td>2017</td><td>M01</td><td>588.6</td></tr><tr><td>2017</td><td>M01</td><td>588.92</td></tr><tr><td>2017</td><td>M01</td><td>592.02</td></tr><tr><td>2017</td><td>M01</td><td>592.88</td></tr><tr><td>2017</td><td>M01</td><td>594.54</td></tr><tr><td>2017</td><td>M01</td><td>594.74</td></tr><tr><td>2017</td><td>M01</td><td>596.55</td></tr><tr><td>2017</td><td>M01</td><td>596.57</td></tr><tr><td>2017</td><td>M01</td><td>596.94</td></tr><tr><td>2017</td><td>M01</td><td>598.02</td></tr><tr><td>2017</td><td>M01</td><td>599.03</td></tr><tr><td>2017</td><td>M01</td><td>599.81</td></tr><tr><td>2017</td><td>M01</td><td>600.22</td></tr><tr><td>2017</td><td>M01</td><td>600.4</td></tr><tr><td>2017</td><td>M01</td><td>601.7</td></tr><tr><td>2017</td><td>M01</td><td>607</td></tr><tr><td>2017</td><td>M01</td><td>607.38</td></tr><tr><td>2017</td><td>M01</td><td>608.06</td></tr><tr><td>2017</td><td>M01</td><td>608.29</td></tr><tr><td>2017</td><td>M01</td><td>608.47</td></tr><tr><td>2017</td><td>M01</td><td>609.41</td></tr><tr><td>2017</td><td>M01</td><td>610.49</td></tr><tr><td>2017</td><td>M01</td><td>611.12</td></tr><tr><td>2017</td><td>M01</td><td>611.32</td></tr><tr><td>2017</td><td>M01</td><td>611.94</td></tr><tr><td>2017</td><td>M01</td><td>614.17</td></tr><tr><td>2017</td><td>M01</td><td>615.16</td></tr><tr><td>2017</td><td>M01</td><td>615.54</td></tr><tr><td>2017</td><td>M01</td><td>616.52</td></tr><tr><td>2017</td><td>M01</td><td>618.43</td></tr><tr><td>2017</td><td>M01</td><td>618.68</td></tr><tr><td>2017</td><td>M01</td><td>619.17</td></tr><tr><td>2017</td><td>M01</td><td>620.08</td></tr><tr><td>2017</td><td>M01</td><td>620.9</td></tr><tr><td>2017</td><td>M01</td><td>622.93</td></tr><tr><td>2017</td><td>M01</td><td>623.66</td></tr><tr><td>2017</td><td>M01</td><td>625.59</td></tr><tr><td>2017</td><td>M01</td><td>626.26</td></tr><tr><td>2017</td><td>M01</td><td>628.84</td></tr><tr><td>2017</td><td>M01</td><td>628.88</td></tr><tr><td>2017</td><td>M01</td><td>629.75</td></tr><tr><td>2017</td><td>M01</td><td>630.13</td></tr><tr><td>2017</td><td>M01</td><td>631.51</td></tr><tr><td>2017</td><td>M01</td><td>631.9</td></tr><tr><td>2017</td><td>M01</td><td>632.02</td></tr><tr><td>2017</td><td>M01</td><td>632.09</td></tr><tr><td>2017</td><td>M01</td><td>633</td></tr><tr><td>2017</td><td>M01</td><td>633.43</td></tr><tr><td>2017</td><td>M01</td><td>633.95</td></tr><tr><td>2017</td><td>M01</td><td>634.5</td></tr><tr><td>2017</td><td>M01</td><td>634.84</td></tr><tr><td>2017</td><td>M01</td><td>635.01</td></tr><tr><td>2017</td><td>M01</td><td>636.75</td></tr><tr><td>2017</td><td>M01</td><td>638.98</td></tr><tr><td>2017</td><td>M01</td><td>640.04</td></tr><tr><td>2017</td><td>M01</td><td>640.53</td></tr><tr><td>2017</td><td>M01</td><td>640.85</td></tr><tr><td>2017</td><td>M01</td><td>641.45</td></tr><tr><td>2017</td><td>M01</td><td>641.63</td></tr><tr><td>2017</td><td>M01</td><td>642.67</td></tr><tr><td>2017</td><td>M01</td><td>642.88</td></tr><tr><td>2017</td><td>M01</td><td>643.31</td></tr><tr><td>2017</td><td>M01</td><td>643.4</td></tr><tr><td>2017</td><td>M01</td><td>643.69</td></tr><tr><td>2017</td><td>M01</td><td>643.93</td></tr><tr><td>2017</td><td>M01</td><td>644.78</td></tr><tr><td>2017</td><td>M01</td><td>645.22</td></tr><tr><td>2017</td><td>M01</td><td>645.47</td></tr><tr><td>2017</td><td>M01</td><td>646.07</td></tr><tr><td>2017</td><td>M01</td><td>652.12</td></tr><tr><td>2017</td><td>M01</td><td>652.19</td></tr><tr><td>2017</td><td>M01</td><td>652.54</td></tr><tr><td>2017</td><td>M01</td><td>653.21</td></tr><tr><td>2017</td><td>M01</td><td>653.97</td></tr><tr><td>2017</td><td>M01</td><td>654.21</td></tr><tr><td>2017</td><td>M01</td><td>655.42</td></tr><tr><td>2017</td><td>M01</td><td>655.53</td></tr><tr><td>2017</td><td>M01</td><td>655.9</td></tr><tr><td>2017</td><td>M01</td><td>656.01</td></tr><tr><td>2017</td><td>M01</td><td>657</td></tr><tr><td>2017</td><td>M01</td><td>659.79</td></tr><tr><td>2017</td><td>M01</td><td>660.99</td></tr><tr><td>2017</td><td>M01</td><td>662.05</td></tr><tr><td>2017</td><td>M01</td><td>662.3</td></tr><tr><td>2017</td><td>M01</td><td>662.32</td></tr><tr><td>2017</td><td>M01</td><td>663.18</td></tr><tr><td>2017</td><td>M01</td><td>663.82</td></tr><tr><td>2017</td><td>M01</td><td>664.2</td></tr><tr><td>2017</td><td>M01</td><td>664.46</td></tr><tr><td>2017</td><td>M01</td><td>664.5</td></tr><tr><td>2017</td><td>M01</td><td>666.54</td></tr><tr><td>2017</td><td>M01</td><td>667.14</td></tr><tr><td>2017</td><td>M01</td><td>670.35</td></tr><tr><td>2017</td><td>M01</td><td>670.76</td></tr><tr><td>2017</td><td>M01</td><td>671.3</td></tr><tr><td>2017</td><td>M01</td><td>672.77</td></tr><tr><td>2017</td><td>M01</td><td>674.5</td></tr><tr><td>2017</td><td>M01</td><td>674.69</td></tr><tr><td>2017</td><td>M01</td><td>676.02</td></tr><tr><td>2017</td><td>M01</td><td>676.36</td></tr><tr><td>2017</td><td>M01</td><td>679.08</td></tr><tr><td>2017</td><td>M01</td><td>679.14</td></tr><tr><td>2017</td><td>M01</td><td>679.33</td></tr><tr><td>2017</td><td>M01</td><td>682.44</td></tr><tr><td>2017</td><td>M01</td><td>684.04</td></tr><tr><td>2017</td><td>M01</td><td>684.6</td></tr><tr><td>2017</td><td>M01</td><td>684.83</td></tr><tr><td>2017</td><td>M01</td><td>685.08</td></tr><tr><td>2017</td><td>M01</td><td>685.41</td></tr><tr><td>2017</td><td>M01</td><td>685.81</td></tr><tr><td>2017</td><td>M01</td><td>686.07</td></tr><tr><td>2017</td><td>M01</td><td>689.48</td></tr><tr><td>2017</td><td>M01</td><td>690.05</td></tr><tr><td>2017</td><td>M01</td><td>691.65</td></tr><tr><td>2017</td><td>M01</td><td>691.87</td></tr><tr><td>2017</td><td>M01</td><td>692.78</td></tr><tr><td>2017</td><td>M01</td><td>693.08</td></tr><tr><td>2017</td><td>M01</td><td>693.85</td></tr><tr><td>2017</td><td>M01</td><td>694.3</td></tr><tr><td>2017</td><td>M01</td><td>694.85</td></tr><tr><td>2017</td><td>M01</td><td>695.69</td></tr><tr><td>2017</td><td>M01</td><td>696.73</td></tr><tr><td>2017</td><td>M01</td><td>697.51</td></tr><tr><td>2017</td><td>M01</td><td>697.87</td></tr><tr><td>2017</td><td>M01</td><td>698</td></tr><tr><td>2017</td><td>M01</td><td>698.54</td></tr><tr><td>2017</td><td>M01</td><td>698.7</td></tr><tr><td>2017</td><td>M01</td><td>702.37</td></tr><tr><td>2017</td><td>M01</td><td>702.7</td></tr><tr><td>2017</td><td>M01</td><td>703.1</td></tr><tr><td>2017</td><td>M01</td><td>704.3</td></tr><tr><td>2017</td><td>M01</td><td>704.37</td></tr><tr><td>2017</td><td>M01</td><td>705.76</td></tr><tr><td>2017</td><td>M01</td><td>706</td></tr><tr><td>2017</td><td>M01</td><td>706.32</td></tr><tr><td>2017</td><td>M01</td><td>706.33</td></tr><tr><td>2017</td><td>M01</td><td>706.38</td></tr><tr><td>2017</td><td>M01</td><td>706.46</td></tr><tr><td>2017</td><td>M01</td><td>706.88</td></tr><tr><td>2017</td><td>M01</td><td>707.11</td></tr><tr><td>2017</td><td>M01</td><td>707.44</td></tr><tr><td>2017</td><td>M01</td><td>707.67</td></tr><tr><td>2017</td><td>M01</td><td>708</td></tr><tr><td>2017</td><td>M01</td><td>708.94</td></tr><tr><td>2017</td><td>M01</td><td>709.24</td></tr><tr><td>2017</td><td>M01</td><td>710.29</td></tr><tr><td>2017</td><td>M01</td><td>710.48</td></tr><tr><td>2017</td><td>M01</td><td>710.65</td></tr><tr><td>2017</td><td>M01</td><td>711.85</td></tr><tr><td>2017</td><td>M01</td><td>711.98</td></tr><tr><td>2017</td><td>M01</td><td>712.47</td></tr><tr><td>2017</td><td>M01</td><td>712.71</td></tr><tr><td>2017</td><td>M01</td><td>712.92</td></tr><tr><td>2017</td><td>M01</td><td>715.13</td></tr><tr><td>2017</td><td>M01</td><td>716.04</td></tr><tr><td>2017</td><td>M01</td><td>716.87</td></tr><tr><td>2017</td><td>M01</td><td>718.31</td></tr><tr><td>2017</td><td>M01</td><td>718.62</td></tr><tr><td>2017</td><td>M01</td><td>719.04</td></tr><tr><td>2017</td><td>M01</td><td>719.53</td></tr><tr><td>2017</td><td>M01</td><td>720.32</td></tr><tr><td>2017</td><td>M01</td><td>720.33</td></tr><tr><td>2017</td><td>M01</td><td>720.78</td></tr><tr><td>2017</td><td>M01</td><td>721.07</td></tr><tr><td>2017</td><td>M01</td><td>721.09</td></tr><tr><td>2017</td><td>M01</td><td>721.54</td></tr><tr><td>2017</td><td>M01</td><td>721.72</td></tr><tr><td>2017</td><td>M01</td><td>722.25</td></tr><tr><td>2017</td><td>M01</td><td>723.65</td></tr><tr><td>2017</td><td>M01</td><td>723.69</td></tr><tr><td>2017</td><td>M01</td><td>723.74</td></tr><tr><td>2017</td><td>M01</td><td>723.77</td></tr><tr><td>2017</td><td>M01</td><td>725.9</td></tr><tr><td>2017</td><td>M01</td><td>726.13</td></tr><tr><td>2017</td><td>M01</td><td>726.64</td></tr><tr><td>2017</td><td>M01</td><td>726.83</td></tr><tr><td>2017</td><td>M01</td><td>727.44</td></tr><tr><td>2017</td><td>M01</td><td>727.66</td></tr><tr><td>2017</td><td>M01</td><td>728.75</td></tr><tr><td>2017</td><td>M01</td><td>729.11</td></tr><tr><td>2017</td><td>M01</td><td>730.3</td></tr><tr><td>2017</td><td>M01</td><td>730.73</td></tr><tr><td>2017</td><td>M01</td><td>730.84</td></tr><tr><td>2017</td><td>M01</td><td>732.9</td></tr><tr><td>2017</td><td>M01</td><td>733.49</td></tr><tr><td>2017</td><td>M01</td><td>734.8</td></tr><tr><td>2017</td><td>M01</td><td>734.84</td></tr><tr><td>2017</td><td>M01</td><td>735.84</td></tr><tr><td>2017</td><td>M01</td><td>737.17</td></tr><tr><td>2017</td><td>M01</td><td>737.25</td></tr><tr><td>2017</td><td>M01</td><td>737.3</td></tr><tr><td>2017</td><td>M01</td><td>737.84</td></tr><tr><td>2017</td><td>M01</td><td>738.01</td></tr><tr><td>2017</td><td>M01</td><td>738.07</td></tr><tr><td>2017</td><td>M01</td><td>738.53</td></tr><tr><td>2017</td><td>M01</td><td>739.2</td></tr><tr><td>2017</td><td>M01</td><td>740</td></tr><tr><td>2017</td><td>M01</td><td>740.59</td></tr><tr><td>2017</td><td>M01</td><td>742.28</td></tr><tr><td>2017</td><td>M01</td><td>742.68</td></tr><tr><td>2017</td><td>M01</td><td>742.94</td></tr><tr><td>2017</td><td>M01</td><td>743.26</td></tr><tr><td>2017</td><td>M01</td><td>743.27</td></tr><tr><td>2017</td><td>M01</td><td>743.35</td></tr><tr><td>2017</td><td>M01</td><td>744.75</td></tr><tr><td>2017</td><td>M01</td><td>744.98</td></tr><tr><td>2017</td><td>M01</td><td>745.19</td></tr><tr><td>2017</td><td>M01</td><td>745.47</td></tr><tr><td>2017</td><td>M01</td><td>747.26</td></tr><tr><td>2017</td><td>M01</td><td>749.89</td></tr><tr><td>2017</td><td>M01</td><td>750.38</td></tr><tr><td>2017</td><td>M01</td><td>750.83</td></tr><tr><td>2017</td><td>M01</td><td>751.61</td></tr><tr><td>2017</td><td>M01</td><td>753.61</td></tr><tr><td>2017</td><td>M01</td><td>753.65</td></tr><tr><td>2017</td><td>M01</td><td>754.98</td></tr><tr><td>2017</td><td>M01</td><td>755.02</td></tr><tr><td>2017</td><td>M01</td><td>755.04</td></tr><tr><td>2017</td><td>M01</td><td>755.6</td></tr><tr><td>2017</td><td>M01</td><td>756.2</td></tr><tr><td>2017</td><td>M01</td><td>756.45</td></tr><tr><td>2017</td><td>M01</td><td>756.5</td></tr><tr><td>2017</td><td>M01</td><td>756.97</td></tr><tr><td>2017</td><td>M01</td><td>757.76</td></tr><tr><td>2017</td><td>M01</td><td>759.25</td></tr><tr><td>2017</td><td>M01</td><td>759.62</td></tr><tr><td>2017</td><td>M01</td><td>760.13</td></tr><tr><td>2017</td><td>M01</td><td>760.49</td></tr><tr><td>2017</td><td>M01</td><td>760.51</td></tr><tr><td>2017</td><td>M01</td><td>760.58</td></tr><tr><td>2017</td><td>M01</td><td>760.73</td></tr><tr><td>2017</td><td>M01</td><td>762.66</td></tr><tr><td>2017</td><td>M01</td><td>762.79</td></tr><tr><td>2017</td><td>M01</td><td>763.73</td></tr><tr><td>2017</td><td>M01</td><td>764.22</td></tr><tr><td>2017</td><td>M01</td><td>764.67</td></tr><tr><td>2017</td><td>M01</td><td>765.31</td></tr><tr><td>2017</td><td>M01</td><td>765.61</td></tr><tr><td>2017</td><td>M01</td><td>766.01</td></tr><tr><td>2017</td><td>M01</td><td>766.12</td></tr><tr><td>2017</td><td>M01</td><td>767.52</td></tr><tr><td>2017</td><td>M01</td><td>768.57</td></tr><tr><td>2017</td><td>M01</td><td>769.65</td></tr><tr><td>2017</td><td>M01</td><td>770</td></tr><tr><td>2017</td><td>M01</td><td>770.41</td></tr><tr><td>2017</td><td>M01</td><td>770.74</td></tr><tr><td>2017</td><td>M01</td><td>770.83</td></tr><tr><td>2017</td><td>M01</td><td>772.56</td></tr><tr><td>2017</td><td>M01</td><td>772.86</td></tr><tr><td>2017</td><td>M01</td><td>773.15</td></tr><tr><td>2017</td><td>M01</td><td>773.28</td></tr><tr><td>2017</td><td>M01</td><td>773.91</td></tr><tr><td>2017</td><td>M01</td><td>774.49</td></tr><tr><td>2017</td><td>M01</td><td>775.54</td></tr><tr><td>2017</td><td>M01</td><td>776.42</td></tr><tr><td>2017</td><td>M01</td><td>777.02</td></tr><tr><td>2017</td><td>M01</td><td>777.06</td></tr><tr><td>2017</td><td>M01</td><td>777.14</td></tr><tr><td>2017</td><td>M01</td><td>777.38</td></tr><tr><td>2017</td><td>M01</td><td>777.87</td></tr><tr><td>2017</td><td>M01</td><td>778.27</td></tr><tr><td>2017</td><td>M01</td><td>778.96</td></tr><tr><td>2017</td><td>M01</td><td>779.44</td></tr><tr><td>2017</td><td>M01</td><td>779.64</td></tr><tr><td>2017</td><td>M01</td><td>782.29</td></tr><tr><td>2017</td><td>M01</td><td>783.03</td></tr><tr><td>2017</td><td>M01</td><td>784.19</td></tr><tr><td>2017</td><td>M01</td><td>784.29</td></tr><tr><td>2017</td><td>M01</td><td>785.37</td></tr><tr><td>2017</td><td>M01</td><td>786.6</td></tr><tr><td>2017</td><td>M01</td><td>788.39</td></tr><tr><td>2017</td><td>M01</td><td>789.06</td></tr><tr><td>2017</td><td>M01</td><td>789.25</td></tr><tr><td>2017</td><td>M01</td><td>789.39</td></tr><tr><td>2017</td><td>M01</td><td>789.71</td></tr><tr><td>2017</td><td>M01</td><td>789.89</td></tr><tr><td>2017</td><td>M01</td><td>791.15</td></tr><tr><td>2017</td><td>M01</td><td>791.5</td></tr><tr><td>2017</td><td>M01</td><td>792.1</td></tr><tr><td>2017</td><td>M01</td><td>792.37</td></tr><tr><td>2017</td><td>M01</td><td>792.42</td></tr><tr><td>2017</td><td>M01</td><td>792.44</td></tr><tr><td>2017</td><td>M01</td><td>793.18</td></tr><tr><td>2017</td><td>M01</td><td>794.38</td></tr><tr><td>2017</td><td>M01</td><td>794.46</td></tr><tr><td>2017</td><td>M01</td><td>795.62</td></tr><tr><td>2017</td><td>M01</td><td>795.87</td></tr><tr><td>2017</td><td>M01</td><td>795.98</td></tr><tr><td>2017</td><td>M01</td><td>796.05</td></tr><tr><td>2017</td><td>M01</td><td>796.73</td></tr><tr><td>2017</td><td>M01</td><td>797.89</td></tr><tr><td>2017</td><td>M01</td><td>799.88</td></tr><tr><td>2017</td><td>M01</td><td>801.47</td></tr><tr><td>2017</td><td>M01</td><td>804.46</td></tr><tr><td>2017</td><td>M01</td><td>804.53</td></tr><tr><td>2017</td><td>M01</td><td>804.86</td></tr><tr><td>2017</td><td>M01</td><td>805.57</td></tr><tr><td>2017</td><td>M01</td><td>806.02</td></tr><tr><td>2017</td><td>M01</td><td>806.12</td></tr><tr><td>2017</td><td>M01</td><td>808.37</td></tr><tr><td>2017</td><td>M01</td><td>810.21</td></tr><tr><td>2017</td><td>M01</td><td>810.77</td></tr><tr><td>2017</td><td>M01</td><td>811.39</td></tr><tr><td>2017</td><td>M01</td><td>811.49</td></tr><tr><td>2017</td><td>M01</td><td>811.76</td></tr><tr><td>2017</td><td>M01</td><td>812.43</td></tr><tr><td>2017</td><td>M01</td><td>813.63</td></tr><tr><td>2017</td><td>M01</td><td>813.75</td></tr><tr><td>2017</td><td>M01</td><td>814.86</td></tr><tr><td>2017</td><td>M01</td><td>815.25</td></tr><tr><td>2017</td><td>M01</td><td>816.07</td></tr><tr><td>2017</td><td>M01</td><td>818.44</td></tr><tr><td>2017</td><td>M01</td><td>819.14</td></tr><tr><td>2017</td><td>M01</td><td>819.18</td></tr><tr><td>2017</td><td>M01</td><td>819.31</td></tr><tr><td>2017</td><td>M01</td><td>819.96</td></tr><tr><td>2017</td><td>M01</td><td>820.8</td></tr><tr><td>2017</td><td>M01</td><td>821.01</td></tr><tr><td>2017</td><td>M01</td><td>821.83</td></tr><tr><td>2017</td><td>M01</td><td>821.9</td></tr><tr><td>2017</td><td>M01</td><td>821.96</td></tr><tr><td>2017</td><td>M01</td><td>822.08</td></tr><tr><td>2017</td><td>M01</td><td>823.55</td></tr><tr><td>2017</td><td>M01</td><td>824.5</td></tr><tr><td>2017</td><td>M01</td><td>824.73</td></tr><tr><td>2017</td><td>M01</td><td>825.1</td></tr><tr><td>2017</td><td>M01</td><td>825.93</td></tr><tr><td>2017</td><td>M01</td><td>826.59</td></tr><tr><td>2017</td><td>M01</td><td>826.62</td></tr><tr><td>2017</td><td>M01</td><td>826.97</td></tr><tr><td>2017</td><td>M01</td><td>827.04</td></tr><tr><td>2017</td><td>M01</td><td>827.2</td></tr><tr><td>2017</td><td>M01</td><td>827.75</td></tr><tr><td>2017</td><td>M01</td><td>828.24</td></tr><tr><td>2017</td><td>M01</td><td>828.65</td></tr><tr><td>2017</td><td>M01</td><td>829.16</td></tr><tr><td>2017</td><td>M01</td><td>829.67</td></tr><tr><td>2017</td><td>M01</td><td>832.2</td></tr><tr><td>2017</td><td>M01</td><td>832.96</td></tr><tr><td>2017</td><td>M01</td><td>833.54</td></tr><tr><td>2017</td><td>M01</td><td>834.09</td></tr><tr><td>2017</td><td>M01</td><td>834.15</td></tr><tr><td>2017</td><td>M01</td><td>834.27</td></tr><tr><td>2017</td><td>M01</td><td>834.96</td></tr><tr><td>2017</td><td>M01</td><td>835.09</td></tr><tr><td>2017</td><td>M01</td><td>835.33</td></tr><tr><td>2017</td><td>M01</td><td>835.35</td></tr><tr><td>2017</td><td>M01</td><td>836.03</td></tr><tr><td>2017</td><td>M01</td><td>836.14</td></tr><tr><td>2017</td><td>M01</td><td>836.63</td></tr><tr><td>2017</td><td>M01</td><td>836.74</td></tr><tr><td>2017</td><td>M01</td><td>836.98</td></tr><tr><td>2017</td><td>M01</td><td>837.34</td></tr><tr><td>2017</td><td>M01</td><td>837.84</td></tr><tr><td>2017</td><td>M01</td><td>838.32</td></tr><tr><td>2017</td><td>M01</td><td>838.88</td></tr><tr><td>2017</td><td>M01</td><td>839.36</td></tr><tr><td>2017</td><td>M01</td><td>839.47</td></tr><tr><td>2017</td><td>M01</td><td>840.45</td></tr><tr><td>2017</td><td>M01</td><td>841.19</td></tr><tr><td>2017</td><td>M01</td><td>841.4</td></tr><tr><td>2017</td><td>M01</td><td>844.29</td></tr><tr><td>2017</td><td>M01</td><td>845.39</td></tr><tr><td>2017</td><td>M01</td><td>845.44</td></tr><tr><td>2017</td><td>M01</td><td>845.83</td></tr><tr><td>2017</td><td>M01</td><td>846.03</td></tr><tr><td>2017</td><td>M01</td><td>847.76</td></tr><tr><td>2017</td><td>M01</td><td>847.88</td></tr><tr><td>2017</td><td>M01</td><td>847.96</td></tr><tr><td>2017</td><td>M01</td><td>848.91</td></tr><tr><td>2017</td><td>M01</td><td>849.36</td></tr><tr><td>2017</td><td>M01</td><td>849.68</td></tr><tr><td>2017</td><td>M01</td><td>849.95</td></tr><tr><td>2017</td><td>M01</td><td>851.24</td></tr><tr><td>2017</td><td>M01</td><td>851.83</td></tr><tr><td>2017</td><td>M01</td><td>851.94</td></tr><tr><td>2017</td><td>M01</td><td>852.98</td></tr><tr><td>2017</td><td>M01</td><td>853.78</td></tr><tr><td>2017</td><td>M01</td><td>854.47</td></tr><tr><td>2017</td><td>M01</td><td>855.75</td></tr><tr><td>2017</td><td>M01</td><td>855.82</td></tr><tr><td>2017</td><td>M01</td><td>855.83</td></tr><tr><td>2017</td><td>M01</td><td>859.58</td></tr><tr><td>2017</td><td>M01</td><td>859.84</td></tr><tr><td>2017</td><td>M01</td><td>861.42</td></tr><tr><td>2017</td><td>M01</td><td>861.9</td></tr><tr><td>2017</td><td>M01</td><td>862.36</td></tr><tr><td>2017</td><td>M01</td><td>864.4</td></tr><tr><td>2017</td><td>M01</td><td>864.46</td></tr><tr><td>2017</td><td>M01</td><td>864.84</td></tr><tr><td>2017</td><td>M01</td><td>865.28</td></tr><tr><td>2017</td><td>M01</td><td>865.37</td></tr><tr><td>2017</td><td>M01</td><td>865.58</td></tr><tr><td>2017</td><td>M01</td><td>866.84</td></tr><tr><td>2017</td><td>M01</td><td>867.56</td></tr><tr><td>2017</td><td>M01</td><td>869.09</td></tr><tr><td>2017</td><td>M01</td><td>869.28</td></tr><tr><td>2017</td><td>M01</td><td>869.62</td></tr><tr><td>2017</td><td>M01</td><td>872.66</td></tr><tr><td>2017</td><td>M01</td><td>872.99</td></tr><tr><td>2017</td><td>M01</td><td>873.02</td></tr><tr><td>2017</td><td>M01</td><td>873.05</td></tr><tr><td>2017</td><td>M01</td><td>874.71</td></tr><tr><td>2017</td><td>M01</td><td>875.47</td></tr><tr><td>2017</td><td>M01</td><td>875.75</td></tr><tr><td>2017</td><td>M01</td><td>876.03</td></tr><tr><td>2017</td><td>M01</td><td>876.65</td></tr><tr><td>2017</td><td>M01</td><td>876.68</td></tr><tr><td>2017</td><td>M01</td><td>877.5</td></tr><tr><td>2017</td><td>M01</td><td>878.64</td></tr><tr><td>2017</td><td>M01</td><td>879.62</td></tr><tr><td>2017</td><td>M01</td><td>879.84</td></tr><tr><td>2017</td><td>M01</td><td>880.65</td></tr><tr><td>2017</td><td>M01</td><td>880.88</td></tr><tr><td>2017</td><td>M01</td><td>880.93</td></tr><tr><td>2017</td><td>M01</td><td>881.09</td></tr><tr><td>2017</td><td>M01</td><td>881.16</td></tr><tr><td>2017</td><td>M01</td><td>881.28</td></tr><tr><td>2017</td><td>M01</td><td>883.46</td></tr><tr><td>2017</td><td>M01</td><td>883.73</td></tr><tr><td>2017</td><td>M01</td><td>884.42</td></tr><tr><td>2017</td><td>M01</td><td>884.44</td></tr><tr><td>2017</td><td>M01</td><td>884.67</td></tr><tr><td>2017</td><td>M01</td><td>884.7</td></tr><tr><td>2017</td><td>M01</td><td>885.31</td></tr><tr><td>2017</td><td>M01</td><td>886.62</td></tr><tr><td>2017</td><td>M01</td><td>887.1</td></tr><tr><td>2017</td><td>M01</td><td>887.78</td></tr><tr><td>2017</td><td>M01</td><td>888.08</td></tr><tr><td>2017</td><td>M01</td><td>888.38</td></tr><tr><td>2017</td><td>M01</td><td>888.68</td></tr><tr><td>2017</td><td>M01</td><td>890.6</td></tr><tr><td>2017</td><td>M01</td><td>891.67</td></tr><tr><td>2017</td><td>M01</td><td>892.49</td></tr><tr><td>2017</td><td>M01</td><td>893.54</td></tr><tr><td>2017</td><td>M01</td><td>894.96</td></tr><tr><td>2017</td><td>M01</td><td>895.36</td></tr><tr><td>2017</td><td>M01</td><td>895.56</td></tr><tr><td>2017</td><td>M01</td><td>896.8</td></tr><tr><td>2017</td><td>M01</td><td>898.32</td></tr><tr><td>2017</td><td>M01</td><td>898.56</td></tr><tr><td>2017</td><td>M01</td><td>899.7</td></tr><tr><td>2017</td><td>M01</td><td>899.9</td></tr><tr><td>2017</td><td>M01</td><td>901.23</td></tr><tr><td>2017</td><td>M01</td><td>903.05</td></tr><tr><td>2017</td><td>M01</td><td>903.67</td></tr><tr><td>2017</td><td>M01</td><td>904.24</td></tr><tr><td>2017</td><td>M01</td><td>906.75</td></tr><tr><td>2017</td><td>M01</td><td>906.78</td></tr><tr><td>2017</td><td>M01</td><td>907.08</td></tr><tr><td>2017</td><td>M01</td><td>907.86</td></tr><tr><td>2017</td><td>M01</td><td>910.03</td></tr><tr><td>2017</td><td>M01</td><td>911.53</td></tr><tr><td>2017</td><td>M01</td><td>911.89</td></tr><tr><td>2017</td><td>M01</td><td>913.65</td></tr><tr><td>2017</td><td>M01</td><td>913.85</td></tr><tr><td>2017</td><td>M01</td><td>913.88</td></tr><tr><td>2017</td><td>M01</td><td>914.28</td></tr><tr><td>2017</td><td>M01</td><td>914.76</td></tr><tr><td>2017</td><td>M01</td><td>915.37</td></tr><tr><td>2017</td><td>M01</td><td>915.71</td></tr><tr><td>2017</td><td>M01</td><td>916.26</td></tr><tr><td>2017</td><td>M01</td><td>916.84</td></tr><tr><td>2017</td><td>M01</td><td>916.9</td></tr><tr><td>2017</td><td>M01</td><td>917.54</td></tr><tr><td>2017</td><td>M01</td><td>918.1</td></tr><tr><td>2017</td><td>M01</td><td>918.38</td></tr><tr><td>2017</td><td>M01</td><td>919.43</td></tr><tr><td>2017</td><td>M01</td><td>919.76</td></tr><tr><td>2017</td><td>M01</td><td>920</td></tr><tr><td>2017</td><td>M01</td><td>921.9</td></tr><tr><td>2017</td><td>M01</td><td>921.99</td></tr><tr><td>2017</td><td>M01</td><td>923.38</td></tr><tr><td>2017</td><td>M01</td><td>924</td></tr><tr><td>2017</td><td>M01</td><td>924.32</td></tr><tr><td>2017</td><td>M01</td><td>924.6</td></tr><tr><td>2017</td><td>M01</td><td>924.71</td></tr><tr><td>2017</td><td>M01</td><td>925.12</td></tr><tr><td>2017</td><td>M01</td><td>925.63</td></tr><tr><td>2017</td><td>M01</td><td>926.19</td></tr><tr><td>2017</td><td>M01</td><td>926.88</td></tr><tr><td>2017</td><td>M01</td><td>927.26</td></tr><tr><td>2017</td><td>M01</td><td>928.04</td></tr><tr><td>2017</td><td>M01</td><td>928.4</td></tr><tr><td>2017</td><td>M01</td><td>928.89</td></tr><tr><td>2017</td><td>M01</td><td>930.92</td></tr><tr><td>2017</td><td>M01</td><td>931.5</td></tr><tr><td>2017</td><td>M01</td><td>933.3</td></tr><tr><td>2017</td><td>M01</td><td>933.4</td></tr><tr><td>2017</td><td>M01</td><td>933.9</td></tr><tr><td>2017</td><td>M01</td><td>935.13</td></tr><tr><td>2017</td><td>M01</td><td>935.81</td></tr><tr><td>2017</td><td>M01</td><td>936.03</td></tr><tr><td>2017</td><td>M01</td><td>936.17</td></tr><tr><td>2017</td><td>M01</td><td>936.41</td></tr><tr><td>2017</td><td>M01</td><td>937.24</td></tr><tr><td>2017</td><td>M01</td><td>937.75</td></tr><tr><td>2017</td><td>M01</td><td>939</td></tr><tr><td>2017</td><td>M01</td><td>939.14</td></tr><tr><td>2017</td><td>M01</td><td>939.25</td></tr><tr><td>2017</td><td>M01</td><td>939.68</td></tr><tr><td>2017</td><td>M01</td><td>940.34</td></tr><tr><td>2017</td><td>M01</td><td>941.75</td></tr><tr><td>2017</td><td>M01</td><td>945.45</td></tr><tr><td>2017</td><td>M01</td><td>946.91</td></tr><tr><td>2017</td><td>M01</td><td>948.78</td></tr><tr><td>2017</td><td>M01</td><td>949.82</td></tr><tr><td>2017</td><td>M01</td><td>951.26</td></tr><tr><td>2017</td><td>M01</td><td>951.49</td></tr><tr><td>2017</td><td>M01</td><td>951.88</td></tr><tr><td>2017</td><td>M01</td><td>955.15</td></tr><tr><td>2017</td><td>M01</td><td>957.76</td></tr><tr><td>2017</td><td>M01</td><td>958.11</td></tr><tr><td>2017</td><td>M01</td><td>959.24</td></tr><tr><td>2017</td><td>M01</td><td>959.78</td></tr><tr><td>2017</td><td>M01</td><td>960.72</td></tr><tr><td>2017</td><td>M01</td><td>962.3</td></tr><tr><td>2017</td><td>M01</td><td>964.72</td></tr><tr><td>2017</td><td>M01</td><td>965.6</td></tr><tr><td>2017</td><td>M01</td><td>965.68</td></tr><tr><td>2017</td><td>M01</td><td>966.01</td></tr><tr><td>2017</td><td>M01</td><td>966.46</td></tr><tr><td>2017</td><td>M01</td><td>966.91</td></tr><tr><td>2017</td><td>M01</td><td>967.27</td></tr><tr><td>2017</td><td>M01</td><td>967.66</td></tr><tr><td>2017</td><td>M01</td><td>968.37</td></tr><tr><td>2017</td><td>M01</td><td>968.89</td></tr><tr><td>2017</td><td>M01</td><td>969.36</td></tr><tr><td>2017</td><td>M01</td><td>972.69</td></tr><tr><td>2017</td><td>M01</td><td>974.38</td></tr><tr><td>2017</td><td>M01</td><td>974.97</td></tr><tr><td>2017</td><td>M01</td><td>976.9</td></tr><tr><td>2017</td><td>M01</td><td>977.18</td></tr><tr><td>2017</td><td>M01</td><td>977.91</td></tr><tr><td>2017</td><td>M01</td><td>978.32</td></tr><tr><td>2017</td><td>M01</td><td>979.02</td></tr><tr><td>2017</td><td>M01</td><td>979.55</td></tr><tr><td>2017</td><td>M01</td><td>979.97</td></tr><tr><td>2017</td><td>M01</td><td>981.71</td></tr><tr><td>2017</td><td>M01</td><td>982.1</td></tr><tr><td>2017</td><td>M01</td><td>983.12</td></tr><tr><td>2017</td><td>M01</td><td>983.66</td></tr><tr><td>2017</td><td>M01</td><td>983.97</td></tr><tr><td>2017</td><td>M01</td><td>985.4</td></tr><tr><td>2017</td><td>M01</td><td>987.2</td></tr><tr><td>2017</td><td>M01</td><td>987.37</td></tr><tr><td>2017</td><td>M01</td><td>988.4</td></tr><tr><td>2017</td><td>M01</td><td>990.4</td></tr><tr><td>2017</td><td>M01</td><td>991.38</td></tr><tr><td>2017</td><td>M01</td><td>991.84</td></tr><tr><td>2017</td><td>M01</td><td>993.65</td></tr><tr><td>2017</td><td>M01</td><td>993.98</td></tr><tr><td>2017</td><td>M01</td><td>994.19</td></tr><tr><td>2017</td><td>M01</td><td>997.9</td></tr><tr><td>2017</td><td>M01</td><td>998.24</td></tr><tr><td>2017</td><td>M01</td><td>999.22</td></tr><tr><td>2017</td><td>M01</td><td>999.46</td></tr><tr><td>2017</td><td>M01</td><td>1000.3</td></tr><tr><td>2017</td><td>M01</td><td>1000.51</td></tr><tr><td>2017</td><td>M01</td><td>1000.67</td></tr><tr><td>2017</td><td>M01</td><td>1001.59</td></tr><tr><td>2017</td><td>M01</td><td>1002.4</td></tr><tr><td>2017</td><td>M01</td><td>1003</td></tr><tr><td>2017</td><td>M01</td><td>1007.12</td></tr><tr><td>2017</td><td>M01</td><td>1008.14</td></tr><tr><td>2017</td><td>M01</td><td>1008.58</td></tr><tr><td>2017</td><td>M01</td><td>1008.9</td></tr><tr><td>2017</td><td>M01</td><td>1010.79</td></tr><tr><td>2017</td><td>M01</td><td>1010.9</td></tr><tr><td>2017</td><td>M01</td><td>1011.27</td></tr><tr><td>2017</td><td>M01</td><td>1011.56</td></tr><tr><td>2017</td><td>M01</td><td>1012.65</td></tr><tr><td>2017</td><td>M01</td><td>1014.34</td></tr><tr><td>2017</td><td>M01</td><td>1014.93</td></tr><tr><td>2017</td><td>M01</td><td>1015.23</td></tr><tr><td>2017</td><td>M01</td><td>1015.31</td></tr><tr><td>2017</td><td>M01</td><td>1015.74</td></tr><tr><td>2017</td><td>M01</td><td>1017.68</td></tr><tr><td>2017</td><td>M01</td><td>1018.46</td></tr><tr><td>2017</td><td>M01</td><td>1018.64</td></tr><tr><td>2017</td><td>M01</td><td>1018.7</td></tr><tr><td>2017</td><td>M01</td><td>1020.74</td></tr><tr><td>2017</td><td>M01</td><td>1022.35</td></tr><tr><td>2017</td><td>M01</td><td>1023.37</td></tr><tr><td>2017</td><td>M01</td><td>1023.73</td></tr><tr><td>2017</td><td>M01</td><td>1025.05</td></tr><tr><td>2017</td><td>M01</td><td>1025.3</td></tr><tr><td>2017</td><td>M01</td><td>1025.36</td></tr><tr><td>2017</td><td>M01</td><td>1025.38</td></tr><tr><td>2017</td><td>M01</td><td>1025.77</td></tr><tr><td>2017</td><td>M01</td><td>1028.57</td></tr><tr><td>2017</td><td>M01</td><td>1032.24</td></tr><tr><td>2017</td><td>M01</td><td>1033.92</td></tr><tr><td>2017</td><td>M01</td><td>1034.77</td></tr><tr><td>2017</td><td>M01</td><td>1034.89</td></tr><tr><td>2017</td><td>M01</td><td>1036</td></tr><tr><td>2017</td><td>M01</td><td>1040.82</td></tr><tr><td>2017</td><td>M01</td><td>1041.4</td></tr><tr><td>2017</td><td>M01</td><td>1042.34</td></tr><tr><td>2017</td><td>M01</td><td>1042.89</td></tr><tr><td>2017</td><td>M01</td><td>1043.19</td></tr><tr><td>2017</td><td>M01</td><td>1043.86</td></tr><tr><td>2017</td><td>M01</td><td>1044.89</td></tr><tr><td>2017</td><td>M01</td><td>1045.7</td></tr><tr><td>2017</td><td>M01</td><td>1046.04</td></tr><tr><td>2017</td><td>M01</td><td>1046.32</td></tr><tr><td>2017</td><td>M01</td><td>1046.58</td></tr><tr><td>2017</td><td>M01</td><td>1047.94</td></tr><tr><td>2017</td><td>M01</td><td>1048.43</td></tr><tr><td>2017</td><td>M01</td><td>1048.55</td></tr><tr><td>2017</td><td>M01</td><td>1050.09</td></tr><tr><td>2017</td><td>M01</td><td>1050.98</td></tr><tr><td>2017</td><td>M01</td><td>1051.52</td></tr><tr><td>2017</td><td>M01</td><td>1053.15</td></tr><tr><td>2017</td><td>M01</td><td>1056.06</td></tr><tr><td>2017</td><td>M01</td><td>1057.08</td></tr><tr><td>2017</td><td>M01</td><td>1057.6</td></tr><tr><td>2017</td><td>M01</td><td>1058.94</td></tr><tr><td>2017</td><td>M01</td><td>1060.07</td></tr><tr><td>2017</td><td>M01</td><td>1063.3</td></tr><tr><td>2017</td><td>M01</td><td>1063.92</td></tr><tr><td>2017</td><td>M01</td><td>1064.09</td></tr><tr><td>2017</td><td>M01</td><td>1065.23</td></tr><tr><td>2017</td><td>M01</td><td>1066.13</td></tr><tr><td>2017</td><td>M01</td><td>1066.93</td></tr><tr><td>2017</td><td>M01</td><td>1073.2</td></tr><tr><td>2017</td><td>M01</td><td>1074.95</td></tr><tr><td>2017</td><td>M01</td><td>1075.31</td></tr><tr><td>2017</td><td>M01</td><td>1075.61</td></tr><tr><td>2017</td><td>M01</td><td>1076.5</td></tr><tr><td>2017</td><td>M01</td><td>1076.7</td></tr><tr><td>2017</td><td>M01</td><td>1076.94</td></tr><tr><td>2017</td><td>M01</td><td>1082.4</td></tr><tr><td>2017</td><td>M01</td><td>1082.96</td></tr><tr><td>2017</td><td>M01</td><td>1083.21</td></tr><tr><td>2017</td><td>M01</td><td>1083.3</td></tr><tr><td>2017</td><td>M01</td><td>1084.44</td></tr><tr><td>2017</td><td>M01</td><td>1084.76</td></tr><tr><td>2017</td><td>M01</td><td>1086.96</td></tr><tr><td>2017</td><td>M01</td><td>1087.27</td></tr><tr><td>2017</td><td>M01</td><td>1087.69</td></tr><tr><td>2017</td><td>M01</td><td>1088.49</td></tr><tr><td>2017</td><td>M01</td><td>1088.64</td></tr><tr><td>2017</td><td>M01</td><td>1088.98</td></tr><tr><td>2017</td><td>M01</td><td>1089.88</td></tr><tr><td>2017</td><td>M01</td><td>1089.91</td></tr><tr><td>2017</td><td>M01</td><td>1090.32</td></tr><tr><td>2017</td><td>M01</td><td>1093.12</td></tr><tr><td>2017</td><td>M01</td><td>1094.95</td></tr><tr><td>2017</td><td>M01</td><td>1096.03</td></tr><tr><td>2017</td><td>M01</td><td>1096.2</td></tr><tr><td>2017</td><td>M01</td><td>1096.96</td></tr><tr><td>2017</td><td>M01</td><td>1098</td></tr><tr><td>2017</td><td>M01</td><td>1098.55</td></tr><tr><td>2017</td><td>M01</td><td>1098.68</td></tr><tr><td>2017</td><td>M01</td><td>1099.86</td></tr><tr><td>2017</td><td>M01</td><td>1101.52</td></tr><tr><td>2017</td><td>M01</td><td>1101.93</td></tr><tr><td>2017</td><td>M01</td><td>1102.45</td></tr><tr><td>2017</td><td>M01</td><td>1105.7</td></tr><tr><td>2017</td><td>M01</td><td>1105.86</td></tr><tr><td>2017</td><td>M01</td><td>1108.72</td></tr><tr><td>2017</td><td>M01</td><td>1109.84</td></tr><tr><td>2017</td><td>M01</td><td>1110.98</td></tr><tr><td>2017</td><td>M01</td><td>1114.1</td></tr><tr><td>2017</td><td>M01</td><td>1120.39</td></tr><tr><td>2017</td><td>M01</td><td>1120.75</td></tr><tr><td>2017</td><td>M01</td><td>1121.61</td></tr><tr><td>2017</td><td>M01</td><td>1126.88</td></tr><tr><td>2017</td><td>M01</td><td>1130.82</td></tr><tr><td>2017</td><td>M01</td><td>1133.35</td></tr><tr><td>2017</td><td>M01</td><td>1133.94</td></tr><tr><td>2017</td><td>M01</td><td>1135.7</td></tr><tr><td>2017</td><td>M01</td><td>1137.04</td></tr><tr><td>2017</td><td>M01</td><td>1138.57</td></tr><tr><td>2017</td><td>M01</td><td>1143.69</td></tr><tr><td>2017</td><td>M01</td><td>1146.3</td></tr><tr><td>2017</td><td>M01</td><td>1148.86</td></tr><tr><td>2017</td><td>M01</td><td>1150.59</td></tr><tr><td>2017</td><td>M01</td><td>1150.9</td></tr><tr><td>2017</td><td>M01</td><td>1156.61</td></tr><tr><td>2017</td><td>M01</td><td>1167.48</td></tr><tr><td>2017</td><td>M01</td><td>1168.27</td></tr><tr><td>2017</td><td>M01</td><td>1174.24</td></tr><tr><td>2017</td><td>M01</td><td>1177.52</td></tr><tr><td>2017</td><td>M01</td><td>1178.73</td></tr><tr><td>2017</td><td>M01</td><td>1179.62</td></tr><tr><td>2017</td><td>M01</td><td>1181.98</td></tr><tr><td>2017</td><td>M01</td><td>1182.71</td></tr><tr><td>2017</td><td>M01</td><td>1186.18</td></tr><tr><td>2017</td><td>M01</td><td>1186.69</td></tr><tr><td>2017</td><td>M01</td><td>1187.62</td></tr><tr><td>2017</td><td>M01</td><td>1194.9</td></tr><tr><td>2017</td><td>M01</td><td>1195.68</td></tr><tr><td>2017</td><td>M01</td><td>1196.48</td></tr><tr><td>2017</td><td>M01</td><td>1201.25</td></tr><tr><td>2017</td><td>M01</td><td>1201.32</td></tr><tr><td>2017</td><td>M01</td><td>1203.27</td></tr><tr><td>2017</td><td>M01</td><td>1204.1</td></tr><tr><td>2017</td><td>M01</td><td>1204.37</td></tr><tr><td>2017</td><td>M01</td><td>1205.03</td></tr><tr><td>2017</td><td>M01</td><td>1205.1</td></tr><tr><td>2017</td><td>M01</td><td>1206.65</td></tr><tr><td>2017</td><td>M01</td><td>1207.71</td></tr><tr><td>2017</td><td>M01</td><td>1210.4</td></tr><tr><td>2017</td><td>M01</td><td>1214.1</td></tr><tr><td>2017</td><td>M01</td><td>1215.22</td></tr><tr><td>2017</td><td>M01</td><td>1218.97</td></tr><tr><td>2017</td><td>M01</td><td>1219.54</td></tr><tr><td>2017</td><td>M01</td><td>1224.69</td></tr><tr><td>2017</td><td>M01</td><td>1225.07</td></tr><tr><td>2017</td><td>M01</td><td>1225.7</td></tr><tr><td>2017</td><td>M01</td><td>1226.64</td></tr><tr><td>2017</td><td>M01</td><td>1230.53</td></tr><tr><td>2017</td><td>M01</td><td>1230.87</td></tr><tr><td>2017</td><td>M01</td><td>1232.06</td></tr><tr><td>2017</td><td>M01</td><td>1233.59</td></tr><tr><td>2017</td><td>M01</td><td>1233.74</td></tr><tr><td>2017</td><td>M01</td><td>1234.69</td></tr><tr><td>2017</td><td>M01</td><td>1234.98</td></tr><tr><td>2017</td><td>M01</td><td>1236.14</td></tr><tr><td>2017</td><td>M01</td><td>1236.9</td></tr><tr><td>2017</td><td>M01</td><td>1237.72</td></tr><tr><td>2017</td><td>M01</td><td>1240.73</td></tr><tr><td>2017</td><td>M01</td><td>1240.88</td></tr><tr><td>2017</td><td>M01</td><td>1241.6</td></tr><tr><td>2017</td><td>M01</td><td>1242.83</td></tr><tr><td>2017</td><td>M01</td><td>1244.36</td></tr><tr><td>2017</td><td>M01</td><td>1248.21</td></tr><tr><td>2017</td><td>M01</td><td>1248.82</td></tr><tr><td>2017</td><td>M01</td><td>1251.47</td></tr><tr><td>2017</td><td>M01</td><td>1252.82</td></tr><tr><td>2017</td><td>M01</td><td>1253.53</td></tr><tr><td>2017</td><td>M01</td><td>1257.79</td></tr><tr><td>2017</td><td>M01</td><td>1264.29</td></tr><tr><td>2017</td><td>M01</td><td>1264.45</td></tr><tr><td>2017</td><td>M01</td><td>1266.59</td></tr><tr><td>2017</td><td>M01</td><td>1267.62</td></tr><tr><td>2017</td><td>M01</td><td>1267.74</td></tr><tr><td>2017</td><td>M01</td><td>1268.78</td></tr><tr><td>2017</td><td>M01</td><td>1268.98</td></tr><tr><td>2017</td><td>M01</td><td>1276.33</td></tr><tr><td>2017</td><td>M01</td><td>1276.44</td></tr><tr><td>2017</td><td>M01</td><td>1282.47</td></tr><tr><td>2017</td><td>M01</td><td>1283.25</td></tr><tr><td>2017</td><td>M01</td><td>1283.45</td></tr><tr><td>2017</td><td>M01</td><td>1284.79</td></tr><tr><td>2017</td><td>M01</td><td>1289.27</td></tr><tr><td>2017</td><td>M01</td><td>1289.68</td></tr><tr><td>2017</td><td>M01</td><td>1291.47</td></tr><tr><td>2017</td><td>M01</td><td>1309.25</td></tr><tr><td>2017</td><td>M01</td><td>1309.83</td></tr><tr><td>2017</td><td>M01</td><td>1316.96</td></tr><tr><td>2017</td><td>M01</td><td>1317.05</td></tr><tr><td>2017</td><td>M01</td><td>1324.77</td></tr><tr><td>2017</td><td>M01</td><td>1329.12</td></tr><tr><td>2017</td><td>M01</td><td>1331.01</td></tr><tr><td>2017</td><td>M01</td><td>1338.46</td></tr><tr><td>2017</td><td>M01</td><td>1338.89</td></tr><tr><td>2017</td><td>M01</td><td>1345.68</td></tr><tr><td>2017</td><td>M01</td><td>1366.08</td></tr><tr><td>2017</td><td>M01</td><td>1367.52</td></tr><tr><td>2017</td><td>M01</td><td>1370.14</td></tr><tr><td>2017</td><td>M01</td><td>1375.87</td></tr><tr><td>2017</td><td>M01</td><td>1380.69</td></tr><tr><td>2017</td><td>M01</td><td>1380.85</td></tr><tr><td>2017</td><td>M01</td><td>1383.61</td></tr><tr><td>2017</td><td>M01</td><td>1395.45</td></tr><tr><td>2017</td><td>M01</td><td>1405.4</td></tr><tr><td>2017</td><td>M01</td><td>1412.75</td></tr><tr><td>2017</td><td>M01</td><td>1427.77</td></tr><tr><td>2017</td><td>M01</td><td>1443.57</td></tr><tr><td>2017</td><td>M01</td><td>1444.13</td></tr><tr><td>2017</td><td>M01</td><td>1448.74</td></tr><tr><td>2017</td><td>M01</td><td>1463.45</td></tr><tr><td>2017</td><td>M01</td><td>1465.57</td></tr><tr><td>2017</td><td>M01</td><td>1466.04</td></tr><tr><td>2017</td><td>M01</td><td>1469.52</td></tr><tr><td>2017</td><td>M01</td><td>1483.68</td></tr><tr><td>2017</td><td>M01</td><td>1491.35</td></tr><tr><td>2017</td><td>M01</td><td>1496.37</td></tr><tr><td>2017</td><td>M01</td><td>1511.46</td></tr><tr><td>2017</td><td>M01</td><td>1532.16</td></tr><tr><td>2017</td><td>M01</td><td>1538.66</td></tr><tr><td>2017</td><td>M01</td><td>1558.66</td></tr><tr><td>2017</td><td>M01</td><td>1560</td></tr><tr><td>2017</td><td>M01</td><td>1561.4</td></tr><tr><td>2017</td><td>M01</td><td>1564.26</td></tr><tr><td>2017</td><td>M01</td><td>1569.54</td></tr><tr><td>2017</td><td>M01</td><td>1581.46</td></tr><tr><td>2017</td><td>M01</td><td>1585.84</td></tr><tr><td>2017</td><td>M01</td><td>1586.1</td></tr><tr><td>2017</td><td>M01</td><td>1591.09</td></tr><tr><td>2017</td><td>M01</td><td>1592.97</td></tr><tr><td>2017</td><td>M01</td><td>1606.22</td></tr><tr><td>2017</td><td>M01</td><td>1606.65</td></tr><tr><td>2017</td><td>M01</td><td>1611.22</td></tr><tr><td>2017</td><td>M01</td><td>1613.96</td></tr><tr><td>2017</td><td>M01</td><td>1614.25</td></tr><tr><td>2017</td><td>M01</td><td>1626.88</td></tr><tr><td>2017</td><td>M01</td><td>1638.42</td></tr><tr><td>2017</td><td>M01</td><td>1638.63</td></tr><tr><td>2017</td><td>M01</td><td>1644.36</td></tr><tr><td>2017</td><td>M01</td><td>1648.33</td></tr><tr><td>2017</td><td>M01</td><td>1651.65</td></tr><tr><td>2017</td><td>M01</td><td>1655.98</td></tr><tr><td>2017</td><td>M01</td><td>1663.59</td></tr><tr><td>2017</td><td>M01</td><td>1665.3</td></tr><tr><td>2017</td><td>M01</td><td>1678.74</td></tr><tr><td>2017</td><td>M01</td><td>1704.42</td></tr><tr><td>2017</td><td>M01</td><td>1713.07</td></tr><tr><td>2017</td><td>M01</td><td>1717.4</td></tr><tr><td>2017</td><td>M01</td><td>1749.02</td></tr><tr><td>2017</td><td>M01</td><td>1749.56</td></tr><tr><td>2017</td><td>M01</td><td>1758.48</td></tr><tr><td>2017</td><td>M01</td><td>1773.7</td></tr><tr><td>2017</td><td>M01</td><td>1792.27</td></tr><tr><td>2017</td><td>M01</td><td>1797.99</td></tr><tr><td>2017</td><td>M01</td><td>1812.6</td></tr><tr><td>2017</td><td>M01</td><td>1847.47</td></tr></table>"
                    },
                    "metadata": {}
                }
            ],
            "execution_count": 18
        },
        {
            "cell_type": "markdown",
            "source": [
                "## <span style=\"font-size:12pt;font-family:Montserrat, sans-serif;color:rgb(53, 74, 95);background-color:rgb(255, 255, 255);font-weight:700;vertical-align:baseline;white-space:pre-wrap;\">Summarize Your Results</span>\n",
                "\n",
                "<span style=\"font-size:10pt;font-family:Arvo, serif;color:rgb(102, 102, 102);background-color:rgb(255, 255, 255);vertical-align:baseline;white-space:pre-wrap;\">With what you know now about the </span> <span style=\"background-color:rgb(255, 255, 255);color:rgb(102, 102, 102);font-family:&quot;Times New Roman&quot;;font-size:13.3333px;white-space:pre-wrap;\">Bureau of Labor Statistics (BLS) Current Employment Survey (CES) results and working with the</span> <span style=\"color:rgb(102, 102, 102);white-space:pre-wrap;font-family:&quot;Times New Roman&quot;;font-size:13.3333px;\">Labor Statistics Database</span><span style=\"background-color:rgb(255, 255, 255);color:rgb(102, 102, 102);font-family:Arvo, serif;font-size:10pt;white-space:pre-wrap;\">, answer the following questions. Note that while this is subjective, you should include relevant data to back up your opinion.</span>\n",
                "\n",
                "1. <span style=\"background-color:rgb(255, 255, 255);font-size:10pt;white-space:pre-wrap;color:rgb(102, 102, 102);font-family:Arvo, serif;\">During which time period did production and nonsupervisory employees fare better?</span>"
            ],
            "metadata": {
                "azdata_cell_guid": "780f65a6-b9e7-4f24-9132-293c47f559e8"
            },
            "attachments": {}
        },
        {
            "cell_type": "code",
            "source": [
                "SELECT SUM([value]) AS '2016 Average Earnings'\r\n",
                "FROM [LaborStatisticsDB].[dbo].[annual_2016]\r\n",
                "WHERE [series_id] IN\r\n",
                "\r\n",
                "    (SELECT [series_id] \r\n",
                "    FROM [LaborStatisticsDB].[dbo].[series]\r\n",
                "    WHERE [data_type_code] = 30);\r\n",
                "\r\n",
                "SELECT SUM([value]) AS '2017 Average Earnings'\r\n",
                "FROM [LaborStatisticsDB].[dbo].[january_2017]\r\n",
                "WHERE [series_id] IN\r\n",
                "\r\n",
                "    (SELECT [series_id] \r\n",
                "    FROM [LaborStatisticsDB].[dbo].[series]\r\n",
                "    WHERE [data_type_code] = 30)"
            ],
            "metadata": {
                "azdata_cell_guid": "2bb6126e-d319-419c-b692-7f902fa15d8f",
                "tags": []
            },
            "outputs": [
                {
                    "output_type": "display_data",
                    "data": {
                        "text/html": "(1 row affected)"
                    },
                    "metadata": {}
                },
                {
                    "output_type": "display_data",
                    "data": {
                        "text/html": "(1 row affected)"
                    },
                    "metadata": {}
                },
                {
                    "output_type": "display_data",
                    "data": {
                        "text/html": "Total execution time: 00:00:00.243"
                    },
                    "metadata": {}
                },
                {
                    "output_type": "execute_result",
                    "execution_count": 20,
                    "data": {
                        "application/vnd.dataresource+json": {
                            "schema": {
                                "fields": [
                                    {
                                        "name": "2016 Average Earnings"
                                    }
                                ]
                            },
                            "data": [
                                {
                                    "0": "878510.2799999996"
                                }
                            ]
                        },
                        "text/html": "<table><tr><th>2016 Average Earnings</th></tr><tr><td>878510.2799999996</td></tr></table>"
                    },
                    "metadata": {}
                },
                {
                    "output_type": "execute_result",
                    "execution_count": 20,
                    "data": {
                        "application/vnd.dataresource+json": {
                            "schema": {
                                "fields": [
                                    {
                                        "name": "2017 Average Earnings"
                                    }
                                ]
                            },
                            "data": [
                                {
                                    "0": "1782000.9599999967"
                                }
                            ]
                        },
                        "text/html": "<table><tr><th>2017 Average Earnings</th></tr><tr><td>1782000.9599999967</td></tr></table>"
                    },
                    "metadata": {}
                }
            ],
            "execution_count": 20
        },
        {
            "cell_type": "markdown",
            "source": [
                "As seen above, average weekly earnings of production and nonsupervisory employees was higher in 2017."
            ],
            "metadata": {
                "azdata_cell_guid": "f11f1fb2-f7d1-41e5-bc9c-84087d7cfc93"
            },
            "attachments": {}
        },
        {
            "cell_type": "markdown",
            "source": [
                "2. <span style=\"background-color: rgb(255, 255, 255); font-size: 10pt; white-space: pre-wrap; color: rgb(102, 102, 102); font-family: Arvo, serif;\">In which industries did production and nonsupervisory employees fare better?</span>"
            ],
            "metadata": {
                "azdata_cell_guid": "f606e5e5-f6f1-4070-bbfa-e31617b43e56"
            },
            "attachments": {}
        },
        {
            "cell_type": "code",
            "source": [
                "SELECT [industry_name]\r\n",
                "FROM [LaborStatisticsDB].[dbo].[industry]\r\n",
                "WHERE [industry_code] IN \r\n",
                "\r\n",
                "(SELECT [industry_code]\r\n",
                "FROM [LaborStatisticsDB].[dbo].[series]\r\n",
                "WHERE [series_id] IN \r\n",
                "\r\n",
                "\r\n",
                "(SELECT TOP 5 [series_id]\r\n",
                "FROM [LaborStatisticsDB].[dbo].[january_2017]\r\n",
                "WHERE [series_id] IN \r\n",
                "                    (SELECT [series_id]\r\n",
                "                    FROM [LaborStatisticsDB].[dbo].[series]\r\n",
                "                    WHERE [data_type_code] IN (SELECT [data_type_code]\r\n",
                "                                            FROM [LaborStatisticsDB].[dbo].[datatype]\r\n",
                "                                            WHERE [data_type_text] = 'aggregate weekly payrolls of production and nonsupervisory employees'))\r\n",
                "ORDER BY [value] DESC));"
            ],
            "metadata": {
                "azdata_cell_guid": "de2f503c-60d1-4cdc-b777-9fa98ca063fe"
            },
            "outputs": [
                {
                    "output_type": "display_data",
                    "data": {
                        "text/html": "(2 rows affected)"
                    },
                    "metadata": {}
                },
                {
                    "output_type": "display_data",
                    "data": {
                        "text/html": "Total execution time: 00:00:00.192"
                    },
                    "metadata": {}
                },
                {
                    "output_type": "execute_result",
                    "execution_count": 23,
                    "data": {
                        "application/vnd.dataresource+json": {
                            "schema": {
                                "fields": [
                                    {
                                        "name": "industry_name"
                                    }
                                ]
                            },
                            "data": [
                                {
                                    "0": "Total private"
                                },
                                {
                                    "0": "Private service-providing"
                                }
                            ]
                        },
                        "text/html": "<table><tr><th>industry_name</th></tr><tr><td>Total private</td></tr><tr><td>Private service-providing</td></tr></table>"
                    },
                    "metadata": {}
                }
            ],
            "execution_count": 23
        },
        {
            "cell_type": "markdown",
            "source": [
                "<span style=\"color: rgb(102, 102, 102); font-family: Arvo, serif; font-size: 13.3333px; white-space: pre-wrap; background-color: rgb(255, 255, 255);\">Total weekly payroll for production and nonsupervisory employees was highest in private and service-providing industries. .</span>"
            ],
            "metadata": {
                "azdata_cell_guid": "94e18f5d-b87b-4ba6-b1fd-bde035dafc04"
            },
            "attachments": {}
        },
        {
            "cell_type": "markdown",
            "source": [
                "3. <span style=\"font-size: 10pt; font-family: Arvo, serif; color: rgb(102, 102, 102); background-color: rgb(255, 255, 255); font-variant-numeric: normal; font-variant-east-asian: normal; vertical-align: baseline; white-space: pre-wrap;\">Now that you have explored the datasets, is there any data or information that you wish you had in this analysis?</span>"
            ],
            "metadata": {
                "azdata_cell_guid": "101e4449-601a-46c6-b217-23f3339cfa76"
            },
            "attachments": {}
        },
        {
            "cell_type": "markdown",
            "source": [
                "According to the U.S. Census Bureau, U.S. population is roughly 329 million, about half of which are employed. However, these BLS numbers are drawn from a much smaller subset, as the sample contains only 300,000 employer units and roughly 2.3 million workers. More information could reveal how representative this sample truly is of the general working population - the analysis would benefit from including employee demographic information such as age group/region, and employer information such as average number of employees per unit."
            ],
            "metadata": {
                "azdata_cell_guid": "d07e9180-f5e0-49b4-b395-2c6c8a5f8aac"
            },
            "attachments": {}
        }
    ]
}